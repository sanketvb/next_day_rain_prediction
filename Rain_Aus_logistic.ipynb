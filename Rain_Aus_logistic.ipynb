{
 "cells": [
  {
   "cell_type": "code",
   "execution_count": 9,
   "id": "c01c986c",
   "metadata": {},
   "outputs": [],
   "source": [
    "import numpy as np\n",
    "import pandas as pd \n",
    "import matplotlib.pyplot as plt\n",
    "import seaborn as sns"
   ]
  },
  {
   "cell_type": "code",
   "execution_count": 10,
   "id": "303bd75c",
   "metadata": {},
   "outputs": [],
   "source": [
    "from sklearn.linear_model import LinearRegression , LogisticRegression\n",
    "from sklearn.metrics import r2_score"
   ]
  },
  {
   "cell_type": "code",
   "execution_count": 11,
   "id": "570402b5",
   "metadata": {},
   "outputs": [],
   "source": [
    "from sklearn.model_selection import train_test_split , cross_val_score , GridSearchCV"
   ]
  },
  {
   "cell_type": "code",
   "execution_count": 12,
   "id": "8c2ea1a6",
   "metadata": {},
   "outputs": [],
   "source": [
    "from sklearn.tree import DecisionTreeClassifier , plot_tree\n",
    "from sklearn.metrics import confusion_matrix , plot_confusion_matrix \n",
    "from sklearn.metrics import accuracy_score,precision_score,recall_score\n",
    "from sklearn.metrics import roc_curve, roc_auc_score "
   ]
  },
  {
   "cell_type": "code",
   "execution_count": 401,
   "id": "8d4851d5",
   "metadata": {},
   "outputs": [],
   "source": [
    "from sklearn.preprocessing import StandardScaler, MinMaxScaler\n",
    "from sklearn.metrics import f1_score ,matthews_corrcoef"
   ]
  },
  {
   "cell_type": "code",
   "execution_count": 14,
   "id": "00b77357",
   "metadata": {},
   "outputs": [],
   "source": [
    "import warnings\n",
    "warnings.filterwarnings(\"ignore\")"
   ]
  },
  {
   "cell_type": "code",
   "execution_count": 15,
   "id": "2b21af9d",
   "metadata": {},
   "outputs": [],
   "source": [
    "from matplotlib.pylab import rcParams\n",
    "rcParams['figure.figsize'] = 20,10"
   ]
  },
  {
   "cell_type": "code",
   "execution_count": null,
   "id": "19c20bf2",
   "metadata": {},
   "outputs": [],
   "source": []
  },
  {
   "cell_type": "code",
   "execution_count": 16,
   "id": "d509c470",
   "metadata": {},
   "outputs": [],
   "source": [
    "pd.pandas.set_option('display.max_columns',None)\n",
    "df = pd.read_csv(r'C:\\Users\\unknown\\Downloads\\Desktop python programmes/weatherAUS.csv')"
   ]
  },
  {
   "cell_type": "code",
   "execution_count": 17,
   "id": "7d6e829c",
   "metadata": {},
   "outputs": [
    {
     "data": {
      "text/html": [
       "<div>\n",
       "<style scoped>\n",
       "    .dataframe tbody tr th:only-of-type {\n",
       "        vertical-align: middle;\n",
       "    }\n",
       "\n",
       "    .dataframe tbody tr th {\n",
       "        vertical-align: top;\n",
       "    }\n",
       "\n",
       "    .dataframe thead th {\n",
       "        text-align: right;\n",
       "    }\n",
       "</style>\n",
       "<table border=\"1\" class=\"dataframe\">\n",
       "  <thead>\n",
       "    <tr style=\"text-align: right;\">\n",
       "      <th></th>\n",
       "      <th>Date</th>\n",
       "      <th>Location</th>\n",
       "      <th>MinTemp</th>\n",
       "      <th>MaxTemp</th>\n",
       "      <th>Rainfall</th>\n",
       "      <th>Evaporation</th>\n",
       "      <th>Sunshine</th>\n",
       "      <th>WindGustDir</th>\n",
       "      <th>WindGustSpeed</th>\n",
       "      <th>WindDir9am</th>\n",
       "      <th>WindDir3pm</th>\n",
       "      <th>WindSpeed9am</th>\n",
       "      <th>WindSpeed3pm</th>\n",
       "      <th>Humidity9am</th>\n",
       "      <th>Humidity3pm</th>\n",
       "      <th>Pressure9am</th>\n",
       "      <th>Pressure3pm</th>\n",
       "      <th>Cloud9am</th>\n",
       "      <th>Cloud3pm</th>\n",
       "      <th>Temp9am</th>\n",
       "      <th>Temp3pm</th>\n",
       "      <th>RainToday</th>\n",
       "      <th>RainTomorrow</th>\n",
       "    </tr>\n",
       "  </thead>\n",
       "  <tbody>\n",
       "    <tr>\n",
       "      <th>0</th>\n",
       "      <td>2008-12-01</td>\n",
       "      <td>Albury</td>\n",
       "      <td>13.4</td>\n",
       "      <td>22.9</td>\n",
       "      <td>0.6</td>\n",
       "      <td>NaN</td>\n",
       "      <td>NaN</td>\n",
       "      <td>W</td>\n",
       "      <td>44.0</td>\n",
       "      <td>W</td>\n",
       "      <td>WNW</td>\n",
       "      <td>20.0</td>\n",
       "      <td>24.0</td>\n",
       "      <td>71.0</td>\n",
       "      <td>22.0</td>\n",
       "      <td>1007.7</td>\n",
       "      <td>1007.1</td>\n",
       "      <td>8.0</td>\n",
       "      <td>NaN</td>\n",
       "      <td>16.9</td>\n",
       "      <td>21.8</td>\n",
       "      <td>No</td>\n",
       "      <td>No</td>\n",
       "    </tr>\n",
       "    <tr>\n",
       "      <th>1</th>\n",
       "      <td>2008-12-02</td>\n",
       "      <td>Albury</td>\n",
       "      <td>7.4</td>\n",
       "      <td>25.1</td>\n",
       "      <td>0.0</td>\n",
       "      <td>NaN</td>\n",
       "      <td>NaN</td>\n",
       "      <td>WNW</td>\n",
       "      <td>44.0</td>\n",
       "      <td>NNW</td>\n",
       "      <td>WSW</td>\n",
       "      <td>4.0</td>\n",
       "      <td>22.0</td>\n",
       "      <td>44.0</td>\n",
       "      <td>25.0</td>\n",
       "      <td>1010.6</td>\n",
       "      <td>1007.8</td>\n",
       "      <td>NaN</td>\n",
       "      <td>NaN</td>\n",
       "      <td>17.2</td>\n",
       "      <td>24.3</td>\n",
       "      <td>No</td>\n",
       "      <td>No</td>\n",
       "    </tr>\n",
       "    <tr>\n",
       "      <th>2</th>\n",
       "      <td>2008-12-03</td>\n",
       "      <td>Albury</td>\n",
       "      <td>12.9</td>\n",
       "      <td>25.7</td>\n",
       "      <td>0.0</td>\n",
       "      <td>NaN</td>\n",
       "      <td>NaN</td>\n",
       "      <td>WSW</td>\n",
       "      <td>46.0</td>\n",
       "      <td>W</td>\n",
       "      <td>WSW</td>\n",
       "      <td>19.0</td>\n",
       "      <td>26.0</td>\n",
       "      <td>38.0</td>\n",
       "      <td>30.0</td>\n",
       "      <td>1007.6</td>\n",
       "      <td>1008.7</td>\n",
       "      <td>NaN</td>\n",
       "      <td>2.0</td>\n",
       "      <td>21.0</td>\n",
       "      <td>23.2</td>\n",
       "      <td>No</td>\n",
       "      <td>No</td>\n",
       "    </tr>\n",
       "    <tr>\n",
       "      <th>3</th>\n",
       "      <td>2008-12-04</td>\n",
       "      <td>Albury</td>\n",
       "      <td>9.2</td>\n",
       "      <td>28.0</td>\n",
       "      <td>0.0</td>\n",
       "      <td>NaN</td>\n",
       "      <td>NaN</td>\n",
       "      <td>NE</td>\n",
       "      <td>24.0</td>\n",
       "      <td>SE</td>\n",
       "      <td>E</td>\n",
       "      <td>11.0</td>\n",
       "      <td>9.0</td>\n",
       "      <td>45.0</td>\n",
       "      <td>16.0</td>\n",
       "      <td>1017.6</td>\n",
       "      <td>1012.8</td>\n",
       "      <td>NaN</td>\n",
       "      <td>NaN</td>\n",
       "      <td>18.1</td>\n",
       "      <td>26.5</td>\n",
       "      <td>No</td>\n",
       "      <td>No</td>\n",
       "    </tr>\n",
       "    <tr>\n",
       "      <th>4</th>\n",
       "      <td>2008-12-05</td>\n",
       "      <td>Albury</td>\n",
       "      <td>17.5</td>\n",
       "      <td>32.3</td>\n",
       "      <td>1.0</td>\n",
       "      <td>NaN</td>\n",
       "      <td>NaN</td>\n",
       "      <td>W</td>\n",
       "      <td>41.0</td>\n",
       "      <td>ENE</td>\n",
       "      <td>NW</td>\n",
       "      <td>7.0</td>\n",
       "      <td>20.0</td>\n",
       "      <td>82.0</td>\n",
       "      <td>33.0</td>\n",
       "      <td>1010.8</td>\n",
       "      <td>1006.0</td>\n",
       "      <td>7.0</td>\n",
       "      <td>8.0</td>\n",
       "      <td>17.8</td>\n",
       "      <td>29.7</td>\n",
       "      <td>No</td>\n",
       "      <td>No</td>\n",
       "    </tr>\n",
       "  </tbody>\n",
       "</table>\n",
       "</div>"
      ],
      "text/plain": [
       "         Date Location  MinTemp  MaxTemp  Rainfall  Evaporation  Sunshine  \\\n",
       "0  2008-12-01   Albury     13.4     22.9       0.6          NaN       NaN   \n",
       "1  2008-12-02   Albury      7.4     25.1       0.0          NaN       NaN   \n",
       "2  2008-12-03   Albury     12.9     25.7       0.0          NaN       NaN   \n",
       "3  2008-12-04   Albury      9.2     28.0       0.0          NaN       NaN   \n",
       "4  2008-12-05   Albury     17.5     32.3       1.0          NaN       NaN   \n",
       "\n",
       "  WindGustDir  WindGustSpeed WindDir9am WindDir3pm  WindSpeed9am  \\\n",
       "0           W           44.0          W        WNW          20.0   \n",
       "1         WNW           44.0        NNW        WSW           4.0   \n",
       "2         WSW           46.0          W        WSW          19.0   \n",
       "3          NE           24.0         SE          E          11.0   \n",
       "4           W           41.0        ENE         NW           7.0   \n",
       "\n",
       "   WindSpeed3pm  Humidity9am  Humidity3pm  Pressure9am  Pressure3pm  Cloud9am  \\\n",
       "0          24.0         71.0         22.0       1007.7       1007.1       8.0   \n",
       "1          22.0         44.0         25.0       1010.6       1007.8       NaN   \n",
       "2          26.0         38.0         30.0       1007.6       1008.7       NaN   \n",
       "3           9.0         45.0         16.0       1017.6       1012.8       NaN   \n",
       "4          20.0         82.0         33.0       1010.8       1006.0       7.0   \n",
       "\n",
       "   Cloud3pm  Temp9am  Temp3pm RainToday RainTomorrow  \n",
       "0       NaN     16.9     21.8        No           No  \n",
       "1       NaN     17.2     24.3        No           No  \n",
       "2       2.0     21.0     23.2        No           No  \n",
       "3       NaN     18.1     26.5        No           No  \n",
       "4       8.0     17.8     29.7        No           No  "
      ]
     },
     "execution_count": 17,
     "metadata": {},
     "output_type": "execute_result"
    }
   ],
   "source": [
    "df.head()"
   ]
  },
  {
   "cell_type": "code",
   "execution_count": 18,
   "id": "ca6dde3e",
   "metadata": {},
   "outputs": [
    {
     "data": {
      "text/plain": [
       "(145460, 23)"
      ]
     },
     "execution_count": 18,
     "metadata": {},
     "output_type": "execute_result"
    }
   ],
   "source": [
    "df.shape"
   ]
  },
  {
   "cell_type": "code",
   "execution_count": 19,
   "id": "6c2f89de",
   "metadata": {},
   "outputs": [
    {
     "data": {
      "text/plain": [
       "Date                 0\n",
       "Location             0\n",
       "MinTemp           1485\n",
       "MaxTemp           1261\n",
       "Rainfall          3261\n",
       "Evaporation      62790\n",
       "Sunshine         69835\n",
       "WindGustDir      10326\n",
       "WindGustSpeed    10263\n",
       "WindDir9am       10566\n",
       "WindDir3pm        4228\n",
       "WindSpeed9am      1767\n",
       "WindSpeed3pm      3062\n",
       "Humidity9am       2654\n",
       "Humidity3pm       4507\n",
       "Pressure9am      15065\n",
       "Pressure3pm      15028\n",
       "Cloud9am         55888\n",
       "Cloud3pm         59358\n",
       "Temp9am           1767\n",
       "Temp3pm           3609\n",
       "RainToday         3261\n",
       "RainTomorrow      3267\n",
       "dtype: int64"
      ]
     },
     "execution_count": 19,
     "metadata": {},
     "output_type": "execute_result"
    }
   ],
   "source": [
    "df.isnull().sum()"
   ]
  },
  {
   "cell_type": "code",
   "execution_count": 20,
   "id": "aa59b3b8",
   "metadata": {},
   "outputs": [
    {
     "data": {
      "text/plain": [
       "Date              0.000000\n",
       "Location          0.000000\n",
       "MinTemp           1.020899\n",
       "MaxTemp           0.866905\n",
       "Rainfall          2.241853\n",
       "Evaporation      43.166506\n",
       "Sunshine         48.009762\n",
       "WindGustDir       7.098859\n",
       "WindGustSpeed     7.055548\n",
       "WindDir9am        7.263853\n",
       "WindDir3pm        2.906641\n",
       "WindSpeed9am      1.214767\n",
       "WindSpeed3pm      2.105046\n",
       "Humidity9am       1.824557\n",
       "Humidity3pm       3.098446\n",
       "Pressure9am      10.356799\n",
       "Pressure3pm      10.331363\n",
       "Cloud9am         38.421559\n",
       "Cloud3pm         40.807095\n",
       "Temp9am           1.214767\n",
       "Temp3pm           2.481094\n",
       "RainToday         2.241853\n",
       "RainTomorrow      2.245978\n",
       "dtype: float64"
      ]
     },
     "execution_count": 20,
     "metadata": {},
     "output_type": "execute_result"
    }
   ],
   "source": [
    "(df.isnull().sum()/len(df))*100\n",
    "# Percentage of null values present in each columns"
   ]
  },
  {
   "cell_type": "code",
   "execution_count": 21,
   "id": "5ef460ba",
   "metadata": {},
   "outputs": [],
   "source": [
    "drop_columns = []\n",
    "\n",
    "for column in df.columns:\n",
    "    if (df[column].isnull().sum()/len(df))*100 > 30:\n",
    "        drop_columns.append(column)"
   ]
  },
  {
   "cell_type": "code",
   "execution_count": 22,
   "id": "693ba044",
   "metadata": {},
   "outputs": [
    {
     "data": {
      "text/plain": [
       "['Evaporation', 'Sunshine', 'Cloud9am', 'Cloud3pm']"
      ]
     },
     "execution_count": 22,
     "metadata": {},
     "output_type": "execute_result"
    }
   ],
   "source": [
    "drop_columns"
   ]
  },
  {
   "cell_type": "code",
   "execution_count": 23,
   "id": "dd2fffa4",
   "metadata": {},
   "outputs": [],
   "source": [
    "data1 = df.drop( drop_columns ,axis=1)"
   ]
  },
  {
   "cell_type": "code",
   "execution_count": 24,
   "id": "0e31fdfd",
   "metadata": {},
   "outputs": [
    {
     "data": {
      "text/plain": [
       "(145460, 19)"
      ]
     },
     "execution_count": 24,
     "metadata": {},
     "output_type": "execute_result"
    }
   ],
   "source": [
    "data1.shape"
   ]
  },
  {
   "cell_type": "code",
   "execution_count": 25,
   "id": "359d6b87",
   "metadata": {},
   "outputs": [
    {
     "data": {
      "text/plain": [
       "Date                 0\n",
       "Location             0\n",
       "MinTemp           1485\n",
       "MaxTemp           1261\n",
       "Rainfall          3261\n",
       "WindGustDir      10326\n",
       "WindGustSpeed    10263\n",
       "WindDir9am       10566\n",
       "WindDir3pm        4228\n",
       "WindSpeed9am      1767\n",
       "WindSpeed3pm      3062\n",
       "Humidity9am       2654\n",
       "Humidity3pm       4507\n",
       "Pressure9am      15065\n",
       "Pressure3pm      15028\n",
       "Temp9am           1767\n",
       "Temp3pm           3609\n",
       "RainToday         3261\n",
       "RainTomorrow      3267\n",
       "dtype: int64"
      ]
     },
     "execution_count": 25,
     "metadata": {},
     "output_type": "execute_result"
    }
   ],
   "source": [
    "data1.isnull().sum()"
   ]
  },
  {
   "cell_type": "code",
   "execution_count": 26,
   "id": "137ba20d",
   "metadata": {},
   "outputs": [],
   "source": [
    "data1.dropna(axis=0 , subset=['RainTomorrow'] , inplace=True)"
   ]
  },
  {
   "cell_type": "code",
   "execution_count": 27,
   "id": "41fe64a0",
   "metadata": {},
   "outputs": [
    {
     "data": {
      "text/plain": [
       "(142193, 19)"
      ]
     },
     "execution_count": 27,
     "metadata": {},
     "output_type": "execute_result"
    }
   ],
   "source": [
    "data1.shape"
   ]
  },
  {
   "cell_type": "code",
   "execution_count": 28,
   "id": "a9cc4e96",
   "metadata": {},
   "outputs": [
    {
     "data": {
      "text/plain": [
       "Date                 0\n",
       "Location             0\n",
       "MinTemp            637\n",
       "MaxTemp            322\n",
       "Rainfall          1406\n",
       "WindGustDir       9330\n",
       "WindGustSpeed     9270\n",
       "WindDir9am       10013\n",
       "WindDir3pm        3778\n",
       "WindSpeed9am      1348\n",
       "WindSpeed3pm      2630\n",
       "Humidity9am       1774\n",
       "Humidity3pm       3610\n",
       "Pressure9am      14014\n",
       "Pressure3pm      13981\n",
       "Temp9am            904\n",
       "Temp3pm           2726\n",
       "RainToday         1406\n",
       "RainTomorrow         0\n",
       "dtype: int64"
      ]
     },
     "execution_count": 28,
     "metadata": {},
     "output_type": "execute_result"
    }
   ],
   "source": [
    "data1.isnull().sum()"
   ]
  },
  {
   "cell_type": "code",
   "execution_count": 29,
   "id": "d3bdc213",
   "metadata": {},
   "outputs": [],
   "source": [
    "i=0\n",
    "list10=[]\n",
    "list9=[]\n",
    "list8=[]\n",
    "list7=[]\n",
    "list6=[]\n",
    "\n",
    "while i<len(df):\n",
    "    try:\n",
    "        sum_of_null_values = data1.loc[[i]].isna().sum().sum()\n",
    "        \n",
    "        if sum_of_null_values  > 5:\n",
    "        \n",
    "            if sum_of_null_values >=10:\n",
    "                list10.append(i)\n",
    "            elif sum_of_null_values == 9:\n",
    "                list9.append(i)\n",
    "            elif sum_of_null_values == 8:\n",
    "                list8.append(i)\n",
    "            elif sum_of_null_values == 7:\n",
    "                list7.append(i)\n",
    "            elif sum_of_null_values == 6:\n",
    "                list6.append(i)\n",
    "            \n",
    "    except: pass\n",
    "    \n",
    "    i=i+1"
   ]
  },
  {
   "cell_type": "code",
   "execution_count": 30,
   "id": "ed0b2d67",
   "metadata": {},
   "outputs": [
    {
     "data": {
      "text/plain": [
       "330"
      ]
     },
     "execution_count": 30,
     "metadata": {},
     "output_type": "execute_result"
    }
   ],
   "source": [
    "len(list10)"
   ]
  },
  {
   "cell_type": "code",
   "execution_count": 31,
   "id": "7fe899d0",
   "metadata": {},
   "outputs": [
    {
     "data": {
      "text/plain": [
       "401"
      ]
     },
     "execution_count": 31,
     "metadata": {},
     "output_type": "execute_result"
    }
   ],
   "source": [
    "len(list9)"
   ]
  },
  {
   "cell_type": "code",
   "execution_count": 32,
   "id": "387486cd",
   "metadata": {},
   "outputs": [
    {
     "data": {
      "text/plain": [
       "(142193, 19)"
      ]
     },
     "execution_count": 32,
     "metadata": {},
     "output_type": "execute_result"
    }
   ],
   "source": [
    "data1.shape"
   ]
  },
  {
   "cell_type": "code",
   "execution_count": 33,
   "id": "1b00369a",
   "metadata": {},
   "outputs": [],
   "source": [
    "for i in [list10,list9]:\n",
    "    data1.drop(i , axis=0 , inplace=True)"
   ]
  },
  {
   "cell_type": "code",
   "execution_count": 34,
   "id": "5edd9af1",
   "metadata": {},
   "outputs": [
    {
     "data": {
      "text/plain": [
       "(141462, 19)"
      ]
     },
     "execution_count": 34,
     "metadata": {},
     "output_type": "execute_result"
    }
   ],
   "source": [
    "data1.shape"
   ]
  },
  {
   "cell_type": "code",
   "execution_count": 35,
   "id": "5e1311e9",
   "metadata": {},
   "outputs": [
    {
     "data": {
      "text/html": [
       "<div>\n",
       "<style scoped>\n",
       "    .dataframe tbody tr th:only-of-type {\n",
       "        vertical-align: middle;\n",
       "    }\n",
       "\n",
       "    .dataframe tbody tr th {\n",
       "        vertical-align: top;\n",
       "    }\n",
       "\n",
       "    .dataframe thead th {\n",
       "        text-align: right;\n",
       "    }\n",
       "</style>\n",
       "<table border=\"1\" class=\"dataframe\">\n",
       "  <thead>\n",
       "    <tr style=\"text-align: right;\">\n",
       "      <th></th>\n",
       "      <th>Date</th>\n",
       "      <th>Location</th>\n",
       "      <th>MinTemp</th>\n",
       "      <th>MaxTemp</th>\n",
       "      <th>Rainfall</th>\n",
       "      <th>WindGustDir</th>\n",
       "      <th>WindGustSpeed</th>\n",
       "      <th>WindDir9am</th>\n",
       "      <th>WindDir3pm</th>\n",
       "      <th>WindSpeed9am</th>\n",
       "      <th>WindSpeed3pm</th>\n",
       "      <th>Humidity9am</th>\n",
       "      <th>Humidity3pm</th>\n",
       "      <th>Pressure9am</th>\n",
       "      <th>Pressure3pm</th>\n",
       "      <th>Temp9am</th>\n",
       "      <th>Temp3pm</th>\n",
       "      <th>RainToday</th>\n",
       "      <th>RainTomorrow</th>\n",
       "    </tr>\n",
       "  </thead>\n",
       "  <tbody>\n",
       "    <tr>\n",
       "      <th>0</th>\n",
       "      <td>2008-12-01</td>\n",
       "      <td>Albury</td>\n",
       "      <td>13.4</td>\n",
       "      <td>22.9</td>\n",
       "      <td>0.6</td>\n",
       "      <td>W</td>\n",
       "      <td>44.0</td>\n",
       "      <td>W</td>\n",
       "      <td>WNW</td>\n",
       "      <td>20.0</td>\n",
       "      <td>24.0</td>\n",
       "      <td>71.0</td>\n",
       "      <td>22.0</td>\n",
       "      <td>1007.7</td>\n",
       "      <td>1007.1</td>\n",
       "      <td>16.9</td>\n",
       "      <td>21.8</td>\n",
       "      <td>No</td>\n",
       "      <td>No</td>\n",
       "    </tr>\n",
       "    <tr>\n",
       "      <th>1</th>\n",
       "      <td>2008-12-02</td>\n",
       "      <td>Albury</td>\n",
       "      <td>7.4</td>\n",
       "      <td>25.1</td>\n",
       "      <td>0.0</td>\n",
       "      <td>WNW</td>\n",
       "      <td>44.0</td>\n",
       "      <td>NNW</td>\n",
       "      <td>WSW</td>\n",
       "      <td>4.0</td>\n",
       "      <td>22.0</td>\n",
       "      <td>44.0</td>\n",
       "      <td>25.0</td>\n",
       "      <td>1010.6</td>\n",
       "      <td>1007.8</td>\n",
       "      <td>17.2</td>\n",
       "      <td>24.3</td>\n",
       "      <td>No</td>\n",
       "      <td>No</td>\n",
       "    </tr>\n",
       "    <tr>\n",
       "      <th>2</th>\n",
       "      <td>2008-12-03</td>\n",
       "      <td>Albury</td>\n",
       "      <td>12.9</td>\n",
       "      <td>25.7</td>\n",
       "      <td>0.0</td>\n",
       "      <td>WSW</td>\n",
       "      <td>46.0</td>\n",
       "      <td>W</td>\n",
       "      <td>WSW</td>\n",
       "      <td>19.0</td>\n",
       "      <td>26.0</td>\n",
       "      <td>38.0</td>\n",
       "      <td>30.0</td>\n",
       "      <td>1007.6</td>\n",
       "      <td>1008.7</td>\n",
       "      <td>21.0</td>\n",
       "      <td>23.2</td>\n",
       "      <td>No</td>\n",
       "      <td>No</td>\n",
       "    </tr>\n",
       "    <tr>\n",
       "      <th>3</th>\n",
       "      <td>2008-12-04</td>\n",
       "      <td>Albury</td>\n",
       "      <td>9.2</td>\n",
       "      <td>28.0</td>\n",
       "      <td>0.0</td>\n",
       "      <td>NE</td>\n",
       "      <td>24.0</td>\n",
       "      <td>SE</td>\n",
       "      <td>E</td>\n",
       "      <td>11.0</td>\n",
       "      <td>9.0</td>\n",
       "      <td>45.0</td>\n",
       "      <td>16.0</td>\n",
       "      <td>1017.6</td>\n",
       "      <td>1012.8</td>\n",
       "      <td>18.1</td>\n",
       "      <td>26.5</td>\n",
       "      <td>No</td>\n",
       "      <td>No</td>\n",
       "    </tr>\n",
       "    <tr>\n",
       "      <th>4</th>\n",
       "      <td>2008-12-05</td>\n",
       "      <td>Albury</td>\n",
       "      <td>17.5</td>\n",
       "      <td>32.3</td>\n",
       "      <td>1.0</td>\n",
       "      <td>W</td>\n",
       "      <td>41.0</td>\n",
       "      <td>ENE</td>\n",
       "      <td>NW</td>\n",
       "      <td>7.0</td>\n",
       "      <td>20.0</td>\n",
       "      <td>82.0</td>\n",
       "      <td>33.0</td>\n",
       "      <td>1010.8</td>\n",
       "      <td>1006.0</td>\n",
       "      <td>17.8</td>\n",
       "      <td>29.7</td>\n",
       "      <td>No</td>\n",
       "      <td>No</td>\n",
       "    </tr>\n",
       "  </tbody>\n",
       "</table>\n",
       "</div>"
      ],
      "text/plain": [
       "         Date Location  MinTemp  MaxTemp  Rainfall WindGustDir  WindGustSpeed  \\\n",
       "0  2008-12-01   Albury     13.4     22.9       0.6           W           44.0   \n",
       "1  2008-12-02   Albury      7.4     25.1       0.0         WNW           44.0   \n",
       "2  2008-12-03   Albury     12.9     25.7       0.0         WSW           46.0   \n",
       "3  2008-12-04   Albury      9.2     28.0       0.0          NE           24.0   \n",
       "4  2008-12-05   Albury     17.5     32.3       1.0           W           41.0   \n",
       "\n",
       "  WindDir9am WindDir3pm  WindSpeed9am  WindSpeed3pm  Humidity9am  Humidity3pm  \\\n",
       "0          W        WNW          20.0          24.0         71.0         22.0   \n",
       "1        NNW        WSW           4.0          22.0         44.0         25.0   \n",
       "2          W        WSW          19.0          26.0         38.0         30.0   \n",
       "3         SE          E          11.0           9.0         45.0         16.0   \n",
       "4        ENE         NW           7.0          20.0         82.0         33.0   \n",
       "\n",
       "   Pressure9am  Pressure3pm  Temp9am  Temp3pm RainToday RainTomorrow  \n",
       "0       1007.7       1007.1     16.9     21.8        No           No  \n",
       "1       1010.6       1007.8     17.2     24.3        No           No  \n",
       "2       1007.6       1008.7     21.0     23.2        No           No  \n",
       "3       1017.6       1012.8     18.1     26.5        No           No  \n",
       "4       1010.8       1006.0     17.8     29.7        No           No  "
      ]
     },
     "execution_count": 35,
     "metadata": {},
     "output_type": "execute_result"
    }
   ],
   "source": [
    "data1.head()"
   ]
  },
  {
   "cell_type": "code",
   "execution_count": 36,
   "id": "1d71e583",
   "metadata": {},
   "outputs": [
    {
     "data": {
      "text/plain": [
       "Date                 0\n",
       "Location             0\n",
       "MinTemp            301\n",
       "MaxTemp            190\n",
       "Rainfall          1276\n",
       "WindGustDir       8670\n",
       "WindGustSpeed     8610\n",
       "WindDir9am        9351\n",
       "WindDir3pm        3135\n",
       "WindSpeed9am       998\n",
       "WindSpeed3pm      1997\n",
       "Humidity9am       1428\n",
       "Humidity3pm       2986\n",
       "Pressure9am      13322\n",
       "Pressure3pm      13295\n",
       "Temp9am            572\n",
       "Temp3pm           2109\n",
       "RainToday         1276\n",
       "RainTomorrow         0\n",
       "dtype: int64"
      ]
     },
     "execution_count": 36,
     "metadata": {},
     "output_type": "execute_result"
    }
   ],
   "source": [
    "data1.isnull().sum()"
   ]
  },
  {
   "cell_type": "code",
   "execution_count": null,
   "id": "39648646",
   "metadata": {},
   "outputs": [],
   "source": []
  },
  {
   "cell_type": "code",
   "execution_count": 37,
   "id": "09bffa9d",
   "metadata": {},
   "outputs": [
    {
     "data": {
      "text/plain": [
       "Date                 0\n",
       "Location             0\n",
       "MinTemp            301\n",
       "MaxTemp            190\n",
       "Rainfall          1276\n",
       "WindGustDir       8670\n",
       "WindGustSpeed     8610\n",
       "WindDir9am        9351\n",
       "WindDir3pm        3135\n",
       "WindSpeed9am       998\n",
       "WindSpeed3pm      1997\n",
       "Humidity9am       1428\n",
       "Humidity3pm       2986\n",
       "Pressure9am      13322\n",
       "Pressure3pm      13295\n",
       "Temp9am            572\n",
       "Temp3pm           2109\n",
       "RainToday         1276\n",
       "RainTomorrow         0\n",
       "dtype: int64"
      ]
     },
     "execution_count": 37,
     "metadata": {},
     "output_type": "execute_result"
    }
   ],
   "source": [
    "data1.isnull().sum()"
   ]
  },
  {
   "cell_type": "code",
   "execution_count": 38,
   "id": "2e5c9c18",
   "metadata": {},
   "outputs": [
    {
     "data": {
      "text/html": [
       "<div>\n",
       "<style scoped>\n",
       "    .dataframe tbody tr th:only-of-type {\n",
       "        vertical-align: middle;\n",
       "    }\n",
       "\n",
       "    .dataframe tbody tr th {\n",
       "        vertical-align: top;\n",
       "    }\n",
       "\n",
       "    .dataframe thead th {\n",
       "        text-align: right;\n",
       "    }\n",
       "</style>\n",
       "<table border=\"1\" class=\"dataframe\">\n",
       "  <thead>\n",
       "    <tr style=\"text-align: right;\">\n",
       "      <th></th>\n",
       "      <th>Date</th>\n",
       "      <th>Location</th>\n",
       "      <th>MinTemp</th>\n",
       "      <th>MaxTemp</th>\n",
       "      <th>Rainfall</th>\n",
       "      <th>WindGustDir</th>\n",
       "      <th>WindGustSpeed</th>\n",
       "      <th>WindDir9am</th>\n",
       "      <th>WindDir3pm</th>\n",
       "      <th>WindSpeed9am</th>\n",
       "      <th>WindSpeed3pm</th>\n",
       "      <th>Humidity9am</th>\n",
       "      <th>Humidity3pm</th>\n",
       "      <th>Pressure9am</th>\n",
       "      <th>Pressure3pm</th>\n",
       "      <th>Temp9am</th>\n",
       "      <th>Temp3pm</th>\n",
       "      <th>RainToday</th>\n",
       "      <th>RainTomorrow</th>\n",
       "    </tr>\n",
       "  </thead>\n",
       "  <tbody>\n",
       "    <tr>\n",
       "      <th>15</th>\n",
       "      <td>2008-12-16</td>\n",
       "      <td>Albury</td>\n",
       "      <td>9.8</td>\n",
       "      <td>27.7</td>\n",
       "      <td>NaN</td>\n",
       "      <td>WNW</td>\n",
       "      <td>50.0</td>\n",
       "      <td>NaN</td>\n",
       "      <td>WNW</td>\n",
       "      <td>NaN</td>\n",
       "      <td>22.0</td>\n",
       "      <td>50.0</td>\n",
       "      <td>28.0</td>\n",
       "      <td>1013.4</td>\n",
       "      <td>1010.3</td>\n",
       "      <td>17.3</td>\n",
       "      <td>26.2</td>\n",
       "      <td>NaN</td>\n",
       "      <td>No</td>\n",
       "    </tr>\n",
       "    <tr>\n",
       "      <th>284</th>\n",
       "      <td>2009-09-11</td>\n",
       "      <td>Albury</td>\n",
       "      <td>NaN</td>\n",
       "      <td>18.8</td>\n",
       "      <td>NaN</td>\n",
       "      <td>N</td>\n",
       "      <td>31.0</td>\n",
       "      <td>SE</td>\n",
       "      <td>NNE</td>\n",
       "      <td>7.0</td>\n",
       "      <td>19.0</td>\n",
       "      <td>83.0</td>\n",
       "      <td>46.0</td>\n",
       "      <td>1022.2</td>\n",
       "      <td>1018.2</td>\n",
       "      <td>8.7</td>\n",
       "      <td>18.1</td>\n",
       "      <td>NaN</td>\n",
       "      <td>No</td>\n",
       "    </tr>\n",
       "    <tr>\n",
       "      <th>436</th>\n",
       "      <td>2010-02-10</td>\n",
       "      <td>Albury</td>\n",
       "      <td>21.7</td>\n",
       "      <td>35.6</td>\n",
       "      <td>NaN</td>\n",
       "      <td>SSW</td>\n",
       "      <td>46.0</td>\n",
       "      <td>NaN</td>\n",
       "      <td>S</td>\n",
       "      <td>NaN</td>\n",
       "      <td>15.0</td>\n",
       "      <td>64.0</td>\n",
       "      <td>28.0</td>\n",
       "      <td>1018.8</td>\n",
       "      <td>1014.7</td>\n",
       "      <td>25.2</td>\n",
       "      <td>32.9</td>\n",
       "      <td>NaN</td>\n",
       "      <td>No</td>\n",
       "    </tr>\n",
       "    <tr>\n",
       "      <th>438</th>\n",
       "      <td>2010-02-12</td>\n",
       "      <td>Albury</td>\n",
       "      <td>22.5</td>\n",
       "      <td>29.1</td>\n",
       "      <td>NaN</td>\n",
       "      <td>SW</td>\n",
       "      <td>24.0</td>\n",
       "      <td>NaN</td>\n",
       "      <td>NNW</td>\n",
       "      <td>NaN</td>\n",
       "      <td>11.0</td>\n",
       "      <td>81.0</td>\n",
       "      <td>67.0</td>\n",
       "      <td>1008.5</td>\n",
       "      <td>1007.8</td>\n",
       "      <td>23.4</td>\n",
       "      <td>26.4</td>\n",
       "      <td>NaN</td>\n",
       "      <td>No</td>\n",
       "    </tr>\n",
       "    <tr>\n",
       "      <th>444</th>\n",
       "      <td>2010-02-18</td>\n",
       "      <td>Albury</td>\n",
       "      <td>NaN</td>\n",
       "      <td>31.2</td>\n",
       "      <td>NaN</td>\n",
       "      <td>ESE</td>\n",
       "      <td>31.0</td>\n",
       "      <td>SSE</td>\n",
       "      <td>SSW</td>\n",
       "      <td>7.0</td>\n",
       "      <td>7.0</td>\n",
       "      <td>33.0</td>\n",
       "      <td>24.0</td>\n",
       "      <td>1020.4</td>\n",
       "      <td>1019.1</td>\n",
       "      <td>21.0</td>\n",
       "      <td>30.0</td>\n",
       "      <td>NaN</td>\n",
       "      <td>No</td>\n",
       "    </tr>\n",
       "  </tbody>\n",
       "</table>\n",
       "</div>"
      ],
      "text/plain": [
       "           Date Location  MinTemp  MaxTemp  Rainfall WindGustDir  \\\n",
       "15   2008-12-16   Albury      9.8     27.7       NaN         WNW   \n",
       "284  2009-09-11   Albury      NaN     18.8       NaN           N   \n",
       "436  2010-02-10   Albury     21.7     35.6       NaN         SSW   \n",
       "438  2010-02-12   Albury     22.5     29.1       NaN          SW   \n",
       "444  2010-02-18   Albury      NaN     31.2       NaN         ESE   \n",
       "\n",
       "     WindGustSpeed WindDir9am WindDir3pm  WindSpeed9am  WindSpeed3pm  \\\n",
       "15            50.0        NaN        WNW           NaN          22.0   \n",
       "284           31.0         SE        NNE           7.0          19.0   \n",
       "436           46.0        NaN          S           NaN          15.0   \n",
       "438           24.0        NaN        NNW           NaN          11.0   \n",
       "444           31.0        SSE        SSW           7.0           7.0   \n",
       "\n",
       "     Humidity9am  Humidity3pm  Pressure9am  Pressure3pm  Temp9am  Temp3pm  \\\n",
       "15          50.0         28.0       1013.4       1010.3     17.3     26.2   \n",
       "284         83.0         46.0       1022.2       1018.2      8.7     18.1   \n",
       "436         64.0         28.0       1018.8       1014.7     25.2     32.9   \n",
       "438         81.0         67.0       1008.5       1007.8     23.4     26.4   \n",
       "444         33.0         24.0       1020.4       1019.1     21.0     30.0   \n",
       "\n",
       "    RainToday RainTomorrow  \n",
       "15        NaN           No  \n",
       "284       NaN           No  \n",
       "436       NaN           No  \n",
       "438       NaN           No  \n",
       "444       NaN           No  "
      ]
     },
     "execution_count": 38,
     "metadata": {},
     "output_type": "execute_result"
    }
   ],
   "source": [
    "s = data1.loc[data1['RainToday'].isnull()]\n",
    "s.head()"
   ]
  },
  {
   "cell_type": "code",
   "execution_count": null,
   "id": "fc0a131b",
   "metadata": {},
   "outputs": [],
   "source": []
  },
  {
   "cell_type": "code",
   "execution_count": 39,
   "id": "354a2023",
   "metadata": {},
   "outputs": [],
   "source": [
    "data1['RainTomorrow'] = np.where(data1['RainTomorrow']=='No' , 0 ,1)"
   ]
  },
  {
   "cell_type": "code",
   "execution_count": 40,
   "id": "c14caa69",
   "metadata": {},
   "outputs": [],
   "source": [
    "x = data1.drop('RainTomorrow',axis=1)\n",
    "y= data1['RainTomorrow']"
   ]
  },
  {
   "cell_type": "code",
   "execution_count": null,
   "id": "af998327",
   "metadata": {},
   "outputs": [],
   "source": []
  },
  {
   "cell_type": "code",
   "execution_count": 41,
   "id": "1ea6be37",
   "metadata": {},
   "outputs": [],
   "source": [
    "x_train, x_test, y_train, y_test = train_test_split(x, y, train_size=0.8 , random_state=0 ,stratify=y)"
   ]
  },
  {
   "cell_type": "code",
   "execution_count": 42,
   "id": "55865731",
   "metadata": {},
   "outputs": [
    {
     "data": {
      "text/plain": [
       "Date                 0\n",
       "Location             0\n",
       "MinTemp            234\n",
       "MaxTemp            158\n",
       "Rainfall          1023\n",
       "WindGustDir       6902\n",
       "WindGustSpeed     6853\n",
       "WindDir9am        7501\n",
       "WindDir3pm        2508\n",
       "WindSpeed9am       805\n",
       "WindSpeed3pm      1587\n",
       "Humidity9am       1137\n",
       "Humidity3pm       2373\n",
       "Pressure9am      10667\n",
       "Pressure3pm      10643\n",
       "Temp9am            473\n",
       "Temp3pm           1682\n",
       "RainToday         1023\n",
       "dtype: int64"
      ]
     },
     "execution_count": 42,
     "metadata": {},
     "output_type": "execute_result"
    }
   ],
   "source": [
    "x_train.isnull().sum()"
   ]
  },
  {
   "cell_type": "code",
   "execution_count": 43,
   "id": "2f3708a2",
   "metadata": {},
   "outputs": [
    {
     "data": {
      "text/html": [
       "<div>\n",
       "<style scoped>\n",
       "    .dataframe tbody tr th:only-of-type {\n",
       "        vertical-align: middle;\n",
       "    }\n",
       "\n",
       "    .dataframe tbody tr th {\n",
       "        vertical-align: top;\n",
       "    }\n",
       "\n",
       "    .dataframe thead th {\n",
       "        text-align: right;\n",
       "    }\n",
       "</style>\n",
       "<table border=\"1\" class=\"dataframe\">\n",
       "  <thead>\n",
       "    <tr style=\"text-align: right;\">\n",
       "      <th></th>\n",
       "      <th>Date</th>\n",
       "      <th>Location</th>\n",
       "      <th>MinTemp</th>\n",
       "      <th>MaxTemp</th>\n",
       "      <th>Rainfall</th>\n",
       "      <th>WindGustDir</th>\n",
       "      <th>WindGustSpeed</th>\n",
       "      <th>WindDir9am</th>\n",
       "      <th>WindDir3pm</th>\n",
       "      <th>WindSpeed9am</th>\n",
       "      <th>WindSpeed3pm</th>\n",
       "      <th>Humidity9am</th>\n",
       "      <th>Humidity3pm</th>\n",
       "      <th>Pressure9am</th>\n",
       "      <th>Pressure3pm</th>\n",
       "      <th>Temp9am</th>\n",
       "      <th>Temp3pm</th>\n",
       "      <th>RainToday</th>\n",
       "    </tr>\n",
       "  </thead>\n",
       "  <tbody>\n",
       "    <tr>\n",
       "      <th>83344</th>\n",
       "      <td>2015-09-02</td>\n",
       "      <td>Dartmoor</td>\n",
       "      <td>4.6</td>\n",
       "      <td>12.5</td>\n",
       "      <td>0.0</td>\n",
       "      <td>NNE</td>\n",
       "      <td>37.0</td>\n",
       "      <td>N</td>\n",
       "      <td>NE</td>\n",
       "      <td>13.0</td>\n",
       "      <td>11.0</td>\n",
       "      <td>NaN</td>\n",
       "      <td>NaN</td>\n",
       "      <td>1008.0</td>\n",
       "      <td>1005.1</td>\n",
       "      <td>10.9</td>\n",
       "      <td>10.4</td>\n",
       "      <td>No</td>\n",
       "    </tr>\n",
       "    <tr>\n",
       "      <th>10185</th>\n",
       "      <td>2012-03-03</td>\n",
       "      <td>CoffsHarbour</td>\n",
       "      <td>19.0</td>\n",
       "      <td>22.8</td>\n",
       "      <td>20.8</td>\n",
       "      <td>SE</td>\n",
       "      <td>39.0</td>\n",
       "      <td>SW</td>\n",
       "      <td>W</td>\n",
       "      <td>13.0</td>\n",
       "      <td>9.0</td>\n",
       "      <td>96.0</td>\n",
       "      <td>92.0</td>\n",
       "      <td>1019.0</td>\n",
       "      <td>1017.0</td>\n",
       "      <td>19.3</td>\n",
       "      <td>21.0</td>\n",
       "      <td>Yes</td>\n",
       "    </tr>\n",
       "    <tr>\n",
       "      <th>34777</th>\n",
       "      <td>2012-07-11</td>\n",
       "      <td>SydneyAirport</td>\n",
       "      <td>10.4</td>\n",
       "      <td>20.8</td>\n",
       "      <td>8.2</td>\n",
       "      <td>WNW</td>\n",
       "      <td>41.0</td>\n",
       "      <td>NNW</td>\n",
       "      <td>N</td>\n",
       "      <td>19.0</td>\n",
       "      <td>22.0</td>\n",
       "      <td>67.0</td>\n",
       "      <td>39.0</td>\n",
       "      <td>1019.9</td>\n",
       "      <td>1017.4</td>\n",
       "      <td>15.0</td>\n",
       "      <td>20.5</td>\n",
       "      <td>Yes</td>\n",
       "    </tr>\n",
       "    <tr>\n",
       "      <th>57070</th>\n",
       "      <td>2014-07-20</td>\n",
       "      <td>Ballarat</td>\n",
       "      <td>2.3</td>\n",
       "      <td>10.2</td>\n",
       "      <td>0.0</td>\n",
       "      <td>SSE</td>\n",
       "      <td>24.0</td>\n",
       "      <td>SSE</td>\n",
       "      <td>S</td>\n",
       "      <td>11.0</td>\n",
       "      <td>11.0</td>\n",
       "      <td>100.0</td>\n",
       "      <td>73.0</td>\n",
       "      <td>1028.7</td>\n",
       "      <td>1026.8</td>\n",
       "      <td>6.4</td>\n",
       "      <td>9.7</td>\n",
       "      <td>No</td>\n",
       "    </tr>\n",
       "    <tr>\n",
       "      <th>140866</th>\n",
       "      <td>2013-07-19</td>\n",
       "      <td>Darwin</td>\n",
       "      <td>18.9</td>\n",
       "      <td>32.0</td>\n",
       "      <td>0.0</td>\n",
       "      <td>N</td>\n",
       "      <td>35.0</td>\n",
       "      <td>E</td>\n",
       "      <td>N</td>\n",
       "      <td>17.0</td>\n",
       "      <td>24.0</td>\n",
       "      <td>73.0</td>\n",
       "      <td>57.0</td>\n",
       "      <td>1013.1</td>\n",
       "      <td>1009.2</td>\n",
       "      <td>24.9</td>\n",
       "      <td>29.0</td>\n",
       "      <td>No</td>\n",
       "    </tr>\n",
       "  </tbody>\n",
       "</table>\n",
       "</div>"
      ],
      "text/plain": [
       "              Date       Location  MinTemp  MaxTemp  Rainfall WindGustDir  \\\n",
       "83344   2015-09-02       Dartmoor      4.6     12.5       0.0         NNE   \n",
       "10185   2012-03-03   CoffsHarbour     19.0     22.8      20.8          SE   \n",
       "34777   2012-07-11  SydneyAirport     10.4     20.8       8.2         WNW   \n",
       "57070   2014-07-20       Ballarat      2.3     10.2       0.0         SSE   \n",
       "140866  2013-07-19         Darwin     18.9     32.0       0.0           N   \n",
       "\n",
       "        WindGustSpeed WindDir9am WindDir3pm  WindSpeed9am  WindSpeed3pm  \\\n",
       "83344            37.0          N         NE          13.0          11.0   \n",
       "10185            39.0         SW          W          13.0           9.0   \n",
       "34777            41.0        NNW          N          19.0          22.0   \n",
       "57070            24.0        SSE          S          11.0          11.0   \n",
       "140866           35.0          E          N          17.0          24.0   \n",
       "\n",
       "        Humidity9am  Humidity3pm  Pressure9am  Pressure3pm  Temp9am  Temp3pm  \\\n",
       "83344           NaN          NaN       1008.0       1005.1     10.9     10.4   \n",
       "10185          96.0         92.0       1019.0       1017.0     19.3     21.0   \n",
       "34777          67.0         39.0       1019.9       1017.4     15.0     20.5   \n",
       "57070         100.0         73.0       1028.7       1026.8      6.4      9.7   \n",
       "140866         73.0         57.0       1013.1       1009.2     24.9     29.0   \n",
       "\n",
       "       RainToday  \n",
       "83344         No  \n",
       "10185        Yes  \n",
       "34777        Yes  \n",
       "57070         No  \n",
       "140866        No  "
      ]
     },
     "execution_count": 43,
     "metadata": {},
     "output_type": "execute_result"
    }
   ],
   "source": [
    "x_train.head()"
   ]
  },
  {
   "cell_type": "code",
   "execution_count": 44,
   "id": "5549cf68",
   "metadata": {},
   "outputs": [],
   "source": [
    "def impute_nan(df,variable):\n",
    "    df[variable+\"_random\"]=df[variable]\n",
    "    ##It will have the random sample to fill the na\n",
    "    random_sample=df[variable].dropna().sample(df[variable].isnull().sum(),random_state=0)\n",
    "    ##pandas need to have same index in order to merge the dataset\n",
    "    random_sample.index=df[df[variable].isnull()].index\n",
    "    df.loc[df[variable].isnull(),variable+'_random']=random_sample"
   ]
  },
  {
   "cell_type": "code",
   "execution_count": 45,
   "id": "be3cb7dc",
   "metadata": {},
   "outputs": [],
   "source": [
    "for i in ['WindGustDir','WindDir9am','WindDir3pm']:\n",
    "    impute_nan(x_train,i)\n",
    "    x_train.drop(i,axis=1,inplace=True)"
   ]
  },
  {
   "cell_type": "code",
   "execution_count": 46,
   "id": "3778b069",
   "metadata": {
    "scrolled": true
   },
   "outputs": [
    {
     "data": {
      "text/plain": [
       "Date                      0\n",
       "Location                  0\n",
       "MinTemp                 234\n",
       "MaxTemp                 158\n",
       "Rainfall               1023\n",
       "WindGustSpeed          6853\n",
       "WindSpeed9am            805\n",
       "WindSpeed3pm           1587\n",
       "Humidity9am            1137\n",
       "Humidity3pm            2373\n",
       "Pressure9am           10667\n",
       "Pressure3pm           10643\n",
       "Temp9am                 473\n",
       "Temp3pm                1682\n",
       "RainToday              1023\n",
       "WindGustDir_random        0\n",
       "WindDir9am_random         0\n",
       "WindDir3pm_random         0\n",
       "dtype: int64"
      ]
     },
     "execution_count": 46,
     "metadata": {},
     "output_type": "execute_result"
    }
   ],
   "source": [
    "x_train.isnull().sum()"
   ]
  },
  {
   "cell_type": "code",
   "execution_count": 47,
   "id": "0835ed55",
   "metadata": {},
   "outputs": [
    {
     "data": {
      "text/plain": [
       "(113169, 18)"
      ]
     },
     "execution_count": 47,
     "metadata": {},
     "output_type": "execute_result"
    }
   ],
   "source": [
    "x_train.shape"
   ]
  },
  {
   "cell_type": "code",
   "execution_count": null,
   "id": "913baf90",
   "metadata": {},
   "outputs": [],
   "source": []
  },
  {
   "cell_type": "code",
   "execution_count": 48,
   "id": "0f0175b2",
   "metadata": {},
   "outputs": [],
   "source": [
    "def highest_corr(df,column_name):\n",
    "\n",
    "    for i in df.columns:\n",
    "        try:\n",
    "            corr = df[column_name].corr(df[i])\n",
    "            print('correlation between ', column_name ,'and ',i,' is ',corr)\n",
    "        except:pass"
   ]
  },
  {
   "cell_type": "code",
   "execution_count": null,
   "id": "536c4405",
   "metadata": {},
   "outputs": [],
   "source": []
  },
  {
   "cell_type": "code",
   "execution_count": 49,
   "id": "a76856dc",
   "metadata": {},
   "outputs": [
    {
     "data": {
      "text/plain": [
       "count    112935.000000\n",
       "mean         12.185188\n",
       "std           6.397735\n",
       "min          -8.200000\n",
       "25%           7.600000\n",
       "50%          12.000000\n",
       "75%          16.800000\n",
       "max          33.900000\n",
       "Name: MinTemp, dtype: float64"
      ]
     },
     "execution_count": 49,
     "metadata": {},
     "output_type": "execute_result"
    }
   ],
   "source": [
    "x_train['MinTemp'].describe()"
   ]
  },
  {
   "cell_type": "code",
   "execution_count": 50,
   "id": "0a748ff5",
   "metadata": {},
   "outputs": [],
   "source": [
    "# highest_corr(x_train,'MinTemp')"
   ]
  },
  {
   "cell_type": "code",
   "execution_count": 51,
   "id": "d0b76b6a",
   "metadata": {},
   "outputs": [],
   "source": [
    "# highest_corr(x_train,'MaxTemp')"
   ]
  },
  {
   "cell_type": "code",
   "execution_count": 52,
   "id": "b7ceaa09",
   "metadata": {},
   "outputs": [],
   "source": [
    "for i in ['MinTemp','MaxTemp']:\n",
    "    impute_nan(x_train,i)\n",
    "    x_train.drop(i,axis=1,inplace=True)"
   ]
  },
  {
   "cell_type": "code",
   "execution_count": 53,
   "id": "229319bf",
   "metadata": {},
   "outputs": [
    {
     "data": {
      "text/plain": [
       "Date                      0\n",
       "Location                  0\n",
       "Rainfall               1023\n",
       "WindGustSpeed          6853\n",
       "WindSpeed9am            805\n",
       "WindSpeed3pm           1587\n",
       "Humidity9am            1137\n",
       "Humidity3pm            2373\n",
       "Pressure9am           10667\n",
       "Pressure3pm           10643\n",
       "Temp9am                 473\n",
       "Temp3pm                1682\n",
       "RainToday              1023\n",
       "WindGustDir_random        0\n",
       "WindDir9am_random         0\n",
       "WindDir3pm_random         0\n",
       "MinTemp_random            0\n",
       "MaxTemp_random            0\n",
       "dtype: int64"
      ]
     },
     "execution_count": 53,
     "metadata": {},
     "output_type": "execute_result"
    }
   ],
   "source": [
    "x_train.isnull().sum()"
   ]
  },
  {
   "cell_type": "code",
   "execution_count": 54,
   "id": "428082b0",
   "metadata": {},
   "outputs": [],
   "source": [
    "# highest_corr(x_train,'MinTemp_random')"
   ]
  },
  {
   "cell_type": "code",
   "execution_count": 55,
   "id": "df160261",
   "metadata": {},
   "outputs": [],
   "source": [
    "# highest_corr(x_train,'MaxTemp_random')"
   ]
  },
  {
   "cell_type": "code",
   "execution_count": null,
   "id": "e9df868c",
   "metadata": {},
   "outputs": [],
   "source": []
  },
  {
   "cell_type": "code",
   "execution_count": 56,
   "id": "e065c5bc",
   "metadata": {},
   "outputs": [
    {
     "data": {
      "text/plain": [
       "Date                      0\n",
       "Location                  0\n",
       "Rainfall               1023\n",
       "WindGustSpeed          6853\n",
       "WindSpeed9am            805\n",
       "WindSpeed3pm           1587\n",
       "Humidity9am            1137\n",
       "Humidity3pm            2373\n",
       "Pressure9am           10667\n",
       "Pressure3pm           10643\n",
       "Temp9am                 473\n",
       "Temp3pm                1682\n",
       "RainToday              1023\n",
       "WindGustDir_random        0\n",
       "WindDir9am_random         0\n",
       "WindDir3pm_random         0\n",
       "MinTemp_random            0\n",
       "MaxTemp_random            0\n",
       "dtype: int64"
      ]
     },
     "execution_count": 56,
     "metadata": {},
     "output_type": "execute_result"
    }
   ],
   "source": [
    "x_train.isnull().sum()"
   ]
  },
  {
   "cell_type": "code",
   "execution_count": 57,
   "id": "27f869a8",
   "metadata": {},
   "outputs": [],
   "source": [
    "# highest_corr(x_train,'Pressure9am')"
   ]
  },
  {
   "cell_type": "markdown",
   "id": "07dd0eaf",
   "metadata": {},
   "source": [
    "correlation between  Pressure9am and  Pressure3pm  is  0.9612734437535151 which is very high and \n",
    "we can see that missing values in both case is also quite high so if we use random computing then we \n",
    "should remove one of the column becase otherwise it will affect both the feature(correlation will differ)"
   ]
  },
  {
   "cell_type": "code",
   "execution_count": 58,
   "id": "0ee1a8df",
   "metadata": {},
   "outputs": [],
   "source": [
    "# highest_corr(x_train,'Temp9am')"
   ]
  },
  {
   "cell_type": "code",
   "execution_count": 59,
   "id": "03c53a07",
   "metadata": {},
   "outputs": [],
   "source": [
    "# highest_corr(x_train,'Temp3pm')"
   ]
  },
  {
   "cell_type": "code",
   "execution_count": null,
   "id": "6d4b6ccc",
   "metadata": {},
   "outputs": [],
   "source": []
  },
  {
   "cell_type": "code",
   "execution_count": 60,
   "id": "beb8d695",
   "metadata": {},
   "outputs": [],
   "source": [
    "a = x_train['Temp9am'].to_frame()"
   ]
  },
  {
   "cell_type": "code",
   "execution_count": 61,
   "id": "4f050aa6",
   "metadata": {},
   "outputs": [
    {
     "data": {
      "text/html": [
       "<div>\n",
       "<style scoped>\n",
       "    .dataframe tbody tr th:only-of-type {\n",
       "        vertical-align: middle;\n",
       "    }\n",
       "\n",
       "    .dataframe tbody tr th {\n",
       "        vertical-align: top;\n",
       "    }\n",
       "\n",
       "    .dataframe thead th {\n",
       "        text-align: right;\n",
       "    }\n",
       "</style>\n",
       "<table border=\"1\" class=\"dataframe\">\n",
       "  <thead>\n",
       "    <tr style=\"text-align: right;\">\n",
       "      <th></th>\n",
       "      <th>Temp9am</th>\n",
       "    </tr>\n",
       "  </thead>\n",
       "  <tbody>\n",
       "    <tr>\n",
       "      <th>83344</th>\n",
       "      <td>10.9</td>\n",
       "    </tr>\n",
       "    <tr>\n",
       "      <th>10185</th>\n",
       "      <td>19.3</td>\n",
       "    </tr>\n",
       "    <tr>\n",
       "      <th>34777</th>\n",
       "      <td>15.0</td>\n",
       "    </tr>\n",
       "    <tr>\n",
       "      <th>57070</th>\n",
       "      <td>6.4</td>\n",
       "    </tr>\n",
       "    <tr>\n",
       "      <th>140866</th>\n",
       "      <td>24.9</td>\n",
       "    </tr>\n",
       "    <tr>\n",
       "      <th>...</th>\n",
       "      <td>...</td>\n",
       "    </tr>\n",
       "    <tr>\n",
       "      <th>79632</th>\n",
       "      <td>14.1</td>\n",
       "    </tr>\n",
       "    <tr>\n",
       "      <th>2882</th>\n",
       "      <td>20.8</td>\n",
       "    </tr>\n",
       "    <tr>\n",
       "      <th>86556</th>\n",
       "      <td>20.8</td>\n",
       "    </tr>\n",
       "    <tr>\n",
       "      <th>62514</th>\n",
       "      <td>8.2</td>\n",
       "    </tr>\n",
       "    <tr>\n",
       "      <th>114008</th>\n",
       "      <td>17.5</td>\n",
       "    </tr>\n",
       "  </tbody>\n",
       "</table>\n",
       "<p>113169 rows × 1 columns</p>\n",
       "</div>"
      ],
      "text/plain": [
       "        Temp9am\n",
       "83344      10.9\n",
       "10185      19.3\n",
       "34777      15.0\n",
       "57070       6.4\n",
       "140866     24.9\n",
       "...         ...\n",
       "79632      14.1\n",
       "2882       20.8\n",
       "86556      20.8\n",
       "62514       8.2\n",
       "114008     17.5\n",
       "\n",
       "[113169 rows x 1 columns]"
      ]
     },
     "execution_count": 61,
     "metadata": {},
     "output_type": "execute_result"
    }
   ],
   "source": [
    "a"
   ]
  },
  {
   "cell_type": "code",
   "execution_count": 62,
   "id": "985895ee",
   "metadata": {},
   "outputs": [
    {
     "data": {
      "text/plain": [
       "Int64Index([ 55940,  52893, 142830,  97572, 115371,  52273,  52071,  53328,\n",
       "             29064,  96771,\n",
       "            ...\n",
       "             52895,  76074,  49480,  53103,  53184,  29061,  54028,  56765,\n",
       "             52906,  53141],\n",
       "           dtype='int64', length=473)"
      ]
     },
     "execution_count": 62,
     "metadata": {},
     "output_type": "execute_result"
    }
   ],
   "source": [
    "aa = a.loc[a['Temp9am'].isnull()]\n",
    "aa.index"
   ]
  },
  {
   "cell_type": "code",
   "execution_count": 63,
   "id": "0be566e0",
   "metadata": {},
   "outputs": [
    {
     "data": {
      "text/html": [
       "<div>\n",
       "<style scoped>\n",
       "    .dataframe tbody tr th:only-of-type {\n",
       "        vertical-align: middle;\n",
       "    }\n",
       "\n",
       "    .dataframe tbody tr th {\n",
       "        vertical-align: top;\n",
       "    }\n",
       "\n",
       "    .dataframe thead th {\n",
       "        text-align: right;\n",
       "    }\n",
       "</style>\n",
       "<table border=\"1\" class=\"dataframe\">\n",
       "  <thead>\n",
       "    <tr style=\"text-align: right;\">\n",
       "      <th></th>\n",
       "      <th>Temp9am</th>\n",
       "    </tr>\n",
       "  </thead>\n",
       "  <tbody>\n",
       "    <tr>\n",
       "      <th>83344</th>\n",
       "      <td>10.9</td>\n",
       "    </tr>\n",
       "    <tr>\n",
       "      <th>10185</th>\n",
       "      <td>19.3</td>\n",
       "    </tr>\n",
       "    <tr>\n",
       "      <th>34777</th>\n",
       "      <td>15.0</td>\n",
       "    </tr>\n",
       "    <tr>\n",
       "      <th>57070</th>\n",
       "      <td>6.4</td>\n",
       "    </tr>\n",
       "    <tr>\n",
       "      <th>140866</th>\n",
       "      <td>24.9</td>\n",
       "    </tr>\n",
       "    <tr>\n",
       "      <th>...</th>\n",
       "      <td>...</td>\n",
       "    </tr>\n",
       "    <tr>\n",
       "      <th>79632</th>\n",
       "      <td>14.1</td>\n",
       "    </tr>\n",
       "    <tr>\n",
       "      <th>2882</th>\n",
       "      <td>20.8</td>\n",
       "    </tr>\n",
       "    <tr>\n",
       "      <th>86556</th>\n",
       "      <td>20.8</td>\n",
       "    </tr>\n",
       "    <tr>\n",
       "      <th>62514</th>\n",
       "      <td>8.2</td>\n",
       "    </tr>\n",
       "    <tr>\n",
       "      <th>114008</th>\n",
       "      <td>17.5</td>\n",
       "    </tr>\n",
       "  </tbody>\n",
       "</table>\n",
       "<p>112696 rows × 1 columns</p>\n",
       "</div>"
      ],
      "text/plain": [
       "        Temp9am\n",
       "83344      10.9\n",
       "10185      19.3\n",
       "34777      15.0\n",
       "57070       6.4\n",
       "140866     24.9\n",
       "...         ...\n",
       "79632      14.1\n",
       "2882       20.8\n",
       "86556      20.8\n",
       "62514       8.2\n",
       "114008     17.5\n",
       "\n",
       "[112696 rows x 1 columns]"
      ]
     },
     "execution_count": 63,
     "metadata": {},
     "output_type": "execute_result"
    }
   ],
   "source": [
    "z = x_train['Temp9am'].to_frame().dropna()\n",
    "z"
   ]
  },
  {
   "cell_type": "code",
   "execution_count": 64,
   "id": "84e253ab",
   "metadata": {},
   "outputs": [
    {
     "data": {
      "text/plain": [
       "(112696, 2)"
      ]
     },
     "execution_count": 64,
     "metadata": {},
     "output_type": "execute_result"
    }
   ],
   "source": [
    "s = x_train[['MinTemp_random','MaxTemp_random']].drop(aa.index,axis=0)\n",
    "s.shape"
   ]
  },
  {
   "cell_type": "code",
   "execution_count": 65,
   "id": "b30bdf8e",
   "metadata": {},
   "outputs": [],
   "source": [
    "lm1 = LinearRegression()"
   ]
  },
  {
   "cell_type": "code",
   "execution_count": 66,
   "id": "63790a3a",
   "metadata": {},
   "outputs": [
    {
     "data": {
      "text/html": [
       "<style>#sk-container-id-1 {color: black;background-color: white;}#sk-container-id-1 pre{padding: 0;}#sk-container-id-1 div.sk-toggleable {background-color: white;}#sk-container-id-1 label.sk-toggleable__label {cursor: pointer;display: block;width: 100%;margin-bottom: 0;padding: 0.3em;box-sizing: border-box;text-align: center;}#sk-container-id-1 label.sk-toggleable__label-arrow:before {content: \"▸\";float: left;margin-right: 0.25em;color: #696969;}#sk-container-id-1 label.sk-toggleable__label-arrow:hover:before {color: black;}#sk-container-id-1 div.sk-estimator:hover label.sk-toggleable__label-arrow:before {color: black;}#sk-container-id-1 div.sk-toggleable__content {max-height: 0;max-width: 0;overflow: hidden;text-align: left;background-color: #f0f8ff;}#sk-container-id-1 div.sk-toggleable__content pre {margin: 0.2em;color: black;border-radius: 0.25em;background-color: #f0f8ff;}#sk-container-id-1 input.sk-toggleable__control:checked~div.sk-toggleable__content {max-height: 200px;max-width: 100%;overflow: auto;}#sk-container-id-1 input.sk-toggleable__control:checked~label.sk-toggleable__label-arrow:before {content: \"▾\";}#sk-container-id-1 div.sk-estimator input.sk-toggleable__control:checked~label.sk-toggleable__label {background-color: #d4ebff;}#sk-container-id-1 div.sk-label input.sk-toggleable__control:checked~label.sk-toggleable__label {background-color: #d4ebff;}#sk-container-id-1 input.sk-hidden--visually {border: 0;clip: rect(1px 1px 1px 1px);clip: rect(1px, 1px, 1px, 1px);height: 1px;margin: -1px;overflow: hidden;padding: 0;position: absolute;width: 1px;}#sk-container-id-1 div.sk-estimator {font-family: monospace;background-color: #f0f8ff;border: 1px dotted black;border-radius: 0.25em;box-sizing: border-box;margin-bottom: 0.5em;}#sk-container-id-1 div.sk-estimator:hover {background-color: #d4ebff;}#sk-container-id-1 div.sk-parallel-item::after {content: \"\";width: 100%;border-bottom: 1px solid gray;flex-grow: 1;}#sk-container-id-1 div.sk-label:hover label.sk-toggleable__label {background-color: #d4ebff;}#sk-container-id-1 div.sk-serial::before {content: \"\";position: absolute;border-left: 1px solid gray;box-sizing: border-box;top: 0;bottom: 0;left: 50%;z-index: 0;}#sk-container-id-1 div.sk-serial {display: flex;flex-direction: column;align-items: center;background-color: white;padding-right: 0.2em;padding-left: 0.2em;position: relative;}#sk-container-id-1 div.sk-item {position: relative;z-index: 1;}#sk-container-id-1 div.sk-parallel {display: flex;align-items: stretch;justify-content: center;background-color: white;position: relative;}#sk-container-id-1 div.sk-item::before, #sk-container-id-1 div.sk-parallel-item::before {content: \"\";position: absolute;border-left: 1px solid gray;box-sizing: border-box;top: 0;bottom: 0;left: 50%;z-index: -1;}#sk-container-id-1 div.sk-parallel-item {display: flex;flex-direction: column;z-index: 1;position: relative;background-color: white;}#sk-container-id-1 div.sk-parallel-item:first-child::after {align-self: flex-end;width: 50%;}#sk-container-id-1 div.sk-parallel-item:last-child::after {align-self: flex-start;width: 50%;}#sk-container-id-1 div.sk-parallel-item:only-child::after {width: 0;}#sk-container-id-1 div.sk-dashed-wrapped {border: 1px dashed gray;margin: 0 0.4em 0.5em 0.4em;box-sizing: border-box;padding-bottom: 0.4em;background-color: white;}#sk-container-id-1 div.sk-label label {font-family: monospace;font-weight: bold;display: inline-block;line-height: 1.2em;}#sk-container-id-1 div.sk-label-container {text-align: center;}#sk-container-id-1 div.sk-container {/* jupyter's `normalize.less` sets `[hidden] { display: none; }` but bootstrap.min.css set `[hidden] { display: none !important; }` so we also need the `!important` here to be able to override the default hidden behavior on the sphinx rendered scikit-learn.org. See: https://github.com/scikit-learn/scikit-learn/issues/21755 */display: inline-block !important;position: relative;}#sk-container-id-1 div.sk-text-repr-fallback {display: none;}</style><div id=\"sk-container-id-1\" class=\"sk-top-container\"><div class=\"sk-text-repr-fallback\"><pre>LinearRegression()</pre><b>In a Jupyter environment, please rerun this cell to show the HTML representation or trust the notebook. <br />On GitHub, the HTML representation is unable to render, please try loading this page with nbviewer.org.</b></div><div class=\"sk-container\" hidden><div class=\"sk-item\"><div class=\"sk-estimator sk-toggleable\"><input class=\"sk-toggleable__control sk-hidden--visually\" id=\"sk-estimator-id-1\" type=\"checkbox\" checked><label for=\"sk-estimator-id-1\" class=\"sk-toggleable__label sk-toggleable__label-arrow\">LinearRegression</label><div class=\"sk-toggleable__content\"><pre>LinearRegression()</pre></div></div></div></div></div>"
      ],
      "text/plain": [
       "LinearRegression()"
      ]
     },
     "execution_count": 66,
     "metadata": {},
     "output_type": "execute_result"
    }
   ],
   "source": [
    "lm1.fit(X = s ,y = z)"
   ]
  },
  {
   "cell_type": "code",
   "execution_count": 67,
   "id": "72299328",
   "metadata": {},
   "outputs": [],
   "source": [
    "y_pred = lm1.predict(s)"
   ]
  },
  {
   "cell_type": "code",
   "execution_count": 68,
   "id": "310ff54c",
   "metadata": {},
   "outputs": [
    {
     "data": {
      "text/plain": [
       "0.9215482608976299"
      ]
     },
     "execution_count": 68,
     "metadata": {},
     "output_type": "execute_result"
    }
   ],
   "source": [
    "r2_score(z , y_pred)"
   ]
  },
  {
   "cell_type": "code",
   "execution_count": null,
   "id": "fced2464",
   "metadata": {},
   "outputs": [],
   "source": []
  },
  {
   "cell_type": "code",
   "execution_count": 69,
   "id": "eaf038e4",
   "metadata": {},
   "outputs": [
    {
     "data": {
      "text/plain": [
       "Int64Index([ 55940,  52893, 142830,  97572, 115371,  52273,  52071,  53328,\n",
       "             29064,  96771,\n",
       "            ...\n",
       "             52895,  76074,  49480,  53103,  53184,  29061,  54028,  56765,\n",
       "             52906,  53141],\n",
       "           dtype='int64', length=473)"
      ]
     },
     "execution_count": 69,
     "metadata": {},
     "output_type": "execute_result"
    }
   ],
   "source": [
    "aa = a.loc[a['Temp9am'].isnull()]\n",
    "aa.index"
   ]
  },
  {
   "cell_type": "code",
   "execution_count": 70,
   "id": "a47dfeec",
   "metadata": {},
   "outputs": [],
   "source": [
    "ls = aa.index.to_list()"
   ]
  },
  {
   "cell_type": "code",
   "execution_count": 71,
   "id": "259dc91f",
   "metadata": {},
   "outputs": [
    {
     "data": {
      "text/plain": [
       "473"
      ]
     },
     "execution_count": 71,
     "metadata": {},
     "output_type": "execute_result"
    }
   ],
   "source": [
    "len(ls)"
   ]
  },
  {
   "cell_type": "code",
   "execution_count": 72,
   "id": "3d1b7e1b",
   "metadata": {},
   "outputs": [],
   "source": [
    "for i in ls:\n",
    "    x_train['Temp9am'][i] = lm1.predict([[x_train['MinTemp_random'][i],x_train['MaxTemp_random'][i]]])"
   ]
  },
  {
   "cell_type": "code",
   "execution_count": null,
   "id": "14103673",
   "metadata": {},
   "outputs": [],
   "source": []
  },
  {
   "cell_type": "code",
   "execution_count": 73,
   "id": "ae0e5d28",
   "metadata": {},
   "outputs": [
    {
     "data": {
      "text/plain": [
       "Date                      0\n",
       "Location                  0\n",
       "Rainfall               1023\n",
       "WindGustSpeed          6853\n",
       "WindSpeed9am            805\n",
       "WindSpeed3pm           1587\n",
       "Humidity9am            1137\n",
       "Humidity3pm            2373\n",
       "Pressure9am           10667\n",
       "Pressure3pm           10643\n",
       "Temp9am                   0\n",
       "Temp3pm                1682\n",
       "RainToday              1023\n",
       "WindGustDir_random        0\n",
       "WindDir9am_random         0\n",
       "WindDir3pm_random         0\n",
       "MinTemp_random            0\n",
       "MaxTemp_random            0\n",
       "dtype: int64"
      ]
     },
     "execution_count": 73,
     "metadata": {},
     "output_type": "execute_result"
    }
   ],
   "source": [
    "x_train.isnull().sum()"
   ]
  },
  {
   "cell_type": "code",
   "execution_count": 74,
   "id": "37156fb0",
   "metadata": {},
   "outputs": [],
   "source": [
    "# highest_corr(x_train,'Temp3pm')"
   ]
  },
  {
   "cell_type": "code",
   "execution_count": 75,
   "id": "3fa67dab",
   "metadata": {},
   "outputs": [],
   "source": [
    "a = x_train['Temp3pm'].to_frame()"
   ]
  },
  {
   "cell_type": "code",
   "execution_count": 76,
   "id": "46137723",
   "metadata": {},
   "outputs": [
    {
     "data": {
      "text/plain": [
       "Int64Index([142396,  16529, 143855, 111139, 143535, 143513,  17538,  43030,\n",
       "            111289,  86052,\n",
       "            ...\n",
       "             29061,   3040, 111527, 110940, 143879, 143293, 108916, 143553,\n",
       "            143581, 143223],\n",
       "           dtype='int64', length=1682)"
      ]
     },
     "execution_count": 76,
     "metadata": {},
     "output_type": "execute_result"
    }
   ],
   "source": [
    "aa = a.loc[a['Temp3pm'].isnull()]\n",
    "aa.index"
   ]
  },
  {
   "cell_type": "code",
   "execution_count": 77,
   "id": "1e2015d0",
   "metadata": {},
   "outputs": [
    {
     "data": {
      "text/html": [
       "<div>\n",
       "<style scoped>\n",
       "    .dataframe tbody tr th:only-of-type {\n",
       "        vertical-align: middle;\n",
       "    }\n",
       "\n",
       "    .dataframe tbody tr th {\n",
       "        vertical-align: top;\n",
       "    }\n",
       "\n",
       "    .dataframe thead th {\n",
       "        text-align: right;\n",
       "    }\n",
       "</style>\n",
       "<table border=\"1\" class=\"dataframe\">\n",
       "  <thead>\n",
       "    <tr style=\"text-align: right;\">\n",
       "      <th></th>\n",
       "      <th>Temp3pm</th>\n",
       "    </tr>\n",
       "  </thead>\n",
       "  <tbody>\n",
       "    <tr>\n",
       "      <th>83344</th>\n",
       "      <td>10.4</td>\n",
       "    </tr>\n",
       "    <tr>\n",
       "      <th>10185</th>\n",
       "      <td>21.0</td>\n",
       "    </tr>\n",
       "    <tr>\n",
       "      <th>34777</th>\n",
       "      <td>20.5</td>\n",
       "    </tr>\n",
       "    <tr>\n",
       "      <th>57070</th>\n",
       "      <td>9.7</td>\n",
       "    </tr>\n",
       "    <tr>\n",
       "      <th>140866</th>\n",
       "      <td>29.0</td>\n",
       "    </tr>\n",
       "    <tr>\n",
       "      <th>...</th>\n",
       "      <td>...</td>\n",
       "    </tr>\n",
       "    <tr>\n",
       "      <th>79632</th>\n",
       "      <td>19.6</td>\n",
       "    </tr>\n",
       "    <tr>\n",
       "      <th>2882</th>\n",
       "      <td>31.5</td>\n",
       "    </tr>\n",
       "    <tr>\n",
       "      <th>86556</th>\n",
       "      <td>22.1</td>\n",
       "    </tr>\n",
       "    <tr>\n",
       "      <th>62514</th>\n",
       "      <td>12.1</td>\n",
       "    </tr>\n",
       "    <tr>\n",
       "      <th>114008</th>\n",
       "      <td>16.3</td>\n",
       "    </tr>\n",
       "  </tbody>\n",
       "</table>\n",
       "<p>111487 rows × 1 columns</p>\n",
       "</div>"
      ],
      "text/plain": [
       "        Temp3pm\n",
       "83344      10.4\n",
       "10185      21.0\n",
       "34777      20.5\n",
       "57070       9.7\n",
       "140866     29.0\n",
       "...         ...\n",
       "79632      19.6\n",
       "2882       31.5\n",
       "86556      22.1\n",
       "62514      12.1\n",
       "114008     16.3\n",
       "\n",
       "[111487 rows x 1 columns]"
      ]
     },
     "execution_count": 77,
     "metadata": {},
     "output_type": "execute_result"
    }
   ],
   "source": [
    "z = x_train['Temp3pm'].to_frame().dropna()\n",
    "z"
   ]
  },
  {
   "cell_type": "code",
   "execution_count": 78,
   "id": "0b4e5c68",
   "metadata": {},
   "outputs": [
    {
     "data": {
      "text/plain": [
       "(111487, 1)"
      ]
     },
     "execution_count": 78,
     "metadata": {},
     "output_type": "execute_result"
    }
   ],
   "source": [
    "s = x_train['MaxTemp_random'].to_frame().drop(aa.index,axis=0)\n",
    "s.shape"
   ]
  },
  {
   "cell_type": "code",
   "execution_count": 79,
   "id": "5399d30c",
   "metadata": {},
   "outputs": [],
   "source": [
    "lm2 = LinearRegression()"
   ]
  },
  {
   "cell_type": "code",
   "execution_count": 80,
   "id": "f8290195",
   "metadata": {},
   "outputs": [
    {
     "data": {
      "text/html": [
       "<style>#sk-container-id-2 {color: black;background-color: white;}#sk-container-id-2 pre{padding: 0;}#sk-container-id-2 div.sk-toggleable {background-color: white;}#sk-container-id-2 label.sk-toggleable__label {cursor: pointer;display: block;width: 100%;margin-bottom: 0;padding: 0.3em;box-sizing: border-box;text-align: center;}#sk-container-id-2 label.sk-toggleable__label-arrow:before {content: \"▸\";float: left;margin-right: 0.25em;color: #696969;}#sk-container-id-2 label.sk-toggleable__label-arrow:hover:before {color: black;}#sk-container-id-2 div.sk-estimator:hover label.sk-toggleable__label-arrow:before {color: black;}#sk-container-id-2 div.sk-toggleable__content {max-height: 0;max-width: 0;overflow: hidden;text-align: left;background-color: #f0f8ff;}#sk-container-id-2 div.sk-toggleable__content pre {margin: 0.2em;color: black;border-radius: 0.25em;background-color: #f0f8ff;}#sk-container-id-2 input.sk-toggleable__control:checked~div.sk-toggleable__content {max-height: 200px;max-width: 100%;overflow: auto;}#sk-container-id-2 input.sk-toggleable__control:checked~label.sk-toggleable__label-arrow:before {content: \"▾\";}#sk-container-id-2 div.sk-estimator input.sk-toggleable__control:checked~label.sk-toggleable__label {background-color: #d4ebff;}#sk-container-id-2 div.sk-label input.sk-toggleable__control:checked~label.sk-toggleable__label {background-color: #d4ebff;}#sk-container-id-2 input.sk-hidden--visually {border: 0;clip: rect(1px 1px 1px 1px);clip: rect(1px, 1px, 1px, 1px);height: 1px;margin: -1px;overflow: hidden;padding: 0;position: absolute;width: 1px;}#sk-container-id-2 div.sk-estimator {font-family: monospace;background-color: #f0f8ff;border: 1px dotted black;border-radius: 0.25em;box-sizing: border-box;margin-bottom: 0.5em;}#sk-container-id-2 div.sk-estimator:hover {background-color: #d4ebff;}#sk-container-id-2 div.sk-parallel-item::after {content: \"\";width: 100%;border-bottom: 1px solid gray;flex-grow: 1;}#sk-container-id-2 div.sk-label:hover label.sk-toggleable__label {background-color: #d4ebff;}#sk-container-id-2 div.sk-serial::before {content: \"\";position: absolute;border-left: 1px solid gray;box-sizing: border-box;top: 0;bottom: 0;left: 50%;z-index: 0;}#sk-container-id-2 div.sk-serial {display: flex;flex-direction: column;align-items: center;background-color: white;padding-right: 0.2em;padding-left: 0.2em;position: relative;}#sk-container-id-2 div.sk-item {position: relative;z-index: 1;}#sk-container-id-2 div.sk-parallel {display: flex;align-items: stretch;justify-content: center;background-color: white;position: relative;}#sk-container-id-2 div.sk-item::before, #sk-container-id-2 div.sk-parallel-item::before {content: \"\";position: absolute;border-left: 1px solid gray;box-sizing: border-box;top: 0;bottom: 0;left: 50%;z-index: -1;}#sk-container-id-2 div.sk-parallel-item {display: flex;flex-direction: column;z-index: 1;position: relative;background-color: white;}#sk-container-id-2 div.sk-parallel-item:first-child::after {align-self: flex-end;width: 50%;}#sk-container-id-2 div.sk-parallel-item:last-child::after {align-self: flex-start;width: 50%;}#sk-container-id-2 div.sk-parallel-item:only-child::after {width: 0;}#sk-container-id-2 div.sk-dashed-wrapped {border: 1px dashed gray;margin: 0 0.4em 0.5em 0.4em;box-sizing: border-box;padding-bottom: 0.4em;background-color: white;}#sk-container-id-2 div.sk-label label {font-family: monospace;font-weight: bold;display: inline-block;line-height: 1.2em;}#sk-container-id-2 div.sk-label-container {text-align: center;}#sk-container-id-2 div.sk-container {/* jupyter's `normalize.less` sets `[hidden] { display: none; }` but bootstrap.min.css set `[hidden] { display: none !important; }` so we also need the `!important` here to be able to override the default hidden behavior on the sphinx rendered scikit-learn.org. See: https://github.com/scikit-learn/scikit-learn/issues/21755 */display: inline-block !important;position: relative;}#sk-container-id-2 div.sk-text-repr-fallback {display: none;}</style><div id=\"sk-container-id-2\" class=\"sk-top-container\"><div class=\"sk-text-repr-fallback\"><pre>LinearRegression()</pre><b>In a Jupyter environment, please rerun this cell to show the HTML representation or trust the notebook. <br />On GitHub, the HTML representation is unable to render, please try loading this page with nbviewer.org.</b></div><div class=\"sk-container\" hidden><div class=\"sk-item\"><div class=\"sk-estimator sk-toggleable\"><input class=\"sk-toggleable__control sk-hidden--visually\" id=\"sk-estimator-id-2\" type=\"checkbox\" checked><label for=\"sk-estimator-id-2\" class=\"sk-toggleable__label sk-toggleable__label-arrow\">LinearRegression</label><div class=\"sk-toggleable__content\"><pre>LinearRegression()</pre></div></div></div></div></div>"
      ],
      "text/plain": [
       "LinearRegression()"
      ]
     },
     "execution_count": 80,
     "metadata": {},
     "output_type": "execute_result"
    }
   ],
   "source": [
    "lm2.fit(X = s ,y = z)"
   ]
  },
  {
   "cell_type": "code",
   "execution_count": 81,
   "id": "a6abb30b",
   "metadata": {},
   "outputs": [],
   "source": [
    "y_pred = lm2.predict(s)"
   ]
  },
  {
   "cell_type": "code",
   "execution_count": 82,
   "id": "70f02e79",
   "metadata": {},
   "outputs": [
    {
     "data": {
      "text/plain": [
       "0.967716026151824"
      ]
     },
     "execution_count": 82,
     "metadata": {},
     "output_type": "execute_result"
    }
   ],
   "source": [
    "r2_score(z , y_pred)"
   ]
  },
  {
   "cell_type": "code",
   "execution_count": null,
   "id": "2524f503",
   "metadata": {},
   "outputs": [],
   "source": []
  },
  {
   "cell_type": "code",
   "execution_count": 83,
   "id": "7ffc335d",
   "metadata": {},
   "outputs": [],
   "source": [
    "ls = aa.index.to_list()"
   ]
  },
  {
   "cell_type": "code",
   "execution_count": 84,
   "id": "c253c1c9",
   "metadata": {},
   "outputs": [
    {
     "data": {
      "text/plain": [
       "1682"
      ]
     },
     "execution_count": 84,
     "metadata": {},
     "output_type": "execute_result"
    }
   ],
   "source": [
    "len(ls)"
   ]
  },
  {
   "cell_type": "code",
   "execution_count": 85,
   "id": "e198d46b",
   "metadata": {},
   "outputs": [],
   "source": [
    "for i in ls:\n",
    "    x_train['Temp3pm'][i] = lm2.predict([[x_train['MaxTemp_random'][i]]])"
   ]
  },
  {
   "cell_type": "code",
   "execution_count": 86,
   "id": "6e6cee28",
   "metadata": {},
   "outputs": [
    {
     "data": {
      "text/plain": [
       "Date                      0\n",
       "Location                  0\n",
       "Rainfall               1023\n",
       "WindGustSpeed          6853\n",
       "WindSpeed9am            805\n",
       "WindSpeed3pm           1587\n",
       "Humidity9am            1137\n",
       "Humidity3pm            2373\n",
       "Pressure9am           10667\n",
       "Pressure3pm           10643\n",
       "Temp9am                   0\n",
       "Temp3pm                   0\n",
       "RainToday              1023\n",
       "WindGustDir_random        0\n",
       "WindDir9am_random         0\n",
       "WindDir3pm_random         0\n",
       "MinTemp_random            0\n",
       "MaxTemp_random            0\n",
       "dtype: int64"
      ]
     },
     "execution_count": 86,
     "metadata": {},
     "output_type": "execute_result"
    }
   ],
   "source": [
    "x_train.isnull().sum()"
   ]
  },
  {
   "cell_type": "code",
   "execution_count": 87,
   "id": "3b46de20",
   "metadata": {},
   "outputs": [
    {
     "data": {
      "text/plain": [
       "0.0942572612641271"
      ]
     },
     "execution_count": 87,
     "metadata": {},
     "output_type": "execute_result"
    }
   ],
   "source": [
    "x_train['Pressure9am'].isnull().sum()/len(x_train)"
   ]
  },
  {
   "cell_type": "code",
   "execution_count": 88,
   "id": "80ec35bf",
   "metadata": {},
   "outputs": [],
   "source": [
    "# highest_corr(x_train,'Pressure9am')"
   ]
  },
  {
   "cell_type": "code",
   "execution_count": 89,
   "id": "4a5b0a6c",
   "metadata": {},
   "outputs": [
    {
     "data": {
      "text/html": [
       "<div>\n",
       "<style scoped>\n",
       "    .dataframe tbody tr th:only-of-type {\n",
       "        vertical-align: middle;\n",
       "    }\n",
       "\n",
       "    .dataframe tbody tr th {\n",
       "        vertical-align: top;\n",
       "    }\n",
       "\n",
       "    .dataframe thead th {\n",
       "        text-align: right;\n",
       "    }\n",
       "</style>\n",
       "<table border=\"1\" class=\"dataframe\">\n",
       "  <thead>\n",
       "    <tr style=\"text-align: right;\">\n",
       "      <th></th>\n",
       "      <th>Date</th>\n",
       "      <th>Location</th>\n",
       "      <th>Rainfall</th>\n",
       "      <th>WindGustSpeed</th>\n",
       "      <th>WindSpeed9am</th>\n",
       "      <th>WindSpeed3pm</th>\n",
       "      <th>Humidity9am</th>\n",
       "      <th>Humidity3pm</th>\n",
       "      <th>Pressure9am</th>\n",
       "      <th>Pressure3pm</th>\n",
       "      <th>Temp9am</th>\n",
       "      <th>Temp3pm</th>\n",
       "      <th>RainToday</th>\n",
       "      <th>WindGustDir_random</th>\n",
       "      <th>WindDir9am_random</th>\n",
       "      <th>WindDir3pm_random</th>\n",
       "      <th>MinTemp_random</th>\n",
       "      <th>MaxTemp_random</th>\n",
       "    </tr>\n",
       "  </thead>\n",
       "  <tbody>\n",
       "    <tr>\n",
       "      <th>83344</th>\n",
       "      <td>2015-09-02</td>\n",
       "      <td>Dartmoor</td>\n",
       "      <td>0.0</td>\n",
       "      <td>37.0</td>\n",
       "      <td>13.0</td>\n",
       "      <td>11.0</td>\n",
       "      <td>NaN</td>\n",
       "      <td>NaN</td>\n",
       "      <td>1008.0</td>\n",
       "      <td>1005.1</td>\n",
       "      <td>10.9</td>\n",
       "      <td>10.4</td>\n",
       "      <td>No</td>\n",
       "      <td>NNE</td>\n",
       "      <td>N</td>\n",
       "      <td>NE</td>\n",
       "      <td>4.6</td>\n",
       "      <td>12.5</td>\n",
       "    </tr>\n",
       "    <tr>\n",
       "      <th>10185</th>\n",
       "      <td>2012-03-03</td>\n",
       "      <td>CoffsHarbour</td>\n",
       "      <td>20.8</td>\n",
       "      <td>39.0</td>\n",
       "      <td>13.0</td>\n",
       "      <td>9.0</td>\n",
       "      <td>96.0</td>\n",
       "      <td>92.0</td>\n",
       "      <td>1019.0</td>\n",
       "      <td>1017.0</td>\n",
       "      <td>19.3</td>\n",
       "      <td>21.0</td>\n",
       "      <td>Yes</td>\n",
       "      <td>SE</td>\n",
       "      <td>SW</td>\n",
       "      <td>W</td>\n",
       "      <td>19.0</td>\n",
       "      <td>22.8</td>\n",
       "    </tr>\n",
       "    <tr>\n",
       "      <th>34777</th>\n",
       "      <td>2012-07-11</td>\n",
       "      <td>SydneyAirport</td>\n",
       "      <td>8.2</td>\n",
       "      <td>41.0</td>\n",
       "      <td>19.0</td>\n",
       "      <td>22.0</td>\n",
       "      <td>67.0</td>\n",
       "      <td>39.0</td>\n",
       "      <td>1019.9</td>\n",
       "      <td>1017.4</td>\n",
       "      <td>15.0</td>\n",
       "      <td>20.5</td>\n",
       "      <td>Yes</td>\n",
       "      <td>WNW</td>\n",
       "      <td>NNW</td>\n",
       "      <td>N</td>\n",
       "      <td>10.4</td>\n",
       "      <td>20.8</td>\n",
       "    </tr>\n",
       "    <tr>\n",
       "      <th>57070</th>\n",
       "      <td>2014-07-20</td>\n",
       "      <td>Ballarat</td>\n",
       "      <td>0.0</td>\n",
       "      <td>24.0</td>\n",
       "      <td>11.0</td>\n",
       "      <td>11.0</td>\n",
       "      <td>100.0</td>\n",
       "      <td>73.0</td>\n",
       "      <td>1028.7</td>\n",
       "      <td>1026.8</td>\n",
       "      <td>6.4</td>\n",
       "      <td>9.7</td>\n",
       "      <td>No</td>\n",
       "      <td>SSE</td>\n",
       "      <td>SSE</td>\n",
       "      <td>S</td>\n",
       "      <td>2.3</td>\n",
       "      <td>10.2</td>\n",
       "    </tr>\n",
       "    <tr>\n",
       "      <th>140866</th>\n",
       "      <td>2013-07-19</td>\n",
       "      <td>Darwin</td>\n",
       "      <td>0.0</td>\n",
       "      <td>35.0</td>\n",
       "      <td>17.0</td>\n",
       "      <td>24.0</td>\n",
       "      <td>73.0</td>\n",
       "      <td>57.0</td>\n",
       "      <td>1013.1</td>\n",
       "      <td>1009.2</td>\n",
       "      <td>24.9</td>\n",
       "      <td>29.0</td>\n",
       "      <td>No</td>\n",
       "      <td>N</td>\n",
       "      <td>E</td>\n",
       "      <td>N</td>\n",
       "      <td>18.9</td>\n",
       "      <td>32.0</td>\n",
       "    </tr>\n",
       "  </tbody>\n",
       "</table>\n",
       "</div>"
      ],
      "text/plain": [
       "              Date       Location  Rainfall  WindGustSpeed  WindSpeed9am  \\\n",
       "83344   2015-09-02       Dartmoor       0.0           37.0          13.0   \n",
       "10185   2012-03-03   CoffsHarbour      20.8           39.0          13.0   \n",
       "34777   2012-07-11  SydneyAirport       8.2           41.0          19.0   \n",
       "57070   2014-07-20       Ballarat       0.0           24.0          11.0   \n",
       "140866  2013-07-19         Darwin       0.0           35.0          17.0   \n",
       "\n",
       "        WindSpeed3pm  Humidity9am  Humidity3pm  Pressure9am  Pressure3pm  \\\n",
       "83344           11.0          NaN          NaN       1008.0       1005.1   \n",
       "10185            9.0         96.0         92.0       1019.0       1017.0   \n",
       "34777           22.0         67.0         39.0       1019.9       1017.4   \n",
       "57070           11.0        100.0         73.0       1028.7       1026.8   \n",
       "140866          24.0         73.0         57.0       1013.1       1009.2   \n",
       "\n",
       "        Temp9am  Temp3pm RainToday WindGustDir_random WindDir9am_random  \\\n",
       "83344      10.9     10.4        No                NNE                 N   \n",
       "10185      19.3     21.0       Yes                 SE                SW   \n",
       "34777      15.0     20.5       Yes                WNW               NNW   \n",
       "57070       6.4      9.7        No                SSE               SSE   \n",
       "140866     24.9     29.0        No                  N                 E   \n",
       "\n",
       "       WindDir3pm_random  MinTemp_random  MaxTemp_random  \n",
       "83344                 NE             4.6            12.5  \n",
       "10185                  W            19.0            22.8  \n",
       "34777                  N            10.4            20.8  \n",
       "57070                  S             2.3            10.2  \n",
       "140866                 N            18.9            32.0  "
      ]
     },
     "execution_count": 89,
     "metadata": {},
     "output_type": "execute_result"
    }
   ],
   "source": [
    "x_train.head()"
   ]
  },
  {
   "cell_type": "code",
   "execution_count": 90,
   "id": "0a71df39",
   "metadata": {},
   "outputs": [
    {
     "data": {
      "text/plain": [
       "-0.24598806511935498"
      ]
     },
     "execution_count": 90,
     "metadata": {},
     "output_type": "execute_result"
    }
   ],
   "source": [
    "x_train['Pressure9am'].corr(y_train)"
   ]
  },
  {
   "cell_type": "code",
   "execution_count": 91,
   "id": "477a6543",
   "metadata": {},
   "outputs": [
    {
     "data": {
      "text/plain": [
       "-0.22545961656341487"
      ]
     },
     "execution_count": 91,
     "metadata": {},
     "output_type": "execute_result"
    }
   ],
   "source": [
    "x_train['Pressure3pm'].corr(y_train)"
   ]
  },
  {
   "cell_type": "code",
   "execution_count": null,
   "id": "d220b278",
   "metadata": {},
   "outputs": [],
   "source": []
  },
  {
   "cell_type": "code",
   "execution_count": 92,
   "id": "513d3d74",
   "metadata": {},
   "outputs": [
    {
     "data": {
      "text/plain": [
       "10490"
      ]
     },
     "execution_count": 92,
     "metadata": {},
     "output_type": "execute_result"
    }
   ],
   "source": [
    "q = x_train.loc[x_train['Pressure9am'].isnull()]\n",
    "q['Pressure3pm'].isnull().sum()"
   ]
  },
  {
   "cell_type": "code",
   "execution_count": 93,
   "id": "072e9a95",
   "metadata": {},
   "outputs": [
    {
     "data": {
      "text/plain": [
       "177"
      ]
     },
     "execution_count": 93,
     "metadata": {},
     "output_type": "execute_result"
    }
   ],
   "source": [
    "q['Pressure3pm'].notnull().sum()"
   ]
  },
  {
   "cell_type": "code",
   "execution_count": null,
   "id": "0f486947",
   "metadata": {},
   "outputs": [],
   "source": []
  },
  {
   "cell_type": "code",
   "execution_count": 94,
   "id": "e075aec7",
   "metadata": {},
   "outputs": [],
   "source": [
    "a = x_train['Pressure9am'].to_frame()"
   ]
  },
  {
   "cell_type": "code",
   "execution_count": 95,
   "id": "054d4caf",
   "metadata": {},
   "outputs": [
    {
     "data": {
      "text/plain": [
       "Int64Index([126534,  16529, 126088,  15497,  25923, 126251,  54351,  52866,\n",
       "             54959, 135750,\n",
       "            ...\n",
       "             17311,  26481,  54801,  27157, 123983,  24997, 112474,  54831,\n",
       "             54615,  17208],\n",
       "           dtype='int64', length=10667)"
      ]
     },
     "execution_count": 95,
     "metadata": {},
     "output_type": "execute_result"
    }
   ],
   "source": [
    "aa = a.loc[a['Pressure9am'].isnull()]\n",
    "aa.index"
   ]
  },
  {
   "cell_type": "code",
   "execution_count": null,
   "id": "9813d2d8",
   "metadata": {},
   "outputs": [],
   "source": []
  },
  {
   "cell_type": "code",
   "execution_count": 96,
   "id": "47819911",
   "metadata": {},
   "outputs": [
    {
     "data": {
      "text/html": [
       "<div>\n",
       "<style scoped>\n",
       "    .dataframe tbody tr th:only-of-type {\n",
       "        vertical-align: middle;\n",
       "    }\n",
       "\n",
       "    .dataframe tbody tr th {\n",
       "        vertical-align: top;\n",
       "    }\n",
       "\n",
       "    .dataframe thead th {\n",
       "        text-align: right;\n",
       "    }\n",
       "</style>\n",
       "<table border=\"1\" class=\"dataframe\">\n",
       "  <thead>\n",
       "    <tr style=\"text-align: right;\">\n",
       "      <th></th>\n",
       "      <th>Temp9am</th>\n",
       "    </tr>\n",
       "  </thead>\n",
       "  <tbody>\n",
       "    <tr>\n",
       "      <th>83344</th>\n",
       "      <td>10.9</td>\n",
       "    </tr>\n",
       "    <tr>\n",
       "      <th>10185</th>\n",
       "      <td>19.3</td>\n",
       "    </tr>\n",
       "    <tr>\n",
       "      <th>34777</th>\n",
       "      <td>15.0</td>\n",
       "    </tr>\n",
       "    <tr>\n",
       "      <th>57070</th>\n",
       "      <td>6.4</td>\n",
       "    </tr>\n",
       "    <tr>\n",
       "      <th>140866</th>\n",
       "      <td>24.9</td>\n",
       "    </tr>\n",
       "    <tr>\n",
       "      <th>...</th>\n",
       "      <td>...</td>\n",
       "    </tr>\n",
       "    <tr>\n",
       "      <th>79632</th>\n",
       "      <td>14.1</td>\n",
       "    </tr>\n",
       "    <tr>\n",
       "      <th>2882</th>\n",
       "      <td>20.8</td>\n",
       "    </tr>\n",
       "    <tr>\n",
       "      <th>86556</th>\n",
       "      <td>20.8</td>\n",
       "    </tr>\n",
       "    <tr>\n",
       "      <th>62514</th>\n",
       "      <td>8.2</td>\n",
       "    </tr>\n",
       "    <tr>\n",
       "      <th>114008</th>\n",
       "      <td>17.5</td>\n",
       "    </tr>\n",
       "  </tbody>\n",
       "</table>\n",
       "<p>113169 rows × 1 columns</p>\n",
       "</div>"
      ],
      "text/plain": [
       "        Temp9am\n",
       "83344      10.9\n",
       "10185      19.3\n",
       "34777      15.0\n",
       "57070       6.4\n",
       "140866     24.9\n",
       "...         ...\n",
       "79632      14.1\n",
       "2882       20.8\n",
       "86556      20.8\n",
       "62514       8.2\n",
       "114008     17.5\n",
       "\n",
       "[113169 rows x 1 columns]"
      ]
     },
     "execution_count": 96,
     "metadata": {},
     "output_type": "execute_result"
    }
   ],
   "source": [
    "z = x_train['Temp9am'].to_frame().dropna()\n",
    "z"
   ]
  },
  {
   "cell_type": "code",
   "execution_count": 97,
   "id": "dc38375f",
   "metadata": {},
   "outputs": [
    {
     "data": {
      "text/plain": [
       "(102502, 1)"
      ]
     },
     "execution_count": 97,
     "metadata": {},
     "output_type": "execute_result"
    }
   ],
   "source": [
    "s = x_train['Pressure3pm'].drop(aa.index,axis=0).to_frame()\n",
    "s.shape"
   ]
  },
  {
   "cell_type": "code",
   "execution_count": 98,
   "id": "5c75d98f",
   "metadata": {},
   "outputs": [
    {
     "data": {
      "text/plain": [
       "Pressure3pm    153\n",
       "dtype: int64"
      ]
     },
     "execution_count": 98,
     "metadata": {},
     "output_type": "execute_result"
    }
   ],
   "source": [
    "s.isnull().sum()"
   ]
  },
  {
   "cell_type": "code",
   "execution_count": 99,
   "id": "88780acd",
   "metadata": {},
   "outputs": [
    {
     "data": {
      "text/plain": [
       "Int64Index([143094,  34256,  31223,  98746,   8088,   1059,  49589,  49509,\n",
       "             18126, 117727,\n",
       "            ...\n",
       "             55503,   9335,  27634,  10775, 117176, 128601,  41008,   9564,\n",
       "              3040,  33944],\n",
       "           dtype='int64', length=153)"
      ]
     },
     "execution_count": 99,
     "metadata": {},
     "output_type": "execute_result"
    }
   ],
   "source": [
    "sa = s.loc[s['Pressure3pm'].isnull()]\n",
    "sa.index"
   ]
  },
  {
   "cell_type": "code",
   "execution_count": 100,
   "id": "bedbf3da",
   "metadata": {},
   "outputs": [
    {
     "data": {
      "text/plain": [
       "(113016, 1)"
      ]
     },
     "execution_count": 100,
     "metadata": {},
     "output_type": "execute_result"
    }
   ],
   "source": [
    "z = x_train['Pressure9am'].drop(sa.index,axis=0).to_frame()\n",
    "z.shape"
   ]
  },
  {
   "cell_type": "code",
   "execution_count": 101,
   "id": "c671961c",
   "metadata": {},
   "outputs": [
    {
     "data": {
      "text/plain": [
       "Pressure9am    10667\n",
       "dtype: int64"
      ]
     },
     "execution_count": 101,
     "metadata": {},
     "output_type": "execute_result"
    }
   ],
   "source": [
    "z.isnull().sum()"
   ]
  },
  {
   "cell_type": "code",
   "execution_count": 102,
   "id": "48765a39",
   "metadata": {},
   "outputs": [
    {
     "data": {
      "text/plain": [
       "(102349, 1)"
      ]
     },
     "execution_count": 102,
     "metadata": {},
     "output_type": "execute_result"
    }
   ],
   "source": [
    "cc = z['Pressure9am'].dropna().to_frame()\n",
    "cc.shape"
   ]
  },
  {
   "cell_type": "code",
   "execution_count": 103,
   "id": "ca835007",
   "metadata": {},
   "outputs": [
    {
     "data": {
      "text/plain": [
       "(102349, 1)"
      ]
     },
     "execution_count": 103,
     "metadata": {},
     "output_type": "execute_result"
    }
   ],
   "source": [
    "dc = s['Pressure3pm'].dropna().to_frame()\n",
    "dc.shape"
   ]
  },
  {
   "cell_type": "code",
   "execution_count": null,
   "id": "97d1a1d5",
   "metadata": {},
   "outputs": [],
   "source": []
  },
  {
   "cell_type": "code",
   "execution_count": 104,
   "id": "411c25ec",
   "metadata": {},
   "outputs": [],
   "source": [
    "lm3 = LinearRegression()"
   ]
  },
  {
   "cell_type": "code",
   "execution_count": 105,
   "id": "a0815614",
   "metadata": {},
   "outputs": [
    {
     "data": {
      "text/html": [
       "<style>#sk-container-id-3 {color: black;background-color: white;}#sk-container-id-3 pre{padding: 0;}#sk-container-id-3 div.sk-toggleable {background-color: white;}#sk-container-id-3 label.sk-toggleable__label {cursor: pointer;display: block;width: 100%;margin-bottom: 0;padding: 0.3em;box-sizing: border-box;text-align: center;}#sk-container-id-3 label.sk-toggleable__label-arrow:before {content: \"▸\";float: left;margin-right: 0.25em;color: #696969;}#sk-container-id-3 label.sk-toggleable__label-arrow:hover:before {color: black;}#sk-container-id-3 div.sk-estimator:hover label.sk-toggleable__label-arrow:before {color: black;}#sk-container-id-3 div.sk-toggleable__content {max-height: 0;max-width: 0;overflow: hidden;text-align: left;background-color: #f0f8ff;}#sk-container-id-3 div.sk-toggleable__content pre {margin: 0.2em;color: black;border-radius: 0.25em;background-color: #f0f8ff;}#sk-container-id-3 input.sk-toggleable__control:checked~div.sk-toggleable__content {max-height: 200px;max-width: 100%;overflow: auto;}#sk-container-id-3 input.sk-toggleable__control:checked~label.sk-toggleable__label-arrow:before {content: \"▾\";}#sk-container-id-3 div.sk-estimator input.sk-toggleable__control:checked~label.sk-toggleable__label {background-color: #d4ebff;}#sk-container-id-3 div.sk-label input.sk-toggleable__control:checked~label.sk-toggleable__label {background-color: #d4ebff;}#sk-container-id-3 input.sk-hidden--visually {border: 0;clip: rect(1px 1px 1px 1px);clip: rect(1px, 1px, 1px, 1px);height: 1px;margin: -1px;overflow: hidden;padding: 0;position: absolute;width: 1px;}#sk-container-id-3 div.sk-estimator {font-family: monospace;background-color: #f0f8ff;border: 1px dotted black;border-radius: 0.25em;box-sizing: border-box;margin-bottom: 0.5em;}#sk-container-id-3 div.sk-estimator:hover {background-color: #d4ebff;}#sk-container-id-3 div.sk-parallel-item::after {content: \"\";width: 100%;border-bottom: 1px solid gray;flex-grow: 1;}#sk-container-id-3 div.sk-label:hover label.sk-toggleable__label {background-color: #d4ebff;}#sk-container-id-3 div.sk-serial::before {content: \"\";position: absolute;border-left: 1px solid gray;box-sizing: border-box;top: 0;bottom: 0;left: 50%;z-index: 0;}#sk-container-id-3 div.sk-serial {display: flex;flex-direction: column;align-items: center;background-color: white;padding-right: 0.2em;padding-left: 0.2em;position: relative;}#sk-container-id-3 div.sk-item {position: relative;z-index: 1;}#sk-container-id-3 div.sk-parallel {display: flex;align-items: stretch;justify-content: center;background-color: white;position: relative;}#sk-container-id-3 div.sk-item::before, #sk-container-id-3 div.sk-parallel-item::before {content: \"\";position: absolute;border-left: 1px solid gray;box-sizing: border-box;top: 0;bottom: 0;left: 50%;z-index: -1;}#sk-container-id-3 div.sk-parallel-item {display: flex;flex-direction: column;z-index: 1;position: relative;background-color: white;}#sk-container-id-3 div.sk-parallel-item:first-child::after {align-self: flex-end;width: 50%;}#sk-container-id-3 div.sk-parallel-item:last-child::after {align-self: flex-start;width: 50%;}#sk-container-id-3 div.sk-parallel-item:only-child::after {width: 0;}#sk-container-id-3 div.sk-dashed-wrapped {border: 1px dashed gray;margin: 0 0.4em 0.5em 0.4em;box-sizing: border-box;padding-bottom: 0.4em;background-color: white;}#sk-container-id-3 div.sk-label label {font-family: monospace;font-weight: bold;display: inline-block;line-height: 1.2em;}#sk-container-id-3 div.sk-label-container {text-align: center;}#sk-container-id-3 div.sk-container {/* jupyter's `normalize.less` sets `[hidden] { display: none; }` but bootstrap.min.css set `[hidden] { display: none !important; }` so we also need the `!important` here to be able to override the default hidden behavior on the sphinx rendered scikit-learn.org. See: https://github.com/scikit-learn/scikit-learn/issues/21755 */display: inline-block !important;position: relative;}#sk-container-id-3 div.sk-text-repr-fallback {display: none;}</style><div id=\"sk-container-id-3\" class=\"sk-top-container\"><div class=\"sk-text-repr-fallback\"><pre>LinearRegression()</pre><b>In a Jupyter environment, please rerun this cell to show the HTML representation or trust the notebook. <br />On GitHub, the HTML representation is unable to render, please try loading this page with nbviewer.org.</b></div><div class=\"sk-container\" hidden><div class=\"sk-item\"><div class=\"sk-estimator sk-toggleable\"><input class=\"sk-toggleable__control sk-hidden--visually\" id=\"sk-estimator-id-3\" type=\"checkbox\" checked><label for=\"sk-estimator-id-3\" class=\"sk-toggleable__label sk-toggleable__label-arrow\">LinearRegression</label><div class=\"sk-toggleable__content\"><pre>LinearRegression()</pre></div></div></div></div></div>"
      ],
      "text/plain": [
       "LinearRegression()"
      ]
     },
     "execution_count": 105,
     "metadata": {},
     "output_type": "execute_result"
    }
   ],
   "source": [
    "lm3.fit(X = dc ,y = cc)"
   ]
  },
  {
   "cell_type": "code",
   "execution_count": 106,
   "id": "28f79c02",
   "metadata": {},
   "outputs": [],
   "source": [
    "y_pred = lm3.predict(dc)"
   ]
  },
  {
   "cell_type": "code",
   "execution_count": 107,
   "id": "2ea32372",
   "metadata": {},
   "outputs": [
    {
     "data": {
      "text/plain": [
       "0.9240466336657429"
      ]
     },
     "execution_count": 107,
     "metadata": {},
     "output_type": "execute_result"
    }
   ],
   "source": [
    "r2_score(cc , y_pred)"
   ]
  },
  {
   "cell_type": "code",
   "execution_count": null,
   "id": "b1c1b067",
   "metadata": {},
   "outputs": [],
   "source": []
  },
  {
   "cell_type": "code",
   "execution_count": 108,
   "id": "0e9a5767",
   "metadata": {},
   "outputs": [
    {
     "data": {
      "text/plain": [
       "10490"
      ]
     },
     "execution_count": 108,
     "metadata": {},
     "output_type": "execute_result"
    }
   ],
   "source": [
    "q = x_train.loc[x_train['Pressure9am'].isnull()]\n",
    "q['Pressure3pm'].isnull().sum()"
   ]
  },
  {
   "cell_type": "code",
   "execution_count": 109,
   "id": "2fc27e8b",
   "metadata": {},
   "outputs": [
    {
     "data": {
      "text/plain": [
       "177"
      ]
     },
     "execution_count": 109,
     "metadata": {},
     "output_type": "execute_result"
    }
   ],
   "source": [
    "q['Pressure3pm'].notnull().sum()\n"
   ]
  },
  {
   "cell_type": "code",
   "execution_count": 110,
   "id": "a98794ab",
   "metadata": {},
   "outputs": [
    {
     "data": {
      "text/html": [
       "<div>\n",
       "<style scoped>\n",
       "    .dataframe tbody tr th:only-of-type {\n",
       "        vertical-align: middle;\n",
       "    }\n",
       "\n",
       "    .dataframe tbody tr th {\n",
       "        vertical-align: top;\n",
       "    }\n",
       "\n",
       "    .dataframe thead th {\n",
       "        text-align: right;\n",
       "    }\n",
       "</style>\n",
       "<table border=\"1\" class=\"dataframe\">\n",
       "  <thead>\n",
       "    <tr style=\"text-align: right;\">\n",
       "      <th></th>\n",
       "      <th>Date</th>\n",
       "      <th>Location</th>\n",
       "      <th>Rainfall</th>\n",
       "      <th>WindGustSpeed</th>\n",
       "      <th>WindSpeed9am</th>\n",
       "      <th>WindSpeed3pm</th>\n",
       "      <th>Humidity9am</th>\n",
       "      <th>Humidity3pm</th>\n",
       "      <th>Pressure9am</th>\n",
       "      <th>Pressure3pm</th>\n",
       "      <th>Temp9am</th>\n",
       "      <th>Temp3pm</th>\n",
       "      <th>RainToday</th>\n",
       "      <th>WindGustDir_random</th>\n",
       "      <th>WindDir9am_random</th>\n",
       "      <th>WindDir3pm_random</th>\n",
       "      <th>MinTemp_random</th>\n",
       "      <th>MaxTemp_random</th>\n",
       "    </tr>\n",
       "  </thead>\n",
       "  <tbody>\n",
       "    <tr>\n",
       "      <th>55940</th>\n",
       "      <td>2011-03-19</td>\n",
       "      <td>Ballarat</td>\n",
       "      <td>0.0</td>\n",
       "      <td>50.0</td>\n",
       "      <td>28.0</td>\n",
       "      <td>22.0</td>\n",
       "      <td>NaN</td>\n",
       "      <td>64.0</td>\n",
       "      <td>NaN</td>\n",
       "      <td>1011.5</td>\n",
       "      <td>14.254965</td>\n",
       "      <td>19.9</td>\n",
       "      <td>No</td>\n",
       "      <td>SE</td>\n",
       "      <td>ESE</td>\n",
       "      <td>ESE</td>\n",
       "      <td>8.6</td>\n",
       "      <td>21.6</td>\n",
       "    </tr>\n",
       "    <tr>\n",
       "      <th>115371</th>\n",
       "      <td>2011-01-22</td>\n",
       "      <td>PearceRAAF</td>\n",
       "      <td>0.0</td>\n",
       "      <td>NaN</td>\n",
       "      <td>NaN</td>\n",
       "      <td>22.0</td>\n",
       "      <td>NaN</td>\n",
       "      <td>20.0</td>\n",
       "      <td>NaN</td>\n",
       "      <td>1007.9</td>\n",
       "      <td>26.165662</td>\n",
       "      <td>31.7</td>\n",
       "      <td>No</td>\n",
       "      <td>NE</td>\n",
       "      <td>E</td>\n",
       "      <td>WSW</td>\n",
       "      <td>17.3</td>\n",
       "      <td>37.5</td>\n",
       "    </tr>\n",
       "    <tr>\n",
       "      <th>96771</th>\n",
       "      <td>2009-09-25</td>\n",
       "      <td>Adelaide</td>\n",
       "      <td>2.8</td>\n",
       "      <td>63.0</td>\n",
       "      <td>13.0</td>\n",
       "      <td>19.0</td>\n",
       "      <td>NaN</td>\n",
       "      <td>73.0</td>\n",
       "      <td>NaN</td>\n",
       "      <td>1003.1</td>\n",
       "      <td>12.982421</td>\n",
       "      <td>10.8</td>\n",
       "      <td>Yes</td>\n",
       "      <td>W</td>\n",
       "      <td>NW</td>\n",
       "      <td>W</td>\n",
       "      <td>11.8</td>\n",
       "      <td>14.8</td>\n",
       "    </tr>\n",
       "    <tr>\n",
       "      <th>109049</th>\n",
       "      <td>2010-03-24</td>\n",
       "      <td>Albany</td>\n",
       "      <td>13.4</td>\n",
       "      <td>NaN</td>\n",
       "      <td>0.0</td>\n",
       "      <td>37.0</td>\n",
       "      <td>82.0</td>\n",
       "      <td>79.0</td>\n",
       "      <td>NaN</td>\n",
       "      <td>1013.8</td>\n",
       "      <td>22.000000</td>\n",
       "      <td>22.4</td>\n",
       "      <td>Yes</td>\n",
       "      <td>S</td>\n",
       "      <td>WSW</td>\n",
       "      <td>SW</td>\n",
       "      <td>19.4</td>\n",
       "      <td>23.6</td>\n",
       "    </tr>\n",
       "    <tr>\n",
       "      <th>9653</th>\n",
       "      <td>2010-08-19</td>\n",
       "      <td>CoffsHarbour</td>\n",
       "      <td>0.0</td>\n",
       "      <td>52.0</td>\n",
       "      <td>7.0</td>\n",
       "      <td>7.0</td>\n",
       "      <td>67.0</td>\n",
       "      <td>39.0</td>\n",
       "      <td>NaN</td>\n",
       "      <td>1010.8</td>\n",
       "      <td>18.900000</td>\n",
       "      <td>25.4</td>\n",
       "      <td>No</td>\n",
       "      <td>NNW</td>\n",
       "      <td>WSW</td>\n",
       "      <td>E</td>\n",
       "      <td>14.5</td>\n",
       "      <td>25.6</td>\n",
       "    </tr>\n",
       "    <tr>\n",
       "      <th>...</th>\n",
       "      <td>...</td>\n",
       "      <td>...</td>\n",
       "      <td>...</td>\n",
       "      <td>...</td>\n",
       "      <td>...</td>\n",
       "      <td>...</td>\n",
       "      <td>...</td>\n",
       "      <td>...</td>\n",
       "      <td>...</td>\n",
       "      <td>...</td>\n",
       "      <td>...</td>\n",
       "      <td>...</td>\n",
       "      <td>...</td>\n",
       "      <td>...</td>\n",
       "      <td>...</td>\n",
       "      <td>...</td>\n",
       "      <td>...</td>\n",
       "      <td>...</td>\n",
       "    </tr>\n",
       "    <tr>\n",
       "      <th>34784</th>\n",
       "      <td>2012-07-18</td>\n",
       "      <td>SydneyAirport</td>\n",
       "      <td>0.0</td>\n",
       "      <td>31.0</td>\n",
       "      <td>13.0</td>\n",
       "      <td>13.0</td>\n",
       "      <td>62.0</td>\n",
       "      <td>37.0</td>\n",
       "      <td>NaN</td>\n",
       "      <td>1015.8</td>\n",
       "      <td>11.500000</td>\n",
       "      <td>18.1</td>\n",
       "      <td>No</td>\n",
       "      <td>W</td>\n",
       "      <td>W</td>\n",
       "      <td>SW</td>\n",
       "      <td>9.0</td>\n",
       "      <td>21.3</td>\n",
       "    </tr>\n",
       "    <tr>\n",
       "      <th>144243</th>\n",
       "      <td>2014-02-25</td>\n",
       "      <td>Uluru</td>\n",
       "      <td>NaN</td>\n",
       "      <td>28.0</td>\n",
       "      <td>NaN</td>\n",
       "      <td>7.0</td>\n",
       "      <td>NaN</td>\n",
       "      <td>49.0</td>\n",
       "      <td>NaN</td>\n",
       "      <td>1010.1</td>\n",
       "      <td>14.273332</td>\n",
       "      <td>26.7</td>\n",
       "      <td>NaN</td>\n",
       "      <td>E</td>\n",
       "      <td>NNE</td>\n",
       "      <td>NE</td>\n",
       "      <td>4.1</td>\n",
       "      <td>27.2</td>\n",
       "    </tr>\n",
       "    <tr>\n",
       "      <th>49480</th>\n",
       "      <td>2010-03-03</td>\n",
       "      <td>Tuggeranong</td>\n",
       "      <td>NaN</td>\n",
       "      <td>28.0</td>\n",
       "      <td>NaN</td>\n",
       "      <td>13.0</td>\n",
       "      <td>NaN</td>\n",
       "      <td>34.0</td>\n",
       "      <td>NaN</td>\n",
       "      <td>1015.8</td>\n",
       "      <td>15.827262</td>\n",
       "      <td>25.8</td>\n",
       "      <td>NaN</td>\n",
       "      <td>ESE</td>\n",
       "      <td>SSE</td>\n",
       "      <td>ENE</td>\n",
       "      <td>7.4</td>\n",
       "      <td>26.6</td>\n",
       "    </tr>\n",
       "    <tr>\n",
       "      <th>6563</th>\n",
       "      <td>2010-05-30</td>\n",
       "      <td>Cobar</td>\n",
       "      <td>4.6</td>\n",
       "      <td>39.0</td>\n",
       "      <td>19.0</td>\n",
       "      <td>11.0</td>\n",
       "      <td>98.0</td>\n",
       "      <td>83.0</td>\n",
       "      <td>NaN</td>\n",
       "      <td>1007.9</td>\n",
       "      <td>11.200000</td>\n",
       "      <td>13.2</td>\n",
       "      <td>Yes</td>\n",
       "      <td>SW</td>\n",
       "      <td>WSW</td>\n",
       "      <td>W</td>\n",
       "      <td>9.4</td>\n",
       "      <td>13.3</td>\n",
       "    </tr>\n",
       "    <tr>\n",
       "      <th>57380</th>\n",
       "      <td>2015-05-26</td>\n",
       "      <td>Ballarat</td>\n",
       "      <td>0.0</td>\n",
       "      <td>31.0</td>\n",
       "      <td>7.0</td>\n",
       "      <td>17.0</td>\n",
       "      <td>99.0</td>\n",
       "      <td>74.0</td>\n",
       "      <td>NaN</td>\n",
       "      <td>1025.1</td>\n",
       "      <td>6.400000</td>\n",
       "      <td>12.4</td>\n",
       "      <td>No</td>\n",
       "      <td>NNE</td>\n",
       "      <td>ENE</td>\n",
       "      <td>NNE</td>\n",
       "      <td>-1.4</td>\n",
       "      <td>12.8</td>\n",
       "    </tr>\n",
       "  </tbody>\n",
       "</table>\n",
       "<p>177 rows × 18 columns</p>\n",
       "</div>"
      ],
      "text/plain": [
       "              Date       Location  Rainfall  WindGustSpeed  WindSpeed9am  \\\n",
       "55940   2011-03-19       Ballarat       0.0           50.0          28.0   \n",
       "115371  2011-01-22     PearceRAAF       0.0            NaN           NaN   \n",
       "96771   2009-09-25       Adelaide       2.8           63.0          13.0   \n",
       "109049  2010-03-24         Albany      13.4            NaN           0.0   \n",
       "9653    2010-08-19   CoffsHarbour       0.0           52.0           7.0   \n",
       "...            ...            ...       ...            ...           ...   \n",
       "34784   2012-07-18  SydneyAirport       0.0           31.0          13.0   \n",
       "144243  2014-02-25          Uluru       NaN           28.0           NaN   \n",
       "49480   2010-03-03    Tuggeranong       NaN           28.0           NaN   \n",
       "6563    2010-05-30          Cobar       4.6           39.0          19.0   \n",
       "57380   2015-05-26       Ballarat       0.0           31.0           7.0   \n",
       "\n",
       "        WindSpeed3pm  Humidity9am  Humidity3pm  Pressure9am  Pressure3pm  \\\n",
       "55940           22.0          NaN         64.0          NaN       1011.5   \n",
       "115371          22.0          NaN         20.0          NaN       1007.9   \n",
       "96771           19.0          NaN         73.0          NaN       1003.1   \n",
       "109049          37.0         82.0         79.0          NaN       1013.8   \n",
       "9653             7.0         67.0         39.0          NaN       1010.8   \n",
       "...              ...          ...          ...          ...          ...   \n",
       "34784           13.0         62.0         37.0          NaN       1015.8   \n",
       "144243           7.0          NaN         49.0          NaN       1010.1   \n",
       "49480           13.0          NaN         34.0          NaN       1015.8   \n",
       "6563            11.0         98.0         83.0          NaN       1007.9   \n",
       "57380           17.0         99.0         74.0          NaN       1025.1   \n",
       "\n",
       "          Temp9am  Temp3pm RainToday WindGustDir_random WindDir9am_random  \\\n",
       "55940   14.254965     19.9        No                 SE               ESE   \n",
       "115371  26.165662     31.7        No                 NE                 E   \n",
       "96771   12.982421     10.8       Yes                  W                NW   \n",
       "109049  22.000000     22.4       Yes                  S               WSW   \n",
       "9653    18.900000     25.4        No                NNW               WSW   \n",
       "...           ...      ...       ...                ...               ...   \n",
       "34784   11.500000     18.1        No                  W                 W   \n",
       "144243  14.273332     26.7       NaN                  E               NNE   \n",
       "49480   15.827262     25.8       NaN                ESE               SSE   \n",
       "6563    11.200000     13.2       Yes                 SW               WSW   \n",
       "57380    6.400000     12.4        No                NNE               ENE   \n",
       "\n",
       "       WindDir3pm_random  MinTemp_random  MaxTemp_random  \n",
       "55940                ESE             8.6            21.6  \n",
       "115371               WSW            17.3            37.5  \n",
       "96771                  W            11.8            14.8  \n",
       "109049                SW            19.4            23.6  \n",
       "9653                   E            14.5            25.6  \n",
       "...                  ...             ...             ...  \n",
       "34784                 SW             9.0            21.3  \n",
       "144243                NE             4.1            27.2  \n",
       "49480                ENE             7.4            26.6  \n",
       "6563                   W             9.4            13.3  \n",
       "57380                NNE            -1.4            12.8  \n",
       "\n",
       "[177 rows x 18 columns]"
      ]
     },
     "execution_count": 110,
     "metadata": {},
     "output_type": "execute_result"
    }
   ],
   "source": [
    "q.loc[q['Pressure3pm'].notnull()]"
   ]
  },
  {
   "cell_type": "code",
   "execution_count": 111,
   "id": "f43e1ee2",
   "metadata": {},
   "outputs": [
    {
     "data": {
      "text/plain": [
       "Int64Index([ 55940, 115371,  96771, 109049,   9653,  18529,  58614,  43634,\n",
       "            108332,  46728,\n",
       "            ...\n",
       "             41063,   9755,  23593, 130409,  62688,  34784, 144243,  49480,\n",
       "              6563,  57380],\n",
       "           dtype='int64', length=177)"
      ]
     },
     "execution_count": 111,
     "metadata": {},
     "output_type": "execute_result"
    }
   ],
   "source": [
    "t = q.loc[q['Pressure3pm'].notnull()]\n",
    "t.index"
   ]
  },
  {
   "cell_type": "code",
   "execution_count": null,
   "id": "238e1b61",
   "metadata": {},
   "outputs": [],
   "source": []
  },
  {
   "cell_type": "code",
   "execution_count": 112,
   "id": "cd1f7a54",
   "metadata": {},
   "outputs": [],
   "source": [
    "ls = t.index.to_list()"
   ]
  },
  {
   "cell_type": "code",
   "execution_count": 113,
   "id": "a3f64eb9",
   "metadata": {},
   "outputs": [
    {
     "data": {
      "text/plain": [
       "177"
      ]
     },
     "execution_count": 113,
     "metadata": {},
     "output_type": "execute_result"
    }
   ],
   "source": [
    "len(ls)"
   ]
  },
  {
   "cell_type": "code",
   "execution_count": 114,
   "id": "0c9b0cf7",
   "metadata": {},
   "outputs": [],
   "source": [
    "for i in ls:\n",
    "    x_train['Pressure9am'][i] = lm3.predict([[x_train['Pressure3pm'][i]]])"
   ]
  },
  {
   "cell_type": "code",
   "execution_count": 115,
   "id": "adfaa34b",
   "metadata": {},
   "outputs": [
    {
     "data": {
      "text/plain": [
       "Date                      0\n",
       "Location                  0\n",
       "Rainfall               1023\n",
       "WindGustSpeed          6853\n",
       "WindSpeed9am            805\n",
       "WindSpeed3pm           1587\n",
       "Humidity9am            1137\n",
       "Humidity3pm            2373\n",
       "Pressure9am           10490\n",
       "Pressure3pm           10643\n",
       "Temp9am                   0\n",
       "Temp3pm                   0\n",
       "RainToday              1023\n",
       "WindGustDir_random        0\n",
       "WindDir9am_random         0\n",
       "WindDir3pm_random         0\n",
       "MinTemp_random            0\n",
       "MaxTemp_random            0\n",
       "dtype: int64"
      ]
     },
     "execution_count": 115,
     "metadata": {},
     "output_type": "execute_result"
    }
   ],
   "source": [
    "x_train.isnull().sum()"
   ]
  },
  {
   "cell_type": "code",
   "execution_count": 116,
   "id": "02263454",
   "metadata": {},
   "outputs": [],
   "source": [
    "x_train['Pressure9am_missing'] = np.where(x_train['Pressure9am'].isnull(),1,0)"
   ]
  },
  {
   "cell_type": "code",
   "execution_count": 117,
   "id": "1ea52c76",
   "metadata": {},
   "outputs": [
    {
     "data": {
      "text/html": [
       "<div>\n",
       "<style scoped>\n",
       "    .dataframe tbody tr th:only-of-type {\n",
       "        vertical-align: middle;\n",
       "    }\n",
       "\n",
       "    .dataframe tbody tr th {\n",
       "        vertical-align: top;\n",
       "    }\n",
       "\n",
       "    .dataframe thead th {\n",
       "        text-align: right;\n",
       "    }\n",
       "</style>\n",
       "<table border=\"1\" class=\"dataframe\">\n",
       "  <thead>\n",
       "    <tr style=\"text-align: right;\">\n",
       "      <th></th>\n",
       "      <th>Date</th>\n",
       "      <th>Location</th>\n",
       "      <th>Rainfall</th>\n",
       "      <th>WindGustSpeed</th>\n",
       "      <th>WindSpeed9am</th>\n",
       "      <th>WindSpeed3pm</th>\n",
       "      <th>Humidity9am</th>\n",
       "      <th>Humidity3pm</th>\n",
       "      <th>Pressure9am</th>\n",
       "      <th>Pressure3pm</th>\n",
       "      <th>Temp9am</th>\n",
       "      <th>Temp3pm</th>\n",
       "      <th>RainToday</th>\n",
       "      <th>WindGustDir_random</th>\n",
       "      <th>WindDir9am_random</th>\n",
       "      <th>WindDir3pm_random</th>\n",
       "      <th>MinTemp_random</th>\n",
       "      <th>MaxTemp_random</th>\n",
       "      <th>Pressure9am_missing</th>\n",
       "    </tr>\n",
       "  </thead>\n",
       "  <tbody>\n",
       "    <tr>\n",
       "      <th>83344</th>\n",
       "      <td>2015-09-02</td>\n",
       "      <td>Dartmoor</td>\n",
       "      <td>0.0</td>\n",
       "      <td>37.0</td>\n",
       "      <td>13.0</td>\n",
       "      <td>11.0</td>\n",
       "      <td>NaN</td>\n",
       "      <td>NaN</td>\n",
       "      <td>1008.0</td>\n",
       "      <td>1005.1</td>\n",
       "      <td>10.9</td>\n",
       "      <td>10.4</td>\n",
       "      <td>No</td>\n",
       "      <td>NNE</td>\n",
       "      <td>N</td>\n",
       "      <td>NE</td>\n",
       "      <td>4.6</td>\n",
       "      <td>12.5</td>\n",
       "      <td>0</td>\n",
       "    </tr>\n",
       "    <tr>\n",
       "      <th>10185</th>\n",
       "      <td>2012-03-03</td>\n",
       "      <td>CoffsHarbour</td>\n",
       "      <td>20.8</td>\n",
       "      <td>39.0</td>\n",
       "      <td>13.0</td>\n",
       "      <td>9.0</td>\n",
       "      <td>96.0</td>\n",
       "      <td>92.0</td>\n",
       "      <td>1019.0</td>\n",
       "      <td>1017.0</td>\n",
       "      <td>19.3</td>\n",
       "      <td>21.0</td>\n",
       "      <td>Yes</td>\n",
       "      <td>SE</td>\n",
       "      <td>SW</td>\n",
       "      <td>W</td>\n",
       "      <td>19.0</td>\n",
       "      <td>22.8</td>\n",
       "      <td>0</td>\n",
       "    </tr>\n",
       "    <tr>\n",
       "      <th>34777</th>\n",
       "      <td>2012-07-11</td>\n",
       "      <td>SydneyAirport</td>\n",
       "      <td>8.2</td>\n",
       "      <td>41.0</td>\n",
       "      <td>19.0</td>\n",
       "      <td>22.0</td>\n",
       "      <td>67.0</td>\n",
       "      <td>39.0</td>\n",
       "      <td>1019.9</td>\n",
       "      <td>1017.4</td>\n",
       "      <td>15.0</td>\n",
       "      <td>20.5</td>\n",
       "      <td>Yes</td>\n",
       "      <td>WNW</td>\n",
       "      <td>NNW</td>\n",
       "      <td>N</td>\n",
       "      <td>10.4</td>\n",
       "      <td>20.8</td>\n",
       "      <td>0</td>\n",
       "    </tr>\n",
       "    <tr>\n",
       "      <th>57070</th>\n",
       "      <td>2014-07-20</td>\n",
       "      <td>Ballarat</td>\n",
       "      <td>0.0</td>\n",
       "      <td>24.0</td>\n",
       "      <td>11.0</td>\n",
       "      <td>11.0</td>\n",
       "      <td>100.0</td>\n",
       "      <td>73.0</td>\n",
       "      <td>1028.7</td>\n",
       "      <td>1026.8</td>\n",
       "      <td>6.4</td>\n",
       "      <td>9.7</td>\n",
       "      <td>No</td>\n",
       "      <td>SSE</td>\n",
       "      <td>SSE</td>\n",
       "      <td>S</td>\n",
       "      <td>2.3</td>\n",
       "      <td>10.2</td>\n",
       "      <td>0</td>\n",
       "    </tr>\n",
       "    <tr>\n",
       "      <th>140866</th>\n",
       "      <td>2013-07-19</td>\n",
       "      <td>Darwin</td>\n",
       "      <td>0.0</td>\n",
       "      <td>35.0</td>\n",
       "      <td>17.0</td>\n",
       "      <td>24.0</td>\n",
       "      <td>73.0</td>\n",
       "      <td>57.0</td>\n",
       "      <td>1013.1</td>\n",
       "      <td>1009.2</td>\n",
       "      <td>24.9</td>\n",
       "      <td>29.0</td>\n",
       "      <td>No</td>\n",
       "      <td>N</td>\n",
       "      <td>E</td>\n",
       "      <td>N</td>\n",
       "      <td>18.9</td>\n",
       "      <td>32.0</td>\n",
       "      <td>0</td>\n",
       "    </tr>\n",
       "  </tbody>\n",
       "</table>\n",
       "</div>"
      ],
      "text/plain": [
       "              Date       Location  Rainfall  WindGustSpeed  WindSpeed9am  \\\n",
       "83344   2015-09-02       Dartmoor       0.0           37.0          13.0   \n",
       "10185   2012-03-03   CoffsHarbour      20.8           39.0          13.0   \n",
       "34777   2012-07-11  SydneyAirport       8.2           41.0          19.0   \n",
       "57070   2014-07-20       Ballarat       0.0           24.0          11.0   \n",
       "140866  2013-07-19         Darwin       0.0           35.0          17.0   \n",
       "\n",
       "        WindSpeed3pm  Humidity9am  Humidity3pm  Pressure9am  Pressure3pm  \\\n",
       "83344           11.0          NaN          NaN       1008.0       1005.1   \n",
       "10185            9.0         96.0         92.0       1019.0       1017.0   \n",
       "34777           22.0         67.0         39.0       1019.9       1017.4   \n",
       "57070           11.0        100.0         73.0       1028.7       1026.8   \n",
       "140866          24.0         73.0         57.0       1013.1       1009.2   \n",
       "\n",
       "        Temp9am  Temp3pm RainToday WindGustDir_random WindDir9am_random  \\\n",
       "83344      10.9     10.4        No                NNE                 N   \n",
       "10185      19.3     21.0       Yes                 SE                SW   \n",
       "34777      15.0     20.5       Yes                WNW               NNW   \n",
       "57070       6.4      9.7        No                SSE               SSE   \n",
       "140866     24.9     29.0        No                  N                 E   \n",
       "\n",
       "       WindDir3pm_random  MinTemp_random  MaxTemp_random  Pressure9am_missing  \n",
       "83344                 NE             4.6            12.5                    0  \n",
       "10185                  W            19.0            22.8                    0  \n",
       "34777                  N            10.4            20.8                    0  \n",
       "57070                  S             2.3            10.2                    0  \n",
       "140866                 N            18.9            32.0                    0  "
      ]
     },
     "execution_count": 117,
     "metadata": {},
     "output_type": "execute_result"
    }
   ],
   "source": [
    "x_train.head()"
   ]
  },
  {
   "cell_type": "code",
   "execution_count": 118,
   "id": "5d2d7b01",
   "metadata": {},
   "outputs": [
    {
     "data": {
      "text/plain": [
       "0    102679\n",
       "1     10490\n",
       "Name: Pressure9am_missing, dtype: int64"
      ]
     },
     "execution_count": 118,
     "metadata": {},
     "output_type": "execute_result"
    }
   ],
   "source": [
    "x_train['Pressure9am_missing'].value_counts()"
   ]
  },
  {
   "cell_type": "code",
   "execution_count": 119,
   "id": "1a91bcbb",
   "metadata": {},
   "outputs": [],
   "source": [
    "impute_nan(x_train,'Pressure9am')"
   ]
  },
  {
   "cell_type": "code",
   "execution_count": 120,
   "id": "2385f4f9",
   "metadata": {},
   "outputs": [],
   "source": [
    "x_train.drop(['Pressure3pm','Pressure9am'],axis=1,inplace=True)"
   ]
  },
  {
   "cell_type": "code",
   "execution_count": 121,
   "id": "3c230c1e",
   "metadata": {},
   "outputs": [
    {
     "data": {
      "text/plain": [
       "Date                      0\n",
       "Location                  0\n",
       "Rainfall               1023\n",
       "WindGustSpeed          6853\n",
       "WindSpeed9am            805\n",
       "WindSpeed3pm           1587\n",
       "Humidity9am            1137\n",
       "Humidity3pm            2373\n",
       "Temp9am                   0\n",
       "Temp3pm                   0\n",
       "RainToday              1023\n",
       "WindGustDir_random        0\n",
       "WindDir9am_random         0\n",
       "WindDir3pm_random         0\n",
       "MinTemp_random            0\n",
       "MaxTemp_random            0\n",
       "Pressure9am_missing       0\n",
       "Pressure9am_random        0\n",
       "dtype: int64"
      ]
     },
     "execution_count": 121,
     "metadata": {},
     "output_type": "execute_result"
    }
   ],
   "source": [
    "x_train.isnull().sum()"
   ]
  },
  {
   "cell_type": "code",
   "execution_count": 122,
   "id": "a772a1b0",
   "metadata": {},
   "outputs": [],
   "source": [
    "# highest_corr(x_train,'WindGustSpeed')"
   ]
  },
  {
   "cell_type": "code",
   "execution_count": 123,
   "id": "9fc66985",
   "metadata": {},
   "outputs": [],
   "source": [
    "impute_nan(x_train,'WindGustSpeed')"
   ]
  },
  {
   "cell_type": "code",
   "execution_count": 124,
   "id": "938cfdef",
   "metadata": {},
   "outputs": [],
   "source": [
    "x_train.drop(['WindGustSpeed'],axis=1,inplace=True)"
   ]
  },
  {
   "cell_type": "code",
   "execution_count": 125,
   "id": "e3dc6350",
   "metadata": {},
   "outputs": [],
   "source": [
    "# highest_corr(x_train,'WindGustSpeed_random')"
   ]
  },
  {
   "cell_type": "code",
   "execution_count": null,
   "id": "d5e063f3",
   "metadata": {},
   "outputs": [],
   "source": []
  },
  {
   "cell_type": "code",
   "execution_count": 126,
   "id": "3dc5e07b",
   "metadata": {},
   "outputs": [
    {
     "data": {
      "text/plain": [
       "Date                       0\n",
       "Location                   0\n",
       "Rainfall                1023\n",
       "WindSpeed9am             805\n",
       "WindSpeed3pm            1587\n",
       "Humidity9am             1137\n",
       "Humidity3pm             2373\n",
       "Temp9am                    0\n",
       "Temp3pm                    0\n",
       "RainToday               1023\n",
       "WindGustDir_random         0\n",
       "WindDir9am_random          0\n",
       "WindDir3pm_random          0\n",
       "MinTemp_random             0\n",
       "MaxTemp_random             0\n",
       "Pressure9am_missing        0\n",
       "Pressure9am_random         0\n",
       "WindGustSpeed_random       0\n",
       "dtype: int64"
      ]
     },
     "execution_count": 126,
     "metadata": {},
     "output_type": "execute_result"
    }
   ],
   "source": [
    "x_train.isnull().sum()"
   ]
  },
  {
   "cell_type": "code",
   "execution_count": 127,
   "id": "c6683fbe",
   "metadata": {},
   "outputs": [],
   "source": [
    "for i in ['WindSpeed9am','WindSpeed3pm','Humidity9am','Humidity3pm']:\n",
    "    impute_nan(x_train,i)\n",
    "    x_train.drop(i,axis=1,inplace=True)"
   ]
  },
  {
   "cell_type": "code",
   "execution_count": 128,
   "id": "0757728b",
   "metadata": {},
   "outputs": [
    {
     "data": {
      "text/plain": [
       "Date                       0\n",
       "Location                   0\n",
       "Rainfall                1023\n",
       "Temp9am                    0\n",
       "Temp3pm                    0\n",
       "RainToday               1023\n",
       "WindGustDir_random         0\n",
       "WindDir9am_random          0\n",
       "WindDir3pm_random          0\n",
       "MinTemp_random             0\n",
       "MaxTemp_random             0\n",
       "Pressure9am_missing        0\n",
       "Pressure9am_random         0\n",
       "WindGustSpeed_random       0\n",
       "WindSpeed9am_random        0\n",
       "WindSpeed3pm_random        0\n",
       "Humidity9am_random         0\n",
       "Humidity3pm_random         0\n",
       "dtype: int64"
      ]
     },
     "execution_count": 128,
     "metadata": {},
     "output_type": "execute_result"
    }
   ],
   "source": [
    "x_train.isnull().sum()"
   ]
  },
  {
   "cell_type": "code",
   "execution_count": 129,
   "id": "84a1d0d3",
   "metadata": {},
   "outputs": [],
   "source": [
    "ss = x_train.loc[x_train['RainToday'].isnull()]"
   ]
  },
  {
   "cell_type": "code",
   "execution_count": 130,
   "id": "ed508df6",
   "metadata": {},
   "outputs": [
    {
     "data": {
      "text/plain": [
       "1023"
      ]
     },
     "execution_count": 130,
     "metadata": {},
     "output_type": "execute_result"
    }
   ],
   "source": [
    "ss['Rainfall'].isnull().sum()"
   ]
  },
  {
   "cell_type": "markdown",
   "id": "9cb1534f",
   "metadata": {},
   "source": [
    "That means 1023 rows have null values in both 'RainToday' & 'Rainfall' features"
   ]
  },
  {
   "cell_type": "code",
   "execution_count": null,
   "id": "a40c8ab7",
   "metadata": {},
   "outputs": [],
   "source": []
  },
  {
   "cell_type": "code",
   "execution_count": 168,
   "id": "e3037d4b",
   "metadata": {},
   "outputs": [
    {
     "data": {
      "text/plain": [
       "(113169, 18)"
      ]
     },
     "execution_count": 168,
     "metadata": {},
     "output_type": "execute_result"
    }
   ],
   "source": [
    "x_train.shape"
   ]
  },
  {
   "cell_type": "code",
   "execution_count": 169,
   "id": "2a7ed3bd",
   "metadata": {},
   "outputs": [
    {
     "data": {
      "text/plain": [
       "145460"
      ]
     },
     "execution_count": 169,
     "metadata": {},
     "output_type": "execute_result"
    }
   ],
   "source": [
    "len(df)"
   ]
  },
  {
   "cell_type": "code",
   "execution_count": 170,
   "id": "5e9252bb",
   "metadata": {},
   "outputs": [],
   "source": [
    "zx = pd.concat([x_train,y_train], axis=1, join='inner')"
   ]
  },
  {
   "cell_type": "code",
   "execution_count": 171,
   "id": "fc9b069d",
   "metadata": {},
   "outputs": [
    {
     "data": {
      "text/html": [
       "<div>\n",
       "<style scoped>\n",
       "    .dataframe tbody tr th:only-of-type {\n",
       "        vertical-align: middle;\n",
       "    }\n",
       "\n",
       "    .dataframe tbody tr th {\n",
       "        vertical-align: top;\n",
       "    }\n",
       "\n",
       "    .dataframe thead th {\n",
       "        text-align: right;\n",
       "    }\n",
       "</style>\n",
       "<table border=\"1\" class=\"dataframe\">\n",
       "  <thead>\n",
       "    <tr style=\"text-align: right;\">\n",
       "      <th></th>\n",
       "      <th>Date</th>\n",
       "      <th>Location</th>\n",
       "      <th>Rainfall</th>\n",
       "      <th>Temp9am</th>\n",
       "      <th>Temp3pm</th>\n",
       "      <th>RainToday</th>\n",
       "      <th>WindGustDir_random</th>\n",
       "      <th>WindDir9am_random</th>\n",
       "      <th>WindDir3pm_random</th>\n",
       "      <th>MinTemp_random</th>\n",
       "      <th>MaxTemp_random</th>\n",
       "      <th>Pressure9am_missing</th>\n",
       "      <th>Pressure9am_random</th>\n",
       "      <th>WindGustSpeed_random</th>\n",
       "      <th>WindSpeed9am_random</th>\n",
       "      <th>WindSpeed3pm_random</th>\n",
       "      <th>Humidity9am_random</th>\n",
       "      <th>Humidity3pm_random</th>\n",
       "      <th>RainTomorrow</th>\n",
       "    </tr>\n",
       "  </thead>\n",
       "  <tbody>\n",
       "    <tr>\n",
       "      <th>83344</th>\n",
       "      <td>2015-09-02</td>\n",
       "      <td>Dartmoor</td>\n",
       "      <td>0.0</td>\n",
       "      <td>10.9</td>\n",
       "      <td>10.4</td>\n",
       "      <td>No</td>\n",
       "      <td>NNE</td>\n",
       "      <td>N</td>\n",
       "      <td>NE</td>\n",
       "      <td>4.6</td>\n",
       "      <td>12.5</td>\n",
       "      <td>0</td>\n",
       "      <td>1008.0</td>\n",
       "      <td>37.0</td>\n",
       "      <td>13.0</td>\n",
       "      <td>11.0</td>\n",
       "      <td>24.0</td>\n",
       "      <td>58.0</td>\n",
       "      <td>1</td>\n",
       "    </tr>\n",
       "    <tr>\n",
       "      <th>10185</th>\n",
       "      <td>2012-03-03</td>\n",
       "      <td>CoffsHarbour</td>\n",
       "      <td>20.8</td>\n",
       "      <td>19.3</td>\n",
       "      <td>21.0</td>\n",
       "      <td>Yes</td>\n",
       "      <td>SE</td>\n",
       "      <td>SW</td>\n",
       "      <td>W</td>\n",
       "      <td>19.0</td>\n",
       "      <td>22.8</td>\n",
       "      <td>0</td>\n",
       "      <td>1019.0</td>\n",
       "      <td>39.0</td>\n",
       "      <td>13.0</td>\n",
       "      <td>9.0</td>\n",
       "      <td>96.0</td>\n",
       "      <td>92.0</td>\n",
       "      <td>1</td>\n",
       "    </tr>\n",
       "    <tr>\n",
       "      <th>34777</th>\n",
       "      <td>2012-07-11</td>\n",
       "      <td>SydneyAirport</td>\n",
       "      <td>8.2</td>\n",
       "      <td>15.0</td>\n",
       "      <td>20.5</td>\n",
       "      <td>Yes</td>\n",
       "      <td>WNW</td>\n",
       "      <td>NNW</td>\n",
       "      <td>N</td>\n",
       "      <td>10.4</td>\n",
       "      <td>20.8</td>\n",
       "      <td>0</td>\n",
       "      <td>1019.9</td>\n",
       "      <td>41.0</td>\n",
       "      <td>19.0</td>\n",
       "      <td>22.0</td>\n",
       "      <td>67.0</td>\n",
       "      <td>39.0</td>\n",
       "      <td>0</td>\n",
       "    </tr>\n",
       "    <tr>\n",
       "      <th>57070</th>\n",
       "      <td>2014-07-20</td>\n",
       "      <td>Ballarat</td>\n",
       "      <td>0.0</td>\n",
       "      <td>6.4</td>\n",
       "      <td>9.7</td>\n",
       "      <td>No</td>\n",
       "      <td>SSE</td>\n",
       "      <td>SSE</td>\n",
       "      <td>S</td>\n",
       "      <td>2.3</td>\n",
       "      <td>10.2</td>\n",
       "      <td>0</td>\n",
       "      <td>1028.7</td>\n",
       "      <td>24.0</td>\n",
       "      <td>11.0</td>\n",
       "      <td>11.0</td>\n",
       "      <td>100.0</td>\n",
       "      <td>73.0</td>\n",
       "      <td>0</td>\n",
       "    </tr>\n",
       "    <tr>\n",
       "      <th>140866</th>\n",
       "      <td>2013-07-19</td>\n",
       "      <td>Darwin</td>\n",
       "      <td>0.0</td>\n",
       "      <td>24.9</td>\n",
       "      <td>29.0</td>\n",
       "      <td>No</td>\n",
       "      <td>N</td>\n",
       "      <td>E</td>\n",
       "      <td>N</td>\n",
       "      <td>18.9</td>\n",
       "      <td>32.0</td>\n",
       "      <td>0</td>\n",
       "      <td>1013.1</td>\n",
       "      <td>35.0</td>\n",
       "      <td>17.0</td>\n",
       "      <td>24.0</td>\n",
       "      <td>73.0</td>\n",
       "      <td>57.0</td>\n",
       "      <td>0</td>\n",
       "    </tr>\n",
       "  </tbody>\n",
       "</table>\n",
       "</div>"
      ],
      "text/plain": [
       "              Date       Location  Rainfall  Temp9am  Temp3pm RainToday  \\\n",
       "83344   2015-09-02       Dartmoor       0.0     10.9     10.4        No   \n",
       "10185   2012-03-03   CoffsHarbour      20.8     19.3     21.0       Yes   \n",
       "34777   2012-07-11  SydneyAirport       8.2     15.0     20.5       Yes   \n",
       "57070   2014-07-20       Ballarat       0.0      6.4      9.7        No   \n",
       "140866  2013-07-19         Darwin       0.0     24.9     29.0        No   \n",
       "\n",
       "       WindGustDir_random WindDir9am_random WindDir3pm_random  MinTemp_random  \\\n",
       "83344                 NNE                 N                NE             4.6   \n",
       "10185                  SE                SW                 W            19.0   \n",
       "34777                 WNW               NNW                 N            10.4   \n",
       "57070                 SSE               SSE                 S             2.3   \n",
       "140866                  N                 E                 N            18.9   \n",
       "\n",
       "        MaxTemp_random  Pressure9am_missing  Pressure9am_random  \\\n",
       "83344             12.5                    0              1008.0   \n",
       "10185             22.8                    0              1019.0   \n",
       "34777             20.8                    0              1019.9   \n",
       "57070             10.2                    0              1028.7   \n",
       "140866            32.0                    0              1013.1   \n",
       "\n",
       "        WindGustSpeed_random  WindSpeed9am_random  WindSpeed3pm_random  \\\n",
       "83344                   37.0                 13.0                 11.0   \n",
       "10185                   39.0                 13.0                  9.0   \n",
       "34777                   41.0                 19.0                 22.0   \n",
       "57070                   24.0                 11.0                 11.0   \n",
       "140866                  35.0                 17.0                 24.0   \n",
       "\n",
       "        Humidity9am_random  Humidity3pm_random  RainTomorrow  \n",
       "83344                 24.0                58.0             1  \n",
       "10185                 96.0                92.0             1  \n",
       "34777                 67.0                39.0             0  \n",
       "57070                100.0                73.0             0  \n",
       "140866                73.0                57.0             0  "
      ]
     },
     "execution_count": 171,
     "metadata": {},
     "output_type": "execute_result"
    }
   ],
   "source": [
    "zx.head()"
   ]
  },
  {
   "cell_type": "code",
   "execution_count": 172,
   "id": "cb0577ef",
   "metadata": {},
   "outputs": [],
   "source": [
    "cc = zx.loc[zx['RainTomorrow']==0]"
   ]
  },
  {
   "cell_type": "code",
   "execution_count": 173,
   "id": "20f8fe22",
   "metadata": {},
   "outputs": [
    {
     "data": {
      "text/plain": [
       "87822"
      ]
     },
     "execution_count": 173,
     "metadata": {},
     "output_type": "execute_result"
    }
   ],
   "source": [
    "len(cc)"
   ]
  },
  {
   "cell_type": "code",
   "execution_count": 174,
   "id": "644296fb",
   "metadata": {},
   "outputs": [
    {
     "data": {
      "text/plain": [
       "72907"
      ]
     },
     "execution_count": 174,
     "metadata": {},
     "output_type": "execute_result"
    }
   ],
   "source": [
    "len(cc.loc[cc['Rainfall']<1])"
   ]
  },
  {
   "cell_type": "code",
   "execution_count": 175,
   "id": "ce6dbc12",
   "metadata": {},
   "outputs": [
    {
     "data": {
      "text/plain": [
       "73848"
      ]
     },
     "execution_count": 175,
     "metadata": {},
     "output_type": "execute_result"
    }
   ],
   "source": [
    "len(cc.loc[cc['RainToday']=='No'])"
   ]
  },
  {
   "cell_type": "code",
   "execution_count": 176,
   "id": "ab33b889",
   "metadata": {},
   "outputs": [
    {
     "data": {
      "text/html": [
       "<div>\n",
       "<style scoped>\n",
       "    .dataframe tbody tr th:only-of-type {\n",
       "        vertical-align: middle;\n",
       "    }\n",
       "\n",
       "    .dataframe tbody tr th {\n",
       "        vertical-align: top;\n",
       "    }\n",
       "\n",
       "    .dataframe thead th {\n",
       "        text-align: right;\n",
       "    }\n",
       "</style>\n",
       "<table border=\"1\" class=\"dataframe\">\n",
       "  <thead>\n",
       "    <tr style=\"text-align: right;\">\n",
       "      <th></th>\n",
       "      <th>Date</th>\n",
       "      <th>Location</th>\n",
       "      <th>Rainfall</th>\n",
       "      <th>Temp9am</th>\n",
       "      <th>Temp3pm</th>\n",
       "      <th>RainToday</th>\n",
       "      <th>WindGustDir_random</th>\n",
       "      <th>WindDir9am_random</th>\n",
       "      <th>WindDir3pm_random</th>\n",
       "      <th>MinTemp_random</th>\n",
       "      <th>MaxTemp_random</th>\n",
       "      <th>Pressure9am_missing</th>\n",
       "      <th>Pressure9am_random</th>\n",
       "      <th>WindGustSpeed_random</th>\n",
       "      <th>WindSpeed9am_random</th>\n",
       "      <th>WindSpeed3pm_random</th>\n",
       "      <th>Humidity9am_random</th>\n",
       "      <th>Humidity3pm_random</th>\n",
       "      <th>RainTomorrow</th>\n",
       "    </tr>\n",
       "  </thead>\n",
       "  <tbody>\n",
       "    <tr>\n",
       "      <th>34777</th>\n",
       "      <td>2012-07-11</td>\n",
       "      <td>SydneyAirport</td>\n",
       "      <td>8.2</td>\n",
       "      <td>15.0</td>\n",
       "      <td>20.5</td>\n",
       "      <td>Yes</td>\n",
       "      <td>WNW</td>\n",
       "      <td>NNW</td>\n",
       "      <td>N</td>\n",
       "      <td>10.4</td>\n",
       "      <td>20.8</td>\n",
       "      <td>0</td>\n",
       "      <td>1019.9</td>\n",
       "      <td>41.0</td>\n",
       "      <td>19.0</td>\n",
       "      <td>22.0</td>\n",
       "      <td>67.0</td>\n",
       "      <td>39.0</td>\n",
       "      <td>0</td>\n",
       "    </tr>\n",
       "    <tr>\n",
       "      <th>57070</th>\n",
       "      <td>2014-07-20</td>\n",
       "      <td>Ballarat</td>\n",
       "      <td>0.0</td>\n",
       "      <td>6.4</td>\n",
       "      <td>9.7</td>\n",
       "      <td>No</td>\n",
       "      <td>SSE</td>\n",
       "      <td>SSE</td>\n",
       "      <td>S</td>\n",
       "      <td>2.3</td>\n",
       "      <td>10.2</td>\n",
       "      <td>0</td>\n",
       "      <td>1028.7</td>\n",
       "      <td>24.0</td>\n",
       "      <td>11.0</td>\n",
       "      <td>11.0</td>\n",
       "      <td>100.0</td>\n",
       "      <td>73.0</td>\n",
       "      <td>0</td>\n",
       "    </tr>\n",
       "    <tr>\n",
       "      <th>140866</th>\n",
       "      <td>2013-07-19</td>\n",
       "      <td>Darwin</td>\n",
       "      <td>0.0</td>\n",
       "      <td>24.9</td>\n",
       "      <td>29.0</td>\n",
       "      <td>No</td>\n",
       "      <td>N</td>\n",
       "      <td>E</td>\n",
       "      <td>N</td>\n",
       "      <td>18.9</td>\n",
       "      <td>32.0</td>\n",
       "      <td>0</td>\n",
       "      <td>1013.1</td>\n",
       "      <td>35.0</td>\n",
       "      <td>17.0</td>\n",
       "      <td>24.0</td>\n",
       "      <td>73.0</td>\n",
       "      <td>57.0</td>\n",
       "      <td>0</td>\n",
       "    </tr>\n",
       "    <tr>\n",
       "      <th>62285</th>\n",
       "      <td>2012-02-08</td>\n",
       "      <td>Sale</td>\n",
       "      <td>0.0</td>\n",
       "      <td>16.0</td>\n",
       "      <td>19.1</td>\n",
       "      <td>No</td>\n",
       "      <td>E</td>\n",
       "      <td>WSW</td>\n",
       "      <td>E</td>\n",
       "      <td>13.5</td>\n",
       "      <td>21.1</td>\n",
       "      <td>0</td>\n",
       "      <td>1014.6</td>\n",
       "      <td>31.0</td>\n",
       "      <td>13.0</td>\n",
       "      <td>11.0</td>\n",
       "      <td>60.0</td>\n",
       "      <td>47.0</td>\n",
       "      <td>0</td>\n",
       "    </tr>\n",
       "    <tr>\n",
       "      <th>121390</th>\n",
       "      <td>2010-07-23</td>\n",
       "      <td>Perth</td>\n",
       "      <td>0.0</td>\n",
       "      <td>11.6</td>\n",
       "      <td>19.8</td>\n",
       "      <td>No</td>\n",
       "      <td>NNE</td>\n",
       "      <td>ENE</td>\n",
       "      <td>SSE</td>\n",
       "      <td>3.3</td>\n",
       "      <td>20.3</td>\n",
       "      <td>0</td>\n",
       "      <td>1032.0</td>\n",
       "      <td>19.0</td>\n",
       "      <td>9.0</td>\n",
       "      <td>2.0</td>\n",
       "      <td>59.0</td>\n",
       "      <td>37.0</td>\n",
       "      <td>0</td>\n",
       "    </tr>\n",
       "  </tbody>\n",
       "</table>\n",
       "</div>"
      ],
      "text/plain": [
       "              Date       Location  Rainfall  Temp9am  Temp3pm RainToday  \\\n",
       "34777   2012-07-11  SydneyAirport       8.2     15.0     20.5       Yes   \n",
       "57070   2014-07-20       Ballarat       0.0      6.4      9.7        No   \n",
       "140866  2013-07-19         Darwin       0.0     24.9     29.0        No   \n",
       "62285   2012-02-08           Sale       0.0     16.0     19.1        No   \n",
       "121390  2010-07-23          Perth       0.0     11.6     19.8        No   \n",
       "\n",
       "       WindGustDir_random WindDir9am_random WindDir3pm_random  MinTemp_random  \\\n",
       "34777                 WNW               NNW                 N            10.4   \n",
       "57070                 SSE               SSE                 S             2.3   \n",
       "140866                  N                 E                 N            18.9   \n",
       "62285                   E               WSW                 E            13.5   \n",
       "121390                NNE               ENE               SSE             3.3   \n",
       "\n",
       "        MaxTemp_random  Pressure9am_missing  Pressure9am_random  \\\n",
       "34777             20.8                    0              1019.9   \n",
       "57070             10.2                    0              1028.7   \n",
       "140866            32.0                    0              1013.1   \n",
       "62285             21.1                    0              1014.6   \n",
       "121390            20.3                    0              1032.0   \n",
       "\n",
       "        WindGustSpeed_random  WindSpeed9am_random  WindSpeed3pm_random  \\\n",
       "34777                   41.0                 19.0                 22.0   \n",
       "57070                   24.0                 11.0                 11.0   \n",
       "140866                  35.0                 17.0                 24.0   \n",
       "62285                   31.0                 13.0                 11.0   \n",
       "121390                  19.0                  9.0                  2.0   \n",
       "\n",
       "        Humidity9am_random  Humidity3pm_random  RainTomorrow  \n",
       "34777                 67.0                39.0             0  \n",
       "57070                100.0                73.0             0  \n",
       "140866                73.0                57.0             0  \n",
       "62285                 60.0                47.0             0  \n",
       "121390                59.0                37.0             0  "
      ]
     },
     "execution_count": 176,
     "metadata": {},
     "output_type": "execute_result"
    }
   ],
   "source": [
    "cc.head()"
   ]
  },
  {
   "cell_type": "code",
   "execution_count": null,
   "id": "eb913027",
   "metadata": {},
   "outputs": [],
   "source": []
  },
  {
   "cell_type": "code",
   "execution_count": 177,
   "id": "566a87d9",
   "metadata": {},
   "outputs": [
    {
     "data": {
      "text/plain": [
       "Date                       0\n",
       "Location                   0\n",
       "Rainfall                1023\n",
       "Temp9am                    0\n",
       "Temp3pm                    0\n",
       "RainToday               1023\n",
       "WindGustDir_random         0\n",
       "WindDir9am_random          0\n",
       "WindDir3pm_random          0\n",
       "MinTemp_random             0\n",
       "MaxTemp_random             0\n",
       "Pressure9am_missing        0\n",
       "Pressure9am_random         0\n",
       "WindGustSpeed_random       0\n",
       "WindSpeed9am_random        0\n",
       "WindSpeed3pm_random        0\n",
       "Humidity9am_random         0\n",
       "Humidity3pm_random         0\n",
       "dtype: int64"
      ]
     },
     "execution_count": 177,
     "metadata": {},
     "output_type": "execute_result"
    }
   ],
   "source": [
    "x_train.isnull().sum()"
   ]
  },
  {
   "cell_type": "code",
   "execution_count": 178,
   "id": "d3773793",
   "metadata": {},
   "outputs": [
    {
     "data": {
      "text/plain": [
       "(113169, 18)"
      ]
     },
     "execution_count": 178,
     "metadata": {},
     "output_type": "execute_result"
    }
   ],
   "source": [
    "x_train.shape"
   ]
  },
  {
   "cell_type": "code",
   "execution_count": 179,
   "id": "2ea6696a",
   "metadata": {},
   "outputs": [
    {
     "data": {
      "text/plain": [
       "(1023, 18)"
      ]
     },
     "execution_count": 179,
     "metadata": {},
     "output_type": "execute_result"
    }
   ],
   "source": [
    "t= x_train.loc[x_train['RainToday'].isnull()]\n",
    "t.shape"
   ]
  },
  {
   "cell_type": "code",
   "execution_count": 180,
   "id": "9c21b3b4",
   "metadata": {},
   "outputs": [],
   "source": [
    "s = t.index.to_list()"
   ]
  },
  {
   "cell_type": "code",
   "execution_count": null,
   "id": "f4361622",
   "metadata": {},
   "outputs": [],
   "source": []
  },
  {
   "cell_type": "code",
   "execution_count": 181,
   "id": "7eedf844",
   "metadata": {},
   "outputs": [],
   "source": [
    "x_train.dropna(inplace=True)"
   ]
  },
  {
   "cell_type": "code",
   "execution_count": 182,
   "id": "d093dc48",
   "metadata": {},
   "outputs": [
    {
     "data": {
      "text/plain": [
       "(112146, 18)"
      ]
     },
     "execution_count": 182,
     "metadata": {},
     "output_type": "execute_result"
    }
   ],
   "source": [
    "x_train.shape"
   ]
  },
  {
   "cell_type": "code",
   "execution_count": 183,
   "id": "40966d14",
   "metadata": {},
   "outputs": [],
   "source": [
    "y_train.drop(s,axis=0,inplace=True)"
   ]
  },
  {
   "cell_type": "code",
   "execution_count": 184,
   "id": "17ac8bdc",
   "metadata": {},
   "outputs": [
    {
     "data": {
      "text/plain": [
       "(112146,)"
      ]
     },
     "execution_count": 184,
     "metadata": {},
     "output_type": "execute_result"
    }
   ],
   "source": [
    "y_train.shape"
   ]
  },
  {
   "cell_type": "markdown",
   "id": "35c70452",
   "metadata": {},
   "source": [
    "let's apply all this computation to handle the missing values in test dataset"
   ]
  },
  {
   "cell_type": "code",
   "execution_count": 185,
   "id": "aaf32f59",
   "metadata": {},
   "outputs": [
    {
     "data": {
      "text/html": [
       "<div>\n",
       "<style scoped>\n",
       "    .dataframe tbody tr th:only-of-type {\n",
       "        vertical-align: middle;\n",
       "    }\n",
       "\n",
       "    .dataframe tbody tr th {\n",
       "        vertical-align: top;\n",
       "    }\n",
       "\n",
       "    .dataframe thead th {\n",
       "        text-align: right;\n",
       "    }\n",
       "</style>\n",
       "<table border=\"1\" class=\"dataframe\">\n",
       "  <thead>\n",
       "    <tr style=\"text-align: right;\">\n",
       "      <th></th>\n",
       "      <th>Date</th>\n",
       "      <th>Location</th>\n",
       "      <th>MinTemp</th>\n",
       "      <th>MaxTemp</th>\n",
       "      <th>Rainfall</th>\n",
       "      <th>WindGustDir</th>\n",
       "      <th>WindGustSpeed</th>\n",
       "      <th>WindDir9am</th>\n",
       "      <th>WindDir3pm</th>\n",
       "      <th>WindSpeed9am</th>\n",
       "      <th>WindSpeed3pm</th>\n",
       "      <th>Humidity9am</th>\n",
       "      <th>Humidity3pm</th>\n",
       "      <th>Pressure9am</th>\n",
       "      <th>Pressure3pm</th>\n",
       "      <th>Temp9am</th>\n",
       "      <th>Temp3pm</th>\n",
       "      <th>RainToday</th>\n",
       "    </tr>\n",
       "  </thead>\n",
       "  <tbody>\n",
       "    <tr>\n",
       "      <th>66</th>\n",
       "      <td>2009-02-05</td>\n",
       "      <td>Albury</td>\n",
       "      <td>21.5</td>\n",
       "      <td>41.2</td>\n",
       "      <td>0.0</td>\n",
       "      <td>WSW</td>\n",
       "      <td>35.0</td>\n",
       "      <td>SSE</td>\n",
       "      <td>S</td>\n",
       "      <td>7.0</td>\n",
       "      <td>19.0</td>\n",
       "      <td>48.0</td>\n",
       "      <td>15.0</td>\n",
       "      <td>1005.9</td>\n",
       "      <td>1002.6</td>\n",
       "      <td>26.5</td>\n",
       "      <td>39.7</td>\n",
       "      <td>No</td>\n",
       "    </tr>\n",
       "    <tr>\n",
       "      <th>1110</th>\n",
       "      <td>2012-01-15</td>\n",
       "      <td>Albury</td>\n",
       "      <td>15.1</td>\n",
       "      <td>31.0</td>\n",
       "      <td>0.0</td>\n",
       "      <td>NNE</td>\n",
       "      <td>41.0</td>\n",
       "      <td>SE</td>\n",
       "      <td>SSE</td>\n",
       "      <td>15.0</td>\n",
       "      <td>9.0</td>\n",
       "      <td>52.0</td>\n",
       "      <td>37.0</td>\n",
       "      <td>1017.6</td>\n",
       "      <td>1014.5</td>\n",
       "      <td>20.7</td>\n",
       "      <td>29.7</td>\n",
       "      <td>No</td>\n",
       "    </tr>\n",
       "    <tr>\n",
       "      <th>60771</th>\n",
       "      <td>2016-05-11</td>\n",
       "      <td>Bendigo</td>\n",
       "      <td>8.6</td>\n",
       "      <td>14.9</td>\n",
       "      <td>1.4</td>\n",
       "      <td>WNW</td>\n",
       "      <td>41.0</td>\n",
       "      <td>NW</td>\n",
       "      <td>NW</td>\n",
       "      <td>11.0</td>\n",
       "      <td>19.0</td>\n",
       "      <td>86.0</td>\n",
       "      <td>88.0</td>\n",
       "      <td>1016.9</td>\n",
       "      <td>1013.2</td>\n",
       "      <td>10.1</td>\n",
       "      <td>12.5</td>\n",
       "      <td>Yes</td>\n",
       "    </tr>\n",
       "    <tr>\n",
       "      <th>127979</th>\n",
       "      <td>2012-03-26</td>\n",
       "      <td>Walpole</td>\n",
       "      <td>14.5</td>\n",
       "      <td>24.4</td>\n",
       "      <td>0.0</td>\n",
       "      <td>W</td>\n",
       "      <td>41.0</td>\n",
       "      <td>NW</td>\n",
       "      <td>W</td>\n",
       "      <td>15.0</td>\n",
       "      <td>24.0</td>\n",
       "      <td>64.0</td>\n",
       "      <td>51.0</td>\n",
       "      <td>1015.7</td>\n",
       "      <td>1013.6</td>\n",
       "      <td>20.1</td>\n",
       "      <td>23.8</td>\n",
       "      <td>No</td>\n",
       "    </tr>\n",
       "    <tr>\n",
       "      <th>107051</th>\n",
       "      <td>2013-04-28</td>\n",
       "      <td>Woomera</td>\n",
       "      <td>13.9</td>\n",
       "      <td>32.1</td>\n",
       "      <td>0.0</td>\n",
       "      <td>NNW</td>\n",
       "      <td>35.0</td>\n",
       "      <td>N</td>\n",
       "      <td>WNW</td>\n",
       "      <td>17.0</td>\n",
       "      <td>17.0</td>\n",
       "      <td>17.0</td>\n",
       "      <td>6.0</td>\n",
       "      <td>1018.9</td>\n",
       "      <td>1015.9</td>\n",
       "      <td>20.0</td>\n",
       "      <td>30.7</td>\n",
       "      <td>No</td>\n",
       "    </tr>\n",
       "  </tbody>\n",
       "</table>\n",
       "</div>"
      ],
      "text/plain": [
       "              Date Location  MinTemp  MaxTemp  Rainfall WindGustDir  \\\n",
       "66      2009-02-05   Albury     21.5     41.2       0.0         WSW   \n",
       "1110    2012-01-15   Albury     15.1     31.0       0.0         NNE   \n",
       "60771   2016-05-11  Bendigo      8.6     14.9       1.4         WNW   \n",
       "127979  2012-03-26  Walpole     14.5     24.4       0.0           W   \n",
       "107051  2013-04-28  Woomera     13.9     32.1       0.0         NNW   \n",
       "\n",
       "        WindGustSpeed WindDir9am WindDir3pm  WindSpeed9am  WindSpeed3pm  \\\n",
       "66               35.0        SSE          S           7.0          19.0   \n",
       "1110             41.0         SE        SSE          15.0           9.0   \n",
       "60771            41.0         NW         NW          11.0          19.0   \n",
       "127979           41.0         NW          W          15.0          24.0   \n",
       "107051           35.0          N        WNW          17.0          17.0   \n",
       "\n",
       "        Humidity9am  Humidity3pm  Pressure9am  Pressure3pm  Temp9am  Temp3pm  \\\n",
       "66             48.0         15.0       1005.9       1002.6     26.5     39.7   \n",
       "1110           52.0         37.0       1017.6       1014.5     20.7     29.7   \n",
       "60771          86.0         88.0       1016.9       1013.2     10.1     12.5   \n",
       "127979         64.0         51.0       1015.7       1013.6     20.1     23.8   \n",
       "107051         17.0          6.0       1018.9       1015.9     20.0     30.7   \n",
       "\n",
       "       RainToday  \n",
       "66            No  \n",
       "1110          No  \n",
       "60771        Yes  \n",
       "127979        No  \n",
       "107051        No  "
      ]
     },
     "execution_count": 185,
     "metadata": {},
     "output_type": "execute_result"
    }
   ],
   "source": [
    "x_test.head()"
   ]
  },
  {
   "cell_type": "code",
   "execution_count": 186,
   "id": "93a93b08",
   "metadata": {},
   "outputs": [
    {
     "data": {
      "text/plain": [
       "Date                0\n",
       "Location            0\n",
       "MinTemp            67\n",
       "MaxTemp            32\n",
       "Rainfall          253\n",
       "WindGustDir      1768\n",
       "WindGustSpeed    1757\n",
       "WindDir9am       1850\n",
       "WindDir3pm        627\n",
       "WindSpeed9am      193\n",
       "WindSpeed3pm      410\n",
       "Humidity9am       291\n",
       "Humidity3pm       613\n",
       "Pressure9am      2655\n",
       "Pressure3pm      2652\n",
       "Temp9am            99\n",
       "Temp3pm           427\n",
       "RainToday         253\n",
       "dtype: int64"
      ]
     },
     "execution_count": 186,
     "metadata": {},
     "output_type": "execute_result"
    }
   ],
   "source": [
    "x_test.isnull().sum()"
   ]
  },
  {
   "cell_type": "code",
   "execution_count": 187,
   "id": "0c393c23",
   "metadata": {},
   "outputs": [],
   "source": [
    "def impute_nan_test(df,variable,df2):\n",
    "    df[variable+\"_random\"]=df[variable]\n",
    "    ##It will have the random sample to fill the na\n",
    "    random_sample=df2[variable+\"_random\"].dropna().sample(df[variable].isnull().sum(),random_state=0)\n",
    "    ##pandas need to have same index in order to merge the dataset\n",
    "    random_sample.index=df[df[variable].isnull()].index\n",
    "    df.loc[df[variable].isnull(),variable+'_random']=random_sample"
   ]
  },
  {
   "cell_type": "code",
   "execution_count": null,
   "id": "441ea973",
   "metadata": {},
   "outputs": [],
   "source": []
  },
  {
   "cell_type": "code",
   "execution_count": 188,
   "id": "4fdbd82f",
   "metadata": {},
   "outputs": [],
   "source": [
    "for i in ['WindGustDir','WindDir9am','WindDir3pm','MinTemp','MaxTemp']:\n",
    "    impute_nan_test(x_test,i,x_train)\n",
    "    x_test.drop(i,axis=1,inplace=True)"
   ]
  },
  {
   "cell_type": "code",
   "execution_count": null,
   "id": "dbe37441",
   "metadata": {},
   "outputs": [],
   "source": []
  },
  {
   "cell_type": "code",
   "execution_count": 189,
   "id": "d128e6eb",
   "metadata": {},
   "outputs": [],
   "source": [
    "a = x_test['Temp9am'].to_frame()"
   ]
  },
  {
   "cell_type": "code",
   "execution_count": 190,
   "id": "69aa1aac",
   "metadata": {},
   "outputs": [
    {
     "data": {
      "text/plain": [
       "Int64Index([ 53542,  75443,  52959,  52177,   3448,  75591,  53106, 142405,\n",
       "             53469,  52905,   3540,  81123,  11499,  75403,  53116,  52907,\n",
       "             52891, 143645,  53559,  53409,  53250,  52386,  24521,  53041,\n",
       "             79878,  52075, 111340,  47054,  24670,  75121,  27785,  49230,\n",
       "            143334,  53278,  53066,  52934,   6209, 143524,  53145,  53526,\n",
       "             53171,  53094,  28776,  53104,  75546,  50643,  75848,  29063,\n",
       "             52140,  53271,  53234,  52887,  23709,  79536,  53591,  43280,\n",
       "             79856,  53365,  56700,  43053,  56764,  47060, 143676,  52132,\n",
       "             27670,  52945,  53225, 117286,  43013,  52993,  52902,  52334,\n",
       "             53152,  49612,  52904, 142535,  23528,  53215,  53481,  52159,\n",
       "             52958,  53196, 143703,  52163, 142309,  53229,  52871,  52394,\n",
       "             79879,  52175,  52992,  40941,  53389,  27584,  53519,  53350,\n",
       "             79871,  53584,  53356],\n",
       "           dtype='int64')"
      ]
     },
     "execution_count": 190,
     "metadata": {},
     "output_type": "execute_result"
    }
   ],
   "source": [
    "aa = a.loc[a['Temp9am'].isnull()]\n",
    "aa.index"
   ]
  },
  {
   "cell_type": "code",
   "execution_count": 191,
   "id": "b55e6ed8",
   "metadata": {},
   "outputs": [
    {
     "data": {
      "text/plain": [
       "99"
      ]
     },
     "execution_count": 191,
     "metadata": {},
     "output_type": "execute_result"
    }
   ],
   "source": [
    "ls = aa.index.to_list()\n",
    "len(ls)"
   ]
  },
  {
   "cell_type": "code",
   "execution_count": 192,
   "id": "c87df2d1",
   "metadata": {},
   "outputs": [],
   "source": [
    "for i in ls:\n",
    "    x_test['Temp9am'][i] = lm1.predict([[x_test['MinTemp_random'][i],x_test['MaxTemp_random'][i]]])"
   ]
  },
  {
   "cell_type": "code",
   "execution_count": null,
   "id": "45555c1f",
   "metadata": {},
   "outputs": [],
   "source": []
  },
  {
   "cell_type": "code",
   "execution_count": 193,
   "id": "2827f5dd",
   "metadata": {},
   "outputs": [],
   "source": [
    "a = x_test['Temp3pm'].to_frame()"
   ]
  },
  {
   "cell_type": "code",
   "execution_count": 194,
   "id": "37348bc4",
   "metadata": {},
   "outputs": [
    {
     "data": {
      "text/plain": [
       "Int64Index([ 18504,  17596, 111579, 143752, 111525, 111056, 143207, 142537,\n",
       "            143636, 111513,\n",
       "            ...\n",
       "            111018, 142403, 143352, 111260, 143835, 110969,  53356, 143803,\n",
       "            143388,  16368],\n",
       "           dtype='int64', length=427)"
      ]
     },
     "execution_count": 194,
     "metadata": {},
     "output_type": "execute_result"
    }
   ],
   "source": [
    "aa = a.loc[a['Temp3pm'].isnull()]\n",
    "aa.index"
   ]
  },
  {
   "cell_type": "code",
   "execution_count": 195,
   "id": "54be4f23",
   "metadata": {},
   "outputs": [
    {
     "data": {
      "text/plain": [
       "427"
      ]
     },
     "execution_count": 195,
     "metadata": {},
     "output_type": "execute_result"
    }
   ],
   "source": [
    "ls = aa.index.to_list()\n",
    "len(ls)"
   ]
  },
  {
   "cell_type": "code",
   "execution_count": 196,
   "id": "e0b6e0e6",
   "metadata": {},
   "outputs": [],
   "source": [
    "for i in ls:\n",
    "    x_test['Temp3pm'][i] = lm2.predict([[x_test['MaxTemp_random'][i]]])"
   ]
  },
  {
   "cell_type": "code",
   "execution_count": null,
   "id": "1795ebc3",
   "metadata": {},
   "outputs": [],
   "source": []
  },
  {
   "cell_type": "code",
   "execution_count": 197,
   "id": "44a28a26",
   "metadata": {},
   "outputs": [],
   "source": [
    "q = x_test.loc[x_test['Pressure9am'].isnull()]"
   ]
  },
  {
   "cell_type": "code",
   "execution_count": 198,
   "id": "0203eaf6",
   "metadata": {},
   "outputs": [
    {
     "data": {
      "text/plain": [
       "Int64Index([ 46863,   5457, 114815,   3448,  98677,  34521,   3540,  11499,\n",
       "             30260,  34566,  34517, 134853, 118457,  31167,  62215,  27785,\n",
       "             49230,   6209,   7870, 122052,  21528,  43442,  34260,  23709,\n",
       "              7969,  46438,   6847,  43460,  27670, 117286,  49612,  46534,\n",
       "              7960,  23528, 114782,  40941,  27584,  46853],\n",
       "           dtype='int64')"
      ]
     },
     "execution_count": 198,
     "metadata": {},
     "output_type": "execute_result"
    }
   ],
   "source": [
    "t = q.loc[q['Pressure3pm'].notnull()]\n",
    "t.index"
   ]
  },
  {
   "cell_type": "code",
   "execution_count": 199,
   "id": "25c956b4",
   "metadata": {},
   "outputs": [],
   "source": [
    "ls = t.index.to_list()"
   ]
  },
  {
   "cell_type": "code",
   "execution_count": 200,
   "id": "d68e8997",
   "metadata": {},
   "outputs": [
    {
     "data": {
      "text/plain": [
       "38"
      ]
     },
     "execution_count": 200,
     "metadata": {},
     "output_type": "execute_result"
    }
   ],
   "source": [
    "len(ls)"
   ]
  },
  {
   "cell_type": "code",
   "execution_count": 201,
   "id": "7ac5e04d",
   "metadata": {},
   "outputs": [],
   "source": [
    "for i in ls:\n",
    "    x_test['Pressure9am'][i] = lm3.predict([[x_test['Pressure3pm'][i]]])"
   ]
  },
  {
   "cell_type": "code",
   "execution_count": 202,
   "id": "ef4f1c69",
   "metadata": {},
   "outputs": [],
   "source": [
    "x_test['Pressure9am_missing'] = np.where(x_test['Pressure9am'].isnull(),1,0)"
   ]
  },
  {
   "cell_type": "code",
   "execution_count": null,
   "id": "b7d732b8",
   "metadata": {},
   "outputs": [],
   "source": []
  },
  {
   "cell_type": "code",
   "execution_count": 203,
   "id": "bb6ec23e",
   "metadata": {},
   "outputs": [],
   "source": [
    "impute_nan_test(x_test,'Pressure9am',x_train)"
   ]
  },
  {
   "cell_type": "code",
   "execution_count": 204,
   "id": "e2ff8f95",
   "metadata": {},
   "outputs": [],
   "source": [
    "x_test.drop(['Pressure3pm','Pressure9am'],axis=1,inplace=True)"
   ]
  },
  {
   "cell_type": "code",
   "execution_count": 205,
   "id": "23b25396",
   "metadata": {},
   "outputs": [],
   "source": [
    "impute_nan_test(x_test,'WindGustSpeed',x_train)"
   ]
  },
  {
   "cell_type": "code",
   "execution_count": 206,
   "id": "8ebf1661",
   "metadata": {},
   "outputs": [],
   "source": [
    "x_test.drop('WindGustSpeed',axis=1,inplace=True)"
   ]
  },
  {
   "cell_type": "code",
   "execution_count": null,
   "id": "2f25e008",
   "metadata": {},
   "outputs": [],
   "source": []
  },
  {
   "cell_type": "code",
   "execution_count": 207,
   "id": "0f1b3d4c",
   "metadata": {},
   "outputs": [],
   "source": [
    "for i in ['WindSpeed9am','WindSpeed3pm','Humidity9am','Humidity3pm']:\n",
    "    impute_nan_test(x_test,i,x_train)\n",
    "    x_test.drop(i,axis=1,inplace=True)"
   ]
  },
  {
   "cell_type": "code",
   "execution_count": 208,
   "id": "9b519bfe",
   "metadata": {},
   "outputs": [
    {
     "data": {
      "text/plain": [
       "Date                      0\n",
       "Location                  0\n",
       "Rainfall                253\n",
       "Temp9am                   0\n",
       "Temp3pm                   0\n",
       "RainToday               253\n",
       "WindGustDir_random        0\n",
       "WindDir9am_random         0\n",
       "WindDir3pm_random         0\n",
       "MinTemp_random            0\n",
       "MaxTemp_random            0\n",
       "Pressure9am_missing       0\n",
       "Pressure9am_random        0\n",
       "WindGustSpeed_random      0\n",
       "WindSpeed9am_random       0\n",
       "WindSpeed3pm_random       0\n",
       "Humidity9am_random        0\n",
       "Humidity3pm_random        0\n",
       "dtype: int64"
      ]
     },
     "execution_count": 208,
     "metadata": {},
     "output_type": "execute_result"
    }
   ],
   "source": [
    "x_test.isnull().sum()"
   ]
  },
  {
   "cell_type": "code",
   "execution_count": 209,
   "id": "95f27fd2",
   "metadata": {},
   "outputs": [
    {
     "data": {
      "text/plain": [
       "(253, 18)"
      ]
     },
     "execution_count": 209,
     "metadata": {},
     "output_type": "execute_result"
    }
   ],
   "source": [
    "t= x_test.loc[x_test['RainToday'].isnull()]\n",
    "t.shape"
   ]
  },
  {
   "cell_type": "code",
   "execution_count": 210,
   "id": "0c02bf62",
   "metadata": {},
   "outputs": [],
   "source": [
    "s = t.index.to_list()"
   ]
  },
  {
   "cell_type": "code",
   "execution_count": 211,
   "id": "4a05af89",
   "metadata": {},
   "outputs": [],
   "source": [
    "y_test.drop(s,axis=0,inplace=True)"
   ]
  },
  {
   "cell_type": "code",
   "execution_count": 212,
   "id": "c24873fa",
   "metadata": {},
   "outputs": [],
   "source": [
    "x_test.dropna(inplace=True)"
   ]
  },
  {
   "cell_type": "code",
   "execution_count": 213,
   "id": "1df31f34",
   "metadata": {},
   "outputs": [
    {
     "data": {
      "text/plain": [
       "(28040, 18)"
      ]
     },
     "execution_count": 213,
     "metadata": {},
     "output_type": "execute_result"
    }
   ],
   "source": [
    "x_test.shape"
   ]
  },
  {
   "cell_type": "code",
   "execution_count": 214,
   "id": "e9767e33",
   "metadata": {},
   "outputs": [
    {
     "data": {
      "text/plain": [
       "(28040,)"
      ]
     },
     "execution_count": 214,
     "metadata": {},
     "output_type": "execute_result"
    }
   ],
   "source": [
    "y_test.shape"
   ]
  },
  {
   "cell_type": "code",
   "execution_count": 247,
   "id": "a35e49b1",
   "metadata": {},
   "outputs": [
    {
     "data": {
      "text/plain": [
       "(112146, 18)"
      ]
     },
     "execution_count": 247,
     "metadata": {},
     "output_type": "execute_result"
    }
   ],
   "source": [
    "x_train.shape"
   ]
  },
  {
   "cell_type": "code",
   "execution_count": 248,
   "id": "adb489a4",
   "metadata": {},
   "outputs": [
    {
     "data": {
      "text/plain": [
       "(112146,)"
      ]
     },
     "execution_count": 248,
     "metadata": {},
     "output_type": "execute_result"
    }
   ],
   "source": [
    "y_train.shape"
   ]
  },
  {
   "cell_type": "code",
   "execution_count": 249,
   "id": "fe80540a",
   "metadata": {},
   "outputs": [
    {
     "data": {
      "text/html": [
       "<div>\n",
       "<style scoped>\n",
       "    .dataframe tbody tr th:only-of-type {\n",
       "        vertical-align: middle;\n",
       "    }\n",
       "\n",
       "    .dataframe tbody tr th {\n",
       "        vertical-align: top;\n",
       "    }\n",
       "\n",
       "    .dataframe thead th {\n",
       "        text-align: right;\n",
       "    }\n",
       "</style>\n",
       "<table border=\"1\" class=\"dataframe\">\n",
       "  <thead>\n",
       "    <tr style=\"text-align: right;\">\n",
       "      <th></th>\n",
       "      <th>Date</th>\n",
       "      <th>Location</th>\n",
       "      <th>Rainfall</th>\n",
       "      <th>Temp9am</th>\n",
       "      <th>Temp3pm</th>\n",
       "      <th>RainToday</th>\n",
       "      <th>WindGustDir_random</th>\n",
       "      <th>WindDir9am_random</th>\n",
       "      <th>WindDir3pm_random</th>\n",
       "      <th>MinTemp_random</th>\n",
       "      <th>MaxTemp_random</th>\n",
       "      <th>Pressure9am_missing</th>\n",
       "      <th>Pressure9am_random</th>\n",
       "      <th>WindGustSpeed_random</th>\n",
       "      <th>WindSpeed9am_random</th>\n",
       "      <th>WindSpeed3pm_random</th>\n",
       "      <th>Humidity9am_random</th>\n",
       "      <th>Humidity3pm_random</th>\n",
       "    </tr>\n",
       "  </thead>\n",
       "  <tbody>\n",
       "    <tr>\n",
       "      <th>83344</th>\n",
       "      <td>2015-09-02</td>\n",
       "      <td>Dartmoor</td>\n",
       "      <td>0.0</td>\n",
       "      <td>10.9</td>\n",
       "      <td>10.4</td>\n",
       "      <td>No</td>\n",
       "      <td>NNE</td>\n",
       "      <td>N</td>\n",
       "      <td>NE</td>\n",
       "      <td>4.6</td>\n",
       "      <td>12.5</td>\n",
       "      <td>0</td>\n",
       "      <td>1008.0</td>\n",
       "      <td>37.0</td>\n",
       "      <td>13.0</td>\n",
       "      <td>11.0</td>\n",
       "      <td>24.0</td>\n",
       "      <td>58.0</td>\n",
       "    </tr>\n",
       "    <tr>\n",
       "      <th>10185</th>\n",
       "      <td>2012-03-03</td>\n",
       "      <td>CoffsHarbour</td>\n",
       "      <td>20.8</td>\n",
       "      <td>19.3</td>\n",
       "      <td>21.0</td>\n",
       "      <td>Yes</td>\n",
       "      <td>SE</td>\n",
       "      <td>SW</td>\n",
       "      <td>W</td>\n",
       "      <td>19.0</td>\n",
       "      <td>22.8</td>\n",
       "      <td>0</td>\n",
       "      <td>1019.0</td>\n",
       "      <td>39.0</td>\n",
       "      <td>13.0</td>\n",
       "      <td>9.0</td>\n",
       "      <td>96.0</td>\n",
       "      <td>92.0</td>\n",
       "    </tr>\n",
       "    <tr>\n",
       "      <th>34777</th>\n",
       "      <td>2012-07-11</td>\n",
       "      <td>SydneyAirport</td>\n",
       "      <td>8.2</td>\n",
       "      <td>15.0</td>\n",
       "      <td>20.5</td>\n",
       "      <td>Yes</td>\n",
       "      <td>WNW</td>\n",
       "      <td>NNW</td>\n",
       "      <td>N</td>\n",
       "      <td>10.4</td>\n",
       "      <td>20.8</td>\n",
       "      <td>0</td>\n",
       "      <td>1019.9</td>\n",
       "      <td>41.0</td>\n",
       "      <td>19.0</td>\n",
       "      <td>22.0</td>\n",
       "      <td>67.0</td>\n",
       "      <td>39.0</td>\n",
       "    </tr>\n",
       "    <tr>\n",
       "      <th>57070</th>\n",
       "      <td>2014-07-20</td>\n",
       "      <td>Ballarat</td>\n",
       "      <td>0.0</td>\n",
       "      <td>6.4</td>\n",
       "      <td>9.7</td>\n",
       "      <td>No</td>\n",
       "      <td>SSE</td>\n",
       "      <td>SSE</td>\n",
       "      <td>S</td>\n",
       "      <td>2.3</td>\n",
       "      <td>10.2</td>\n",
       "      <td>0</td>\n",
       "      <td>1028.7</td>\n",
       "      <td>24.0</td>\n",
       "      <td>11.0</td>\n",
       "      <td>11.0</td>\n",
       "      <td>100.0</td>\n",
       "      <td>73.0</td>\n",
       "    </tr>\n",
       "    <tr>\n",
       "      <th>140866</th>\n",
       "      <td>2013-07-19</td>\n",
       "      <td>Darwin</td>\n",
       "      <td>0.0</td>\n",
       "      <td>24.9</td>\n",
       "      <td>29.0</td>\n",
       "      <td>No</td>\n",
       "      <td>N</td>\n",
       "      <td>E</td>\n",
       "      <td>N</td>\n",
       "      <td>18.9</td>\n",
       "      <td>32.0</td>\n",
       "      <td>0</td>\n",
       "      <td>1013.1</td>\n",
       "      <td>35.0</td>\n",
       "      <td>17.0</td>\n",
       "      <td>24.0</td>\n",
       "      <td>73.0</td>\n",
       "      <td>57.0</td>\n",
       "    </tr>\n",
       "  </tbody>\n",
       "</table>\n",
       "</div>"
      ],
      "text/plain": [
       "              Date       Location  Rainfall  Temp9am  Temp3pm RainToday  \\\n",
       "83344   2015-09-02       Dartmoor       0.0     10.9     10.4        No   \n",
       "10185   2012-03-03   CoffsHarbour      20.8     19.3     21.0       Yes   \n",
       "34777   2012-07-11  SydneyAirport       8.2     15.0     20.5       Yes   \n",
       "57070   2014-07-20       Ballarat       0.0      6.4      9.7        No   \n",
       "140866  2013-07-19         Darwin       0.0     24.9     29.0        No   \n",
       "\n",
       "       WindGustDir_random WindDir9am_random WindDir3pm_random  MinTemp_random  \\\n",
       "83344                 NNE                 N                NE             4.6   \n",
       "10185                  SE                SW                 W            19.0   \n",
       "34777                 WNW               NNW                 N            10.4   \n",
       "57070                 SSE               SSE                 S             2.3   \n",
       "140866                  N                 E                 N            18.9   \n",
       "\n",
       "        MaxTemp_random  Pressure9am_missing  Pressure9am_random  \\\n",
       "83344             12.5                    0              1008.0   \n",
       "10185             22.8                    0              1019.0   \n",
       "34777             20.8                    0              1019.9   \n",
       "57070             10.2                    0              1028.7   \n",
       "140866            32.0                    0              1013.1   \n",
       "\n",
       "        WindGustSpeed_random  WindSpeed9am_random  WindSpeed3pm_random  \\\n",
       "83344                   37.0                 13.0                 11.0   \n",
       "10185                   39.0                 13.0                  9.0   \n",
       "34777                   41.0                 19.0                 22.0   \n",
       "57070                   24.0                 11.0                 11.0   \n",
       "140866                  35.0                 17.0                 24.0   \n",
       "\n",
       "        Humidity9am_random  Humidity3pm_random  \n",
       "83344                 24.0                58.0  \n",
       "10185                 96.0                92.0  \n",
       "34777                 67.0                39.0  \n",
       "57070                100.0                73.0  \n",
       "140866                73.0                57.0  "
      ]
     },
     "execution_count": 249,
     "metadata": {},
     "output_type": "execute_result"
    }
   ],
   "source": [
    "x_train.head()"
   ]
  },
  {
   "cell_type": "code",
   "execution_count": 250,
   "id": "6d71bcdf",
   "metadata": {},
   "outputs": [],
   "source": [
    "x_train['Date'] = pd.to_datetime(x_train['Date'])"
   ]
  },
  {
   "cell_type": "code",
   "execution_count": 251,
   "id": "dfb36dae",
   "metadata": {},
   "outputs": [
    {
     "data": {
      "text/plain": [
       "83344    2015-09-02\n",
       "10185    2012-03-03\n",
       "34777    2012-07-11\n",
       "57070    2014-07-20\n",
       "140866   2013-07-19\n",
       "            ...    \n",
       "79632    2013-09-29\n",
       "2882     2017-01-19\n",
       "86556    2015-09-21\n",
       "62514    2012-09-24\n",
       "114008   2015-10-23\n",
       "Name: Date, Length: 112146, dtype: datetime64[ns]"
      ]
     },
     "execution_count": 251,
     "metadata": {},
     "output_type": "execute_result"
    }
   ],
   "source": [
    "x_train['Date']"
   ]
  },
  {
   "cell_type": "code",
   "execution_count": 252,
   "id": "8a1fcd12",
   "metadata": {},
   "outputs": [],
   "source": [
    "x_train['month'] = x_train['Date'].dt.month\n",
    "x_train['day'] = x_train['Date'].dt.day"
   ]
  },
  {
   "cell_type": "code",
   "execution_count": 253,
   "id": "34739629",
   "metadata": {},
   "outputs": [],
   "source": [
    "x_train.drop('Date',axis=1,inplace=True)"
   ]
  },
  {
   "cell_type": "code",
   "execution_count": 254,
   "id": "6d2ff18f",
   "metadata": {},
   "outputs": [
    {
     "data": {
      "text/html": [
       "<div>\n",
       "<style scoped>\n",
       "    .dataframe tbody tr th:only-of-type {\n",
       "        vertical-align: middle;\n",
       "    }\n",
       "\n",
       "    .dataframe tbody tr th {\n",
       "        vertical-align: top;\n",
       "    }\n",
       "\n",
       "    .dataframe thead th {\n",
       "        text-align: right;\n",
       "    }\n",
       "</style>\n",
       "<table border=\"1\" class=\"dataframe\">\n",
       "  <thead>\n",
       "    <tr style=\"text-align: right;\">\n",
       "      <th></th>\n",
       "      <th>Location</th>\n",
       "      <th>Rainfall</th>\n",
       "      <th>Temp9am</th>\n",
       "      <th>Temp3pm</th>\n",
       "      <th>RainToday</th>\n",
       "      <th>WindGustDir_random</th>\n",
       "      <th>WindDir9am_random</th>\n",
       "      <th>WindDir3pm_random</th>\n",
       "      <th>MinTemp_random</th>\n",
       "      <th>MaxTemp_random</th>\n",
       "      <th>Pressure9am_missing</th>\n",
       "      <th>Pressure9am_random</th>\n",
       "      <th>WindGustSpeed_random</th>\n",
       "      <th>WindSpeed9am_random</th>\n",
       "      <th>WindSpeed3pm_random</th>\n",
       "      <th>Humidity9am_random</th>\n",
       "      <th>Humidity3pm_random</th>\n",
       "      <th>month</th>\n",
       "      <th>day</th>\n",
       "    </tr>\n",
       "  </thead>\n",
       "  <tbody>\n",
       "    <tr>\n",
       "      <th>83344</th>\n",
       "      <td>Dartmoor</td>\n",
       "      <td>0.0</td>\n",
       "      <td>10.9</td>\n",
       "      <td>10.4</td>\n",
       "      <td>No</td>\n",
       "      <td>NNE</td>\n",
       "      <td>N</td>\n",
       "      <td>NE</td>\n",
       "      <td>4.6</td>\n",
       "      <td>12.5</td>\n",
       "      <td>0</td>\n",
       "      <td>1008.0</td>\n",
       "      <td>37.0</td>\n",
       "      <td>13.0</td>\n",
       "      <td>11.0</td>\n",
       "      <td>24.0</td>\n",
       "      <td>58.0</td>\n",
       "      <td>9</td>\n",
       "      <td>2</td>\n",
       "    </tr>\n",
       "    <tr>\n",
       "      <th>10185</th>\n",
       "      <td>CoffsHarbour</td>\n",
       "      <td>20.8</td>\n",
       "      <td>19.3</td>\n",
       "      <td>21.0</td>\n",
       "      <td>Yes</td>\n",
       "      <td>SE</td>\n",
       "      <td>SW</td>\n",
       "      <td>W</td>\n",
       "      <td>19.0</td>\n",
       "      <td>22.8</td>\n",
       "      <td>0</td>\n",
       "      <td>1019.0</td>\n",
       "      <td>39.0</td>\n",
       "      <td>13.0</td>\n",
       "      <td>9.0</td>\n",
       "      <td>96.0</td>\n",
       "      <td>92.0</td>\n",
       "      <td>3</td>\n",
       "      <td>3</td>\n",
       "    </tr>\n",
       "    <tr>\n",
       "      <th>34777</th>\n",
       "      <td>SydneyAirport</td>\n",
       "      <td>8.2</td>\n",
       "      <td>15.0</td>\n",
       "      <td>20.5</td>\n",
       "      <td>Yes</td>\n",
       "      <td>WNW</td>\n",
       "      <td>NNW</td>\n",
       "      <td>N</td>\n",
       "      <td>10.4</td>\n",
       "      <td>20.8</td>\n",
       "      <td>0</td>\n",
       "      <td>1019.9</td>\n",
       "      <td>41.0</td>\n",
       "      <td>19.0</td>\n",
       "      <td>22.0</td>\n",
       "      <td>67.0</td>\n",
       "      <td>39.0</td>\n",
       "      <td>7</td>\n",
       "      <td>11</td>\n",
       "    </tr>\n",
       "    <tr>\n",
       "      <th>57070</th>\n",
       "      <td>Ballarat</td>\n",
       "      <td>0.0</td>\n",
       "      <td>6.4</td>\n",
       "      <td>9.7</td>\n",
       "      <td>No</td>\n",
       "      <td>SSE</td>\n",
       "      <td>SSE</td>\n",
       "      <td>S</td>\n",
       "      <td>2.3</td>\n",
       "      <td>10.2</td>\n",
       "      <td>0</td>\n",
       "      <td>1028.7</td>\n",
       "      <td>24.0</td>\n",
       "      <td>11.0</td>\n",
       "      <td>11.0</td>\n",
       "      <td>100.0</td>\n",
       "      <td>73.0</td>\n",
       "      <td>7</td>\n",
       "      <td>20</td>\n",
       "    </tr>\n",
       "    <tr>\n",
       "      <th>140866</th>\n",
       "      <td>Darwin</td>\n",
       "      <td>0.0</td>\n",
       "      <td>24.9</td>\n",
       "      <td>29.0</td>\n",
       "      <td>No</td>\n",
       "      <td>N</td>\n",
       "      <td>E</td>\n",
       "      <td>N</td>\n",
       "      <td>18.9</td>\n",
       "      <td>32.0</td>\n",
       "      <td>0</td>\n",
       "      <td>1013.1</td>\n",
       "      <td>35.0</td>\n",
       "      <td>17.0</td>\n",
       "      <td>24.0</td>\n",
       "      <td>73.0</td>\n",
       "      <td>57.0</td>\n",
       "      <td>7</td>\n",
       "      <td>19</td>\n",
       "    </tr>\n",
       "  </tbody>\n",
       "</table>\n",
       "</div>"
      ],
      "text/plain": [
       "             Location  Rainfall  Temp9am  Temp3pm RainToday  \\\n",
       "83344        Dartmoor       0.0     10.9     10.4        No   \n",
       "10185    CoffsHarbour      20.8     19.3     21.0       Yes   \n",
       "34777   SydneyAirport       8.2     15.0     20.5       Yes   \n",
       "57070        Ballarat       0.0      6.4      9.7        No   \n",
       "140866         Darwin       0.0     24.9     29.0        No   \n",
       "\n",
       "       WindGustDir_random WindDir9am_random WindDir3pm_random  MinTemp_random  \\\n",
       "83344                 NNE                 N                NE             4.6   \n",
       "10185                  SE                SW                 W            19.0   \n",
       "34777                 WNW               NNW                 N            10.4   \n",
       "57070                 SSE               SSE                 S             2.3   \n",
       "140866                  N                 E                 N            18.9   \n",
       "\n",
       "        MaxTemp_random  Pressure9am_missing  Pressure9am_random  \\\n",
       "83344             12.5                    0              1008.0   \n",
       "10185             22.8                    0              1019.0   \n",
       "34777             20.8                    0              1019.9   \n",
       "57070             10.2                    0              1028.7   \n",
       "140866            32.0                    0              1013.1   \n",
       "\n",
       "        WindGustSpeed_random  WindSpeed9am_random  WindSpeed3pm_random  \\\n",
       "83344                   37.0                 13.0                 11.0   \n",
       "10185                   39.0                 13.0                  9.0   \n",
       "34777                   41.0                 19.0                 22.0   \n",
       "57070                   24.0                 11.0                 11.0   \n",
       "140866                  35.0                 17.0                 24.0   \n",
       "\n",
       "        Humidity9am_random  Humidity3pm_random  month  day  \n",
       "83344                 24.0                58.0      9    2  \n",
       "10185                 96.0                92.0      3    3  \n",
       "34777                 67.0                39.0      7   11  \n",
       "57070                100.0                73.0      7   20  \n",
       "140866                73.0                57.0      7   19  "
      ]
     },
     "execution_count": 254,
     "metadata": {},
     "output_type": "execute_result"
    }
   ],
   "source": [
    "x_train.head()"
   ]
  },
  {
   "cell_type": "code",
   "execution_count": 255,
   "id": "beaedb29",
   "metadata": {},
   "outputs": [],
   "source": [
    "x_train['RainToday'] = np.where(x_train['RainToday']=='Yes',1,0)\n",
    "x_test['RainToday'] = np.where(x_test['RainToday']=='Yes',1,0)"
   ]
  },
  {
   "cell_type": "code",
   "execution_count": 256,
   "id": "667abe51",
   "metadata": {},
   "outputs": [
    {
     "data": {
      "text/plain": [
       "(112146, 19)"
      ]
     },
     "execution_count": 256,
     "metadata": {},
     "output_type": "execute_result"
    }
   ],
   "source": [
    "x_train.shape"
   ]
  },
  {
   "cell_type": "code",
   "execution_count": 257,
   "id": "40c4cf74",
   "metadata": {},
   "outputs": [
    {
     "data": {
      "text/html": [
       "<div>\n",
       "<style scoped>\n",
       "    .dataframe tbody tr th:only-of-type {\n",
       "        vertical-align: middle;\n",
       "    }\n",
       "\n",
       "    .dataframe tbody tr th {\n",
       "        vertical-align: top;\n",
       "    }\n",
       "\n",
       "    .dataframe thead th {\n",
       "        text-align: right;\n",
       "    }\n",
       "</style>\n",
       "<table border=\"1\" class=\"dataframe\">\n",
       "  <thead>\n",
       "    <tr style=\"text-align: right;\">\n",
       "      <th></th>\n",
       "      <th>Location</th>\n",
       "      <th>Rainfall</th>\n",
       "      <th>Temp9am</th>\n",
       "      <th>Temp3pm</th>\n",
       "      <th>RainToday</th>\n",
       "      <th>WindGustDir_random</th>\n",
       "      <th>WindDir9am_random</th>\n",
       "      <th>WindDir3pm_random</th>\n",
       "      <th>MinTemp_random</th>\n",
       "      <th>MaxTemp_random</th>\n",
       "      <th>Pressure9am_missing</th>\n",
       "      <th>Pressure9am_random</th>\n",
       "      <th>WindGustSpeed_random</th>\n",
       "      <th>WindSpeed9am_random</th>\n",
       "      <th>WindSpeed3pm_random</th>\n",
       "      <th>Humidity9am_random</th>\n",
       "      <th>Humidity3pm_random</th>\n",
       "      <th>month</th>\n",
       "      <th>day</th>\n",
       "    </tr>\n",
       "  </thead>\n",
       "  <tbody>\n",
       "    <tr>\n",
       "      <th>83344</th>\n",
       "      <td>Dartmoor</td>\n",
       "      <td>0.0</td>\n",
       "      <td>10.9</td>\n",
       "      <td>10.4</td>\n",
       "      <td>0</td>\n",
       "      <td>NNE</td>\n",
       "      <td>N</td>\n",
       "      <td>NE</td>\n",
       "      <td>4.6</td>\n",
       "      <td>12.5</td>\n",
       "      <td>0</td>\n",
       "      <td>1008.0</td>\n",
       "      <td>37.0</td>\n",
       "      <td>13.0</td>\n",
       "      <td>11.0</td>\n",
       "      <td>24.0</td>\n",
       "      <td>58.0</td>\n",
       "      <td>9</td>\n",
       "      <td>2</td>\n",
       "    </tr>\n",
       "    <tr>\n",
       "      <th>10185</th>\n",
       "      <td>CoffsHarbour</td>\n",
       "      <td>20.8</td>\n",
       "      <td>19.3</td>\n",
       "      <td>21.0</td>\n",
       "      <td>1</td>\n",
       "      <td>SE</td>\n",
       "      <td>SW</td>\n",
       "      <td>W</td>\n",
       "      <td>19.0</td>\n",
       "      <td>22.8</td>\n",
       "      <td>0</td>\n",
       "      <td>1019.0</td>\n",
       "      <td>39.0</td>\n",
       "      <td>13.0</td>\n",
       "      <td>9.0</td>\n",
       "      <td>96.0</td>\n",
       "      <td>92.0</td>\n",
       "      <td>3</td>\n",
       "      <td>3</td>\n",
       "    </tr>\n",
       "    <tr>\n",
       "      <th>34777</th>\n",
       "      <td>SydneyAirport</td>\n",
       "      <td>8.2</td>\n",
       "      <td>15.0</td>\n",
       "      <td>20.5</td>\n",
       "      <td>1</td>\n",
       "      <td>WNW</td>\n",
       "      <td>NNW</td>\n",
       "      <td>N</td>\n",
       "      <td>10.4</td>\n",
       "      <td>20.8</td>\n",
       "      <td>0</td>\n",
       "      <td>1019.9</td>\n",
       "      <td>41.0</td>\n",
       "      <td>19.0</td>\n",
       "      <td>22.0</td>\n",
       "      <td>67.0</td>\n",
       "      <td>39.0</td>\n",
       "      <td>7</td>\n",
       "      <td>11</td>\n",
       "    </tr>\n",
       "    <tr>\n",
       "      <th>57070</th>\n",
       "      <td>Ballarat</td>\n",
       "      <td>0.0</td>\n",
       "      <td>6.4</td>\n",
       "      <td>9.7</td>\n",
       "      <td>0</td>\n",
       "      <td>SSE</td>\n",
       "      <td>SSE</td>\n",
       "      <td>S</td>\n",
       "      <td>2.3</td>\n",
       "      <td>10.2</td>\n",
       "      <td>0</td>\n",
       "      <td>1028.7</td>\n",
       "      <td>24.0</td>\n",
       "      <td>11.0</td>\n",
       "      <td>11.0</td>\n",
       "      <td>100.0</td>\n",
       "      <td>73.0</td>\n",
       "      <td>7</td>\n",
       "      <td>20</td>\n",
       "    </tr>\n",
       "    <tr>\n",
       "      <th>140866</th>\n",
       "      <td>Darwin</td>\n",
       "      <td>0.0</td>\n",
       "      <td>24.9</td>\n",
       "      <td>29.0</td>\n",
       "      <td>0</td>\n",
       "      <td>N</td>\n",
       "      <td>E</td>\n",
       "      <td>N</td>\n",
       "      <td>18.9</td>\n",
       "      <td>32.0</td>\n",
       "      <td>0</td>\n",
       "      <td>1013.1</td>\n",
       "      <td>35.0</td>\n",
       "      <td>17.0</td>\n",
       "      <td>24.0</td>\n",
       "      <td>73.0</td>\n",
       "      <td>57.0</td>\n",
       "      <td>7</td>\n",
       "      <td>19</td>\n",
       "    </tr>\n",
       "  </tbody>\n",
       "</table>\n",
       "</div>"
      ],
      "text/plain": [
       "             Location  Rainfall  Temp9am  Temp3pm  RainToday  \\\n",
       "83344        Dartmoor       0.0     10.9     10.4          0   \n",
       "10185    CoffsHarbour      20.8     19.3     21.0          1   \n",
       "34777   SydneyAirport       8.2     15.0     20.5          1   \n",
       "57070        Ballarat       0.0      6.4      9.7          0   \n",
       "140866         Darwin       0.0     24.9     29.0          0   \n",
       "\n",
       "       WindGustDir_random WindDir9am_random WindDir3pm_random  MinTemp_random  \\\n",
       "83344                 NNE                 N                NE             4.6   \n",
       "10185                  SE                SW                 W            19.0   \n",
       "34777                 WNW               NNW                 N            10.4   \n",
       "57070                 SSE               SSE                 S             2.3   \n",
       "140866                  N                 E                 N            18.9   \n",
       "\n",
       "        MaxTemp_random  Pressure9am_missing  Pressure9am_random  \\\n",
       "83344             12.5                    0              1008.0   \n",
       "10185             22.8                    0              1019.0   \n",
       "34777             20.8                    0              1019.9   \n",
       "57070             10.2                    0              1028.7   \n",
       "140866            32.0                    0              1013.1   \n",
       "\n",
       "        WindGustSpeed_random  WindSpeed9am_random  WindSpeed3pm_random  \\\n",
       "83344                   37.0                 13.0                 11.0   \n",
       "10185                   39.0                 13.0                  9.0   \n",
       "34777                   41.0                 19.0                 22.0   \n",
       "57070                   24.0                 11.0                 11.0   \n",
       "140866                  35.0                 17.0                 24.0   \n",
       "\n",
       "        Humidity9am_random  Humidity3pm_random  month  day  \n",
       "83344                 24.0                58.0      9    2  \n",
       "10185                 96.0                92.0      3    3  \n",
       "34777                 67.0                39.0      7   11  \n",
       "57070                100.0                73.0      7   20  \n",
       "140866                73.0                57.0      7   19  "
      ]
     },
     "execution_count": 257,
     "metadata": {},
     "output_type": "execute_result"
    }
   ],
   "source": [
    "x_train.head()"
   ]
  },
  {
   "cell_type": "code",
   "execution_count": 258,
   "id": "80e733e4",
   "metadata": {},
   "outputs": [
    {
     "data": {
      "text/plain": [
       "0"
      ]
     },
     "execution_count": 258,
     "metadata": {},
     "output_type": "execute_result"
    }
   ],
   "source": [
    "x_train.isnull().sum().sum()"
   ]
  },
  {
   "cell_type": "code",
   "execution_count": 259,
   "id": "02d66d15",
   "metadata": {},
   "outputs": [
    {
     "data": {
      "text/plain": [
       "0"
      ]
     },
     "execution_count": 259,
     "metadata": {},
     "output_type": "execute_result"
    }
   ],
   "source": [
    "x_test.isnull().sum().sum()"
   ]
  },
  {
   "cell_type": "code",
   "execution_count": 260,
   "id": "51f6054f",
   "metadata": {},
   "outputs": [],
   "source": [
    "x_test['Date'] = pd.to_datetime(x_test['Date'])"
   ]
  },
  {
   "cell_type": "code",
   "execution_count": 261,
   "id": "8037f9a0",
   "metadata": {},
   "outputs": [],
   "source": [
    "x_test['month'] = x_test['Date'].dt.month\n",
    "x_test['day'] = x_test['Date'].dt.day"
   ]
  },
  {
   "cell_type": "code",
   "execution_count": 262,
   "id": "bd3c7da9",
   "metadata": {},
   "outputs": [],
   "source": [
    "x_test.drop('Date',axis=1,inplace=True)"
   ]
  },
  {
   "cell_type": "code",
   "execution_count": 263,
   "id": "4f2f4e4a",
   "metadata": {},
   "outputs": [
    {
     "data": {
      "text/plain": [
       "(28040, 19)"
      ]
     },
     "execution_count": 263,
     "metadata": {},
     "output_type": "execute_result"
    }
   ],
   "source": [
    "x_test.shape"
   ]
  },
  {
   "cell_type": "code",
   "execution_count": 265,
   "id": "dd64447d",
   "metadata": {},
   "outputs": [
    {
     "data": {
      "text/html": [
       "<div>\n",
       "<style scoped>\n",
       "    .dataframe tbody tr th:only-of-type {\n",
       "        vertical-align: middle;\n",
       "    }\n",
       "\n",
       "    .dataframe tbody tr th {\n",
       "        vertical-align: top;\n",
       "    }\n",
       "\n",
       "    .dataframe thead th {\n",
       "        text-align: right;\n",
       "    }\n",
       "</style>\n",
       "<table border=\"1\" class=\"dataframe\">\n",
       "  <thead>\n",
       "    <tr style=\"text-align: right;\">\n",
       "      <th></th>\n",
       "      <th>Location</th>\n",
       "      <th>Rainfall</th>\n",
       "      <th>Temp9am</th>\n",
       "      <th>Temp3pm</th>\n",
       "      <th>RainToday</th>\n",
       "      <th>WindGustDir_random</th>\n",
       "      <th>WindDir9am_random</th>\n",
       "      <th>WindDir3pm_random</th>\n",
       "      <th>MinTemp_random</th>\n",
       "      <th>MaxTemp_random</th>\n",
       "      <th>Pressure9am_missing</th>\n",
       "      <th>Pressure9am_random</th>\n",
       "      <th>WindGustSpeed_random</th>\n",
       "      <th>WindSpeed9am_random</th>\n",
       "      <th>WindSpeed3pm_random</th>\n",
       "      <th>Humidity9am_random</th>\n",
       "      <th>Humidity3pm_random</th>\n",
       "      <th>month</th>\n",
       "      <th>day</th>\n",
       "    </tr>\n",
       "  </thead>\n",
       "  <tbody>\n",
       "    <tr>\n",
       "      <th>66</th>\n",
       "      <td>Albury</td>\n",
       "      <td>0.0</td>\n",
       "      <td>26.5</td>\n",
       "      <td>39.7</td>\n",
       "      <td>0</td>\n",
       "      <td>WSW</td>\n",
       "      <td>SSE</td>\n",
       "      <td>S</td>\n",
       "      <td>21.5</td>\n",
       "      <td>41.2</td>\n",
       "      <td>0</td>\n",
       "      <td>1005.9</td>\n",
       "      <td>35.0</td>\n",
       "      <td>7.0</td>\n",
       "      <td>19.0</td>\n",
       "      <td>48.0</td>\n",
       "      <td>15.0</td>\n",
       "      <td>2</td>\n",
       "      <td>5</td>\n",
       "    </tr>\n",
       "    <tr>\n",
       "      <th>1110</th>\n",
       "      <td>Albury</td>\n",
       "      <td>0.0</td>\n",
       "      <td>20.7</td>\n",
       "      <td>29.7</td>\n",
       "      <td>0</td>\n",
       "      <td>NNE</td>\n",
       "      <td>SE</td>\n",
       "      <td>SSE</td>\n",
       "      <td>15.1</td>\n",
       "      <td>31.0</td>\n",
       "      <td>0</td>\n",
       "      <td>1017.6</td>\n",
       "      <td>41.0</td>\n",
       "      <td>15.0</td>\n",
       "      <td>9.0</td>\n",
       "      <td>52.0</td>\n",
       "      <td>37.0</td>\n",
       "      <td>1</td>\n",
       "      <td>15</td>\n",
       "    </tr>\n",
       "    <tr>\n",
       "      <th>60771</th>\n",
       "      <td>Bendigo</td>\n",
       "      <td>1.4</td>\n",
       "      <td>10.1</td>\n",
       "      <td>12.5</td>\n",
       "      <td>1</td>\n",
       "      <td>WNW</td>\n",
       "      <td>NW</td>\n",
       "      <td>NW</td>\n",
       "      <td>8.6</td>\n",
       "      <td>14.9</td>\n",
       "      <td>0</td>\n",
       "      <td>1016.9</td>\n",
       "      <td>41.0</td>\n",
       "      <td>11.0</td>\n",
       "      <td>19.0</td>\n",
       "      <td>86.0</td>\n",
       "      <td>88.0</td>\n",
       "      <td>5</td>\n",
       "      <td>11</td>\n",
       "    </tr>\n",
       "    <tr>\n",
       "      <th>127979</th>\n",
       "      <td>Walpole</td>\n",
       "      <td>0.0</td>\n",
       "      <td>20.1</td>\n",
       "      <td>23.8</td>\n",
       "      <td>0</td>\n",
       "      <td>W</td>\n",
       "      <td>NW</td>\n",
       "      <td>W</td>\n",
       "      <td>14.5</td>\n",
       "      <td>24.4</td>\n",
       "      <td>0</td>\n",
       "      <td>1015.7</td>\n",
       "      <td>41.0</td>\n",
       "      <td>15.0</td>\n",
       "      <td>24.0</td>\n",
       "      <td>64.0</td>\n",
       "      <td>51.0</td>\n",
       "      <td>3</td>\n",
       "      <td>26</td>\n",
       "    </tr>\n",
       "    <tr>\n",
       "      <th>107051</th>\n",
       "      <td>Woomera</td>\n",
       "      <td>0.0</td>\n",
       "      <td>20.0</td>\n",
       "      <td>30.7</td>\n",
       "      <td>0</td>\n",
       "      <td>NNW</td>\n",
       "      <td>N</td>\n",
       "      <td>WNW</td>\n",
       "      <td>13.9</td>\n",
       "      <td>32.1</td>\n",
       "      <td>0</td>\n",
       "      <td>1018.9</td>\n",
       "      <td>35.0</td>\n",
       "      <td>17.0</td>\n",
       "      <td>17.0</td>\n",
       "      <td>17.0</td>\n",
       "      <td>6.0</td>\n",
       "      <td>4</td>\n",
       "      <td>28</td>\n",
       "    </tr>\n",
       "  </tbody>\n",
       "</table>\n",
       "</div>"
      ],
      "text/plain": [
       "       Location  Rainfall  Temp9am  Temp3pm  RainToday WindGustDir_random  \\\n",
       "66       Albury       0.0     26.5     39.7          0                WSW   \n",
       "1110     Albury       0.0     20.7     29.7          0                NNE   \n",
       "60771   Bendigo       1.4     10.1     12.5          1                WNW   \n",
       "127979  Walpole       0.0     20.1     23.8          0                  W   \n",
       "107051  Woomera       0.0     20.0     30.7          0                NNW   \n",
       "\n",
       "       WindDir9am_random WindDir3pm_random  MinTemp_random  MaxTemp_random  \\\n",
       "66                   SSE                 S            21.5            41.2   \n",
       "1110                  SE               SSE            15.1            31.0   \n",
       "60771                 NW                NW             8.6            14.9   \n",
       "127979                NW                 W            14.5            24.4   \n",
       "107051                 N               WNW            13.9            32.1   \n",
       "\n",
       "        Pressure9am_missing  Pressure9am_random  WindGustSpeed_random  \\\n",
       "66                        0              1005.9                  35.0   \n",
       "1110                      0              1017.6                  41.0   \n",
       "60771                     0              1016.9                  41.0   \n",
       "127979                    0              1015.7                  41.0   \n",
       "107051                    0              1018.9                  35.0   \n",
       "\n",
       "        WindSpeed9am_random  WindSpeed3pm_random  Humidity9am_random  \\\n",
       "66                      7.0                 19.0                48.0   \n",
       "1110                   15.0                  9.0                52.0   \n",
       "60771                  11.0                 19.0                86.0   \n",
       "127979                 15.0                 24.0                64.0   \n",
       "107051                 17.0                 17.0                17.0   \n",
       "\n",
       "        Humidity3pm_random  month  day  \n",
       "66                    15.0      2    5  \n",
       "1110                  37.0      1   15  \n",
       "60771                 88.0      5   11  \n",
       "127979                51.0      3   26  \n",
       "107051                 6.0      4   28  "
      ]
     },
     "execution_count": 265,
     "metadata": {},
     "output_type": "execute_result"
    }
   ],
   "source": [
    "x_test.head()"
   ]
  },
  {
   "cell_type": "code",
   "execution_count": null,
   "id": "04f7c6e8",
   "metadata": {},
   "outputs": [],
   "source": []
  },
  {
   "cell_type": "code",
   "execution_count": 266,
   "id": "8e9619b6",
   "metadata": {},
   "outputs": [],
   "source": [
    "cols=['Rainfall', 'Temp9am', 'Temp3pm', 'MinTemp_random', 'MaxTemp_random','Pressure9am_random', 'WindGustSpeed_random',\n",
    "       'WindSpeed9am_random', 'WindSpeed3pm_random','Humidity9am_random','Humidity3pm_random','month','day']"
   ]
  },
  {
   "cell_type": "code",
   "execution_count": 267,
   "id": "3e4d6fc0",
   "metadata": {},
   "outputs": [],
   "source": [
    "scaler = StandardScaler()"
   ]
  },
  {
   "cell_type": "code",
   "execution_count": 268,
   "id": "ece2eb7b",
   "metadata": {},
   "outputs": [],
   "source": [
    "x_train[cols] = scaler.fit_transform(x_train[cols])"
   ]
  },
  {
   "cell_type": "code",
   "execution_count": 269,
   "id": "37e68d82",
   "metadata": {},
   "outputs": [],
   "source": [
    "x_test[cols] = scaler.transform(x_test[cols])"
   ]
  },
  {
   "cell_type": "code",
   "execution_count": 270,
   "id": "126d700a",
   "metadata": {},
   "outputs": [
    {
     "data": {
      "text/html": [
       "<div>\n",
       "<style scoped>\n",
       "    .dataframe tbody tr th:only-of-type {\n",
       "        vertical-align: middle;\n",
       "    }\n",
       "\n",
       "    .dataframe tbody tr th {\n",
       "        vertical-align: top;\n",
       "    }\n",
       "\n",
       "    .dataframe thead th {\n",
       "        text-align: right;\n",
       "    }\n",
       "</style>\n",
       "<table border=\"1\" class=\"dataframe\">\n",
       "  <thead>\n",
       "    <tr style=\"text-align: right;\">\n",
       "      <th></th>\n",
       "      <th>Location</th>\n",
       "      <th>Rainfall</th>\n",
       "      <th>Temp9am</th>\n",
       "      <th>Temp3pm</th>\n",
       "      <th>RainToday</th>\n",
       "      <th>WindGustDir_random</th>\n",
       "      <th>WindDir9am_random</th>\n",
       "      <th>WindDir3pm_random</th>\n",
       "      <th>MinTemp_random</th>\n",
       "      <th>MaxTemp_random</th>\n",
       "      <th>Pressure9am_missing</th>\n",
       "      <th>Pressure9am_random</th>\n",
       "      <th>WindGustSpeed_random</th>\n",
       "      <th>WindSpeed9am_random</th>\n",
       "      <th>WindSpeed3pm_random</th>\n",
       "      <th>Humidity9am_random</th>\n",
       "      <th>Humidity3pm_random</th>\n",
       "      <th>month</th>\n",
       "      <th>day</th>\n",
       "    </tr>\n",
       "  </thead>\n",
       "  <tbody>\n",
       "    <tr>\n",
       "      <th>83344</th>\n",
       "      <td>Dartmoor</td>\n",
       "      <td>-0.278821</td>\n",
       "      <td>-0.930912</td>\n",
       "      <td>-1.621838</td>\n",
       "      <td>0</td>\n",
       "      <td>NNE</td>\n",
       "      <td>N</td>\n",
       "      <td>NE</td>\n",
       "      <td>-1.185107</td>\n",
       "      <td>-1.506582</td>\n",
       "      <td>0</td>\n",
       "      <td>-1.359550</td>\n",
       "      <td>-0.218268</td>\n",
       "      <td>-0.113285</td>\n",
       "      <td>-0.868390</td>\n",
       "      <td>-2.349938</td>\n",
       "      <td>0.313983</td>\n",
       "      <td>0.756684</td>\n",
       "      <td>-1.559342</td>\n",
       "    </tr>\n",
       "    <tr>\n",
       "      <th>10185</th>\n",
       "      <td>CoffsHarbour</td>\n",
       "      <td>2.196175</td>\n",
       "      <td>0.358622</td>\n",
       "      <td>-0.103572</td>\n",
       "      <td>1</td>\n",
       "      <td>SE</td>\n",
       "      <td>SW</td>\n",
       "      <td>W</td>\n",
       "      <td>1.065241</td>\n",
       "      <td>-0.060718</td>\n",
       "      <td>0</td>\n",
       "      <td>0.189685</td>\n",
       "      <td>-0.071061</td>\n",
       "      <td>-0.113285</td>\n",
       "      <td>-1.095869</td>\n",
       "      <td>1.424553</td>\n",
       "      <td>1.947519</td>\n",
       "      <td>-0.995119</td>\n",
       "      <td>-1.445670</td>\n",
       "    </tr>\n",
       "    <tr>\n",
       "      <th>34777</th>\n",
       "      <td>SydneyAirport</td>\n",
       "      <td>0.696898</td>\n",
       "      <td>-0.301496</td>\n",
       "      <td>-0.175188</td>\n",
       "      <td>1</td>\n",
       "      <td>WNW</td>\n",
       "      <td>NNW</td>\n",
       "      <td>N</td>\n",
       "      <td>-0.278717</td>\n",
       "      <td>-0.341469</td>\n",
       "      <td>0</td>\n",
       "      <td>0.316440</td>\n",
       "      <td>0.076145</td>\n",
       "      <td>0.563328</td>\n",
       "      <td>0.382744</td>\n",
       "      <td>-0.095728</td>\n",
       "      <td>-0.598875</td>\n",
       "      <td>0.172750</td>\n",
       "      <td>-0.536291</td>\n",
       "    </tr>\n",
       "    <tr>\n",
       "      <th>57070</th>\n",
       "      <td>Ballarat</td>\n",
       "      <td>-0.278821</td>\n",
       "      <td>-1.621733</td>\n",
       "      <td>-1.722101</td>\n",
       "      <td>0</td>\n",
       "      <td>SSE</td>\n",
       "      <td>SSE</td>\n",
       "      <td>S</td>\n",
       "      <td>-1.544538</td>\n",
       "      <td>-1.829445</td>\n",
       "      <td>0</td>\n",
       "      <td>1.555828</td>\n",
       "      <td>-1.175109</td>\n",
       "      <td>-0.338822</td>\n",
       "      <td>-0.868390</td>\n",
       "      <td>1.634247</td>\n",
       "      <td>1.034660</td>\n",
       "      <td>0.172750</td>\n",
       "      <td>0.486760</td>\n",
       "    </tr>\n",
       "    <tr>\n",
       "      <th>140866</th>\n",
       "      <td>Darwin</td>\n",
       "      <td>-0.278821</td>\n",
       "      <td>1.218311</td>\n",
       "      <td>1.042290</td>\n",
       "      <td>0</td>\n",
       "      <td>N</td>\n",
       "      <td>E</td>\n",
       "      <td>N</td>\n",
       "      <td>1.049614</td>\n",
       "      <td>1.230733</td>\n",
       "      <td>0</td>\n",
       "      <td>-0.641269</td>\n",
       "      <td>-0.365474</td>\n",
       "      <td>0.337790</td>\n",
       "      <td>0.610223</td>\n",
       "      <td>0.218813</td>\n",
       "      <td>0.265938</td>\n",
       "      <td>0.172750</td>\n",
       "      <td>0.373088</td>\n",
       "    </tr>\n",
       "  </tbody>\n",
       "</table>\n",
       "</div>"
      ],
      "text/plain": [
       "             Location  Rainfall   Temp9am   Temp3pm  RainToday  \\\n",
       "83344        Dartmoor -0.278821 -0.930912 -1.621838          0   \n",
       "10185    CoffsHarbour  2.196175  0.358622 -0.103572          1   \n",
       "34777   SydneyAirport  0.696898 -0.301496 -0.175188          1   \n",
       "57070        Ballarat -0.278821 -1.621733 -1.722101          0   \n",
       "140866         Darwin -0.278821  1.218311  1.042290          0   \n",
       "\n",
       "       WindGustDir_random WindDir9am_random WindDir3pm_random  MinTemp_random  \\\n",
       "83344                 NNE                 N                NE       -1.185107   \n",
       "10185                  SE                SW                 W        1.065241   \n",
       "34777                 WNW               NNW                 N       -0.278717   \n",
       "57070                 SSE               SSE                 S       -1.544538   \n",
       "140866                  N                 E                 N        1.049614   \n",
       "\n",
       "        MaxTemp_random  Pressure9am_missing  Pressure9am_random  \\\n",
       "83344        -1.506582                    0           -1.359550   \n",
       "10185        -0.060718                    0            0.189685   \n",
       "34777        -0.341469                    0            0.316440   \n",
       "57070        -1.829445                    0            1.555828   \n",
       "140866        1.230733                    0           -0.641269   \n",
       "\n",
       "        WindGustSpeed_random  WindSpeed9am_random  WindSpeed3pm_random  \\\n",
       "83344              -0.218268            -0.113285            -0.868390   \n",
       "10185              -0.071061            -0.113285            -1.095869   \n",
       "34777               0.076145             0.563328             0.382744   \n",
       "57070              -1.175109            -0.338822            -0.868390   \n",
       "140866             -0.365474             0.337790             0.610223   \n",
       "\n",
       "        Humidity9am_random  Humidity3pm_random     month       day  \n",
       "83344            -2.349938            0.313983  0.756684 -1.559342  \n",
       "10185             1.424553            1.947519 -0.995119 -1.445670  \n",
       "34777            -0.095728           -0.598875  0.172750 -0.536291  \n",
       "57070             1.634247            1.034660  0.172750  0.486760  \n",
       "140866            0.218813            0.265938  0.172750  0.373088  "
      ]
     },
     "execution_count": 270,
     "metadata": {},
     "output_type": "execute_result"
    }
   ],
   "source": [
    "x_train.head()"
   ]
  },
  {
   "cell_type": "code",
   "execution_count": 271,
   "id": "2310bb85",
   "metadata": {},
   "outputs": [
    {
     "data": {
      "text/html": [
       "<div>\n",
       "<style scoped>\n",
       "    .dataframe tbody tr th:only-of-type {\n",
       "        vertical-align: middle;\n",
       "    }\n",
       "\n",
       "    .dataframe tbody tr th {\n",
       "        vertical-align: top;\n",
       "    }\n",
       "\n",
       "    .dataframe thead th {\n",
       "        text-align: right;\n",
       "    }\n",
       "</style>\n",
       "<table border=\"1\" class=\"dataframe\">\n",
       "  <thead>\n",
       "    <tr style=\"text-align: right;\">\n",
       "      <th></th>\n",
       "      <th>Location</th>\n",
       "      <th>Rainfall</th>\n",
       "      <th>Temp9am</th>\n",
       "      <th>Temp3pm</th>\n",
       "      <th>RainToday</th>\n",
       "      <th>WindGustDir_random</th>\n",
       "      <th>WindDir9am_random</th>\n",
       "      <th>WindDir3pm_random</th>\n",
       "      <th>MinTemp_random</th>\n",
       "      <th>MaxTemp_random</th>\n",
       "      <th>Pressure9am_missing</th>\n",
       "      <th>Pressure9am_random</th>\n",
       "      <th>WindGustSpeed_random</th>\n",
       "      <th>WindSpeed9am_random</th>\n",
       "      <th>WindSpeed3pm_random</th>\n",
       "      <th>Humidity9am_random</th>\n",
       "      <th>Humidity3pm_random</th>\n",
       "      <th>month</th>\n",
       "      <th>day</th>\n",
       "    </tr>\n",
       "  </thead>\n",
       "  <tbody>\n",
       "    <tr>\n",
       "      <th>66</th>\n",
       "      <td>Albury</td>\n",
       "      <td>-0.278821</td>\n",
       "      <td>1.463936</td>\n",
       "      <td>2.574880</td>\n",
       "      <td>0</td>\n",
       "      <td>WSW</td>\n",
       "      <td>SSE</td>\n",
       "      <td>S</td>\n",
       "      <td>1.455927</td>\n",
       "      <td>2.522184</td>\n",
       "      <td>0</td>\n",
       "      <td>-1.655313</td>\n",
       "      <td>-0.365474</td>\n",
       "      <td>-0.789897</td>\n",
       "      <td>0.041526</td>\n",
       "      <td>-1.091775</td>\n",
       "      <td>-1.751960</td>\n",
       "      <td>-1.287086</td>\n",
       "      <td>-1.218325</td>\n",
       "    </tr>\n",
       "    <tr>\n",
       "      <th>1110</th>\n",
       "      <td>Albury</td>\n",
       "      <td>-0.278821</td>\n",
       "      <td>0.573544</td>\n",
       "      <td>1.142553</td>\n",
       "      <td>0</td>\n",
       "      <td>NNE</td>\n",
       "      <td>SE</td>\n",
       "      <td>SSE</td>\n",
       "      <td>0.455772</td>\n",
       "      <td>1.090358</td>\n",
       "      <td>0</td>\n",
       "      <td>-0.007491</td>\n",
       "      <td>0.076145</td>\n",
       "      <td>0.112253</td>\n",
       "      <td>-1.095869</td>\n",
       "      <td>-0.882081</td>\n",
       "      <td>-0.694966</td>\n",
       "      <td>-1.579053</td>\n",
       "      <td>-0.081602</td>\n",
       "    </tr>\n",
       "    <tr>\n",
       "      <th>60771</th>\n",
       "      <td>Bendigo</td>\n",
       "      <td>-0.112235</td>\n",
       "      <td>-1.053724</td>\n",
       "      <td>-1.321050</td>\n",
       "      <td>1</td>\n",
       "      <td>WNW</td>\n",
       "      <td>NW</td>\n",
       "      <td>NW</td>\n",
       "      <td>-0.560011</td>\n",
       "      <td>-1.169682</td>\n",
       "      <td>0</td>\n",
       "      <td>-0.106078</td>\n",
       "      <td>0.076145</td>\n",
       "      <td>-0.338822</td>\n",
       "      <td>0.041526</td>\n",
       "      <td>0.900318</td>\n",
       "      <td>1.755338</td>\n",
       "      <td>-0.411185</td>\n",
       "      <td>-0.536291</td>\n",
       "    </tr>\n",
       "    <tr>\n",
       "      <th>127979</th>\n",
       "      <td>Walpole</td>\n",
       "      <td>-0.278821</td>\n",
       "      <td>0.481435</td>\n",
       "      <td>0.297480</td>\n",
       "      <td>0</td>\n",
       "      <td>W</td>\n",
       "      <td>NW</td>\n",
       "      <td>W</td>\n",
       "      <td>0.362007</td>\n",
       "      <td>0.163882</td>\n",
       "      <td>0</td>\n",
       "      <td>-0.275086</td>\n",
       "      <td>0.076145</td>\n",
       "      <td>0.112253</td>\n",
       "      <td>0.610223</td>\n",
       "      <td>-0.252999</td>\n",
       "      <td>-0.022333</td>\n",
       "      <td>-0.995119</td>\n",
       "      <td>1.168794</td>\n",
       "    </tr>\n",
       "    <tr>\n",
       "      <th>107051</th>\n",
       "      <td>Woomera</td>\n",
       "      <td>-0.278821</td>\n",
       "      <td>0.466083</td>\n",
       "      <td>1.285786</td>\n",
       "      <td>0</td>\n",
       "      <td>NNW</td>\n",
       "      <td>N</td>\n",
       "      <td>WNW</td>\n",
       "      <td>0.268243</td>\n",
       "      <td>1.244770</td>\n",
       "      <td>0</td>\n",
       "      <td>0.175601</td>\n",
       "      <td>-0.365474</td>\n",
       "      <td>0.337790</td>\n",
       "      <td>-0.185953</td>\n",
       "      <td>-2.716903</td>\n",
       "      <td>-2.184366</td>\n",
       "      <td>-0.703152</td>\n",
       "      <td>1.396139</td>\n",
       "    </tr>\n",
       "  </tbody>\n",
       "</table>\n",
       "</div>"
      ],
      "text/plain": [
       "       Location  Rainfall   Temp9am   Temp3pm  RainToday WindGustDir_random  \\\n",
       "66       Albury -0.278821  1.463936  2.574880          0                WSW   \n",
       "1110     Albury -0.278821  0.573544  1.142553          0                NNE   \n",
       "60771   Bendigo -0.112235 -1.053724 -1.321050          1                WNW   \n",
       "127979  Walpole -0.278821  0.481435  0.297480          0                  W   \n",
       "107051  Woomera -0.278821  0.466083  1.285786          0                NNW   \n",
       "\n",
       "       WindDir9am_random WindDir3pm_random  MinTemp_random  MaxTemp_random  \\\n",
       "66                   SSE                 S        1.455927        2.522184   \n",
       "1110                  SE               SSE        0.455772        1.090358   \n",
       "60771                 NW                NW       -0.560011       -1.169682   \n",
       "127979                NW                 W        0.362007        0.163882   \n",
       "107051                 N               WNW        0.268243        1.244770   \n",
       "\n",
       "        Pressure9am_missing  Pressure9am_random  WindGustSpeed_random  \\\n",
       "66                        0           -1.655313             -0.365474   \n",
       "1110                      0           -0.007491              0.076145   \n",
       "60771                     0           -0.106078              0.076145   \n",
       "127979                    0           -0.275086              0.076145   \n",
       "107051                    0            0.175601             -0.365474   \n",
       "\n",
       "        WindSpeed9am_random  WindSpeed3pm_random  Humidity9am_random  \\\n",
       "66                -0.789897             0.041526           -1.091775   \n",
       "1110               0.112253            -1.095869           -0.882081   \n",
       "60771             -0.338822             0.041526            0.900318   \n",
       "127979             0.112253             0.610223           -0.252999   \n",
       "107051             0.337790            -0.185953           -2.716903   \n",
       "\n",
       "        Humidity3pm_random     month       day  \n",
       "66               -1.751960 -1.287086 -1.218325  \n",
       "1110             -0.694966 -1.579053 -0.081602  \n",
       "60771             1.755338 -0.411185 -0.536291  \n",
       "127979           -0.022333 -0.995119  1.168794  \n",
       "107051           -2.184366 -0.703152  1.396139  "
      ]
     },
     "execution_count": 271,
     "metadata": {},
     "output_type": "execute_result"
    }
   ],
   "source": [
    "x_test.head()"
   ]
  },
  {
   "cell_type": "code",
   "execution_count": null,
   "id": "71369e4d",
   "metadata": {},
   "outputs": [],
   "source": []
  },
  {
   "cell_type": "code",
   "execution_count": 273,
   "id": "da64d773",
   "metadata": {},
   "outputs": [],
   "source": [
    "xt = pd.concat([x_train,y_train],axis=1)"
   ]
  },
  {
   "cell_type": "code",
   "execution_count": 274,
   "id": "f1860d28",
   "metadata": {},
   "outputs": [],
   "source": [
    "ss = xt[['RainTomorrow','Location','WindGustDir_random']]\n",
    "t = ss.groupby(['Location','WindGustDir_random'])"
   ]
  },
  {
   "cell_type": "code",
   "execution_count": 275,
   "id": "48e3a81a",
   "metadata": {
    "scrolled": true
   },
   "outputs": [
    {
     "data": {
      "text/html": [
       "<div>\n",
       "<style scoped>\n",
       "    .dataframe tbody tr th:only-of-type {\n",
       "        vertical-align: middle;\n",
       "    }\n",
       "\n",
       "    .dataframe tbody tr th {\n",
       "        vertical-align: top;\n",
       "    }\n",
       "\n",
       "    .dataframe thead th {\n",
       "        text-align: right;\n",
       "    }\n",
       "</style>\n",
       "<table border=\"1\" class=\"dataframe\">\n",
       "  <thead>\n",
       "    <tr style=\"text-align: right;\">\n",
       "      <th></th>\n",
       "      <th></th>\n",
       "      <th>RainTomorrow</th>\n",
       "    </tr>\n",
       "    <tr>\n",
       "      <th>Location</th>\n",
       "      <th>WindGustDir_random</th>\n",
       "      <th></th>\n",
       "    </tr>\n",
       "  </thead>\n",
       "  <tbody>\n",
       "    <tr>\n",
       "      <th rowspan=\"16\" valign=\"top\">Adelaide</th>\n",
       "      <th>E</th>\n",
       "      <td>0.164179</td>\n",
       "    </tr>\n",
       "    <tr>\n",
       "      <th>ENE</th>\n",
       "      <td>0.190476</td>\n",
       "    </tr>\n",
       "    <tr>\n",
       "      <th>ESE</th>\n",
       "      <td>0.069565</td>\n",
       "    </tr>\n",
       "    <tr>\n",
       "      <th>N</th>\n",
       "      <td>0.221154</td>\n",
       "    </tr>\n",
       "    <tr>\n",
       "      <th>NE</th>\n",
       "      <td>0.272727</td>\n",
       "    </tr>\n",
       "    <tr>\n",
       "      <th>NNE</th>\n",
       "      <td>0.294872</td>\n",
       "    </tr>\n",
       "    <tr>\n",
       "      <th>NNW</th>\n",
       "      <td>0.300752</td>\n",
       "    </tr>\n",
       "    <tr>\n",
       "      <th>NW</th>\n",
       "      <td>0.377778</td>\n",
       "    </tr>\n",
       "    <tr>\n",
       "      <th>S</th>\n",
       "      <td>0.080000</td>\n",
       "    </tr>\n",
       "    <tr>\n",
       "      <th>SE</th>\n",
       "      <td>0.052288</td>\n",
       "    </tr>\n",
       "    <tr>\n",
       "      <th>SSE</th>\n",
       "      <td>0.088889</td>\n",
       "    </tr>\n",
       "    <tr>\n",
       "      <th>SSW</th>\n",
       "      <td>0.179775</td>\n",
       "    </tr>\n",
       "    <tr>\n",
       "      <th>SW</th>\n",
       "      <td>0.188552</td>\n",
       "    </tr>\n",
       "    <tr>\n",
       "      <th>W</th>\n",
       "      <td>0.314176</td>\n",
       "    </tr>\n",
       "    <tr>\n",
       "      <th>WNW</th>\n",
       "      <td>0.370861</td>\n",
       "    </tr>\n",
       "    <tr>\n",
       "      <th>WSW</th>\n",
       "      <td>0.189781</td>\n",
       "    </tr>\n",
       "    <tr>\n",
       "      <th rowspan=\"16\" valign=\"top\">Albany</th>\n",
       "      <th>E</th>\n",
       "      <td>0.261438</td>\n",
       "    </tr>\n",
       "    <tr>\n",
       "      <th>ENE</th>\n",
       "      <td>0.324324</td>\n",
       "    </tr>\n",
       "    <tr>\n",
       "      <th>ESE</th>\n",
       "      <td>0.250000</td>\n",
       "    </tr>\n",
       "    <tr>\n",
       "      <th>N</th>\n",
       "      <td>0.356725</td>\n",
       "    </tr>\n",
       "    <tr>\n",
       "      <th>NE</th>\n",
       "      <td>0.301587</td>\n",
       "    </tr>\n",
       "    <tr>\n",
       "      <th>NNE</th>\n",
       "      <td>0.290323</td>\n",
       "    </tr>\n",
       "    <tr>\n",
       "      <th>NNW</th>\n",
       "      <td>0.229167</td>\n",
       "    </tr>\n",
       "    <tr>\n",
       "      <th>NW</th>\n",
       "      <td>0.257576</td>\n",
       "    </tr>\n",
       "    <tr>\n",
       "      <th>S</th>\n",
       "      <td>0.298780</td>\n",
       "    </tr>\n",
       "    <tr>\n",
       "      <th>SE</th>\n",
       "      <td>0.292135</td>\n",
       "    </tr>\n",
       "    <tr>\n",
       "      <th>SSE</th>\n",
       "      <td>0.358824</td>\n",
       "    </tr>\n",
       "    <tr>\n",
       "      <th>SSW</th>\n",
       "      <td>0.345865</td>\n",
       "    </tr>\n",
       "    <tr>\n",
       "      <th>SW</th>\n",
       "      <td>0.318750</td>\n",
       "    </tr>\n",
       "    <tr>\n",
       "      <th>W</th>\n",
       "      <td>0.348571</td>\n",
       "    </tr>\n",
       "    <tr>\n",
       "      <th>WNW</th>\n",
       "      <td>0.263514</td>\n",
       "    </tr>\n",
       "    <tr>\n",
       "      <th>WSW</th>\n",
       "      <td>0.297753</td>\n",
       "    </tr>\n",
       "    <tr>\n",
       "      <th rowspan=\"16\" valign=\"top\">Albury</th>\n",
       "      <th>E</th>\n",
       "      <td>0.123711</td>\n",
       "    </tr>\n",
       "    <tr>\n",
       "      <th>ENE</th>\n",
       "      <td>0.260504</td>\n",
       "    </tr>\n",
       "    <tr>\n",
       "      <th>ESE</th>\n",
       "      <td>0.145833</td>\n",
       "    </tr>\n",
       "    <tr>\n",
       "      <th>N</th>\n",
       "      <td>0.300699</td>\n",
       "    </tr>\n",
       "    <tr>\n",
       "      <th>NE</th>\n",
       "      <td>0.307692</td>\n",
       "    </tr>\n",
       "    <tr>\n",
       "      <th>NNE</th>\n",
       "      <td>0.378788</td>\n",
       "    </tr>\n",
       "    <tr>\n",
       "      <th>NNW</th>\n",
       "      <td>0.302521</td>\n",
       "    </tr>\n",
       "    <tr>\n",
       "      <th>NW</th>\n",
       "      <td>0.357143</td>\n",
       "    </tr>\n",
       "    <tr>\n",
       "      <th>S</th>\n",
       "      <td>0.086957</td>\n",
       "    </tr>\n",
       "    <tr>\n",
       "      <th>SE</th>\n",
       "      <td>0.122727</td>\n",
       "    </tr>\n",
       "    <tr>\n",
       "      <th>SSE</th>\n",
       "      <td>0.122093</td>\n",
       "    </tr>\n",
       "    <tr>\n",
       "      <th>SSW</th>\n",
       "      <td>0.083333</td>\n",
       "    </tr>\n",
       "    <tr>\n",
       "      <th>SW</th>\n",
       "      <td>0.156250</td>\n",
       "    </tr>\n",
       "    <tr>\n",
       "      <th>W</th>\n",
       "      <td>0.167076</td>\n",
       "    </tr>\n",
       "    <tr>\n",
       "      <th>WNW</th>\n",
       "      <td>0.240803</td>\n",
       "    </tr>\n",
       "    <tr>\n",
       "      <th>WSW</th>\n",
       "      <td>0.122340</td>\n",
       "    </tr>\n",
       "    <tr>\n",
       "      <th rowspan=\"2\" valign=\"top\">AliceSprings</th>\n",
       "      <th>E</th>\n",
       "      <td>0.048593</td>\n",
       "    </tr>\n",
       "    <tr>\n",
       "      <th>ENE</th>\n",
       "      <td>0.062937</td>\n",
       "    </tr>\n",
       "  </tbody>\n",
       "</table>\n",
       "</div>"
      ],
      "text/plain": [
       "                                 RainTomorrow\n",
       "Location     WindGustDir_random              \n",
       "Adelaide     E                       0.164179\n",
       "             ENE                     0.190476\n",
       "             ESE                     0.069565\n",
       "             N                       0.221154\n",
       "             NE                      0.272727\n",
       "             NNE                     0.294872\n",
       "             NNW                     0.300752\n",
       "             NW                      0.377778\n",
       "             S                       0.080000\n",
       "             SE                      0.052288\n",
       "             SSE                     0.088889\n",
       "             SSW                     0.179775\n",
       "             SW                      0.188552\n",
       "             W                       0.314176\n",
       "             WNW                     0.370861\n",
       "             WSW                     0.189781\n",
       "Albany       E                       0.261438\n",
       "             ENE                     0.324324\n",
       "             ESE                     0.250000\n",
       "             N                       0.356725\n",
       "             NE                      0.301587\n",
       "             NNE                     0.290323\n",
       "             NNW                     0.229167\n",
       "             NW                      0.257576\n",
       "             S                       0.298780\n",
       "             SE                      0.292135\n",
       "             SSE                     0.358824\n",
       "             SSW                     0.345865\n",
       "             SW                      0.318750\n",
       "             W                       0.348571\n",
       "             WNW                     0.263514\n",
       "             WSW                     0.297753\n",
       "Albury       E                       0.123711\n",
       "             ENE                     0.260504\n",
       "             ESE                     0.145833\n",
       "             N                       0.300699\n",
       "             NE                      0.307692\n",
       "             NNE                     0.378788\n",
       "             NNW                     0.302521\n",
       "             NW                      0.357143\n",
       "             S                       0.086957\n",
       "             SE                      0.122727\n",
       "             SSE                     0.122093\n",
       "             SSW                     0.083333\n",
       "             SW                      0.156250\n",
       "             W                       0.167076\n",
       "             WNW                     0.240803\n",
       "             WSW                     0.122340\n",
       "AliceSprings E                       0.048593\n",
       "             ENE                     0.062937"
      ]
     },
     "execution_count": 275,
     "metadata": {},
     "output_type": "execute_result"
    }
   ],
   "source": [
    "t.mean()[:50]"
   ]
  },
  {
   "cell_type": "code",
   "execution_count": 276,
   "id": "5331c3cc",
   "metadata": {},
   "outputs": [],
   "source": [
    "xt['Location_and_WindGustDir_random'] = 0\n",
    "xt['Location_and_WindDir9am_random'] = 0\n",
    "xt['Location_and_WindDir3pm_random'] = 0\n",
    "\n",
    "x_test['Location_and_WindGustDir_random'] = 0\n",
    "x_test['Location_and_WindDir9am_random'] = 0\n",
    "x_test['Location_and_WindDir3pm_random'] = 0"
   ]
  },
  {
   "cell_type": "code",
   "execution_count": 277,
   "id": "52495d7f",
   "metadata": {},
   "outputs": [],
   "source": [
    "for location in xt['Location'].unique():\n",
    "    \n",
    "    for WindGustDir_random in xt['WindGustDir_random'].unique():\n",
    "        dff = xt.loc[ (xt['Location'] == location) & (xt['WindGustDir_random']==WindGustDir_random) ]\n",
    "        xt['Location_and_WindGustDir_random'][dff.index] = round(dff['RainTomorrow'].mean() , 3)\n",
    "        \n",
    "    for WindDir9am_random in xt['WindDir9am_random'].unique():\n",
    "        dff = xt.loc[ (xt['Location'] == location) & (xt['WindDir9am_random']==WindDir9am_random) ]\n",
    "        xt['Location_and_WindDir9am_random'][dff.index] = round(dff['RainTomorrow'].mean() , 3)\n",
    "        \n",
    "    for WindDir3pm_random in xt['WindDir3pm_random'].unique():\n",
    "        dff = xt.loc[ (xt['Location'] == location) & (xt['WindDir3pm_random']==WindDir3pm_random) ]\n",
    "        xt['Location_and_WindDir3pm_random'][dff.index] = round(dff['RainTomorrow'].mean() , 3)"
   ]
  },
  {
   "cell_type": "code",
   "execution_count": 278,
   "id": "0d22dac9",
   "metadata": {},
   "outputs": [],
   "source": [
    "for location in x_test['Location'].unique():\n",
    "    \n",
    "    for WindGustDir_random in x_test['WindGustDir_random'].unique():\n",
    "        dff = xt.loc[ (xt['Location'] == location) & (xt['WindGustDir_random']==WindGustDir_random) ]\n",
    "        dff_test = x_test.loc[ (x_test['Location'] == location) & (x_test['WindGustDir_random']==WindGustDir_random) ]\n",
    "        x_test['Location_and_WindGustDir_random'][dff_test.index] = round(dff['RainTomorrow'].mean() , 3)\n",
    "        \n",
    "    for WindDir9am_random in x_test['WindDir9am_random'].unique():\n",
    "        dff = xt.loc[ (xt['Location'] == location) & (xt['WindDir9am_random']==WindDir9am_random) ]\n",
    "        dff_test = x_test.loc[ (x_test['Location'] == location) & (x_test['WindDir9am_random']==WindDir9am_random) ]\n",
    "        x_test['Location_and_WindDir9am_random'][dff_test.index] = round(dff['RainTomorrow'].mean() , 3)\n",
    "        \n",
    "    for WindDir3pm_random in x_test['WindDir3pm_random'].unique():\n",
    "        dff = xt.loc[ (xt['Location'] == location) & (xt['WindDir3pm_random']==WindDir3pm_random) ]\n",
    "        dff_test = x_test.loc[ (x_test['Location'] == location) & (x_test['WindDir3pm_random']==WindDir3pm_random) ]\n",
    "        x_test['Location_and_WindDir3pm_random'][dff_test.index] = round(dff['RainTomorrow'].mean() , 3)"
   ]
  },
  {
   "cell_type": "code",
   "execution_count": 281,
   "id": "8eed9b58",
   "metadata": {},
   "outputs": [],
   "source": [
    "xt['Location_and_WindGustDir_random'] = xt['Location_and_WindGustDir_random']*10\n",
    "xt['Location_and_WindDir9am_random'] = xt['Location_and_WindDir9am_random']*10\n",
    "xt['Location_and_WindDir3pm_random'] = xt['Location_and_WindDir3pm_random']*10\n",
    "\n",
    "x_test['Location_and_WindGustDir_random'] = x_test['Location_and_WindGustDir_random']*10\n",
    "x_test['Location_and_WindDir9am_random'] = x_test['Location_and_WindDir9am_random']*10\n",
    "x_test['Location_and_WindDir3pm_random'] = x_test['Location_and_WindDir3pm_random']*10"
   ]
  },
  {
   "cell_type": "code",
   "execution_count": 282,
   "id": "175115d8",
   "metadata": {},
   "outputs": [],
   "source": [
    "x_train = xt.drop('RainTomorrow',axis=1)"
   ]
  },
  {
   "cell_type": "code",
   "execution_count": 285,
   "id": "dae720cb",
   "metadata": {},
   "outputs": [],
   "source": [
    "x_train.drop(['Location','WindGustDir_random','WindDir9am_random','WindDir3pm_random'],axis=1,inplace=True)\n",
    "x_test.drop(['Location','WindGustDir_random','WindDir9am_random','WindDir3pm_random'],axis=1,inplace=True)"
   ]
  },
  {
   "cell_type": "code",
   "execution_count": null,
   "id": "9fb32982",
   "metadata": {},
   "outputs": [],
   "source": []
  },
  {
   "cell_type": "code",
   "execution_count": 286,
   "id": "888bef49",
   "metadata": {},
   "outputs": [
    {
     "data": {
      "text/html": [
       "<div>\n",
       "<style scoped>\n",
       "    .dataframe tbody tr th:only-of-type {\n",
       "        vertical-align: middle;\n",
       "    }\n",
       "\n",
       "    .dataframe tbody tr th {\n",
       "        vertical-align: top;\n",
       "    }\n",
       "\n",
       "    .dataframe thead th {\n",
       "        text-align: right;\n",
       "    }\n",
       "</style>\n",
       "<table border=\"1\" class=\"dataframe\">\n",
       "  <thead>\n",
       "    <tr style=\"text-align: right;\">\n",
       "      <th></th>\n",
       "      <th>Rainfall</th>\n",
       "      <th>Temp9am</th>\n",
       "      <th>Temp3pm</th>\n",
       "      <th>RainToday</th>\n",
       "      <th>MinTemp_random</th>\n",
       "      <th>MaxTemp_random</th>\n",
       "      <th>Pressure9am_missing</th>\n",
       "      <th>Pressure9am_random</th>\n",
       "      <th>WindGustSpeed_random</th>\n",
       "      <th>WindSpeed9am_random</th>\n",
       "      <th>WindSpeed3pm_random</th>\n",
       "      <th>Humidity9am_random</th>\n",
       "      <th>Humidity3pm_random</th>\n",
       "      <th>month</th>\n",
       "      <th>day</th>\n",
       "      <th>Location_and_WindGustDir_random</th>\n",
       "      <th>Location_and_WindDir9am_random</th>\n",
       "      <th>Location_and_WindDir3pm_random</th>\n",
       "    </tr>\n",
       "  </thead>\n",
       "  <tbody>\n",
       "    <tr>\n",
       "      <th>83344</th>\n",
       "      <td>-0.278821</td>\n",
       "      <td>-0.930912</td>\n",
       "      <td>-1.621838</td>\n",
       "      <td>0</td>\n",
       "      <td>-1.185107</td>\n",
       "      <td>-1.506582</td>\n",
       "      <td>0</td>\n",
       "      <td>-1.359550</td>\n",
       "      <td>-0.218268</td>\n",
       "      <td>-0.113285</td>\n",
       "      <td>-0.868390</td>\n",
       "      <td>-2.349938</td>\n",
       "      <td>0.313983</td>\n",
       "      <td>0.756684</td>\n",
       "      <td>-1.559342</td>\n",
       "      <td>3.48</td>\n",
       "      <td>4.33</td>\n",
       "      <td>4.18</td>\n",
       "    </tr>\n",
       "    <tr>\n",
       "      <th>10185</th>\n",
       "      <td>2.196175</td>\n",
       "      <td>0.358622</td>\n",
       "      <td>-0.103572</td>\n",
       "      <td>1</td>\n",
       "      <td>1.065241</td>\n",
       "      <td>-0.060718</td>\n",
       "      <td>0</td>\n",
       "      <td>0.189685</td>\n",
       "      <td>-0.071061</td>\n",
       "      <td>-0.113285</td>\n",
       "      <td>-1.095869</td>\n",
       "      <td>1.424553</td>\n",
       "      <td>1.947519</td>\n",
       "      <td>-0.995119</td>\n",
       "      <td>-1.445670</td>\n",
       "      <td>3.92</td>\n",
       "      <td>3.78</td>\n",
       "      <td>3.12</td>\n",
       "    </tr>\n",
       "    <tr>\n",
       "      <th>34777</th>\n",
       "      <td>0.696898</td>\n",
       "      <td>-0.301496</td>\n",
       "      <td>-0.175188</td>\n",
       "      <td>1</td>\n",
       "      <td>-0.278717</td>\n",
       "      <td>-0.341469</td>\n",
       "      <td>0</td>\n",
       "      <td>0.316440</td>\n",
       "      <td>0.076145</td>\n",
       "      <td>0.563328</td>\n",
       "      <td>0.382744</td>\n",
       "      <td>-0.095728</td>\n",
       "      <td>-0.598875</td>\n",
       "      <td>0.172750</td>\n",
       "      <td>-0.536291</td>\n",
       "      <td>1.43</td>\n",
       "      <td>2.01</td>\n",
       "      <td>2.86</td>\n",
       "    </tr>\n",
       "    <tr>\n",
       "      <th>57070</th>\n",
       "      <td>-0.278821</td>\n",
       "      <td>-1.621733</td>\n",
       "      <td>-1.722101</td>\n",
       "      <td>0</td>\n",
       "      <td>-1.544538</td>\n",
       "      <td>-1.829445</td>\n",
       "      <td>0</td>\n",
       "      <td>1.555828</td>\n",
       "      <td>-1.175109</td>\n",
       "      <td>-0.338822</td>\n",
       "      <td>-0.868390</td>\n",
       "      <td>1.634247</td>\n",
       "      <td>1.034660</td>\n",
       "      <td>0.172750</td>\n",
       "      <td>0.486760</td>\n",
       "      <td>0.63</td>\n",
       "      <td>0.68</td>\n",
       "      <td>1.08</td>\n",
       "    </tr>\n",
       "    <tr>\n",
       "      <th>140866</th>\n",
       "      <td>-0.278821</td>\n",
       "      <td>1.218311</td>\n",
       "      <td>1.042290</td>\n",
       "      <td>0</td>\n",
       "      <td>1.049614</td>\n",
       "      <td>1.230733</td>\n",
       "      <td>0</td>\n",
       "      <td>-0.641269</td>\n",
       "      <td>-0.365474</td>\n",
       "      <td>0.337790</td>\n",
       "      <td>0.610223</td>\n",
       "      <td>0.218813</td>\n",
       "      <td>0.265938</td>\n",
       "      <td>0.172750</td>\n",
       "      <td>0.373088</td>\n",
       "      <td>2.34</td>\n",
       "      <td>1.36</td>\n",
       "      <td>2.27</td>\n",
       "    </tr>\n",
       "  </tbody>\n",
       "</table>\n",
       "</div>"
      ],
      "text/plain": [
       "        Rainfall   Temp9am   Temp3pm  RainToday  MinTemp_random  \\\n",
       "83344  -0.278821 -0.930912 -1.621838          0       -1.185107   \n",
       "10185   2.196175  0.358622 -0.103572          1        1.065241   \n",
       "34777   0.696898 -0.301496 -0.175188          1       -0.278717   \n",
       "57070  -0.278821 -1.621733 -1.722101          0       -1.544538   \n",
       "140866 -0.278821  1.218311  1.042290          0        1.049614   \n",
       "\n",
       "        MaxTemp_random  Pressure9am_missing  Pressure9am_random  \\\n",
       "83344        -1.506582                    0           -1.359550   \n",
       "10185        -0.060718                    0            0.189685   \n",
       "34777        -0.341469                    0            0.316440   \n",
       "57070        -1.829445                    0            1.555828   \n",
       "140866        1.230733                    0           -0.641269   \n",
       "\n",
       "        WindGustSpeed_random  WindSpeed9am_random  WindSpeed3pm_random  \\\n",
       "83344              -0.218268            -0.113285            -0.868390   \n",
       "10185              -0.071061            -0.113285            -1.095869   \n",
       "34777               0.076145             0.563328             0.382744   \n",
       "57070              -1.175109            -0.338822            -0.868390   \n",
       "140866             -0.365474             0.337790             0.610223   \n",
       "\n",
       "        Humidity9am_random  Humidity3pm_random     month       day  \\\n",
       "83344            -2.349938            0.313983  0.756684 -1.559342   \n",
       "10185             1.424553            1.947519 -0.995119 -1.445670   \n",
       "34777            -0.095728           -0.598875  0.172750 -0.536291   \n",
       "57070             1.634247            1.034660  0.172750  0.486760   \n",
       "140866            0.218813            0.265938  0.172750  0.373088   \n",
       "\n",
       "        Location_and_WindGustDir_random  Location_and_WindDir9am_random  \\\n",
       "83344                              3.48                            4.33   \n",
       "10185                              3.92                            3.78   \n",
       "34777                              1.43                            2.01   \n",
       "57070                              0.63                            0.68   \n",
       "140866                             2.34                            1.36   \n",
       "\n",
       "        Location_and_WindDir3pm_random  \n",
       "83344                             4.18  \n",
       "10185                             3.12  \n",
       "34777                             2.86  \n",
       "57070                             1.08  \n",
       "140866                            2.27  "
      ]
     },
     "execution_count": 286,
     "metadata": {},
     "output_type": "execute_result"
    }
   ],
   "source": [
    "x_train.head()"
   ]
  },
  {
   "cell_type": "code",
   "execution_count": 287,
   "id": "418e9364",
   "metadata": {},
   "outputs": [
    {
     "data": {
      "text/html": [
       "<div>\n",
       "<style scoped>\n",
       "    .dataframe tbody tr th:only-of-type {\n",
       "        vertical-align: middle;\n",
       "    }\n",
       "\n",
       "    .dataframe tbody tr th {\n",
       "        vertical-align: top;\n",
       "    }\n",
       "\n",
       "    .dataframe thead th {\n",
       "        text-align: right;\n",
       "    }\n",
       "</style>\n",
       "<table border=\"1\" class=\"dataframe\">\n",
       "  <thead>\n",
       "    <tr style=\"text-align: right;\">\n",
       "      <th></th>\n",
       "      <th>Rainfall</th>\n",
       "      <th>Temp9am</th>\n",
       "      <th>Temp3pm</th>\n",
       "      <th>RainToday</th>\n",
       "      <th>MinTemp_random</th>\n",
       "      <th>MaxTemp_random</th>\n",
       "      <th>Pressure9am_missing</th>\n",
       "      <th>Pressure9am_random</th>\n",
       "      <th>WindGustSpeed_random</th>\n",
       "      <th>WindSpeed9am_random</th>\n",
       "      <th>WindSpeed3pm_random</th>\n",
       "      <th>Humidity9am_random</th>\n",
       "      <th>Humidity3pm_random</th>\n",
       "      <th>month</th>\n",
       "      <th>day</th>\n",
       "      <th>Location_and_WindGustDir_random</th>\n",
       "      <th>Location_and_WindDir9am_random</th>\n",
       "      <th>Location_and_WindDir3pm_random</th>\n",
       "    </tr>\n",
       "  </thead>\n",
       "  <tbody>\n",
       "    <tr>\n",
       "      <th>66</th>\n",
       "      <td>-0.278821</td>\n",
       "      <td>1.463936</td>\n",
       "      <td>2.574880</td>\n",
       "      <td>0</td>\n",
       "      <td>1.455927</td>\n",
       "      <td>2.522184</td>\n",
       "      <td>0</td>\n",
       "      <td>-1.655313</td>\n",
       "      <td>-0.365474</td>\n",
       "      <td>-0.789897</td>\n",
       "      <td>0.041526</td>\n",
       "      <td>-1.091775</td>\n",
       "      <td>-1.751960</td>\n",
       "      <td>-1.287086</td>\n",
       "      <td>-1.218325</td>\n",
       "      <td>1.22</td>\n",
       "      <td>1.44</td>\n",
       "      <td>1.24</td>\n",
       "    </tr>\n",
       "    <tr>\n",
       "      <th>1110</th>\n",
       "      <td>-0.278821</td>\n",
       "      <td>0.573544</td>\n",
       "      <td>1.142553</td>\n",
       "      <td>0</td>\n",
       "      <td>0.455772</td>\n",
       "      <td>1.090358</td>\n",
       "      <td>0</td>\n",
       "      <td>-0.007491</td>\n",
       "      <td>0.076145</td>\n",
       "      <td>0.112253</td>\n",
       "      <td>-1.095869</td>\n",
       "      <td>-0.882081</td>\n",
       "      <td>-0.694966</td>\n",
       "      <td>-1.579053</td>\n",
       "      <td>-0.081602</td>\n",
       "      <td>3.79</td>\n",
       "      <td>1.61</td>\n",
       "      <td>1.52</td>\n",
       "    </tr>\n",
       "    <tr>\n",
       "      <th>60771</th>\n",
       "      <td>-0.112235</td>\n",
       "      <td>-1.053724</td>\n",
       "      <td>-1.321050</td>\n",
       "      <td>1</td>\n",
       "      <td>-0.560011</td>\n",
       "      <td>-1.169682</td>\n",
       "      <td>0</td>\n",
       "      <td>-0.106078</td>\n",
       "      <td>0.076145</td>\n",
       "      <td>-0.338822</td>\n",
       "      <td>0.041526</td>\n",
       "      <td>0.900318</td>\n",
       "      <td>1.755338</td>\n",
       "      <td>-0.411185</td>\n",
       "      <td>-0.536291</td>\n",
       "      <td>2.54</td>\n",
       "      <td>4.39</td>\n",
       "      <td>2.46</td>\n",
       "    </tr>\n",
       "    <tr>\n",
       "      <th>127979</th>\n",
       "      <td>-0.278821</td>\n",
       "      <td>0.481435</td>\n",
       "      <td>0.297480</td>\n",
       "      <td>0</td>\n",
       "      <td>0.362007</td>\n",
       "      <td>0.163882</td>\n",
       "      <td>0</td>\n",
       "      <td>-0.275086</td>\n",
       "      <td>0.076145</td>\n",
       "      <td>0.112253</td>\n",
       "      <td>0.610223</td>\n",
       "      <td>-0.252999</td>\n",
       "      <td>-0.022333</td>\n",
       "      <td>-0.995119</td>\n",
       "      <td>1.168794</td>\n",
       "      <td>5.56</td>\n",
       "      <td>5.62</td>\n",
       "      <td>6.22</td>\n",
       "    </tr>\n",
       "    <tr>\n",
       "      <th>107051</th>\n",
       "      <td>-0.278821</td>\n",
       "      <td>0.466083</td>\n",
       "      <td>1.285786</td>\n",
       "      <td>0</td>\n",
       "      <td>0.268243</td>\n",
       "      <td>1.244770</td>\n",
       "      <td>0</td>\n",
       "      <td>0.175601</td>\n",
       "      <td>-0.365474</td>\n",
       "      <td>0.337790</td>\n",
       "      <td>-0.185953</td>\n",
       "      <td>-2.716903</td>\n",
       "      <td>-2.184366</td>\n",
       "      <td>-0.703152</td>\n",
       "      <td>1.396139</td>\n",
       "      <td>1.82</td>\n",
       "      <td>1.12</td>\n",
       "      <td>0.94</td>\n",
       "    </tr>\n",
       "  </tbody>\n",
       "</table>\n",
       "</div>"
      ],
      "text/plain": [
       "        Rainfall   Temp9am   Temp3pm  RainToday  MinTemp_random  \\\n",
       "66     -0.278821  1.463936  2.574880          0        1.455927   \n",
       "1110   -0.278821  0.573544  1.142553          0        0.455772   \n",
       "60771  -0.112235 -1.053724 -1.321050          1       -0.560011   \n",
       "127979 -0.278821  0.481435  0.297480          0        0.362007   \n",
       "107051 -0.278821  0.466083  1.285786          0        0.268243   \n",
       "\n",
       "        MaxTemp_random  Pressure9am_missing  Pressure9am_random  \\\n",
       "66            2.522184                    0           -1.655313   \n",
       "1110          1.090358                    0           -0.007491   \n",
       "60771        -1.169682                    0           -0.106078   \n",
       "127979        0.163882                    0           -0.275086   \n",
       "107051        1.244770                    0            0.175601   \n",
       "\n",
       "        WindGustSpeed_random  WindSpeed9am_random  WindSpeed3pm_random  \\\n",
       "66                 -0.365474            -0.789897             0.041526   \n",
       "1110                0.076145             0.112253            -1.095869   \n",
       "60771               0.076145            -0.338822             0.041526   \n",
       "127979              0.076145             0.112253             0.610223   \n",
       "107051             -0.365474             0.337790            -0.185953   \n",
       "\n",
       "        Humidity9am_random  Humidity3pm_random     month       day  \\\n",
       "66               -1.091775           -1.751960 -1.287086 -1.218325   \n",
       "1110             -0.882081           -0.694966 -1.579053 -0.081602   \n",
       "60771             0.900318            1.755338 -0.411185 -0.536291   \n",
       "127979           -0.252999           -0.022333 -0.995119  1.168794   \n",
       "107051           -2.716903           -2.184366 -0.703152  1.396139   \n",
       "\n",
       "        Location_and_WindGustDir_random  Location_and_WindDir9am_random  \\\n",
       "66                                 1.22                            1.44   \n",
       "1110                               3.79                            1.61   \n",
       "60771                              2.54                            4.39   \n",
       "127979                             5.56                            5.62   \n",
       "107051                             1.82                            1.12   \n",
       "\n",
       "        Location_and_WindDir3pm_random  \n",
       "66                                1.24  \n",
       "1110                              1.52  \n",
       "60771                             2.46  \n",
       "127979                            6.22  \n",
       "107051                            0.94  "
      ]
     },
     "execution_count": 287,
     "metadata": {},
     "output_type": "execute_result"
    }
   ],
   "source": [
    "x_test.head()"
   ]
  },
  {
   "cell_type": "code",
   "execution_count": null,
   "id": "6d1bd1be",
   "metadata": {},
   "outputs": [],
   "source": []
  },
  {
   "cell_type": "code",
   "execution_count": 288,
   "id": "bce5014d",
   "metadata": {},
   "outputs": [],
   "source": [
    "x_train.to_csv(r'C:\\Users\\unknown\\Downloads\\Desktop python programmes/x_train.csv',index=False)\n",
    "x_test.to_csv(r'C:\\Users\\unknown\\Downloads\\Desktop python programmes/x_test.csv',index=False)\n",
    "y_train.to_csv(r'C:\\Users\\unknown\\Downloads\\Desktop python programmes/y_train.csv',index=False)\n",
    "y_test.to_csv(r'C:\\Users\\unknown\\Downloads\\Desktop python programmes/y_test.csv',index=False)"
   ]
  },
  {
   "cell_type": "code",
   "execution_count": 289,
   "id": "7c329339",
   "metadata": {},
   "outputs": [
    {
     "data": {
      "text/plain": [
       "0.22166639915824016"
      ]
     },
     "execution_count": 289,
     "metadata": {},
     "output_type": "execute_result"
    }
   ],
   "source": [
    "y_train.mean()"
   ]
  },
  {
   "cell_type": "code",
   "execution_count": 290,
   "id": "756d3c48",
   "metadata": {},
   "outputs": [
    {
     "data": {
      "text/plain": [
       "(112146, 18)"
      ]
     },
     "execution_count": 290,
     "metadata": {},
     "output_type": "execute_result"
    }
   ],
   "source": [
    "x_train.shape"
   ]
  },
  {
   "cell_type": "code",
   "execution_count": null,
   "id": "59cd56d6",
   "metadata": {},
   "outputs": [],
   "source": []
  },
  {
   "cell_type": "markdown",
   "id": "fec9b25e",
   "metadata": {},
   "source": [
    "## Logistic Regression"
   ]
  },
  {
   "cell_type": "code",
   "execution_count": 291,
   "id": "5c60303c",
   "metadata": {},
   "outputs": [],
   "source": [
    "x_train = pd.read_csv(r'C:\\Users\\unknown\\Downloads\\Desktop python programmes/x_train.csv')\n",
    "x_test  = pd.read_csv(r'C:\\Users\\unknown\\Downloads\\Desktop python programmes/x_test.csv')\n",
    "y_train = pd.read_csv(r'C:\\Users\\unknown\\Downloads\\Desktop python programmes/y_train.csv')\n",
    "y_test  = pd.read_csv(r'C:\\Users\\unknown\\Downloads\\Desktop python programmes/y_test.csv')"
   ]
  },
  {
   "cell_type": "code",
   "execution_count": 292,
   "id": "afe04d86",
   "metadata": {},
   "outputs": [
    {
     "data": {
      "text/html": [
       "<style>#sk-container-id-4 {color: black;background-color: white;}#sk-container-id-4 pre{padding: 0;}#sk-container-id-4 div.sk-toggleable {background-color: white;}#sk-container-id-4 label.sk-toggleable__label {cursor: pointer;display: block;width: 100%;margin-bottom: 0;padding: 0.3em;box-sizing: border-box;text-align: center;}#sk-container-id-4 label.sk-toggleable__label-arrow:before {content: \"▸\";float: left;margin-right: 0.25em;color: #696969;}#sk-container-id-4 label.sk-toggleable__label-arrow:hover:before {color: black;}#sk-container-id-4 div.sk-estimator:hover label.sk-toggleable__label-arrow:before {color: black;}#sk-container-id-4 div.sk-toggleable__content {max-height: 0;max-width: 0;overflow: hidden;text-align: left;background-color: #f0f8ff;}#sk-container-id-4 div.sk-toggleable__content pre {margin: 0.2em;color: black;border-radius: 0.25em;background-color: #f0f8ff;}#sk-container-id-4 input.sk-toggleable__control:checked~div.sk-toggleable__content {max-height: 200px;max-width: 100%;overflow: auto;}#sk-container-id-4 input.sk-toggleable__control:checked~label.sk-toggleable__label-arrow:before {content: \"▾\";}#sk-container-id-4 div.sk-estimator input.sk-toggleable__control:checked~label.sk-toggleable__label {background-color: #d4ebff;}#sk-container-id-4 div.sk-label input.sk-toggleable__control:checked~label.sk-toggleable__label {background-color: #d4ebff;}#sk-container-id-4 input.sk-hidden--visually {border: 0;clip: rect(1px 1px 1px 1px);clip: rect(1px, 1px, 1px, 1px);height: 1px;margin: -1px;overflow: hidden;padding: 0;position: absolute;width: 1px;}#sk-container-id-4 div.sk-estimator {font-family: monospace;background-color: #f0f8ff;border: 1px dotted black;border-radius: 0.25em;box-sizing: border-box;margin-bottom: 0.5em;}#sk-container-id-4 div.sk-estimator:hover {background-color: #d4ebff;}#sk-container-id-4 div.sk-parallel-item::after {content: \"\";width: 100%;border-bottom: 1px solid gray;flex-grow: 1;}#sk-container-id-4 div.sk-label:hover label.sk-toggleable__label {background-color: #d4ebff;}#sk-container-id-4 div.sk-serial::before {content: \"\";position: absolute;border-left: 1px solid gray;box-sizing: border-box;top: 0;bottom: 0;left: 50%;z-index: 0;}#sk-container-id-4 div.sk-serial {display: flex;flex-direction: column;align-items: center;background-color: white;padding-right: 0.2em;padding-left: 0.2em;position: relative;}#sk-container-id-4 div.sk-item {position: relative;z-index: 1;}#sk-container-id-4 div.sk-parallel {display: flex;align-items: stretch;justify-content: center;background-color: white;position: relative;}#sk-container-id-4 div.sk-item::before, #sk-container-id-4 div.sk-parallel-item::before {content: \"\";position: absolute;border-left: 1px solid gray;box-sizing: border-box;top: 0;bottom: 0;left: 50%;z-index: -1;}#sk-container-id-4 div.sk-parallel-item {display: flex;flex-direction: column;z-index: 1;position: relative;background-color: white;}#sk-container-id-4 div.sk-parallel-item:first-child::after {align-self: flex-end;width: 50%;}#sk-container-id-4 div.sk-parallel-item:last-child::after {align-self: flex-start;width: 50%;}#sk-container-id-4 div.sk-parallel-item:only-child::after {width: 0;}#sk-container-id-4 div.sk-dashed-wrapped {border: 1px dashed gray;margin: 0 0.4em 0.5em 0.4em;box-sizing: border-box;padding-bottom: 0.4em;background-color: white;}#sk-container-id-4 div.sk-label label {font-family: monospace;font-weight: bold;display: inline-block;line-height: 1.2em;}#sk-container-id-4 div.sk-label-container {text-align: center;}#sk-container-id-4 div.sk-container {/* jupyter's `normalize.less` sets `[hidden] { display: none; }` but bootstrap.min.css set `[hidden] { display: none !important; }` so we also need the `!important` here to be able to override the default hidden behavior on the sphinx rendered scikit-learn.org. See: https://github.com/scikit-learn/scikit-learn/issues/21755 */display: inline-block !important;position: relative;}#sk-container-id-4 div.sk-text-repr-fallback {display: none;}</style><div id=\"sk-container-id-4\" class=\"sk-top-container\"><div class=\"sk-text-repr-fallback\"><pre>LogisticRegression(random_state=0)</pre><b>In a Jupyter environment, please rerun this cell to show the HTML representation or trust the notebook. <br />On GitHub, the HTML representation is unable to render, please try loading this page with nbviewer.org.</b></div><div class=\"sk-container\" hidden><div class=\"sk-item\"><div class=\"sk-estimator sk-toggleable\"><input class=\"sk-toggleable__control sk-hidden--visually\" id=\"sk-estimator-id-4\" type=\"checkbox\" checked><label for=\"sk-estimator-id-4\" class=\"sk-toggleable__label sk-toggleable__label-arrow\">LogisticRegression</label><div class=\"sk-toggleable__content\"><pre>LogisticRegression(random_state=0)</pre></div></div></div></div></div>"
      ],
      "text/plain": [
       "LogisticRegression(random_state=0)"
      ]
     },
     "execution_count": 292,
     "metadata": {},
     "output_type": "execute_result"
    }
   ],
   "source": [
    "lr = LogisticRegression(random_state=0)\n",
    "lr.fit(x_train,y_train)"
   ]
  },
  {
   "cell_type": "code",
   "execution_count": 293,
   "id": "dc7d74e8",
   "metadata": {},
   "outputs": [],
   "source": [
    "y_train_pred = lr.predict(x_train)\n",
    "y_test_pred = lr.predict(x_test)"
   ]
  },
  {
   "cell_type": "code",
   "execution_count": 294,
   "id": "40c71737",
   "metadata": {},
   "outputs": [
    {
     "name": "stdout",
     "output_type": "stream",
     "text": [
      "Accuracy: 0.8403242202129367\n",
      "Precision: 0.7069293963567091\n",
      "Recall: 0.4776941952612736\n"
     ]
    }
   ],
   "source": [
    "print(\"Accuracy:\",accuracy_score(y_train, y_train_pred))\n",
    "print(\"Precision:\",precision_score(y_train, y_train_pred))\n",
    "print(\"Recall:\",recall_score(y_train, y_train_pred))"
   ]
  },
  {
   "cell_type": "code",
   "execution_count": 295,
   "id": "8e1125f1",
   "metadata": {},
   "outputs": [
    {
     "name": "stdout",
     "output_type": "stream",
     "text": [
      "Accuracy: 0.8391940085592011\n",
      "Precision: 0.7025029797377831\n",
      "Recall: 0.47471005154639173\n"
     ]
    }
   ],
   "source": [
    "print(\"Accuracy:\",accuracy_score(y_test, y_test_pred))\n",
    "print(\"Precision:\",precision_score(y_test, y_test_pred))\n",
    "print(\"Recall:\",recall_score(y_test, y_test_pred))"
   ]
  },
  {
   "cell_type": "code",
   "execution_count": null,
   "id": "9b2121b2",
   "metadata": {},
   "outputs": [],
   "source": []
  },
  {
   "cell_type": "code",
   "execution_count": 296,
   "id": "e69dc50d",
   "metadata": {},
   "outputs": [],
   "source": [
    "from imblearn.over_sampling import SMOTE\n",
    "smote = SMOTE()"
   ]
  },
  {
   "cell_type": "code",
   "execution_count": 297,
   "id": "25079202",
   "metadata": {},
   "outputs": [],
   "source": [
    "x_smote , y_smote = smote.fit_resample(x_train,y_train)"
   ]
  },
  {
   "cell_type": "code",
   "execution_count": 366,
   "id": "de9e3bdf",
   "metadata": {},
   "outputs": [
    {
     "data": {
      "text/html": [
       "<style>#sk-container-id-7 {color: black;background-color: white;}#sk-container-id-7 pre{padding: 0;}#sk-container-id-7 div.sk-toggleable {background-color: white;}#sk-container-id-7 label.sk-toggleable__label {cursor: pointer;display: block;width: 100%;margin-bottom: 0;padding: 0.3em;box-sizing: border-box;text-align: center;}#sk-container-id-7 label.sk-toggleable__label-arrow:before {content: \"▸\";float: left;margin-right: 0.25em;color: #696969;}#sk-container-id-7 label.sk-toggleable__label-arrow:hover:before {color: black;}#sk-container-id-7 div.sk-estimator:hover label.sk-toggleable__label-arrow:before {color: black;}#sk-container-id-7 div.sk-toggleable__content {max-height: 0;max-width: 0;overflow: hidden;text-align: left;background-color: #f0f8ff;}#sk-container-id-7 div.sk-toggleable__content pre {margin: 0.2em;color: black;border-radius: 0.25em;background-color: #f0f8ff;}#sk-container-id-7 input.sk-toggleable__control:checked~div.sk-toggleable__content {max-height: 200px;max-width: 100%;overflow: auto;}#sk-container-id-7 input.sk-toggleable__control:checked~label.sk-toggleable__label-arrow:before {content: \"▾\";}#sk-container-id-7 div.sk-estimator input.sk-toggleable__control:checked~label.sk-toggleable__label {background-color: #d4ebff;}#sk-container-id-7 div.sk-label input.sk-toggleable__control:checked~label.sk-toggleable__label {background-color: #d4ebff;}#sk-container-id-7 input.sk-hidden--visually {border: 0;clip: rect(1px 1px 1px 1px);clip: rect(1px, 1px, 1px, 1px);height: 1px;margin: -1px;overflow: hidden;padding: 0;position: absolute;width: 1px;}#sk-container-id-7 div.sk-estimator {font-family: monospace;background-color: #f0f8ff;border: 1px dotted black;border-radius: 0.25em;box-sizing: border-box;margin-bottom: 0.5em;}#sk-container-id-7 div.sk-estimator:hover {background-color: #d4ebff;}#sk-container-id-7 div.sk-parallel-item::after {content: \"\";width: 100%;border-bottom: 1px solid gray;flex-grow: 1;}#sk-container-id-7 div.sk-label:hover label.sk-toggleable__label {background-color: #d4ebff;}#sk-container-id-7 div.sk-serial::before {content: \"\";position: absolute;border-left: 1px solid gray;box-sizing: border-box;top: 0;bottom: 0;left: 50%;z-index: 0;}#sk-container-id-7 div.sk-serial {display: flex;flex-direction: column;align-items: center;background-color: white;padding-right: 0.2em;padding-left: 0.2em;position: relative;}#sk-container-id-7 div.sk-item {position: relative;z-index: 1;}#sk-container-id-7 div.sk-parallel {display: flex;align-items: stretch;justify-content: center;background-color: white;position: relative;}#sk-container-id-7 div.sk-item::before, #sk-container-id-7 div.sk-parallel-item::before {content: \"\";position: absolute;border-left: 1px solid gray;box-sizing: border-box;top: 0;bottom: 0;left: 50%;z-index: -1;}#sk-container-id-7 div.sk-parallel-item {display: flex;flex-direction: column;z-index: 1;position: relative;background-color: white;}#sk-container-id-7 div.sk-parallel-item:first-child::after {align-self: flex-end;width: 50%;}#sk-container-id-7 div.sk-parallel-item:last-child::after {align-self: flex-start;width: 50%;}#sk-container-id-7 div.sk-parallel-item:only-child::after {width: 0;}#sk-container-id-7 div.sk-dashed-wrapped {border: 1px dashed gray;margin: 0 0.4em 0.5em 0.4em;box-sizing: border-box;padding-bottom: 0.4em;background-color: white;}#sk-container-id-7 div.sk-label label {font-family: monospace;font-weight: bold;display: inline-block;line-height: 1.2em;}#sk-container-id-7 div.sk-label-container {text-align: center;}#sk-container-id-7 div.sk-container {/* jupyter's `normalize.less` sets `[hidden] { display: none; }` but bootstrap.min.css set `[hidden] { display: none !important; }` so we also need the `!important` here to be able to override the default hidden behavior on the sphinx rendered scikit-learn.org. See: https://github.com/scikit-learn/scikit-learn/issues/21755 */display: inline-block !important;position: relative;}#sk-container-id-7 div.sk-text-repr-fallback {display: none;}</style><div id=\"sk-container-id-7\" class=\"sk-top-container\"><div class=\"sk-text-repr-fallback\"><pre>LogisticRegression(random_state=0)</pre><b>In a Jupyter environment, please rerun this cell to show the HTML representation or trust the notebook. <br />On GitHub, the HTML representation is unable to render, please try loading this page with nbviewer.org.</b></div><div class=\"sk-container\" hidden><div class=\"sk-item\"><div class=\"sk-estimator sk-toggleable\"><input class=\"sk-toggleable__control sk-hidden--visually\" id=\"sk-estimator-id-7\" type=\"checkbox\" checked><label for=\"sk-estimator-id-7\" class=\"sk-toggleable__label sk-toggleable__label-arrow\">LogisticRegression</label><div class=\"sk-toggleable__content\"><pre>LogisticRegression(random_state=0)</pre></div></div></div></div></div>"
      ],
      "text/plain": [
       "LogisticRegression(random_state=0)"
      ]
     },
     "execution_count": 366,
     "metadata": {},
     "output_type": "execute_result"
    }
   ],
   "source": [
    "lr = LogisticRegression(random_state=0)\n",
    "lr.fit(x_smote,y_smote)"
   ]
  },
  {
   "cell_type": "code",
   "execution_count": 367,
   "id": "d08ab63d",
   "metadata": {},
   "outputs": [],
   "source": [
    "y_train_pred2 = lr.predict(x_smote)\n",
    "y_test_pred2 = lr.predict(x_test)"
   ]
  },
  {
   "cell_type": "code",
   "execution_count": 368,
   "id": "fd290087",
   "metadata": {},
   "outputs": [
    {
     "name": "stdout",
     "output_type": "stream",
     "text": [
      "Accuracy: 0.7810155005900077\n",
      "Precision: 0.7854067765056316\n",
      "Recall: 0.7733224878847939\n"
     ]
    }
   ],
   "source": [
    "print(\"Accuracy:\",accuracy_score(y_smote, y_train_pred2))\n",
    "print(\"Precision:\",precision_score(y_smote, y_train_pred2))\n",
    "print(\"Recall:\",recall_score(y_smote, y_train_pred2))"
   ]
  },
  {
   "cell_type": "code",
   "execution_count": 369,
   "id": "6a96ea7e",
   "metadata": {},
   "outputs": [
    {
     "name": "stdout",
     "output_type": "stream",
     "text": [
      "Accuracy: 0.7794935805991441\n",
      "Precision: 0.5013407701383675\n",
      "Recall: 0.7528994845360825\n"
     ]
    }
   ],
   "source": [
    "print(\"Accuracy:\",accuracy_score(y_test, y_test_pred2))\n",
    "print(\"Precision:\",precision_score(y_test, y_test_pred2))\n",
    "print(\"Recall:\",recall_score(y_test, y_test_pred2))"
   ]
  },
  {
   "cell_type": "code",
   "execution_count": null,
   "id": "64e8771c",
   "metadata": {},
   "outputs": [],
   "source": []
  },
  {
   "cell_type": "code",
   "execution_count": 302,
   "id": "8abebc56",
   "metadata": {},
   "outputs": [
    {
     "data": {
      "text/plain": [
       "(174574, 18)"
      ]
     },
     "execution_count": 302,
     "metadata": {},
     "output_type": "execute_result"
    }
   ],
   "source": [
    "x_smote.shape"
   ]
  },
  {
   "cell_type": "code",
   "execution_count": 303,
   "id": "19f5b651",
   "metadata": {},
   "outputs": [
    {
     "data": {
      "text/plain": [
       "(112146, 18)"
      ]
     },
     "execution_count": 303,
     "metadata": {},
     "output_type": "execute_result"
    }
   ],
   "source": [
    "x_train.shape"
   ]
  },
  {
   "cell_type": "code",
   "execution_count": 304,
   "id": "dd23e5b4",
   "metadata": {},
   "outputs": [
    {
     "name": "stdout",
     "output_type": "stream",
     "text": [
      "Best Estimator : LogisticRegression(C=0.01, random_state=0)\n"
     ]
    }
   ],
   "source": [
    "parameters = {'C':[0.01,0.01,0.1,1,10,100] , 'solver':['lbfgs','newton-cg'],'max_iter':[100,150,200]}\n",
    "lr = LogisticRegression(random_state=0)\n",
    "scikit_GridSearchCV = GridSearchCV(lr,parameters)\n",
    "scikit_GridSearchCV.fit(x_smote,y_smote)\n",
    "print(f'Best Estimator : {scikit_GridSearchCV.best_estimator_}')"
   ]
  },
  {
   "cell_type": "code",
   "execution_count": 305,
   "id": "e942b2a3",
   "metadata": {},
   "outputs": [],
   "source": [
    "y_train_pred3 = scikit_GridSearchCV.predict(x_smote)\n",
    "y_test_pred3 = scikit_GridSearchCV.predict(x_test)"
   ]
  },
  {
   "cell_type": "code",
   "execution_count": 306,
   "id": "6969ddee",
   "metadata": {},
   "outputs": [
    {
     "name": "stdout",
     "output_type": "stream",
     "text": [
      "Accuracy: 0.7810040441302829\n",
      "Precision: 0.7852822815138757\n",
      "Recall: 0.7735057912403909\n"
     ]
    }
   ],
   "source": [
    "print(\"Accuracy:\",accuracy_score(y_smote, y_train_pred3))\n",
    "print(\"Precision:\",precision_score(y_smote, y_train_pred3))\n",
    "print(\"Recall:\",recall_score(y_smote, y_train_pred3))"
   ]
  },
  {
   "cell_type": "code",
   "execution_count": 307,
   "id": "83b30d0a",
   "metadata": {},
   "outputs": [
    {
     "name": "stdout",
     "output_type": "stream",
     "text": [
      "Accuracy: 0.7793509272467903\n",
      "Precision: 0.5011264885741873\n",
      "Recall: 0.7524162371134021\n"
     ]
    }
   ],
   "source": [
    "print(\"Accuracy:\",accuracy_score(y_test, y_test_pred3))\n",
    "print(\"Precision:\",precision_score(y_test, y_test_pred3))\n",
    "print(\"Recall:\",recall_score(y_test, y_test_pred3))"
   ]
  },
  {
   "cell_type": "code",
   "execution_count": null,
   "id": "0f2af829",
   "metadata": {},
   "outputs": [],
   "source": []
  },
  {
   "cell_type": "code",
   "execution_count": 403,
   "id": "e37465be",
   "metadata": {},
   "outputs": [
    {
     "data": {
      "text/html": [
       "<style>#sk-container-id-8 {color: black;background-color: white;}#sk-container-id-8 pre{padding: 0;}#sk-container-id-8 div.sk-toggleable {background-color: white;}#sk-container-id-8 label.sk-toggleable__label {cursor: pointer;display: block;width: 100%;margin-bottom: 0;padding: 0.3em;box-sizing: border-box;text-align: center;}#sk-container-id-8 label.sk-toggleable__label-arrow:before {content: \"▸\";float: left;margin-right: 0.25em;color: #696969;}#sk-container-id-8 label.sk-toggleable__label-arrow:hover:before {color: black;}#sk-container-id-8 div.sk-estimator:hover label.sk-toggleable__label-arrow:before {color: black;}#sk-container-id-8 div.sk-toggleable__content {max-height: 0;max-width: 0;overflow: hidden;text-align: left;background-color: #f0f8ff;}#sk-container-id-8 div.sk-toggleable__content pre {margin: 0.2em;color: black;border-radius: 0.25em;background-color: #f0f8ff;}#sk-container-id-8 input.sk-toggleable__control:checked~div.sk-toggleable__content {max-height: 200px;max-width: 100%;overflow: auto;}#sk-container-id-8 input.sk-toggleable__control:checked~label.sk-toggleable__label-arrow:before {content: \"▾\";}#sk-container-id-8 div.sk-estimator input.sk-toggleable__control:checked~label.sk-toggleable__label {background-color: #d4ebff;}#sk-container-id-8 div.sk-label input.sk-toggleable__control:checked~label.sk-toggleable__label {background-color: #d4ebff;}#sk-container-id-8 input.sk-hidden--visually {border: 0;clip: rect(1px 1px 1px 1px);clip: rect(1px, 1px, 1px, 1px);height: 1px;margin: -1px;overflow: hidden;padding: 0;position: absolute;width: 1px;}#sk-container-id-8 div.sk-estimator {font-family: monospace;background-color: #f0f8ff;border: 1px dotted black;border-radius: 0.25em;box-sizing: border-box;margin-bottom: 0.5em;}#sk-container-id-8 div.sk-estimator:hover {background-color: #d4ebff;}#sk-container-id-8 div.sk-parallel-item::after {content: \"\";width: 100%;border-bottom: 1px solid gray;flex-grow: 1;}#sk-container-id-8 div.sk-label:hover label.sk-toggleable__label {background-color: #d4ebff;}#sk-container-id-8 div.sk-serial::before {content: \"\";position: absolute;border-left: 1px solid gray;box-sizing: border-box;top: 0;bottom: 0;left: 50%;z-index: 0;}#sk-container-id-8 div.sk-serial {display: flex;flex-direction: column;align-items: center;background-color: white;padding-right: 0.2em;padding-left: 0.2em;position: relative;}#sk-container-id-8 div.sk-item {position: relative;z-index: 1;}#sk-container-id-8 div.sk-parallel {display: flex;align-items: stretch;justify-content: center;background-color: white;position: relative;}#sk-container-id-8 div.sk-item::before, #sk-container-id-8 div.sk-parallel-item::before {content: \"\";position: absolute;border-left: 1px solid gray;box-sizing: border-box;top: 0;bottom: 0;left: 50%;z-index: -1;}#sk-container-id-8 div.sk-parallel-item {display: flex;flex-direction: column;z-index: 1;position: relative;background-color: white;}#sk-container-id-8 div.sk-parallel-item:first-child::after {align-self: flex-end;width: 50%;}#sk-container-id-8 div.sk-parallel-item:last-child::after {align-self: flex-start;width: 50%;}#sk-container-id-8 div.sk-parallel-item:only-child::after {width: 0;}#sk-container-id-8 div.sk-dashed-wrapped {border: 1px dashed gray;margin: 0 0.4em 0.5em 0.4em;box-sizing: border-box;padding-bottom: 0.4em;background-color: white;}#sk-container-id-8 div.sk-label label {font-family: monospace;font-weight: bold;display: inline-block;line-height: 1.2em;}#sk-container-id-8 div.sk-label-container {text-align: center;}#sk-container-id-8 div.sk-container {/* jupyter's `normalize.less` sets `[hidden] { display: none; }` but bootstrap.min.css set `[hidden] { display: none !important; }` so we also need the `!important` here to be able to override the default hidden behavior on the sphinx rendered scikit-learn.org. See: https://github.com/scikit-learn/scikit-learn/issues/21755 */display: inline-block !important;position: relative;}#sk-container-id-8 div.sk-text-repr-fallback {display: none;}</style><div id=\"sk-container-id-8\" class=\"sk-top-container\"><div class=\"sk-text-repr-fallback\"><pre>LogisticRegression(random_state=0)</pre><b>In a Jupyter environment, please rerun this cell to show the HTML representation or trust the notebook. <br />On GitHub, the HTML representation is unable to render, please try loading this page with nbviewer.org.</b></div><div class=\"sk-container\" hidden><div class=\"sk-item\"><div class=\"sk-estimator sk-toggleable\"><input class=\"sk-toggleable__control sk-hidden--visually\" id=\"sk-estimator-id-8\" type=\"checkbox\" checked><label for=\"sk-estimator-id-8\" class=\"sk-toggleable__label sk-toggleable__label-arrow\">LogisticRegression</label><div class=\"sk-toggleable__content\"><pre>LogisticRegression(random_state=0)</pre></div></div></div></div></div>"
      ],
      "text/plain": [
       "LogisticRegression(random_state=0)"
      ]
     },
     "execution_count": 403,
     "metadata": {},
     "output_type": "execute_result"
    }
   ],
   "source": [
    "lr = LogisticRegression(random_state=0)\n",
    "lr.fit(x_smote,y_smote)"
   ]
  },
  {
   "cell_type": "code",
   "execution_count": 404,
   "id": "d9b59cf0",
   "metadata": {},
   "outputs": [
    {
     "data": {
      "text/plain": [
       "array([[0.91761102, 0.08238898],\n",
       "       [0.76303852, 0.23696148],\n",
       "       [0.12672644, 0.87327356],\n",
       "       ...,\n",
       "       [0.97674468, 0.02325532],\n",
       "       [0.74096894, 0.25903106],\n",
       "       [0.09427409, 0.90572591]])"
      ]
     },
     "execution_count": 404,
     "metadata": {},
     "output_type": "execute_result"
    }
   ],
   "source": [
    "lr.predict_proba(x_test)"
   ]
  },
  {
   "cell_type": "code",
   "execution_count": 405,
   "id": "f8c9016d",
   "metadata": {},
   "outputs": [
    {
     "data": {
      "text/plain": [
       "array([0.08238898, 0.23696148, 0.87327356, ..., 0.02325532, 0.25903106,\n",
       "       0.90572591])"
      ]
     },
     "execution_count": 405,
     "metadata": {},
     "output_type": "execute_result"
    }
   ],
   "source": [
    "y_test_pred4 = lr.predict_proba(x_test)[:,1]\n",
    "y_test_pred4"
   ]
  },
  {
   "cell_type": "code",
   "execution_count": 406,
   "id": "ea0975d7",
   "metadata": {},
   "outputs": [
    {
     "data": {
      "text/html": [
       "<div>\n",
       "<style scoped>\n",
       "    .dataframe tbody tr th:only-of-type {\n",
       "        vertical-align: middle;\n",
       "    }\n",
       "\n",
       "    .dataframe tbody tr th {\n",
       "        vertical-align: top;\n",
       "    }\n",
       "\n",
       "    .dataframe thead th {\n",
       "        text-align: right;\n",
       "    }\n",
       "</style>\n",
       "<table border=\"1\" class=\"dataframe\">\n",
       "  <thead>\n",
       "    <tr style=\"text-align: right;\">\n",
       "      <th></th>\n",
       "      <th>0</th>\n",
       "    </tr>\n",
       "  </thead>\n",
       "  <tbody>\n",
       "    <tr>\n",
       "      <th>0</th>\n",
       "      <td>0.082389</td>\n",
       "    </tr>\n",
       "    <tr>\n",
       "      <th>1</th>\n",
       "      <td>0.236961</td>\n",
       "    </tr>\n",
       "    <tr>\n",
       "      <th>2</th>\n",
       "      <td>0.873274</td>\n",
       "    </tr>\n",
       "    <tr>\n",
       "      <th>3</th>\n",
       "      <td>0.709132</td>\n",
       "    </tr>\n",
       "    <tr>\n",
       "      <th>4</th>\n",
       "      <td>0.015849</td>\n",
       "    </tr>\n",
       "  </tbody>\n",
       "</table>\n",
       "</div>"
      ],
      "text/plain": [
       "          0\n",
       "0  0.082389\n",
       "1  0.236961\n",
       "2  0.873274\n",
       "3  0.709132\n",
       "4  0.015849"
      ]
     },
     "execution_count": 406,
     "metadata": {},
     "output_type": "execute_result"
    }
   ],
   "source": [
    "final_pred3 = pd.DataFrame(y_test_pred4)\n",
    "final_pred3.head()"
   ]
  },
  {
   "cell_type": "code",
   "execution_count": 312,
   "id": "9fac1584",
   "metadata": {},
   "outputs": [
    {
     "data": {
      "text/html": [
       "<div>\n",
       "<style scoped>\n",
       "    .dataframe tbody tr th:only-of-type {\n",
       "        vertical-align: middle;\n",
       "    }\n",
       "\n",
       "    .dataframe tbody tr th {\n",
       "        vertical-align: top;\n",
       "    }\n",
       "\n",
       "    .dataframe thead th {\n",
       "        text-align: right;\n",
       "    }\n",
       "</style>\n",
       "<table border=\"1\" class=\"dataframe\">\n",
       "  <thead>\n",
       "    <tr style=\"text-align: right;\">\n",
       "      <th></th>\n",
       "      <th>RainTomorrow</th>\n",
       "    </tr>\n",
       "  </thead>\n",
       "  <tbody>\n",
       "    <tr>\n",
       "      <th>0</th>\n",
       "      <td>0</td>\n",
       "    </tr>\n",
       "    <tr>\n",
       "      <th>1</th>\n",
       "      <td>0</td>\n",
       "    </tr>\n",
       "    <tr>\n",
       "      <th>2</th>\n",
       "      <td>1</td>\n",
       "    </tr>\n",
       "    <tr>\n",
       "      <th>3</th>\n",
       "      <td>0</td>\n",
       "    </tr>\n",
       "    <tr>\n",
       "      <th>4</th>\n",
       "      <td>0</td>\n",
       "    </tr>\n",
       "    <tr>\n",
       "      <th>...</th>\n",
       "      <td>...</td>\n",
       "    </tr>\n",
       "    <tr>\n",
       "      <th>28035</th>\n",
       "      <td>1</td>\n",
       "    </tr>\n",
       "    <tr>\n",
       "      <th>28036</th>\n",
       "      <td>0</td>\n",
       "    </tr>\n",
       "    <tr>\n",
       "      <th>28037</th>\n",
       "      <td>0</td>\n",
       "    </tr>\n",
       "    <tr>\n",
       "      <th>28038</th>\n",
       "      <td>0</td>\n",
       "    </tr>\n",
       "    <tr>\n",
       "      <th>28039</th>\n",
       "      <td>0</td>\n",
       "    </tr>\n",
       "  </tbody>\n",
       "</table>\n",
       "<p>28040 rows × 1 columns</p>\n",
       "</div>"
      ],
      "text/plain": [
       "       RainTomorrow\n",
       "0                 0\n",
       "1                 0\n",
       "2                 1\n",
       "3                 0\n",
       "4                 0\n",
       "...             ...\n",
       "28035             1\n",
       "28036             0\n",
       "28037             0\n",
       "28038             0\n",
       "28039             0\n",
       "\n",
       "[28040 rows x 1 columns]"
      ]
     },
     "execution_count": 312,
     "metadata": {},
     "output_type": "execute_result"
    }
   ],
   "source": [
    "y_test"
   ]
  },
  {
   "cell_type": "code",
   "execution_count": 313,
   "id": "57871436",
   "metadata": {},
   "outputs": [
    {
     "data": {
      "text/plain": [
       "array([1.99965317, 0.99965317, 0.99745401, ..., 0.01922881, 0.01919872,\n",
       "       0.00211415])"
      ]
     },
     "execution_count": 313,
     "metadata": {},
     "output_type": "execute_result"
    }
   ],
   "source": [
    "fpr , tpr , thresolds = roc_curve(y_test , final_pred3)\n",
    "thresolds"
   ]
  },
  {
   "cell_type": "code",
   "execution_count": 314,
   "id": "e0e2c69e",
   "metadata": {},
   "outputs": [
    {
     "data": {
      "text/html": [
       "<div>\n",
       "<style scoped>\n",
       "    .dataframe tbody tr th:only-of-type {\n",
       "        vertical-align: middle;\n",
       "    }\n",
       "\n",
       "    .dataframe tbody tr th {\n",
       "        vertical-align: top;\n",
       "    }\n",
       "\n",
       "    .dataframe thead th {\n",
       "        text-align: right;\n",
       "    }\n",
       "</style>\n",
       "<table border=\"1\" class=\"dataframe\">\n",
       "  <thead>\n",
       "    <tr style=\"text-align: right;\">\n",
       "      <th></th>\n",
       "      <th>thresolds</th>\n",
       "      <th>accuracy</th>\n",
       "    </tr>\n",
       "  </thead>\n",
       "  <tbody>\n",
       "    <tr>\n",
       "      <th>1419</th>\n",
       "      <td>0.809313</td>\n",
       "      <td>0.837268</td>\n",
       "    </tr>\n",
       "    <tr>\n",
       "      <th>1420</th>\n",
       "      <td>0.809294</td>\n",
       "      <td>0.837268</td>\n",
       "    </tr>\n",
       "    <tr>\n",
       "      <th>1414</th>\n",
       "      <td>0.809785</td>\n",
       "      <td>0.837268</td>\n",
       "    </tr>\n",
       "    <tr>\n",
       "      <th>1432</th>\n",
       "      <td>0.807528</td>\n",
       "      <td>0.837268</td>\n",
       "    </tr>\n",
       "    <tr>\n",
       "      <th>1431</th>\n",
       "      <td>0.807761</td>\n",
       "      <td>0.837268</td>\n",
       "    </tr>\n",
       "  </tbody>\n",
       "</table>\n",
       "</div>"
      ],
      "text/plain": [
       "      thresolds  accuracy\n",
       "1419   0.809313  0.837268\n",
       "1420   0.809294  0.837268\n",
       "1414   0.809785  0.837268\n",
       "1432   0.807528  0.837268\n",
       "1431   0.807761  0.837268"
      ]
     },
     "execution_count": 314,
     "metadata": {},
     "output_type": "execute_result"
    }
   ],
   "source": [
    "accuracy_ls = []\n",
    "for thres in thresolds:\n",
    "    y_pred = np.where(final_pred3>thres,1,0)\n",
    "    accuracy_ls.append(accuracy_score(y_test, y_pred, normalize=True))\n",
    "    \n",
    "accuracy_ls = pd.concat([pd.Series(thresolds), pd.Series(accuracy_ls)],\n",
    "                        axis=1)\n",
    "accuracy_ls.columns = ['thresolds', 'accuracy']\n",
    "accuracy_ls.sort_values(by='accuracy', ascending=False, inplace=True)\n",
    "accuracy_ls.head()"
   ]
  },
  {
   "cell_type": "code",
   "execution_count": 315,
   "id": "86a188e0",
   "metadata": {
    "scrolled": true
   },
   "outputs": [
    {
     "data": {
      "text/html": [
       "<div>\n",
       "<style scoped>\n",
       "    .dataframe tbody tr th:only-of-type {\n",
       "        vertical-align: middle;\n",
       "    }\n",
       "\n",
       "    .dataframe tbody tr th {\n",
       "        vertical-align: top;\n",
       "    }\n",
       "\n",
       "    .dataframe thead th {\n",
       "        text-align: right;\n",
       "    }\n",
       "</style>\n",
       "<table border=\"1\" class=\"dataframe\">\n",
       "  <thead>\n",
       "    <tr style=\"text-align: right;\">\n",
       "      <th></th>\n",
       "      <th>thresolds</th>\n",
       "      <th>accuracy</th>\n",
       "    </tr>\n",
       "  </thead>\n",
       "  <tbody>\n",
       "    <tr>\n",
       "      <th>1419</th>\n",
       "      <td>0.809313</td>\n",
       "      <td>0.837268</td>\n",
       "    </tr>\n",
       "    <tr>\n",
       "      <th>1420</th>\n",
       "      <td>0.809294</td>\n",
       "      <td>0.837268</td>\n",
       "    </tr>\n",
       "    <tr>\n",
       "      <th>1414</th>\n",
       "      <td>0.809785</td>\n",
       "      <td>0.837268</td>\n",
       "    </tr>\n",
       "    <tr>\n",
       "      <th>1432</th>\n",
       "      <td>0.807528</td>\n",
       "      <td>0.837268</td>\n",
       "    </tr>\n",
       "    <tr>\n",
       "      <th>1431</th>\n",
       "      <td>0.807761</td>\n",
       "      <td>0.837268</td>\n",
       "    </tr>\n",
       "    <tr>\n",
       "      <th>1430</th>\n",
       "      <td>0.807821</td>\n",
       "      <td>0.837268</td>\n",
       "    </tr>\n",
       "    <tr>\n",
       "      <th>1429</th>\n",
       "      <td>0.807938</td>\n",
       "      <td>0.837268</td>\n",
       "    </tr>\n",
       "    <tr>\n",
       "      <th>1425</th>\n",
       "      <td>0.808266</td>\n",
       "      <td>0.837233</td>\n",
       "    </tr>\n",
       "    <tr>\n",
       "      <th>1413</th>\n",
       "      <td>0.810080</td>\n",
       "      <td>0.837233</td>\n",
       "    </tr>\n",
       "    <tr>\n",
       "      <th>1412</th>\n",
       "      <td>0.810089</td>\n",
       "      <td>0.837233</td>\n",
       "    </tr>\n",
       "    <tr>\n",
       "      <th>1418</th>\n",
       "      <td>0.809448</td>\n",
       "      <td>0.837233</td>\n",
       "    </tr>\n",
       "    <tr>\n",
       "      <th>1428</th>\n",
       "      <td>0.807945</td>\n",
       "      <td>0.837233</td>\n",
       "    </tr>\n",
       "    <tr>\n",
       "      <th>1403</th>\n",
       "      <td>0.811291</td>\n",
       "      <td>0.837233</td>\n",
       "    </tr>\n",
       "    <tr>\n",
       "      <th>1399</th>\n",
       "      <td>0.811457</td>\n",
       "      <td>0.837197</td>\n",
       "    </tr>\n",
       "    <tr>\n",
       "      <th>1639</th>\n",
       "      <td>0.782454</td>\n",
       "      <td>0.837197</td>\n",
       "    </tr>\n",
       "    <tr>\n",
       "      <th>1405</th>\n",
       "      <td>0.810961</td>\n",
       "      <td>0.837197</td>\n",
       "    </tr>\n",
       "    <tr>\n",
       "      <th>1404</th>\n",
       "      <td>0.811215</td>\n",
       "      <td>0.837197</td>\n",
       "    </tr>\n",
       "    <tr>\n",
       "      <th>1415</th>\n",
       "      <td>0.809547</td>\n",
       "      <td>0.837197</td>\n",
       "    </tr>\n",
       "    <tr>\n",
       "      <th>1397</th>\n",
       "      <td>0.811513</td>\n",
       "      <td>0.837197</td>\n",
       "    </tr>\n",
       "    <tr>\n",
       "      <th>1406</th>\n",
       "      <td>0.810898</td>\n",
       "      <td>0.837197</td>\n",
       "    </tr>\n",
       "    <tr>\n",
       "      <th>1417</th>\n",
       "      <td>0.809521</td>\n",
       "      <td>0.837197</td>\n",
       "    </tr>\n",
       "    <tr>\n",
       "      <th>1637</th>\n",
       "      <td>0.782621</td>\n",
       "      <td>0.837197</td>\n",
       "    </tr>\n",
       "    <tr>\n",
       "      <th>1401</th>\n",
       "      <td>0.811367</td>\n",
       "      <td>0.837197</td>\n",
       "    </tr>\n",
       "    <tr>\n",
       "      <th>1395</th>\n",
       "      <td>0.811692</td>\n",
       "      <td>0.837197</td>\n",
       "    </tr>\n",
       "    <tr>\n",
       "      <th>1423</th>\n",
       "      <td>0.808512</td>\n",
       "      <td>0.837197</td>\n",
       "    </tr>\n",
       "    <tr>\n",
       "      <th>1424</th>\n",
       "      <td>0.808295</td>\n",
       "      <td>0.837197</td>\n",
       "    </tr>\n",
       "    <tr>\n",
       "      <th>1426</th>\n",
       "      <td>0.808206</td>\n",
       "      <td>0.837197</td>\n",
       "    </tr>\n",
       "    <tr>\n",
       "      <th>1427</th>\n",
       "      <td>0.808092</td>\n",
       "      <td>0.837197</td>\n",
       "    </tr>\n",
       "    <tr>\n",
       "      <th>1434</th>\n",
       "      <td>0.806963</td>\n",
       "      <td>0.837197</td>\n",
       "    </tr>\n",
       "    <tr>\n",
       "      <th>1394</th>\n",
       "      <td>0.811887</td>\n",
       "      <td>0.837197</td>\n",
       "    </tr>\n",
       "    <tr>\n",
       "      <th>1402</th>\n",
       "      <td>0.811333</td>\n",
       "      <td>0.837197</td>\n",
       "    </tr>\n",
       "    <tr>\n",
       "      <th>1398</th>\n",
       "      <td>0.811482</td>\n",
       "      <td>0.837161</td>\n",
       "    </tr>\n",
       "    <tr>\n",
       "      <th>1400</th>\n",
       "      <td>0.811445</td>\n",
       "      <td>0.837161</td>\n",
       "    </tr>\n",
       "    <tr>\n",
       "      <th>1393</th>\n",
       "      <td>0.812074</td>\n",
       "      <td>0.837161</td>\n",
       "    </tr>\n",
       "    <tr>\n",
       "      <th>1396</th>\n",
       "      <td>0.811536</td>\n",
       "      <td>0.837161</td>\n",
       "    </tr>\n",
       "    <tr>\n",
       "      <th>1408</th>\n",
       "      <td>0.810533</td>\n",
       "      <td>0.837161</td>\n",
       "    </tr>\n",
       "    <tr>\n",
       "      <th>1411</th>\n",
       "      <td>0.810267</td>\n",
       "      <td>0.837161</td>\n",
       "    </tr>\n",
       "    <tr>\n",
       "      <th>1416</th>\n",
       "      <td>0.809524</td>\n",
       "      <td>0.837161</td>\n",
       "    </tr>\n",
       "    <tr>\n",
       "      <th>1387</th>\n",
       "      <td>0.812501</td>\n",
       "      <td>0.837161</td>\n",
       "    </tr>\n",
       "    <tr>\n",
       "      <th>1422</th>\n",
       "      <td>0.808552</td>\n",
       "      <td>0.837161</td>\n",
       "    </tr>\n",
       "    <tr>\n",
       "      <th>1687</th>\n",
       "      <td>0.777519</td>\n",
       "      <td>0.837161</td>\n",
       "    </tr>\n",
       "    <tr>\n",
       "      <th>1694</th>\n",
       "      <td>0.777029</td>\n",
       "      <td>0.837161</td>\n",
       "    </tr>\n",
       "    <tr>\n",
       "      <th>1389</th>\n",
       "      <td>0.812392</td>\n",
       "      <td>0.837161</td>\n",
       "    </tr>\n",
       "    <tr>\n",
       "      <th>1689</th>\n",
       "      <td>0.777421</td>\n",
       "      <td>0.837161</td>\n",
       "    </tr>\n",
       "    <tr>\n",
       "      <th>1638</th>\n",
       "      <td>0.782489</td>\n",
       "      <td>0.837161</td>\n",
       "    </tr>\n",
       "    <tr>\n",
       "      <th>1636</th>\n",
       "      <td>0.782696</td>\n",
       "      <td>0.837161</td>\n",
       "    </tr>\n",
       "    <tr>\n",
       "      <th>1652</th>\n",
       "      <td>0.781157</td>\n",
       "      <td>0.837161</td>\n",
       "    </tr>\n",
       "    <tr>\n",
       "      <th>1640</th>\n",
       "      <td>0.782402</td>\n",
       "      <td>0.837161</td>\n",
       "    </tr>\n",
       "    <tr>\n",
       "      <th>1688</th>\n",
       "      <td>0.777476</td>\n",
       "      <td>0.837126</td>\n",
       "    </tr>\n",
       "    <tr>\n",
       "      <th>1410</th>\n",
       "      <td>0.810270</td>\n",
       "      <td>0.837126</td>\n",
       "    </tr>\n",
       "    <tr>\n",
       "      <th>1375</th>\n",
       "      <td>0.813580</td>\n",
       "      <td>0.837126</td>\n",
       "    </tr>\n",
       "    <tr>\n",
       "      <th>1437</th>\n",
       "      <td>0.806727</td>\n",
       "      <td>0.837126</td>\n",
       "    </tr>\n",
       "    <tr>\n",
       "      <th>1691</th>\n",
       "      <td>0.777294</td>\n",
       "      <td>0.837126</td>\n",
       "    </tr>\n",
       "    <tr>\n",
       "      <th>1386</th>\n",
       "      <td>0.812520</td>\n",
       "      <td>0.837126</td>\n",
       "    </tr>\n",
       "    <tr>\n",
       "      <th>1388</th>\n",
       "      <td>0.812450</td>\n",
       "      <td>0.837126</td>\n",
       "    </tr>\n",
       "    <tr>\n",
       "      <th>1435</th>\n",
       "      <td>0.806886</td>\n",
       "      <td>0.837126</td>\n",
       "    </tr>\n",
       "    <tr>\n",
       "      <th>1390</th>\n",
       "      <td>0.812387</td>\n",
       "      <td>0.837126</td>\n",
       "    </tr>\n",
       "    <tr>\n",
       "      <th>1391</th>\n",
       "      <td>0.812283</td>\n",
       "      <td>0.837126</td>\n",
       "    </tr>\n",
       "    <tr>\n",
       "      <th>1392</th>\n",
       "      <td>0.812107</td>\n",
       "      <td>0.837126</td>\n",
       "    </tr>\n",
       "    <tr>\n",
       "      <th>1433</th>\n",
       "      <td>0.807101</td>\n",
       "      <td>0.837126</td>\n",
       "    </tr>\n",
       "  </tbody>\n",
       "</table>\n",
       "</div>"
      ],
      "text/plain": [
       "      thresolds  accuracy\n",
       "1419   0.809313  0.837268\n",
       "1420   0.809294  0.837268\n",
       "1414   0.809785  0.837268\n",
       "1432   0.807528  0.837268\n",
       "1431   0.807761  0.837268\n",
       "1430   0.807821  0.837268\n",
       "1429   0.807938  0.837268\n",
       "1425   0.808266  0.837233\n",
       "1413   0.810080  0.837233\n",
       "1412   0.810089  0.837233\n",
       "1418   0.809448  0.837233\n",
       "1428   0.807945  0.837233\n",
       "1403   0.811291  0.837233\n",
       "1399   0.811457  0.837197\n",
       "1639   0.782454  0.837197\n",
       "1405   0.810961  0.837197\n",
       "1404   0.811215  0.837197\n",
       "1415   0.809547  0.837197\n",
       "1397   0.811513  0.837197\n",
       "1406   0.810898  0.837197\n",
       "1417   0.809521  0.837197\n",
       "1637   0.782621  0.837197\n",
       "1401   0.811367  0.837197\n",
       "1395   0.811692  0.837197\n",
       "1423   0.808512  0.837197\n",
       "1424   0.808295  0.837197\n",
       "1426   0.808206  0.837197\n",
       "1427   0.808092  0.837197\n",
       "1434   0.806963  0.837197\n",
       "1394   0.811887  0.837197\n",
       "1402   0.811333  0.837197\n",
       "1398   0.811482  0.837161\n",
       "1400   0.811445  0.837161\n",
       "1393   0.812074  0.837161\n",
       "1396   0.811536  0.837161\n",
       "1408   0.810533  0.837161\n",
       "1411   0.810267  0.837161\n",
       "1416   0.809524  0.837161\n",
       "1387   0.812501  0.837161\n",
       "1422   0.808552  0.837161\n",
       "1687   0.777519  0.837161\n",
       "1694   0.777029  0.837161\n",
       "1389   0.812392  0.837161\n",
       "1689   0.777421  0.837161\n",
       "1638   0.782489  0.837161\n",
       "1636   0.782696  0.837161\n",
       "1652   0.781157  0.837161\n",
       "1640   0.782402  0.837161\n",
       "1688   0.777476  0.837126\n",
       "1410   0.810270  0.837126\n",
       "1375   0.813580  0.837126\n",
       "1437   0.806727  0.837126\n",
       "1691   0.777294  0.837126\n",
       "1386   0.812520  0.837126\n",
       "1388   0.812450  0.837126\n",
       "1435   0.806886  0.837126\n",
       "1390   0.812387  0.837126\n",
       "1391   0.812283  0.837126\n",
       "1392   0.812107  0.837126\n",
       "1433   0.807101  0.837126"
      ]
     },
     "execution_count": 315,
     "metadata": {},
     "output_type": "execute_result"
    }
   ],
   "source": [
    "accuracy_ls.head(60)"
   ]
  },
  {
   "cell_type": "code",
   "execution_count": 325,
   "id": "d2661917",
   "metadata": {
    "scrolled": true
   },
   "outputs": [
    {
     "data": {
      "text/html": [
       "<div>\n",
       "<style scoped>\n",
       "    .dataframe tbody tr th:only-of-type {\n",
       "        vertical-align: middle;\n",
       "    }\n",
       "\n",
       "    .dataframe tbody tr th {\n",
       "        vertical-align: top;\n",
       "    }\n",
       "\n",
       "    .dataframe thead th {\n",
       "        text-align: right;\n",
       "    }\n",
       "</style>\n",
       "<table border=\"1\" class=\"dataframe\">\n",
       "  <thead>\n",
       "    <tr style=\"text-align: right;\">\n",
       "      <th></th>\n",
       "      <th>thresolds</th>\n",
       "      <th>accuracy</th>\n",
       "    </tr>\n",
       "  </thead>\n",
       "  <tbody>\n",
       "    <tr>\n",
       "      <th>4351</th>\n",
       "      <td>0.436840</td>\n",
       "      <td>0.752318</td>\n",
       "    </tr>\n",
       "    <tr>\n",
       "      <th>4355</th>\n",
       "      <td>0.436604</td>\n",
       "      <td>0.752282</td>\n",
       "    </tr>\n",
       "    <tr>\n",
       "      <th>4357</th>\n",
       "      <td>0.436412</td>\n",
       "      <td>0.752282</td>\n",
       "    </tr>\n",
       "    <tr>\n",
       "      <th>4350</th>\n",
       "      <td>0.436852</td>\n",
       "      <td>0.752282</td>\n",
       "    </tr>\n",
       "    <tr>\n",
       "      <th>4353</th>\n",
       "      <td>0.436748</td>\n",
       "      <td>0.752282</td>\n",
       "    </tr>\n",
       "    <tr>\n",
       "      <th>4352</th>\n",
       "      <td>0.436799</td>\n",
       "      <td>0.752282</td>\n",
       "    </tr>\n",
       "    <tr>\n",
       "      <th>4354</th>\n",
       "      <td>0.436624</td>\n",
       "      <td>0.752247</td>\n",
       "    </tr>\n",
       "    <tr>\n",
       "      <th>4356</th>\n",
       "      <td>0.436506</td>\n",
       "      <td>0.752247</td>\n",
       "    </tr>\n",
       "    <tr>\n",
       "      <th>4358</th>\n",
       "      <td>0.436325</td>\n",
       "      <td>0.752247</td>\n",
       "    </tr>\n",
       "    <tr>\n",
       "      <th>4361</th>\n",
       "      <td>0.435903</td>\n",
       "      <td>0.751997</td>\n",
       "    </tr>\n",
       "    <tr>\n",
       "      <th>4359</th>\n",
       "      <td>0.435990</td>\n",
       "      <td>0.751997</td>\n",
       "    </tr>\n",
       "    <tr>\n",
       "      <th>4360</th>\n",
       "      <td>0.435969</td>\n",
       "      <td>0.751961</td>\n",
       "    </tr>\n",
       "    <tr>\n",
       "      <th>4362</th>\n",
       "      <td>0.435864</td>\n",
       "      <td>0.751961</td>\n",
       "    </tr>\n",
       "    <tr>\n",
       "      <th>4363</th>\n",
       "      <td>0.435524</td>\n",
       "      <td>0.751890</td>\n",
       "    </tr>\n",
       "    <tr>\n",
       "      <th>4364</th>\n",
       "      <td>0.435478</td>\n",
       "      <td>0.751854</td>\n",
       "    </tr>\n",
       "    <tr>\n",
       "      <th>4365</th>\n",
       "      <td>0.435344</td>\n",
       "      <td>0.751819</td>\n",
       "    </tr>\n",
       "    <tr>\n",
       "      <th>4366</th>\n",
       "      <td>0.435281</td>\n",
       "      <td>0.751783</td>\n",
       "    </tr>\n",
       "    <tr>\n",
       "      <th>4367</th>\n",
       "      <td>0.435157</td>\n",
       "      <td>0.751748</td>\n",
       "    </tr>\n",
       "    <tr>\n",
       "      <th>4368</th>\n",
       "      <td>0.435125</td>\n",
       "      <td>0.751712</td>\n",
       "    </tr>\n",
       "    <tr>\n",
       "      <th>4369</th>\n",
       "      <td>0.434525</td>\n",
       "      <td>0.751213</td>\n",
       "    </tr>\n",
       "    <tr>\n",
       "      <th>4370</th>\n",
       "      <td>0.434521</td>\n",
       "      <td>0.751177</td>\n",
       "    </tr>\n",
       "    <tr>\n",
       "      <th>4371</th>\n",
       "      <td>0.434100</td>\n",
       "      <td>0.750999</td>\n",
       "    </tr>\n",
       "    <tr>\n",
       "      <th>4372</th>\n",
       "      <td>0.434067</td>\n",
       "      <td>0.750963</td>\n",
       "    </tr>\n",
       "    <tr>\n",
       "      <th>4373</th>\n",
       "      <td>0.434005</td>\n",
       "      <td>0.750963</td>\n",
       "    </tr>\n",
       "    <tr>\n",
       "      <th>4375</th>\n",
       "      <td>0.433925</td>\n",
       "      <td>0.750963</td>\n",
       "    </tr>\n",
       "    <tr>\n",
       "      <th>4374</th>\n",
       "      <td>0.433992</td>\n",
       "      <td>0.750927</td>\n",
       "    </tr>\n",
       "    <tr>\n",
       "      <th>4376</th>\n",
       "      <td>0.433904</td>\n",
       "      <td>0.750927</td>\n",
       "    </tr>\n",
       "    <tr>\n",
       "      <th>4377</th>\n",
       "      <td>0.433714</td>\n",
       "      <td>0.750713</td>\n",
       "    </tr>\n",
       "    <tr>\n",
       "      <th>4378</th>\n",
       "      <td>0.433579</td>\n",
       "      <td>0.750678</td>\n",
       "    </tr>\n",
       "    <tr>\n",
       "      <th>4379</th>\n",
       "      <td>0.433566</td>\n",
       "      <td>0.750642</td>\n",
       "    </tr>\n",
       "    <tr>\n",
       "      <th>4380</th>\n",
       "      <td>0.433519</td>\n",
       "      <td>0.750606</td>\n",
       "    </tr>\n",
       "    <tr>\n",
       "      <th>4381</th>\n",
       "      <td>0.433373</td>\n",
       "      <td>0.750464</td>\n",
       "    </tr>\n",
       "    <tr>\n",
       "      <th>4382</th>\n",
       "      <td>0.433333</td>\n",
       "      <td>0.750428</td>\n",
       "    </tr>\n",
       "    <tr>\n",
       "      <th>4383</th>\n",
       "      <td>0.433128</td>\n",
       "      <td>0.750357</td>\n",
       "    </tr>\n",
       "    <tr>\n",
       "      <th>4384</th>\n",
       "      <td>0.433082</td>\n",
       "      <td>0.750321</td>\n",
       "    </tr>\n",
       "    <tr>\n",
       "      <th>4386</th>\n",
       "      <td>0.432722</td>\n",
       "      <td>0.750250</td>\n",
       "    </tr>\n",
       "    <tr>\n",
       "      <th>4385</th>\n",
       "      <td>0.432852</td>\n",
       "      <td>0.750250</td>\n",
       "    </tr>\n",
       "    <tr>\n",
       "      <th>4387</th>\n",
       "      <td>0.432334</td>\n",
       "      <td>0.749857</td>\n",
       "    </tr>\n",
       "    <tr>\n",
       "      <th>4389</th>\n",
       "      <td>0.432282</td>\n",
       "      <td>0.749857</td>\n",
       "    </tr>\n",
       "    <tr>\n",
       "      <th>4390</th>\n",
       "      <td>0.432146</td>\n",
       "      <td>0.749857</td>\n",
       "    </tr>\n",
       "    <tr>\n",
       "      <th>4388</th>\n",
       "      <td>0.432303</td>\n",
       "      <td>0.749822</td>\n",
       "    </tr>\n",
       "    <tr>\n",
       "      <th>4393</th>\n",
       "      <td>0.431581</td>\n",
       "      <td>0.749501</td>\n",
       "    </tr>\n",
       "    <tr>\n",
       "      <th>4394</th>\n",
       "      <td>0.431500</td>\n",
       "      <td>0.749501</td>\n",
       "    </tr>\n",
       "    <tr>\n",
       "      <th>4392</th>\n",
       "      <td>0.431728</td>\n",
       "      <td>0.749501</td>\n",
       "    </tr>\n",
       "    <tr>\n",
       "      <th>4391</th>\n",
       "      <td>0.431754</td>\n",
       "      <td>0.749501</td>\n",
       "    </tr>\n",
       "    <tr>\n",
       "      <th>4395</th>\n",
       "      <td>0.431063</td>\n",
       "      <td>0.749215</td>\n",
       "    </tr>\n",
       "    <tr>\n",
       "      <th>4396</th>\n",
       "      <td>0.431055</td>\n",
       "      <td>0.749180</td>\n",
       "    </tr>\n",
       "    <tr>\n",
       "      <th>4397</th>\n",
       "      <td>0.430929</td>\n",
       "      <td>0.749180</td>\n",
       "    </tr>\n",
       "    <tr>\n",
       "      <th>4398</th>\n",
       "      <td>0.430840</td>\n",
       "      <td>0.749144</td>\n",
       "    </tr>\n",
       "    <tr>\n",
       "      <th>4401</th>\n",
       "      <td>0.430762</td>\n",
       "      <td>0.749073</td>\n",
       "    </tr>\n",
       "  </tbody>\n",
       "</table>\n",
       "</div>"
      ],
      "text/plain": [
       "      thresolds  accuracy\n",
       "4351   0.436840  0.752318\n",
       "4355   0.436604  0.752282\n",
       "4357   0.436412  0.752282\n",
       "4350   0.436852  0.752282\n",
       "4353   0.436748  0.752282\n",
       "4352   0.436799  0.752282\n",
       "4354   0.436624  0.752247\n",
       "4356   0.436506  0.752247\n",
       "4358   0.436325  0.752247\n",
       "4361   0.435903  0.751997\n",
       "4359   0.435990  0.751997\n",
       "4360   0.435969  0.751961\n",
       "4362   0.435864  0.751961\n",
       "4363   0.435524  0.751890\n",
       "4364   0.435478  0.751854\n",
       "4365   0.435344  0.751819\n",
       "4366   0.435281  0.751783\n",
       "4367   0.435157  0.751748\n",
       "4368   0.435125  0.751712\n",
       "4369   0.434525  0.751213\n",
       "4370   0.434521  0.751177\n",
       "4371   0.434100  0.750999\n",
       "4372   0.434067  0.750963\n",
       "4373   0.434005  0.750963\n",
       "4375   0.433925  0.750963\n",
       "4374   0.433992  0.750927\n",
       "4376   0.433904  0.750927\n",
       "4377   0.433714  0.750713\n",
       "4378   0.433579  0.750678\n",
       "4379   0.433566  0.750642\n",
       "4380   0.433519  0.750606\n",
       "4381   0.433373  0.750464\n",
       "4382   0.433333  0.750428\n",
       "4383   0.433128  0.750357\n",
       "4384   0.433082  0.750321\n",
       "4386   0.432722  0.750250\n",
       "4385   0.432852  0.750250\n",
       "4387   0.432334  0.749857\n",
       "4389   0.432282  0.749857\n",
       "4390   0.432146  0.749857\n",
       "4388   0.432303  0.749822\n",
       "4393   0.431581  0.749501\n",
       "4394   0.431500  0.749501\n",
       "4392   0.431728  0.749501\n",
       "4391   0.431754  0.749501\n",
       "4395   0.431063  0.749215\n",
       "4396   0.431055  0.749180\n",
       "4397   0.430929  0.749180\n",
       "4398   0.430840  0.749144\n",
       "4401   0.430762  0.749073"
      ]
     },
     "execution_count": 325,
     "metadata": {},
     "output_type": "execute_result"
    }
   ],
   "source": [
    "accuracy_ls[4350:4400]"
   ]
  },
  {
   "cell_type": "code",
   "execution_count": 316,
   "id": "fb4464b9",
   "metadata": {},
   "outputs": [],
   "source": [
    "def plot_roc_curve(fpr, tpr):\n",
    "    plt.plot(fpr, tpr, color='orange', label='ROC')\n",
    "    plt.plot([0, 1], [0, 1], color='darkblue', linestyle='--')\n",
    "    plt.xlabel('False Positive Rate')\n",
    "    plt.ylabel('True Positive Rate')\n",
    "    plt.title('Receiver Operating Characteristic (ROC) Curve')\n",
    "    plt.legend()\n",
    "    plt.show()"
   ]
  },
  {
   "cell_type": "code",
   "execution_count": 317,
   "id": "ae3435e4",
   "metadata": {},
   "outputs": [
    {
     "data": {
      "image/png": "[encoded data removed]",
      "text/plain": [
       "<Figure size 1440x720 with 1 Axes>"
      ]
     },
     "metadata": {
      "needs_background": "light"
     },
     "output_type": "display_data"
    }
   ],
   "source": [
    "plot_roc_curve(fpr,tpr)"
   ]
  },
  {
   "cell_type": "code",
   "execution_count": 319,
   "id": "7c4c9d5a",
   "metadata": {},
   "outputs": [
    {
     "name": "stdout",
     "output_type": "stream",
     "text": [
      "Roc auc score 0.8495091706631333\n"
     ]
    }
   ],
   "source": [
    "print('Roc auc score',roc_auc_score(y_test, final_pred3))"
   ]
  },
  {
   "cell_type": "code",
   "execution_count": 326,
   "id": "e9380e0b",
   "metadata": {},
   "outputs": [],
   "source": [
    "final_pred3A = final_pred3.copy()"
   ]
  },
  {
   "cell_type": "code",
   "execution_count": 327,
   "id": "232147cc",
   "metadata": {},
   "outputs": [],
   "source": [
    "final_pred3A.loc[final_pred3A[0] >=0.432852 , 0] = 1\n",
    "final_pred3A.loc[final_pred3A[0] <=0.432852 , 0] = 0"
   ]
  },
  {
   "cell_type": "code",
   "execution_count": 329,
   "id": "374b25eb",
   "metadata": {},
   "outputs": [
    {
     "name": "stdout",
     "output_type": "stream",
     "text": [
      "Accuracy: 0.7502139800285307\n",
      "Precision: 0.46310715609936964\n",
      "Recall: 0.8047680412371134\n"
     ]
    }
   ],
   "source": [
    "print(\"Accuracy:\",accuracy_score(y_test, final_pred3A))\n",
    "print(\"Precision:\",precision_score(y_test, final_pred3A))\n",
    "print(\"Recall:\",recall_score(y_test, final_pred3A))"
   ]
  },
  {
   "cell_type": "code",
   "execution_count": null,
   "id": "79abce40",
   "metadata": {},
   "outputs": [],
   "source": []
  },
  {
   "cell_type": "code",
   "execution_count": 331,
   "id": "a9063d07",
   "metadata": {},
   "outputs": [
    {
     "data": {
      "text/html": [
       "<div>\n",
       "<style scoped>\n",
       "    .dataframe tbody tr th:only-of-type {\n",
       "        vertical-align: middle;\n",
       "    }\n",
       "\n",
       "    .dataframe tbody tr th {\n",
       "        vertical-align: top;\n",
       "    }\n",
       "\n",
       "    .dataframe thead th {\n",
       "        text-align: right;\n",
       "    }\n",
       "</style>\n",
       "<table border=\"1\" class=\"dataframe\">\n",
       "  <thead>\n",
       "    <tr style=\"text-align: right;\">\n",
       "      <th></th>\n",
       "      <th>thresolds</th>\n",
       "      <th>Precision</th>\n",
       "    </tr>\n",
       "  </thead>\n",
       "  <tbody>\n",
       "    <tr>\n",
       "      <th>2</th>\n",
       "      <td>0.997454</td>\n",
       "      <td>1.000000</td>\n",
       "    </tr>\n",
       "    <tr>\n",
       "      <th>3</th>\n",
       "      <td>0.997447</td>\n",
       "      <td>1.000000</td>\n",
       "    </tr>\n",
       "    <tr>\n",
       "      <th>5</th>\n",
       "      <td>0.995758</td>\n",
       "      <td>0.980769</td>\n",
       "    </tr>\n",
       "    <tr>\n",
       "      <th>4</th>\n",
       "      <td>0.995789</td>\n",
       "      <td>0.980392</td>\n",
       "    </tr>\n",
       "    <tr>\n",
       "      <th>9</th>\n",
       "      <td>0.989820</td>\n",
       "      <td>0.979866</td>\n",
       "    </tr>\n",
       "  </tbody>\n",
       "</table>\n",
       "</div>"
      ],
      "text/plain": [
       "   thresolds  Precision\n",
       "2   0.997454   1.000000\n",
       "3   0.997447   1.000000\n",
       "5   0.995758   0.980769\n",
       "4   0.995789   0.980392\n",
       "9   0.989820   0.979866"
      ]
     },
     "execution_count": 331,
     "metadata": {},
     "output_type": "execute_result"
    }
   ],
   "source": [
    "precision_ls = []\n",
    "for thres in thresolds:\n",
    "    y_pred = np.where(final_pred3>thres,1,0)\n",
    "    precision_ls.append(precision_score(y_test, y_pred))\n",
    "    \n",
    "precision_ls = pd.concat([pd.Series(thresolds), pd.Series(precision_ls)],\n",
    "                        axis=1)\n",
    "precision_ls.columns = ['thresolds', 'Precision']\n",
    "precision_ls.sort_values(by='Precision', ascending=False, inplace=True)\n",
    "precision_ls.head()"
   ]
  },
  {
   "cell_type": "code",
   "execution_count": 332,
   "id": "21c46eb3",
   "metadata": {
    "scrolled": true
   },
   "outputs": [
    {
     "data": {
      "text/html": [
       "<div>\n",
       "<style scoped>\n",
       "    .dataframe tbody tr th:only-of-type {\n",
       "        vertical-align: middle;\n",
       "    }\n",
       "\n",
       "    .dataframe tbody tr th {\n",
       "        vertical-align: top;\n",
       "    }\n",
       "\n",
       "    .dataframe thead th {\n",
       "        text-align: right;\n",
       "    }\n",
       "</style>\n",
       "<table border=\"1\" class=\"dataframe\">\n",
       "  <thead>\n",
       "    <tr style=\"text-align: right;\">\n",
       "      <th></th>\n",
       "      <th>thresolds</th>\n",
       "      <th>Precision</th>\n",
       "    </tr>\n",
       "  </thead>\n",
       "  <tbody>\n",
       "    <tr>\n",
       "      <th>2</th>\n",
       "      <td>0.997454</td>\n",
       "      <td>1.000000</td>\n",
       "    </tr>\n",
       "    <tr>\n",
       "      <th>3</th>\n",
       "      <td>0.997447</td>\n",
       "      <td>1.000000</td>\n",
       "    </tr>\n",
       "    <tr>\n",
       "      <th>5</th>\n",
       "      <td>0.995758</td>\n",
       "      <td>0.980769</td>\n",
       "    </tr>\n",
       "    <tr>\n",
       "      <th>4</th>\n",
       "      <td>0.995789</td>\n",
       "      <td>0.980392</td>\n",
       "    </tr>\n",
       "    <tr>\n",
       "      <th>9</th>\n",
       "      <td>0.989820</td>\n",
       "      <td>0.979866</td>\n",
       "    </tr>\n",
       "    <tr>\n",
       "      <th>8</th>\n",
       "      <td>0.989871</td>\n",
       "      <td>0.979730</td>\n",
       "    </tr>\n",
       "    <tr>\n",
       "      <th>11</th>\n",
       "      <td>0.989219</td>\n",
       "      <td>0.975000</td>\n",
       "    </tr>\n",
       "    <tr>\n",
       "      <th>10</th>\n",
       "      <td>0.989345</td>\n",
       "      <td>0.974843</td>\n",
       "    </tr>\n",
       "    <tr>\n",
       "      <th>13</th>\n",
       "      <td>0.988644</td>\n",
       "      <td>0.970238</td>\n",
       "    </tr>\n",
       "    <tr>\n",
       "      <th>12</th>\n",
       "      <td>0.988664</td>\n",
       "      <td>0.970060</td>\n",
       "    </tr>\n",
       "    <tr>\n",
       "      <th>7</th>\n",
       "      <td>0.995036</td>\n",
       "      <td>0.969697</td>\n",
       "    </tr>\n",
       "    <tr>\n",
       "      <th>6</th>\n",
       "      <td>0.995039</td>\n",
       "      <td>0.969231</td>\n",
       "    </tr>\n",
       "    <tr>\n",
       "      <th>15</th>\n",
       "      <td>0.988152</td>\n",
       "      <td>0.966851</td>\n",
       "    </tr>\n",
       "    <tr>\n",
       "      <th>14</th>\n",
       "      <td>0.988248</td>\n",
       "      <td>0.966667</td>\n",
       "    </tr>\n",
       "    <tr>\n",
       "      <th>17</th>\n",
       "      <td>0.987644</td>\n",
       "      <td>0.964286</td>\n",
       "    </tr>\n",
       "    <tr>\n",
       "      <th>16</th>\n",
       "      <td>0.987747</td>\n",
       "      <td>0.964103</td>\n",
       "    </tr>\n",
       "    <tr>\n",
       "      <th>19</th>\n",
       "      <td>0.986736</td>\n",
       "      <td>0.962085</td>\n",
       "    </tr>\n",
       "    <tr>\n",
       "      <th>18</th>\n",
       "      <td>0.986799</td>\n",
       "      <td>0.961905</td>\n",
       "    </tr>\n",
       "    <tr>\n",
       "      <th>21</th>\n",
       "      <td>0.985968</td>\n",
       "      <td>0.960699</td>\n",
       "    </tr>\n",
       "    <tr>\n",
       "      <th>20</th>\n",
       "      <td>0.986032</td>\n",
       "      <td>0.960526</td>\n",
       "    </tr>\n",
       "    <tr>\n",
       "      <th>23</th>\n",
       "      <td>0.985608</td>\n",
       "      <td>0.957627</td>\n",
       "    </tr>\n",
       "    <tr>\n",
       "      <th>22</th>\n",
       "      <td>0.985629</td>\n",
       "      <td>0.957447</td>\n",
       "    </tr>\n",
       "    <tr>\n",
       "      <th>25</th>\n",
       "      <td>0.985303</td>\n",
       "      <td>0.954357</td>\n",
       "    </tr>\n",
       "    <tr>\n",
       "      <th>24</th>\n",
       "      <td>0.985396</td>\n",
       "      <td>0.954167</td>\n",
       "    </tr>\n",
       "    <tr>\n",
       "      <th>27</th>\n",
       "      <td>0.984800</td>\n",
       "      <td>0.952191</td>\n",
       "    </tr>\n",
       "    <tr>\n",
       "      <th>26</th>\n",
       "      <td>0.984817</td>\n",
       "      <td>0.952000</td>\n",
       "    </tr>\n",
       "    <tr>\n",
       "      <th>29</th>\n",
       "      <td>0.984327</td>\n",
       "      <td>0.949416</td>\n",
       "    </tr>\n",
       "    <tr>\n",
       "      <th>28</th>\n",
       "      <td>0.984373</td>\n",
       "      <td>0.949219</td>\n",
       "    </tr>\n",
       "    <tr>\n",
       "      <th>31</th>\n",
       "      <td>0.984143</td>\n",
       "      <td>0.946154</td>\n",
       "    </tr>\n",
       "    <tr>\n",
       "      <th>30</th>\n",
       "      <td>0.984296</td>\n",
       "      <td>0.945946</td>\n",
       "    </tr>\n",
       "    <tr>\n",
       "      <th>33</th>\n",
       "      <td>0.983421</td>\n",
       "      <td>0.945455</td>\n",
       "    </tr>\n",
       "    <tr>\n",
       "      <th>32</th>\n",
       "      <td>0.983447</td>\n",
       "      <td>0.945255</td>\n",
       "    </tr>\n",
       "    <tr>\n",
       "      <th>35</th>\n",
       "      <td>0.983221</td>\n",
       "      <td>0.942446</td>\n",
       "    </tr>\n",
       "    <tr>\n",
       "      <th>34</th>\n",
       "      <td>0.983236</td>\n",
       "      <td>0.942238</td>\n",
       "    </tr>\n",
       "    <tr>\n",
       "      <th>45</th>\n",
       "      <td>0.979364</td>\n",
       "      <td>0.940341</td>\n",
       "    </tr>\n",
       "    <tr>\n",
       "      <th>44</th>\n",
       "      <td>0.979408</td>\n",
       "      <td>0.940171</td>\n",
       "    </tr>\n",
       "    <tr>\n",
       "      <th>37</th>\n",
       "      <td>0.983005</td>\n",
       "      <td>0.939929</td>\n",
       "    </tr>\n",
       "    <tr>\n",
       "      <th>36</th>\n",
       "      <td>0.983024</td>\n",
       "      <td>0.939716</td>\n",
       "    </tr>\n",
       "    <tr>\n",
       "      <th>43</th>\n",
       "      <td>0.981129</td>\n",
       "      <td>0.938838</td>\n",
       "    </tr>\n",
       "    <tr>\n",
       "      <th>42</th>\n",
       "      <td>0.981150</td>\n",
       "      <td>0.938650</td>\n",
       "    </tr>\n",
       "    <tr>\n",
       "      <th>47</th>\n",
       "      <td>0.979219</td>\n",
       "      <td>0.938202</td>\n",
       "    </tr>\n",
       "    <tr>\n",
       "      <th>46</th>\n",
       "      <td>0.979259</td>\n",
       "      <td>0.938028</td>\n",
       "    </tr>\n",
       "    <tr>\n",
       "      <th>39</th>\n",
       "      <td>0.982879</td>\n",
       "      <td>0.937500</td>\n",
       "    </tr>\n",
       "    <tr>\n",
       "      <th>38</th>\n",
       "      <td>0.982882</td>\n",
       "      <td>0.937282</td>\n",
       "    </tr>\n",
       "    <tr>\n",
       "      <th>49</th>\n",
       "      <td>0.979174</td>\n",
       "      <td>0.935754</td>\n",
       "    </tr>\n",
       "    <tr>\n",
       "      <th>48</th>\n",
       "      <td>0.979194</td>\n",
       "      <td>0.935574</td>\n",
       "    </tr>\n",
       "    <tr>\n",
       "      <th>41</th>\n",
       "      <td>0.982774</td>\n",
       "      <td>0.934483</td>\n",
       "    </tr>\n",
       "    <tr>\n",
       "      <th>40</th>\n",
       "      <td>0.982787</td>\n",
       "      <td>0.934256</td>\n",
       "    </tr>\n",
       "    <tr>\n",
       "      <th>51</th>\n",
       "      <td>0.978927</td>\n",
       "      <td>0.934066</td>\n",
       "    </tr>\n",
       "    <tr>\n",
       "      <th>50</th>\n",
       "      <td>0.978986</td>\n",
       "      <td>0.933884</td>\n",
       "    </tr>\n",
       "    <tr>\n",
       "      <th>53</th>\n",
       "      <td>0.978441</td>\n",
       "      <td>0.933687</td>\n",
       "    </tr>\n",
       "    <tr>\n",
       "      <th>52</th>\n",
       "      <td>0.978463</td>\n",
       "      <td>0.933511</td>\n",
       "    </tr>\n",
       "    <tr>\n",
       "      <th>55</th>\n",
       "      <td>0.978400</td>\n",
       "      <td>0.931398</td>\n",
       "    </tr>\n",
       "    <tr>\n",
       "      <th>54</th>\n",
       "      <td>0.978436</td>\n",
       "      <td>0.931217</td>\n",
       "    </tr>\n",
       "    <tr>\n",
       "      <th>57</th>\n",
       "      <td>0.977661</td>\n",
       "      <td>0.931122</td>\n",
       "    </tr>\n",
       "    <tr>\n",
       "      <th>56</th>\n",
       "      <td>0.977774</td>\n",
       "      <td>0.930946</td>\n",
       "    </tr>\n",
       "    <tr>\n",
       "      <th>59</th>\n",
       "      <td>0.976908</td>\n",
       "      <td>0.930521</td>\n",
       "    </tr>\n",
       "    <tr>\n",
       "      <th>58</th>\n",
       "      <td>0.977071</td>\n",
       "      <td>0.930348</td>\n",
       "    </tr>\n",
       "    <tr>\n",
       "      <th>61</th>\n",
       "      <td>0.976721</td>\n",
       "      <td>0.929268</td>\n",
       "    </tr>\n",
       "    <tr>\n",
       "      <th>60</th>\n",
       "      <td>0.976726</td>\n",
       "      <td>0.929095</td>\n",
       "    </tr>\n",
       "  </tbody>\n",
       "</table>\n",
       "</div>"
      ],
      "text/plain": [
       "    thresolds  Precision\n",
       "2    0.997454   1.000000\n",
       "3    0.997447   1.000000\n",
       "5    0.995758   0.980769\n",
       "4    0.995789   0.980392\n",
       "9    0.989820   0.979866\n",
       "8    0.989871   0.979730\n",
       "11   0.989219   0.975000\n",
       "10   0.989345   0.974843\n",
       "13   0.988644   0.970238\n",
       "12   0.988664   0.970060\n",
       "7    0.995036   0.969697\n",
       "6    0.995039   0.969231\n",
       "15   0.988152   0.966851\n",
       "14   0.988248   0.966667\n",
       "17   0.987644   0.964286\n",
       "16   0.987747   0.964103\n",
       "19   0.986736   0.962085\n",
       "18   0.986799   0.961905\n",
       "21   0.985968   0.960699\n",
       "20   0.986032   0.960526\n",
       "23   0.985608   0.957627\n",
       "22   0.985629   0.957447\n",
       "25   0.985303   0.954357\n",
       "24   0.985396   0.954167\n",
       "27   0.984800   0.952191\n",
       "26   0.984817   0.952000\n",
       "29   0.984327   0.949416\n",
       "28   0.984373   0.949219\n",
       "31   0.984143   0.946154\n",
       "30   0.984296   0.945946\n",
       "33   0.983421   0.945455\n",
       "32   0.983447   0.945255\n",
       "35   0.983221   0.942446\n",
       "34   0.983236   0.942238\n",
       "45   0.979364   0.940341\n",
       "44   0.979408   0.940171\n",
       "37   0.983005   0.939929\n",
       "36   0.983024   0.939716\n",
       "43   0.981129   0.938838\n",
       "42   0.981150   0.938650\n",
       "47   0.979219   0.938202\n",
       "46   0.979259   0.938028\n",
       "39   0.982879   0.937500\n",
       "38   0.982882   0.937282\n",
       "49   0.979174   0.935754\n",
       "48   0.979194   0.935574\n",
       "41   0.982774   0.934483\n",
       "40   0.982787   0.934256\n",
       "51   0.978927   0.934066\n",
       "50   0.978986   0.933884\n",
       "53   0.978441   0.933687\n",
       "52   0.978463   0.933511\n",
       "55   0.978400   0.931398\n",
       "54   0.978436   0.931217\n",
       "57   0.977661   0.931122\n",
       "56   0.977774   0.930946\n",
       "59   0.976908   0.930521\n",
       "58   0.977071   0.930348\n",
       "61   0.976721   0.929268\n",
       "60   0.976726   0.929095"
      ]
     },
     "execution_count": 332,
     "metadata": {},
     "output_type": "execute_result"
    }
   ],
   "source": [
    "precision_ls.head(60)"
   ]
  },
  {
   "cell_type": "code",
   "execution_count": 344,
   "id": "162154a4",
   "metadata": {
    "scrolled": true
   },
   "outputs": [
    {
     "data": {
      "text/html": [
       "<div>\n",
       "<style scoped>\n",
       "    .dataframe tbody tr th:only-of-type {\n",
       "        vertical-align: middle;\n",
       "    }\n",
       "\n",
       "    .dataframe tbody tr th {\n",
       "        vertical-align: top;\n",
       "    }\n",
       "\n",
       "    .dataframe thead th {\n",
       "        text-align: right;\n",
       "    }\n",
       "</style>\n",
       "<table border=\"1\" class=\"dataframe\">\n",
       "  <thead>\n",
       "    <tr style=\"text-align: right;\">\n",
       "      <th></th>\n",
       "      <th>thresolds</th>\n",
       "      <th>Precision</th>\n",
       "    </tr>\n",
       "  </thead>\n",
       "  <tbody>\n",
       "    <tr>\n",
       "      <th>2700</th>\n",
       "      <td>0.653682</td>\n",
       "      <td>0.601584</td>\n",
       "    </tr>\n",
       "    <tr>\n",
       "      <th>2702</th>\n",
       "      <td>0.653601</td>\n",
       "      <td>0.601553</td>\n",
       "    </tr>\n",
       "    <tr>\n",
       "      <th>2704</th>\n",
       "      <td>0.653398</td>\n",
       "      <td>0.601521</td>\n",
       "    </tr>\n",
       "    <tr>\n",
       "      <th>2705</th>\n",
       "      <td>0.653229</td>\n",
       "      <td>0.601396</td>\n",
       "    </tr>\n",
       "    <tr>\n",
       "      <th>2706</th>\n",
       "      <td>0.653204</td>\n",
       "      <td>0.601303</td>\n",
       "    </tr>\n",
       "    <tr>\n",
       "      <th>2707</th>\n",
       "      <td>0.653035</td>\n",
       "      <td>0.601178</td>\n",
       "    </tr>\n",
       "    <tr>\n",
       "      <th>2708</th>\n",
       "      <td>0.652933</td>\n",
       "      <td>0.601085</td>\n",
       "    </tr>\n",
       "    <tr>\n",
       "      <th>2709</th>\n",
       "      <td>0.652751</td>\n",
       "      <td>0.600961</td>\n",
       "    </tr>\n",
       "    <tr>\n",
       "      <th>2711</th>\n",
       "      <td>0.652567</td>\n",
       "      <td>0.600930</td>\n",
       "    </tr>\n",
       "    <tr>\n",
       "      <th>2710</th>\n",
       "      <td>0.652700</td>\n",
       "      <td>0.600868</td>\n",
       "    </tr>\n",
       "    <tr>\n",
       "      <th>2712</th>\n",
       "      <td>0.652516</td>\n",
       "      <td>0.600836</td>\n",
       "    </tr>\n",
       "    <tr>\n",
       "      <th>2713</th>\n",
       "      <td>0.652357</td>\n",
       "      <td>0.600712</td>\n",
       "    </tr>\n",
       "    <tr>\n",
       "      <th>2717</th>\n",
       "      <td>0.652084</td>\n",
       "      <td>0.600712</td>\n",
       "    </tr>\n",
       "    <tr>\n",
       "      <th>2715</th>\n",
       "      <td>0.652300</td>\n",
       "      <td>0.600681</td>\n",
       "    </tr>\n",
       "    <tr>\n",
       "      <th>2718</th>\n",
       "      <td>0.652011</td>\n",
       "      <td>0.600680</td>\n",
       "    </tr>\n",
       "    <tr>\n",
       "      <th>2716</th>\n",
       "      <td>0.652133</td>\n",
       "      <td>0.600650</td>\n",
       "    </tr>\n",
       "    <tr>\n",
       "      <th>2714</th>\n",
       "      <td>0.652331</td>\n",
       "      <td>0.600619</td>\n",
       "    </tr>\n",
       "    <tr>\n",
       "      <th>2719</th>\n",
       "      <td>0.651655</td>\n",
       "      <td>0.600185</td>\n",
       "    </tr>\n",
       "    <tr>\n",
       "      <th>2720</th>\n",
       "      <td>0.651594</td>\n",
       "      <td>0.600093</td>\n",
       "    </tr>\n",
       "    <tr>\n",
       "      <th>2721</th>\n",
       "      <td>0.651385</td>\n",
       "      <td>0.599784</td>\n",
       "    </tr>\n",
       "    <tr>\n",
       "      <th>2722</th>\n",
       "      <td>0.651369</td>\n",
       "      <td>0.599691</td>\n",
       "    </tr>\n",
       "    <tr>\n",
       "      <th>2723</th>\n",
       "      <td>0.650970</td>\n",
       "      <td>0.599383</td>\n",
       "    </tr>\n",
       "    <tr>\n",
       "      <th>2724</th>\n",
       "      <td>0.650919</td>\n",
       "      <td>0.599291</td>\n",
       "    </tr>\n",
       "    <tr>\n",
       "      <th>2725</th>\n",
       "      <td>0.650742</td>\n",
       "      <td>0.598983</td>\n",
       "    </tr>\n",
       "    <tr>\n",
       "      <th>2727</th>\n",
       "      <td>0.650663</td>\n",
       "      <td>0.598953</td>\n",
       "    </tr>\n",
       "    <tr>\n",
       "      <th>2726</th>\n",
       "      <td>0.650666</td>\n",
       "      <td>0.598891</td>\n",
       "    </tr>\n",
       "    <tr>\n",
       "      <th>2728</th>\n",
       "      <td>0.650582</td>\n",
       "      <td>0.598860</td>\n",
       "    </tr>\n",
       "    <tr>\n",
       "      <th>2729</th>\n",
       "      <td>0.650351</td>\n",
       "      <td>0.598646</td>\n",
       "    </tr>\n",
       "    <tr>\n",
       "      <th>2730</th>\n",
       "      <td>0.650258</td>\n",
       "      <td>0.598615</td>\n",
       "    </tr>\n",
       "    <tr>\n",
       "      <th>2731</th>\n",
       "      <td>0.649924</td>\n",
       "      <td>0.598125</td>\n",
       "    </tr>\n",
       "    <tr>\n",
       "      <th>2732</th>\n",
       "      <td>0.649921</td>\n",
       "      <td>0.598033</td>\n",
       "    </tr>\n",
       "    <tr>\n",
       "      <th>2733</th>\n",
       "      <td>0.649868</td>\n",
       "      <td>0.598003</td>\n",
       "    </tr>\n",
       "    <tr>\n",
       "      <th>2734</th>\n",
       "      <td>0.649830</td>\n",
       "      <td>0.597911</td>\n",
       "    </tr>\n",
       "    <tr>\n",
       "      <th>2735</th>\n",
       "      <td>0.649720</td>\n",
       "      <td>0.597881</td>\n",
       "    </tr>\n",
       "    <tr>\n",
       "      <th>2748</th>\n",
       "      <td>0.648106</td>\n",
       "      <td>0.597826</td>\n",
       "    </tr>\n",
       "    <tr>\n",
       "      <th>2743</th>\n",
       "      <td>0.648869</td>\n",
       "      <td>0.597793</td>\n",
       "    </tr>\n",
       "    <tr>\n",
       "      <th>2739</th>\n",
       "      <td>0.649204</td>\n",
       "      <td>0.597791</td>\n",
       "    </tr>\n",
       "    <tr>\n",
       "      <th>2736</th>\n",
       "      <td>0.649629</td>\n",
       "      <td>0.597789</td>\n",
       "    </tr>\n",
       "    <tr>\n",
       "      <th>2745</th>\n",
       "      <td>0.648699</td>\n",
       "      <td>0.597763</td>\n",
       "    </tr>\n",
       "    <tr>\n",
       "      <th>2741</th>\n",
       "      <td>0.649074</td>\n",
       "      <td>0.597761</td>\n",
       "    </tr>\n",
       "    <tr>\n",
       "      <th>2737</th>\n",
       "      <td>0.649484</td>\n",
       "      <td>0.597759</td>\n",
       "    </tr>\n",
       "    <tr>\n",
       "      <th>2747</th>\n",
       "      <td>0.648497</td>\n",
       "      <td>0.597733</td>\n",
       "    </tr>\n",
       "    <tr>\n",
       "      <th>2742</th>\n",
       "      <td>0.648906</td>\n",
       "      <td>0.597731</td>\n",
       "    </tr>\n",
       "    <tr>\n",
       "      <th>2738</th>\n",
       "      <td>0.649308</td>\n",
       "      <td>0.597729</td>\n",
       "    </tr>\n",
       "    <tr>\n",
       "      <th>2744</th>\n",
       "      <td>0.648841</td>\n",
       "      <td>0.597701</td>\n",
       "    </tr>\n",
       "    <tr>\n",
       "      <th>2740</th>\n",
       "      <td>0.649093</td>\n",
       "      <td>0.597699</td>\n",
       "    </tr>\n",
       "    <tr>\n",
       "      <th>2746</th>\n",
       "      <td>0.648501</td>\n",
       "      <td>0.597671</td>\n",
       "    </tr>\n",
       "    <tr>\n",
       "      <th>2752</th>\n",
       "      <td>0.647486</td>\n",
       "      <td>0.597524</td>\n",
       "    </tr>\n",
       "    <tr>\n",
       "      <th>2749</th>\n",
       "      <td>0.647872</td>\n",
       "      <td>0.597522</td>\n",
       "    </tr>\n",
       "    <tr>\n",
       "      <th>2753</th>\n",
       "      <td>0.647140</td>\n",
       "      <td>0.597494</td>\n",
       "    </tr>\n",
       "  </tbody>\n",
       "</table>\n",
       "</div>"
      ],
      "text/plain": [
       "      thresolds  Precision\n",
       "2700   0.653682   0.601584\n",
       "2702   0.653601   0.601553\n",
       "2704   0.653398   0.601521\n",
       "2705   0.653229   0.601396\n",
       "2706   0.653204   0.601303\n",
       "2707   0.653035   0.601178\n",
       "2708   0.652933   0.601085\n",
       "2709   0.652751   0.600961\n",
       "2711   0.652567   0.600930\n",
       "2710   0.652700   0.600868\n",
       "2712   0.652516   0.600836\n",
       "2713   0.652357   0.600712\n",
       "2717   0.652084   0.600712\n",
       "2715   0.652300   0.600681\n",
       "2718   0.652011   0.600680\n",
       "2716   0.652133   0.600650\n",
       "2714   0.652331   0.600619\n",
       "2719   0.651655   0.600185\n",
       "2720   0.651594   0.600093\n",
       "2721   0.651385   0.599784\n",
       "2722   0.651369   0.599691\n",
       "2723   0.650970   0.599383\n",
       "2724   0.650919   0.599291\n",
       "2725   0.650742   0.598983\n",
       "2727   0.650663   0.598953\n",
       "2726   0.650666   0.598891\n",
       "2728   0.650582   0.598860\n",
       "2729   0.650351   0.598646\n",
       "2730   0.650258   0.598615\n",
       "2731   0.649924   0.598125\n",
       "2732   0.649921   0.598033\n",
       "2733   0.649868   0.598003\n",
       "2734   0.649830   0.597911\n",
       "2735   0.649720   0.597881\n",
       "2748   0.648106   0.597826\n",
       "2743   0.648869   0.597793\n",
       "2739   0.649204   0.597791\n",
       "2736   0.649629   0.597789\n",
       "2745   0.648699   0.597763\n",
       "2741   0.649074   0.597761\n",
       "2737   0.649484   0.597759\n",
       "2747   0.648497   0.597733\n",
       "2742   0.648906   0.597731\n",
       "2738   0.649308   0.597729\n",
       "2744   0.648841   0.597701\n",
       "2740   0.649093   0.597699\n",
       "2746   0.648501   0.597671\n",
       "2752   0.647486   0.597524\n",
       "2749   0.647872   0.597522\n",
       "2753   0.647140   0.597494"
      ]
     },
     "execution_count": 344,
     "metadata": {},
     "output_type": "execute_result"
    }
   ],
   "source": [
    "precision_ls[2700:2750]"
   ]
  },
  {
   "cell_type": "code",
   "execution_count": 365,
   "id": "43067f63",
   "metadata": {
    "scrolled": true
   },
   "outputs": [
    {
     "data": {
      "text/html": [
       "<div>\n",
       "<style scoped>\n",
       "    .dataframe tbody tr th:only-of-type {\n",
       "        vertical-align: middle;\n",
       "    }\n",
       "\n",
       "    .dataframe tbody tr th {\n",
       "        vertical-align: top;\n",
       "    }\n",
       "\n",
       "    .dataframe thead th {\n",
       "        text-align: right;\n",
       "    }\n",
       "</style>\n",
       "<table border=\"1\" class=\"dataframe\">\n",
       "  <thead>\n",
       "    <tr style=\"text-align: right;\">\n",
       "      <th></th>\n",
       "      <th>thresolds</th>\n",
       "      <th>Precision</th>\n",
       "    </tr>\n",
       "  </thead>\n",
       "  <tbody>\n",
       "    <tr>\n",
       "      <th>3852</th>\n",
       "      <td>0.502318</td>\n",
       "      <td>0.502479</td>\n",
       "    </tr>\n",
       "    <tr>\n",
       "      <th>3854</th>\n",
       "      <td>0.502188</td>\n",
       "      <td>0.502478</td>\n",
       "    </tr>\n",
       "    <tr>\n",
       "      <th>3856</th>\n",
       "      <td>0.502136</td>\n",
       "      <td>0.502478</td>\n",
       "    </tr>\n",
       "    <tr>\n",
       "      <th>3844</th>\n",
       "      <td>0.502744</td>\n",
       "      <td>0.502428</td>\n",
       "    </tr>\n",
       "    <tr>\n",
       "      <th>3846</th>\n",
       "      <td>0.502734</td>\n",
       "      <td>0.502427</td>\n",
       "    </tr>\n",
       "    <tr>\n",
       "      <th>3857</th>\n",
       "      <td>0.501533</td>\n",
       "      <td>0.502153</td>\n",
       "    </tr>\n",
       "    <tr>\n",
       "      <th>3858</th>\n",
       "      <td>0.501498</td>\n",
       "      <td>0.502099</td>\n",
       "    </tr>\n",
       "    <tr>\n",
       "      <th>3859</th>\n",
       "      <td>0.501067</td>\n",
       "      <td>0.501828</td>\n",
       "    </tr>\n",
       "    <tr>\n",
       "      <th>3861</th>\n",
       "      <td>0.500892</td>\n",
       "      <td>0.501828</td>\n",
       "    </tr>\n",
       "    <tr>\n",
       "      <th>3862</th>\n",
       "      <td>0.500779</td>\n",
       "      <td>0.501828</td>\n",
       "    </tr>\n",
       "    <tr>\n",
       "      <th>3863</th>\n",
       "      <td>0.500746</td>\n",
       "      <td>0.501827</td>\n",
       "    </tr>\n",
       "    <tr>\n",
       "      <th>3860</th>\n",
       "      <td>0.500960</td>\n",
       "      <td>0.501774</td>\n",
       "    </tr>\n",
       "    <tr>\n",
       "      <th>3864</th>\n",
       "      <td>0.500733</td>\n",
       "      <td>0.501773</td>\n",
       "    </tr>\n",
       "    <tr>\n",
       "      <th>3865</th>\n",
       "      <td>0.500681</td>\n",
       "      <td>0.501773</td>\n",
       "    </tr>\n",
       "    <tr>\n",
       "      <th>3866</th>\n",
       "      <td>0.500615</td>\n",
       "      <td>0.501719</td>\n",
       "    </tr>\n",
       "    <tr>\n",
       "      <th>3868</th>\n",
       "      <td>0.500134</td>\n",
       "      <td>0.501449</td>\n",
       "    </tr>\n",
       "    <tr>\n",
       "      <th>3867</th>\n",
       "      <td>0.500221</td>\n",
       "      <td>0.501395</td>\n",
       "    </tr>\n",
       "    <tr>\n",
       "      <th>3869</th>\n",
       "      <td>0.499890</td>\n",
       "      <td>0.501287</td>\n",
       "    </tr>\n",
       "    <tr>\n",
       "      <th>3870</th>\n",
       "      <td>0.499875</td>\n",
       "      <td>0.501233</td>\n",
       "    </tr>\n",
       "    <tr>\n",
       "      <th>3871</th>\n",
       "      <td>0.499597</td>\n",
       "      <td>0.501179</td>\n",
       "    </tr>\n",
       "    <tr>\n",
       "      <th>3872</th>\n",
       "      <td>0.499578</td>\n",
       "      <td>0.501126</td>\n",
       "    </tr>\n",
       "    <tr>\n",
       "      <th>3873</th>\n",
       "      <td>0.499398</td>\n",
       "      <td>0.501018</td>\n",
       "    </tr>\n",
       "    <tr>\n",
       "      <th>3874</th>\n",
       "      <td>0.499397</td>\n",
       "      <td>0.500964</td>\n",
       "    </tr>\n",
       "    <tr>\n",
       "      <th>3875</th>\n",
       "      <td>0.499275</td>\n",
       "      <td>0.500964</td>\n",
       "    </tr>\n",
       "    <tr>\n",
       "      <th>3876</th>\n",
       "      <td>0.499236</td>\n",
       "      <td>0.500910</td>\n",
       "    </tr>\n",
       "    <tr>\n",
       "      <th>3877</th>\n",
       "      <td>0.499200</td>\n",
       "      <td>0.500910</td>\n",
       "    </tr>\n",
       "    <tr>\n",
       "      <th>3879</th>\n",
       "      <td>0.499171</td>\n",
       "      <td>0.500910</td>\n",
       "    </tr>\n",
       "    <tr>\n",
       "      <th>3878</th>\n",
       "      <td>0.499184</td>\n",
       "      <td>0.500857</td>\n",
       "    </tr>\n",
       "    <tr>\n",
       "      <th>3880</th>\n",
       "      <td>0.499147</td>\n",
       "      <td>0.500856</td>\n",
       "    </tr>\n",
       "    <tr>\n",
       "      <th>3881</th>\n",
       "      <td>0.498923</td>\n",
       "      <td>0.500803</td>\n",
       "    </tr>\n",
       "    <tr>\n",
       "      <th>3882</th>\n",
       "      <td>0.498869</td>\n",
       "      <td>0.500749</td>\n",
       "    </tr>\n",
       "    <tr>\n",
       "      <th>3883</th>\n",
       "      <td>0.498491</td>\n",
       "      <td>0.500428</td>\n",
       "    </tr>\n",
       "    <tr>\n",
       "      <th>3884</th>\n",
       "      <td>0.498478</td>\n",
       "      <td>0.500374</td>\n",
       "    </tr>\n",
       "    <tr>\n",
       "      <th>3885</th>\n",
       "      <td>0.498301</td>\n",
       "      <td>0.500053</td>\n",
       "    </tr>\n",
       "    <tr>\n",
       "      <th>3887</th>\n",
       "      <td>0.498176</td>\n",
       "      <td>0.500053</td>\n",
       "    </tr>\n",
       "    <tr>\n",
       "      <th>3886</th>\n",
       "      <td>0.498268</td>\n",
       "      <td>0.500000</td>\n",
       "    </tr>\n",
       "    <tr>\n",
       "      <th>3888</th>\n",
       "      <td>0.498157</td>\n",
       "      <td>0.500000</td>\n",
       "    </tr>\n",
       "    <tr>\n",
       "      <th>3889</th>\n",
       "      <td>0.498128</td>\n",
       "      <td>0.500000</td>\n",
       "    </tr>\n",
       "    <tr>\n",
       "      <th>3890</th>\n",
       "      <td>0.498071</td>\n",
       "      <td>0.499947</td>\n",
       "    </tr>\n",
       "    <tr>\n",
       "      <th>3891</th>\n",
       "      <td>0.497201</td>\n",
       "      <td>0.499148</td>\n",
       "    </tr>\n",
       "    <tr>\n",
       "      <th>3892</th>\n",
       "      <td>0.497179</td>\n",
       "      <td>0.499094</td>\n",
       "    </tr>\n",
       "    <tr>\n",
       "      <th>3893</th>\n",
       "      <td>0.496737</td>\n",
       "      <td>0.498829</td>\n",
       "    </tr>\n",
       "    <tr>\n",
       "      <th>3894</th>\n",
       "      <td>0.496630</td>\n",
       "      <td>0.498776</td>\n",
       "    </tr>\n",
       "    <tr>\n",
       "      <th>3895</th>\n",
       "      <td>0.495931</td>\n",
       "      <td>0.497981</td>\n",
       "    </tr>\n",
       "    <tr>\n",
       "      <th>3896</th>\n",
       "      <td>0.495920</td>\n",
       "      <td>0.497928</td>\n",
       "    </tr>\n",
       "    <tr>\n",
       "      <th>3897</th>\n",
       "      <td>0.495817</td>\n",
       "      <td>0.497876</td>\n",
       "    </tr>\n",
       "    <tr>\n",
       "      <th>3898</th>\n",
       "      <td>0.495786</td>\n",
       "      <td>0.497823</td>\n",
       "    </tr>\n",
       "    <tr>\n",
       "      <th>3899</th>\n",
       "      <td>0.495708</td>\n",
       "      <td>0.497507</td>\n",
       "    </tr>\n",
       "    <tr>\n",
       "      <th>3900</th>\n",
       "      <td>0.495681</td>\n",
       "      <td>0.497454</td>\n",
       "    </tr>\n",
       "    <tr>\n",
       "      <th>3907</th>\n",
       "      <td>0.495348</td>\n",
       "      <td>0.497403</td>\n",
       "    </tr>\n",
       "  </tbody>\n",
       "</table>\n",
       "</div>"
      ],
      "text/plain": [
       "      thresolds  Precision\n",
       "3852   0.502318   0.502479\n",
       "3854   0.502188   0.502478\n",
       "3856   0.502136   0.502478\n",
       "3844   0.502744   0.502428\n",
       "3846   0.502734   0.502427\n",
       "3857   0.501533   0.502153\n",
       "3858   0.501498   0.502099\n",
       "3859   0.501067   0.501828\n",
       "3861   0.500892   0.501828\n",
       "3862   0.500779   0.501828\n",
       "3863   0.500746   0.501827\n",
       "3860   0.500960   0.501774\n",
       "3864   0.500733   0.501773\n",
       "3865   0.500681   0.501773\n",
       "3866   0.500615   0.501719\n",
       "3868   0.500134   0.501449\n",
       "3867   0.500221   0.501395\n",
       "3869   0.499890   0.501287\n",
       "3870   0.499875   0.501233\n",
       "3871   0.499597   0.501179\n",
       "3872   0.499578   0.501126\n",
       "3873   0.499398   0.501018\n",
       "3874   0.499397   0.500964\n",
       "3875   0.499275   0.500964\n",
       "3876   0.499236   0.500910\n",
       "3877   0.499200   0.500910\n",
       "3879   0.499171   0.500910\n",
       "3878   0.499184   0.500857\n",
       "3880   0.499147   0.500856\n",
       "3881   0.498923   0.500803\n",
       "3882   0.498869   0.500749\n",
       "3883   0.498491   0.500428\n",
       "3884   0.498478   0.500374\n",
       "3885   0.498301   0.500053\n",
       "3887   0.498176   0.500053\n",
       "3886   0.498268   0.500000\n",
       "3888   0.498157   0.500000\n",
       "3889   0.498128   0.500000\n",
       "3890   0.498071   0.499947\n",
       "3891   0.497201   0.499148\n",
       "3892   0.497179   0.499094\n",
       "3893   0.496737   0.498829\n",
       "3894   0.496630   0.498776\n",
       "3895   0.495931   0.497981\n",
       "3896   0.495920   0.497928\n",
       "3897   0.495817   0.497876\n",
       "3898   0.495786   0.497823\n",
       "3899   0.495708   0.497507\n",
       "3900   0.495681   0.497454\n",
       "3907   0.495348   0.497403"
      ]
     },
     "execution_count": 365,
     "metadata": {},
     "output_type": "execute_result"
    }
   ],
   "source": [
    "precision_ls[3850:3900]"
   ]
  },
  {
   "cell_type": "code",
   "execution_count": 407,
   "id": "272e1fd8",
   "metadata": {},
   "outputs": [],
   "source": [
    "final_pred3A = final_pred3.copy()"
   ]
  },
  {
   "cell_type": "code",
   "execution_count": 408,
   "id": "c0ace65d",
   "metadata": {},
   "outputs": [],
   "source": [
    "final_pred3A.loc[final_pred3A[0] >=0.498128 , 0] = 1\n",
    "final_pred3A.loc[final_pred3A[0] <=0.498128 , 0] = 0"
   ]
  },
  {
   "cell_type": "code",
   "execution_count": 409,
   "id": "287278de",
   "metadata": {},
   "outputs": [
    {
     "name": "stdout",
     "output_type": "stream",
     "text": [
      "Accuracy: 0.7786019971469329\n",
      "Precision: 0.5\n",
      "Recall: 0.7545103092783505\n",
      "f1 score: 0.6014381099126862\n",
      "MCC score: 0.4752998101693703\n"
     ]
    }
   ],
   "source": [
    "print(\"Accuracy:\",accuracy_score(y_test, final_pred3A))\n",
    "print(\"Precision:\",precision_score(y_test, final_pred3A))\n",
    "print(\"Recall:\",recall_score(y_test, final_pred3A))\n",
    "print(\"f1 score:\",f1_score(y_test, final_pred3A))\n",
    "print(\"MCC score:\",matthews_corrcoef(y_test, final_pred3A))"
   ]
  },
  {
   "cell_type": "code",
   "execution_count": 373,
   "id": "662df4ff",
   "metadata": {},
   "outputs": [
    {
     "data": {
      "text/plain": [
       "0    0.334094\n",
       "dtype: float64"
      ]
     },
     "execution_count": 373,
     "metadata": {},
     "output_type": "execute_result"
    }
   ],
   "source": [
    "final_pred3A.mean()"
   ]
  },
  {
   "cell_type": "code",
   "execution_count": null,
   "id": "b27be054",
   "metadata": {},
   "outputs": [],
   "source": []
  },
  {
   "cell_type": "code",
   "execution_count": 374,
   "id": "65a12d13",
   "metadata": {},
   "outputs": [
    {
     "data": {
      "text/plain": [
       "(28040, 1)"
      ]
     },
     "execution_count": 374,
     "metadata": {},
     "output_type": "execute_result"
    }
   ],
   "source": [
    "y_test.shape"
   ]
  },
  {
   "cell_type": "code",
   "execution_count": 376,
   "id": "dcc73cec",
   "metadata": {},
   "outputs": [
    {
     "data": {
      "text/plain": [
       "RainTomorrow    0.221398\n",
       "dtype: float64"
      ]
     },
     "execution_count": 376,
     "metadata": {},
     "output_type": "execute_result"
    }
   ],
   "source": [
    "y_test.mean()"
   ]
  },
  {
   "cell_type": "code",
   "execution_count": 377,
   "id": "15118827",
   "metadata": {},
   "outputs": [],
   "source": [
    "from sklearn.utils import resample"
   ]
  },
  {
   "cell_type": "code",
   "execution_count": 387,
   "id": "7034a822",
   "metadata": {},
   "outputs": [],
   "source": [
    "x = pd.concat([x_test,y_test],axis=1)"
   ]
  },
  {
   "cell_type": "code",
   "execution_count": 388,
   "id": "fa1be9e3",
   "metadata": {},
   "outputs": [],
   "source": [
    "df_minority = x.loc[x['RainTomorrow']==1]\n",
    "df_majority = x.loc[x['RainTomorrow']==0]"
   ]
  },
  {
   "cell_type": "code",
   "execution_count": 389,
   "id": "d827d4c1",
   "metadata": {},
   "outputs": [
    {
     "data": {
      "text/plain": [
       "(21832, 19)"
      ]
     },
     "execution_count": 389,
     "metadata": {},
     "output_type": "execute_result"
    }
   ],
   "source": [
    "df_majority.shape"
   ]
  },
  {
   "cell_type": "code",
   "execution_count": 390,
   "id": "7a2da371",
   "metadata": {},
   "outputs": [
    {
     "data": {
      "text/plain": [
       "(6208, 19)"
      ]
     },
     "execution_count": 390,
     "metadata": {},
     "output_type": "execute_result"
    }
   ],
   "source": [
    "df_minority.shape"
   ]
  },
  {
   "cell_type": "code",
   "execution_count": 391,
   "id": "83757625",
   "metadata": {},
   "outputs": [],
   "source": [
    "df_majority_downsampled = resample(df_majority,      \n",
    "                                 n_samples=5000,random_state = 0)"
   ]
  },
  {
   "cell_type": "code",
   "execution_count": 392,
   "id": "94b2c60b",
   "metadata": {},
   "outputs": [],
   "source": [
    "df_minority_downsampled = resample(df_minority,    \n",
    "                                 n_samples=5000,random_state = 0)"
   ]
  },
  {
   "cell_type": "code",
   "execution_count": 393,
   "id": "7404ffa6",
   "metadata": {},
   "outputs": [],
   "source": [
    "x = pd.concat([df_majority_downsampled,df_minority_downsampled],axis=0)"
   ]
  },
  {
   "cell_type": "code",
   "execution_count": 394,
   "id": "2c268817",
   "metadata": {},
   "outputs": [
    {
     "data": {
      "text/plain": [
       "(10000, 19)"
      ]
     },
     "execution_count": 394,
     "metadata": {},
     "output_type": "execute_result"
    }
   ],
   "source": [
    "x.shape"
   ]
  },
  {
   "cell_type": "code",
   "execution_count": 395,
   "id": "52fca012",
   "metadata": {},
   "outputs": [
    {
     "data": {
      "text/plain": [
       "0.5"
      ]
     },
     "execution_count": 395,
     "metadata": {},
     "output_type": "execute_result"
    }
   ],
   "source": [
    "x['RainTomorrow'].mean()"
   ]
  },
  {
   "cell_type": "code",
   "execution_count": 396,
   "id": "38c34340",
   "metadata": {},
   "outputs": [],
   "source": [
    "x = x.reset_index(drop=True)"
   ]
  },
  {
   "cell_type": "code",
   "execution_count": 397,
   "id": "e2853b63",
   "metadata": {},
   "outputs": [],
   "source": [
    "x_test2 = x.drop('RainTomorrow',axis=1)\n",
    "y_test2 = x['RainTomorrow']\n",
    "\n",
    "y_test2 = pd.DataFrame(y_test2)"
   ]
  },
  {
   "cell_type": "code",
   "execution_count": 398,
   "id": "051d2912",
   "metadata": {},
   "outputs": [
    {
     "data": {
      "text/html": [
       "<div>\n",
       "<style scoped>\n",
       "    .dataframe tbody tr th:only-of-type {\n",
       "        vertical-align: middle;\n",
       "    }\n",
       "\n",
       "    .dataframe tbody tr th {\n",
       "        vertical-align: top;\n",
       "    }\n",
       "\n",
       "    .dataframe thead th {\n",
       "        text-align: right;\n",
       "    }\n",
       "</style>\n",
       "<table border=\"1\" class=\"dataframe\">\n",
       "  <thead>\n",
       "    <tr style=\"text-align: right;\">\n",
       "      <th></th>\n",
       "      <th>0</th>\n",
       "    </tr>\n",
       "  </thead>\n",
       "  <tbody>\n",
       "    <tr>\n",
       "      <th>0</th>\n",
       "      <td>0.112048</td>\n",
       "    </tr>\n",
       "    <tr>\n",
       "      <th>1</th>\n",
       "      <td>0.389410</td>\n",
       "    </tr>\n",
       "    <tr>\n",
       "      <th>2</th>\n",
       "      <td>0.052644</td>\n",
       "    </tr>\n",
       "    <tr>\n",
       "      <th>3</th>\n",
       "      <td>0.591629</td>\n",
       "    </tr>\n",
       "    <tr>\n",
       "      <th>4</th>\n",
       "      <td>0.374985</td>\n",
       "    </tr>\n",
       "  </tbody>\n",
       "</table>\n",
       "</div>"
      ],
      "text/plain": [
       "          0\n",
       "0  0.112048\n",
       "1  0.389410\n",
       "2  0.052644\n",
       "3  0.591629\n",
       "4  0.374985"
      ]
     },
     "execution_count": 398,
     "metadata": {},
     "output_type": "execute_result"
    }
   ],
   "source": [
    "lr.predict_proba(x_test2)\n",
    "y_test_pred4 = lr.predict_proba(x_test2)[:,1]\n",
    "final_pred3 = pd.DataFrame(y_test_pred4)\n",
    "final_pred3.head()"
   ]
  },
  {
   "cell_type": "code",
   "execution_count": 399,
   "id": "0891486c",
   "metadata": {},
   "outputs": [
    {
     "name": "stdout",
     "output_type": "stream",
     "text": [
      "Accuracy: 0.774\n",
      "Precision: 0.7821252059308073\n",
      "Recall: 0.7596\n"
     ]
    }
   ],
   "source": [
    "final_pred3A = final_pred3.copy()\n",
    "\n",
    "final_pred3A.loc[final_pred3A[0] >=0.498128 , 0] = 1\n",
    "final_pred3A.loc[final_pred3A[0] <=0.498128 , 0] = 0\n",
    "\n",
    "print(\"Accuracy:\",accuracy_score(y_test2, final_pred3A))\n",
    "print(\"Precision:\",precision_score(y_test2, final_pred3A))\n",
    "print(\"Recall:\",recall_score(y_test2, final_pred3A))"
   ]
  },
  {
   "cell_type": "code",
   "execution_count": null,
   "id": "5e1c1c6b",
   "metadata": {},
   "outputs": [],
   "source": []
  },
  {
   "cell_type": "code",
   "execution_count": 348,
   "id": "189cbf52",
   "metadata": {},
   "outputs": [
    {
     "data": {
      "text/plain": [
       "array([0.08238898, 0.23696148, 0.87327356, ..., 0.02325532, 0.25903106,\n",
       "       0.90572591])"
      ]
     },
     "execution_count": 348,
     "metadata": {},
     "output_type": "execute_result"
    }
   ],
   "source": [
    "y_test_pred5 = lr.predict_proba(x_test)[:,1]\n",
    "y_test_pred5"
   ]
  },
  {
   "cell_type": "code",
   "execution_count": 349,
   "id": "2701694e",
   "metadata": {},
   "outputs": [
    {
     "data": {
      "text/html": [
       "<div>\n",
       "<style scoped>\n",
       "    .dataframe tbody tr th:only-of-type {\n",
       "        vertical-align: middle;\n",
       "    }\n",
       "\n",
       "    .dataframe tbody tr th {\n",
       "        vertical-align: top;\n",
       "    }\n",
       "\n",
       "    .dataframe thead th {\n",
       "        text-align: right;\n",
       "    }\n",
       "</style>\n",
       "<table border=\"1\" class=\"dataframe\">\n",
       "  <thead>\n",
       "    <tr style=\"text-align: right;\">\n",
       "      <th></th>\n",
       "      <th>0</th>\n",
       "    </tr>\n",
       "  </thead>\n",
       "  <tbody>\n",
       "    <tr>\n",
       "      <th>0</th>\n",
       "      <td>0.082389</td>\n",
       "    </tr>\n",
       "    <tr>\n",
       "      <th>1</th>\n",
       "      <td>0.236961</td>\n",
       "    </tr>\n",
       "    <tr>\n",
       "      <th>2</th>\n",
       "      <td>0.873274</td>\n",
       "    </tr>\n",
       "    <tr>\n",
       "      <th>3</th>\n",
       "      <td>0.709132</td>\n",
       "    </tr>\n",
       "    <tr>\n",
       "      <th>4</th>\n",
       "      <td>0.015849</td>\n",
       "    </tr>\n",
       "  </tbody>\n",
       "</table>\n",
       "</div>"
      ],
      "text/plain": [
       "          0\n",
       "0  0.082389\n",
       "1  0.236961\n",
       "2  0.873274\n",
       "3  0.709132\n",
       "4  0.015849"
      ]
     },
     "execution_count": 349,
     "metadata": {},
     "output_type": "execute_result"
    }
   ],
   "source": [
    "final_pred5 = pd.DataFrame(y_test_pred5)\n",
    "final_pred5.head()"
   ]
  },
  {
   "cell_type": "code",
   "execution_count": 350,
   "id": "c4b1b4fe",
   "metadata": {},
   "outputs": [
    {
     "data": {
      "text/html": [
       "<div>\n",
       "<style scoped>\n",
       "    .dataframe tbody tr th:only-of-type {\n",
       "        vertical-align: middle;\n",
       "    }\n",
       "\n",
       "    .dataframe tbody tr th {\n",
       "        vertical-align: top;\n",
       "    }\n",
       "\n",
       "    .dataframe thead th {\n",
       "        text-align: right;\n",
       "    }\n",
       "</style>\n",
       "<table border=\"1\" class=\"dataframe\">\n",
       "  <thead>\n",
       "    <tr style=\"text-align: right;\">\n",
       "      <th></th>\n",
       "      <th>RainTomorrow</th>\n",
       "    </tr>\n",
       "  </thead>\n",
       "  <tbody>\n",
       "    <tr>\n",
       "      <th>0</th>\n",
       "      <td>0</td>\n",
       "    </tr>\n",
       "    <tr>\n",
       "      <th>1</th>\n",
       "      <td>0</td>\n",
       "    </tr>\n",
       "    <tr>\n",
       "      <th>2</th>\n",
       "      <td>1</td>\n",
       "    </tr>\n",
       "    <tr>\n",
       "      <th>3</th>\n",
       "      <td>0</td>\n",
       "    </tr>\n",
       "    <tr>\n",
       "      <th>4</th>\n",
       "      <td>0</td>\n",
       "    </tr>\n",
       "    <tr>\n",
       "      <th>...</th>\n",
       "      <td>...</td>\n",
       "    </tr>\n",
       "    <tr>\n",
       "      <th>28035</th>\n",
       "      <td>1</td>\n",
       "    </tr>\n",
       "    <tr>\n",
       "      <th>28036</th>\n",
       "      <td>0</td>\n",
       "    </tr>\n",
       "    <tr>\n",
       "      <th>28037</th>\n",
       "      <td>0</td>\n",
       "    </tr>\n",
       "    <tr>\n",
       "      <th>28038</th>\n",
       "      <td>0</td>\n",
       "    </tr>\n",
       "    <tr>\n",
       "      <th>28039</th>\n",
       "      <td>0</td>\n",
       "    </tr>\n",
       "  </tbody>\n",
       "</table>\n",
       "<p>28040 rows × 1 columns</p>\n",
       "</div>"
      ],
      "text/plain": [
       "       RainTomorrow\n",
       "0                 0\n",
       "1                 0\n",
       "2                 1\n",
       "3                 0\n",
       "4                 0\n",
       "...             ...\n",
       "28035             1\n",
       "28036             0\n",
       "28037             0\n",
       "28038             0\n",
       "28039             0\n",
       "\n",
       "[28040 rows x 1 columns]"
      ]
     },
     "execution_count": 350,
     "metadata": {},
     "output_type": "execute_result"
    }
   ],
   "source": [
    "y_test"
   ]
  },
  {
   "cell_type": "code",
   "execution_count": 351,
   "id": "e308efbe",
   "metadata": {},
   "outputs": [
    {
     "data": {
      "text/plain": [
       "array([1.99965317, 0.99965317, 0.99745401, ..., 0.01922881, 0.01919872,\n",
       "       0.00211415])"
      ]
     },
     "execution_count": 351,
     "metadata": {},
     "output_type": "execute_result"
    }
   ],
   "source": [
    "fpr , tpr , thresolds = roc_curve(y_test , final_pred5)\n",
    "thresolds"
   ]
  },
  {
   "cell_type": "code",
   "execution_count": 352,
   "id": "3fb791c7",
   "metadata": {},
   "outputs": [
    {
     "data": {
      "text/html": [
       "<div>\n",
       "<style scoped>\n",
       "    .dataframe tbody tr th:only-of-type {\n",
       "        vertical-align: middle;\n",
       "    }\n",
       "\n",
       "    .dataframe tbody tr th {\n",
       "        vertical-align: top;\n",
       "    }\n",
       "\n",
       "    .dataframe thead th {\n",
       "        text-align: right;\n",
       "    }\n",
       "</style>\n",
       "<table border=\"1\" class=\"dataframe\">\n",
       "  <thead>\n",
       "    <tr style=\"text-align: right;\">\n",
       "      <th></th>\n",
       "      <th>thresolds</th>\n",
       "      <th>recall</th>\n",
       "    </tr>\n",
       "  </thead>\n",
       "  <tbody>\n",
       "    <tr>\n",
       "      <th>6521</th>\n",
       "      <td>0.002114</td>\n",
       "      <td>1.000000</td>\n",
       "    </tr>\n",
       "    <tr>\n",
       "      <th>6520</th>\n",
       "      <td>0.019199</td>\n",
       "      <td>0.999839</td>\n",
       "    </tr>\n",
       "    <tr>\n",
       "      <th>6519</th>\n",
       "      <td>0.019229</td>\n",
       "      <td>0.999839</td>\n",
       "    </tr>\n",
       "    <tr>\n",
       "      <th>6518</th>\n",
       "      <td>0.022872</td>\n",
       "      <td>0.999678</td>\n",
       "    </tr>\n",
       "    <tr>\n",
       "      <th>6517</th>\n",
       "      <td>0.022888</td>\n",
       "      <td>0.999678</td>\n",
       "    </tr>\n",
       "  </tbody>\n",
       "</table>\n",
       "</div>"
      ],
      "text/plain": [
       "      thresolds    recall\n",
       "6521   0.002114  1.000000\n",
       "6520   0.019199  0.999839\n",
       "6519   0.019229  0.999839\n",
       "6518   0.022872  0.999678\n",
       "6517   0.022888  0.999678"
      ]
     },
     "execution_count": 352,
     "metadata": {},
     "output_type": "execute_result"
    }
   ],
   "source": [
    "recall_ls = []\n",
    "for thres in thresolds:\n",
    "    y_pred = np.where(final_pred5>thres,1,0)\n",
    "    recall_ls.append(recall_score(y_test, y_pred))\n",
    "    \n",
    "recall_ls = pd.concat([pd.Series(thresolds), pd.Series(recall_ls)],\n",
    "                        axis=1)\n",
    "recall_ls.columns = ['thresolds', 'recall']\n",
    "recall_ls.sort_values(by='recall', ascending=False, inplace=True)\n",
    "recall_ls.head()"
   ]
  },
  {
   "cell_type": "code",
   "execution_count": 354,
   "id": "515b1835",
   "metadata": {
    "scrolled": true
   },
   "outputs": [
    {
     "data": {
      "text/html": [
       "<div>\n",
       "<style scoped>\n",
       "    .dataframe tbody tr th:only-of-type {\n",
       "        vertical-align: middle;\n",
       "    }\n",
       "\n",
       "    .dataframe tbody tr th {\n",
       "        vertical-align: top;\n",
       "    }\n",
       "\n",
       "    .dataframe thead th {\n",
       "        text-align: right;\n",
       "    }\n",
       "</style>\n",
       "<table border=\"1\" class=\"dataframe\">\n",
       "  <thead>\n",
       "    <tr style=\"text-align: right;\">\n",
       "      <th></th>\n",
       "      <th>thresolds</th>\n",
       "      <th>recall</th>\n",
       "    </tr>\n",
       "  </thead>\n",
       "  <tbody>\n",
       "    <tr>\n",
       "      <th>4191</th>\n",
       "      <td>0.459635</td>\n",
       "      <td>0.785277</td>\n",
       "    </tr>\n",
       "    <tr>\n",
       "      <th>4190</th>\n",
       "      <td>0.459707</td>\n",
       "      <td>0.785116</td>\n",
       "    </tr>\n",
       "    <tr>\n",
       "      <th>4189</th>\n",
       "      <td>0.459763</td>\n",
       "      <td>0.785116</td>\n",
       "    </tr>\n",
       "    <tr>\n",
       "      <th>4188</th>\n",
       "      <td>0.460012</td>\n",
       "      <td>0.784955</td>\n",
       "    </tr>\n",
       "    <tr>\n",
       "      <th>4187</th>\n",
       "      <td>0.460070</td>\n",
       "      <td>0.784955</td>\n",
       "    </tr>\n",
       "    <tr>\n",
       "      <th>4186</th>\n",
       "      <td>0.461511</td>\n",
       "      <td>0.784794</td>\n",
       "    </tr>\n",
       "    <tr>\n",
       "      <th>4185</th>\n",
       "      <td>0.461529</td>\n",
       "      <td>0.784794</td>\n",
       "    </tr>\n",
       "    <tr>\n",
       "      <th>4183</th>\n",
       "      <td>0.461839</td>\n",
       "      <td>0.784633</td>\n",
       "    </tr>\n",
       "    <tr>\n",
       "      <th>4184</th>\n",
       "      <td>0.461760</td>\n",
       "      <td>0.784633</td>\n",
       "    </tr>\n",
       "    <tr>\n",
       "      <th>4182</th>\n",
       "      <td>0.461981</td>\n",
       "      <td>0.784472</td>\n",
       "    </tr>\n",
       "    <tr>\n",
       "      <th>4181</th>\n",
       "      <td>0.462049</td>\n",
       "      <td>0.784311</td>\n",
       "    </tr>\n",
       "    <tr>\n",
       "      <th>4180</th>\n",
       "      <td>0.462405</td>\n",
       "      <td>0.784149</td>\n",
       "    </tr>\n",
       "    <tr>\n",
       "      <th>4179</th>\n",
       "      <td>0.462502</td>\n",
       "      <td>0.784149</td>\n",
       "    </tr>\n",
       "    <tr>\n",
       "      <th>4178</th>\n",
       "      <td>0.462611</td>\n",
       "      <td>0.783988</td>\n",
       "    </tr>\n",
       "    <tr>\n",
       "      <th>4177</th>\n",
       "      <td>0.462622</td>\n",
       "      <td>0.783988</td>\n",
       "    </tr>\n",
       "    <tr>\n",
       "      <th>4176</th>\n",
       "      <td>0.462692</td>\n",
       "      <td>0.783827</td>\n",
       "    </tr>\n",
       "    <tr>\n",
       "      <th>4175</th>\n",
       "      <td>0.462706</td>\n",
       "      <td>0.783827</td>\n",
       "    </tr>\n",
       "    <tr>\n",
       "      <th>4173</th>\n",
       "      <td>0.462845</td>\n",
       "      <td>0.783666</td>\n",
       "    </tr>\n",
       "    <tr>\n",
       "      <th>4174</th>\n",
       "      <td>0.462834</td>\n",
       "      <td>0.783666</td>\n",
       "    </tr>\n",
       "    <tr>\n",
       "      <th>4171</th>\n",
       "      <td>0.463023</td>\n",
       "      <td>0.783505</td>\n",
       "    </tr>\n",
       "    <tr>\n",
       "      <th>4172</th>\n",
       "      <td>0.462976</td>\n",
       "      <td>0.783505</td>\n",
       "    </tr>\n",
       "    <tr>\n",
       "      <th>4170</th>\n",
       "      <td>0.463281</td>\n",
       "      <td>0.783344</td>\n",
       "    </tr>\n",
       "    <tr>\n",
       "      <th>4169</th>\n",
       "      <td>0.463380</td>\n",
       "      <td>0.783183</td>\n",
       "    </tr>\n",
       "    <tr>\n",
       "      <th>4168</th>\n",
       "      <td>0.463451</td>\n",
       "      <td>0.783022</td>\n",
       "    </tr>\n",
       "    <tr>\n",
       "      <th>4167</th>\n",
       "      <td>0.463516</td>\n",
       "      <td>0.783022</td>\n",
       "    </tr>\n",
       "    <tr>\n",
       "      <th>4166</th>\n",
       "      <td>0.463664</td>\n",
       "      <td>0.782861</td>\n",
       "    </tr>\n",
       "    <tr>\n",
       "      <th>4165</th>\n",
       "      <td>0.463703</td>\n",
       "      <td>0.782861</td>\n",
       "    </tr>\n",
       "    <tr>\n",
       "      <th>4164</th>\n",
       "      <td>0.464081</td>\n",
       "      <td>0.782700</td>\n",
       "    </tr>\n",
       "    <tr>\n",
       "      <th>4163</th>\n",
       "      <td>0.464173</td>\n",
       "      <td>0.782378</td>\n",
       "    </tr>\n",
       "    <tr>\n",
       "      <th>4162</th>\n",
       "      <td>0.464395</td>\n",
       "      <td>0.782216</td>\n",
       "    </tr>\n",
       "    <tr>\n",
       "      <th>4161</th>\n",
       "      <td>0.464698</td>\n",
       "      <td>0.782055</td>\n",
       "    </tr>\n",
       "    <tr>\n",
       "      <th>4160</th>\n",
       "      <td>0.464916</td>\n",
       "      <td>0.781894</td>\n",
       "    </tr>\n",
       "    <tr>\n",
       "      <th>4159</th>\n",
       "      <td>0.465016</td>\n",
       "      <td>0.781733</td>\n",
       "    </tr>\n",
       "    <tr>\n",
       "      <th>4158</th>\n",
       "      <td>0.465038</td>\n",
       "      <td>0.781572</td>\n",
       "    </tr>\n",
       "    <tr>\n",
       "      <th>4157</th>\n",
       "      <td>0.465089</td>\n",
       "      <td>0.781572</td>\n",
       "    </tr>\n",
       "    <tr>\n",
       "      <th>4156</th>\n",
       "      <td>0.465126</td>\n",
       "      <td>0.781411</td>\n",
       "    </tr>\n",
       "    <tr>\n",
       "      <th>4155</th>\n",
       "      <td>0.465195</td>\n",
       "      <td>0.781411</td>\n",
       "    </tr>\n",
       "    <tr>\n",
       "      <th>4154</th>\n",
       "      <td>0.465198</td>\n",
       "      <td>0.781250</td>\n",
       "    </tr>\n",
       "    <tr>\n",
       "      <th>4153</th>\n",
       "      <td>0.465210</td>\n",
       "      <td>0.781250</td>\n",
       "    </tr>\n",
       "    <tr>\n",
       "      <th>4152</th>\n",
       "      <td>0.465405</td>\n",
       "      <td>0.781089</td>\n",
       "    </tr>\n",
       "  </tbody>\n",
       "</table>\n",
       "</div>"
      ],
      "text/plain": [
       "      thresolds    recall\n",
       "4191   0.459635  0.785277\n",
       "4190   0.459707  0.785116\n",
       "4189   0.459763  0.785116\n",
       "4188   0.460012  0.784955\n",
       "4187   0.460070  0.784955\n",
       "4186   0.461511  0.784794\n",
       "4185   0.461529  0.784794\n",
       "4183   0.461839  0.784633\n",
       "4184   0.461760  0.784633\n",
       "4182   0.461981  0.784472\n",
       "4181   0.462049  0.784311\n",
       "4180   0.462405  0.784149\n",
       "4179   0.462502  0.784149\n",
       "4178   0.462611  0.783988\n",
       "4177   0.462622  0.783988\n",
       "4176   0.462692  0.783827\n",
       "4175   0.462706  0.783827\n",
       "4173   0.462845  0.783666\n",
       "4174   0.462834  0.783666\n",
       "4171   0.463023  0.783505\n",
       "4172   0.462976  0.783505\n",
       "4170   0.463281  0.783344\n",
       "4169   0.463380  0.783183\n",
       "4168   0.463451  0.783022\n",
       "4167   0.463516  0.783022\n",
       "4166   0.463664  0.782861\n",
       "4165   0.463703  0.782861\n",
       "4164   0.464081  0.782700\n",
       "4163   0.464173  0.782378\n",
       "4162   0.464395  0.782216\n",
       "4161   0.464698  0.782055\n",
       "4160   0.464916  0.781894\n",
       "4159   0.465016  0.781733\n",
       "4158   0.465038  0.781572\n",
       "4157   0.465089  0.781572\n",
       "4156   0.465126  0.781411\n",
       "4155   0.465195  0.781411\n",
       "4154   0.465198  0.781250\n",
       "4153   0.465210  0.781250\n",
       "4152   0.465405  0.781089"
      ]
     },
     "execution_count": 354,
     "metadata": {},
     "output_type": "execute_result"
    }
   ],
   "source": [
    "recall_ls[2330:2370]"
   ]
  },
  {
   "cell_type": "code",
   "execution_count": 357,
   "id": "91126c82",
   "metadata": {
    "scrolled": true
   },
   "outputs": [
    {
     "data": {
      "text/html": [
       "<div>\n",
       "<style scoped>\n",
       "    .dataframe tbody tr th:only-of-type {\n",
       "        vertical-align: middle;\n",
       "    }\n",
       "\n",
       "    .dataframe tbody tr th {\n",
       "        vertical-align: top;\n",
       "    }\n",
       "\n",
       "    .dataframe thead th {\n",
       "        text-align: right;\n",
       "    }\n",
       "</style>\n",
       "<table border=\"1\" class=\"dataframe\">\n",
       "  <thead>\n",
       "    <tr style=\"text-align: right;\">\n",
       "      <th></th>\n",
       "      <th>thresolds</th>\n",
       "      <th>recall</th>\n",
       "    </tr>\n",
       "  </thead>\n",
       "  <tbody>\n",
       "    <tr>\n",
       "      <th>4371</th>\n",
       "      <td>0.434100</td>\n",
       "      <td>0.803640</td>\n",
       "    </tr>\n",
       "    <tr>\n",
       "      <th>4370</th>\n",
       "      <td>0.434521</td>\n",
       "      <td>0.803479</td>\n",
       "    </tr>\n",
       "    <tr>\n",
       "      <th>4369</th>\n",
       "      <td>0.434525</td>\n",
       "      <td>0.803479</td>\n",
       "    </tr>\n",
       "    <tr>\n",
       "      <th>4368</th>\n",
       "      <td>0.435125</td>\n",
       "      <td>0.803318</td>\n",
       "    </tr>\n",
       "    <tr>\n",
       "      <th>4367</th>\n",
       "      <td>0.435157</td>\n",
       "      <td>0.803318</td>\n",
       "    </tr>\n",
       "    <tr>\n",
       "      <th>4366</th>\n",
       "      <td>0.435281</td>\n",
       "      <td>0.803157</td>\n",
       "    </tr>\n",
       "    <tr>\n",
       "      <th>4365</th>\n",
       "      <td>0.435344</td>\n",
       "      <td>0.803157</td>\n",
       "    </tr>\n",
       "    <tr>\n",
       "      <th>4364</th>\n",
       "      <td>0.435478</td>\n",
       "      <td>0.802996</td>\n",
       "    </tr>\n",
       "    <tr>\n",
       "      <th>4363</th>\n",
       "      <td>0.435524</td>\n",
       "      <td>0.802996</td>\n",
       "    </tr>\n",
       "    <tr>\n",
       "      <th>4361</th>\n",
       "      <td>0.435903</td>\n",
       "      <td>0.802835</td>\n",
       "    </tr>\n",
       "    <tr>\n",
       "      <th>4362</th>\n",
       "      <td>0.435864</td>\n",
       "      <td>0.802835</td>\n",
       "    </tr>\n",
       "    <tr>\n",
       "      <th>4360</th>\n",
       "      <td>0.435969</td>\n",
       "      <td>0.802674</td>\n",
       "    </tr>\n",
       "    <tr>\n",
       "      <th>4359</th>\n",
       "      <td>0.435990</td>\n",
       "      <td>0.802674</td>\n",
       "    </tr>\n",
       "    <tr>\n",
       "      <th>4358</th>\n",
       "      <td>0.436325</td>\n",
       "      <td>0.802513</td>\n",
       "    </tr>\n",
       "    <tr>\n",
       "      <th>4357</th>\n",
       "      <td>0.436412</td>\n",
       "      <td>0.802513</td>\n",
       "    </tr>\n",
       "    <tr>\n",
       "      <th>4356</th>\n",
       "      <td>0.436506</td>\n",
       "      <td>0.802352</td>\n",
       "    </tr>\n",
       "    <tr>\n",
       "      <th>4355</th>\n",
       "      <td>0.436604</td>\n",
       "      <td>0.802352</td>\n",
       "    </tr>\n",
       "    <tr>\n",
       "      <th>4354</th>\n",
       "      <td>0.436624</td>\n",
       "      <td>0.802191</td>\n",
       "    </tr>\n",
       "    <tr>\n",
       "      <th>4353</th>\n",
       "      <td>0.436748</td>\n",
       "      <td>0.802191</td>\n",
       "    </tr>\n",
       "    <tr>\n",
       "      <th>4351</th>\n",
       "      <td>0.436840</td>\n",
       "      <td>0.802030</td>\n",
       "    </tr>\n",
       "    <tr>\n",
       "      <th>4352</th>\n",
       "      <td>0.436799</td>\n",
       "      <td>0.802030</td>\n",
       "    </tr>\n",
       "    <tr>\n",
       "      <th>4349</th>\n",
       "      <td>0.436964</td>\n",
       "      <td>0.801869</td>\n",
       "    </tr>\n",
       "    <tr>\n",
       "      <th>4350</th>\n",
       "      <td>0.436852</td>\n",
       "      <td>0.801869</td>\n",
       "    </tr>\n",
       "    <tr>\n",
       "      <th>4348</th>\n",
       "      <td>0.437235</td>\n",
       "      <td>0.801707</td>\n",
       "    </tr>\n",
       "    <tr>\n",
       "      <th>4347</th>\n",
       "      <td>0.437236</td>\n",
       "      <td>0.801707</td>\n",
       "    </tr>\n",
       "    <tr>\n",
       "      <th>4346</th>\n",
       "      <td>0.437423</td>\n",
       "      <td>0.801546</td>\n",
       "    </tr>\n",
       "    <tr>\n",
       "      <th>4345</th>\n",
       "      <td>0.437450</td>\n",
       "      <td>0.801546</td>\n",
       "    </tr>\n",
       "    <tr>\n",
       "      <th>4344</th>\n",
       "      <td>0.437463</td>\n",
       "      <td>0.801385</td>\n",
       "    </tr>\n",
       "    <tr>\n",
       "      <th>4343</th>\n",
       "      <td>0.437482</td>\n",
       "      <td>0.801224</td>\n",
       "    </tr>\n",
       "    <tr>\n",
       "      <th>4342</th>\n",
       "      <td>0.438428</td>\n",
       "      <td>0.801063</td>\n",
       "    </tr>\n",
       "    <tr>\n",
       "      <th>4341</th>\n",
       "      <td>0.438448</td>\n",
       "      <td>0.800902</td>\n",
       "    </tr>\n",
       "    <tr>\n",
       "      <th>4340</th>\n",
       "      <td>0.438560</td>\n",
       "      <td>0.800741</td>\n",
       "    </tr>\n",
       "    <tr>\n",
       "      <th>4339</th>\n",
       "      <td>0.438707</td>\n",
       "      <td>0.800741</td>\n",
       "    </tr>\n",
       "    <tr>\n",
       "      <th>4338</th>\n",
       "      <td>0.438732</td>\n",
       "      <td>0.800580</td>\n",
       "    </tr>\n",
       "    <tr>\n",
       "      <th>4337</th>\n",
       "      <td>0.438771</td>\n",
       "      <td>0.800580</td>\n",
       "    </tr>\n",
       "    <tr>\n",
       "      <th>4335</th>\n",
       "      <td>0.438937</td>\n",
       "      <td>0.800419</td>\n",
       "    </tr>\n",
       "    <tr>\n",
       "      <th>4336</th>\n",
       "      <td>0.438919</td>\n",
       "      <td>0.800419</td>\n",
       "    </tr>\n",
       "    <tr>\n",
       "      <th>4334</th>\n",
       "      <td>0.439027</td>\n",
       "      <td>0.800258</td>\n",
       "    </tr>\n",
       "    <tr>\n",
       "      <th>4333</th>\n",
       "      <td>0.439074</td>\n",
       "      <td>0.800258</td>\n",
       "    </tr>\n",
       "    <tr>\n",
       "      <th>4332</th>\n",
       "      <td>0.439516</td>\n",
       "      <td>0.800097</td>\n",
       "    </tr>\n",
       "    <tr>\n",
       "      <th>4331</th>\n",
       "      <td>0.439545</td>\n",
       "      <td>0.799936</td>\n",
       "    </tr>\n",
       "    <tr>\n",
       "      <th>4330</th>\n",
       "      <td>0.439961</td>\n",
       "      <td>0.799774</td>\n",
       "    </tr>\n",
       "    <tr>\n",
       "      <th>4329</th>\n",
       "      <td>0.440238</td>\n",
       "      <td>0.799130</td>\n",
       "    </tr>\n",
       "    <tr>\n",
       "      <th>4328</th>\n",
       "      <td>0.440461</td>\n",
       "      <td>0.798969</td>\n",
       "    </tr>\n",
       "    <tr>\n",
       "      <th>4327</th>\n",
       "      <td>0.440623</td>\n",
       "      <td>0.798808</td>\n",
       "    </tr>\n",
       "    <tr>\n",
       "      <th>4325</th>\n",
       "      <td>0.440918</td>\n",
       "      <td>0.798647</td>\n",
       "    </tr>\n",
       "    <tr>\n",
       "      <th>4326</th>\n",
       "      <td>0.440799</td>\n",
       "      <td>0.798647</td>\n",
       "    </tr>\n",
       "    <tr>\n",
       "      <th>4323</th>\n",
       "      <td>0.441271</td>\n",
       "      <td>0.798486</td>\n",
       "    </tr>\n",
       "    <tr>\n",
       "      <th>4324</th>\n",
       "      <td>0.441126</td>\n",
       "      <td>0.798486</td>\n",
       "    </tr>\n",
       "    <tr>\n",
       "      <th>4322</th>\n",
       "      <td>0.441663</td>\n",
       "      <td>0.798325</td>\n",
       "    </tr>\n",
       "  </tbody>\n",
       "</table>\n",
       "</div>"
      ],
      "text/plain": [
       "      thresolds    recall\n",
       "4371   0.434100  0.803640\n",
       "4370   0.434521  0.803479\n",
       "4369   0.434525  0.803479\n",
       "4368   0.435125  0.803318\n",
       "4367   0.435157  0.803318\n",
       "4366   0.435281  0.803157\n",
       "4365   0.435344  0.803157\n",
       "4364   0.435478  0.802996\n",
       "4363   0.435524  0.802996\n",
       "4361   0.435903  0.802835\n",
       "4362   0.435864  0.802835\n",
       "4360   0.435969  0.802674\n",
       "4359   0.435990  0.802674\n",
       "4358   0.436325  0.802513\n",
       "4357   0.436412  0.802513\n",
       "4356   0.436506  0.802352\n",
       "4355   0.436604  0.802352\n",
       "4354   0.436624  0.802191\n",
       "4353   0.436748  0.802191\n",
       "4351   0.436840  0.802030\n",
       "4352   0.436799  0.802030\n",
       "4349   0.436964  0.801869\n",
       "4350   0.436852  0.801869\n",
       "4348   0.437235  0.801707\n",
       "4347   0.437236  0.801707\n",
       "4346   0.437423  0.801546\n",
       "4345   0.437450  0.801546\n",
       "4344   0.437463  0.801385\n",
       "4343   0.437482  0.801224\n",
       "4342   0.438428  0.801063\n",
       "4341   0.438448  0.800902\n",
       "4340   0.438560  0.800741\n",
       "4339   0.438707  0.800741\n",
       "4338   0.438732  0.800580\n",
       "4337   0.438771  0.800580\n",
       "4335   0.438937  0.800419\n",
       "4336   0.438919  0.800419\n",
       "4334   0.439027  0.800258\n",
       "4333   0.439074  0.800258\n",
       "4332   0.439516  0.800097\n",
       "4331   0.439545  0.799936\n",
       "4330   0.439961  0.799774\n",
       "4329   0.440238  0.799130\n",
       "4328   0.440461  0.798969\n",
       "4327   0.440623  0.798808\n",
       "4325   0.440918  0.798647\n",
       "4326   0.440799  0.798647\n",
       "4323   0.441271  0.798486\n",
       "4324   0.441126  0.798486\n",
       "4322   0.441663  0.798325"
      ]
     },
     "execution_count": 357,
     "metadata": {},
     "output_type": "execute_result"
    }
   ],
   "source": [
    "recall_ls[2150:2200]"
   ]
  },
  {
   "cell_type": "code",
   "execution_count": 358,
   "id": "c10527f3",
   "metadata": {},
   "outputs": [],
   "source": [
    "final_pred5A  = final_pred5.copy()"
   ]
  },
  {
   "cell_type": "code",
   "execution_count": 359,
   "id": "e40e2724",
   "metadata": {},
   "outputs": [],
   "source": [
    "final_pred5A.loc[final_pred5[0] >=0.439516 , 0] = 1\n",
    "final_pred5A.loc[final_pred5[0] <=0.439516 , 0] = 0"
   ]
  },
  {
   "cell_type": "code",
   "execution_count": 360,
   "id": "35964f61",
   "metadata": {},
   "outputs": [
    {
     "name": "stdout",
     "output_type": "stream",
     "text": [
      "Accuracy: 0.7534593437945791\n",
      "Precision: 0.46686718676567346\n",
      "Recall: 0.8000966494845361\n"
     ]
    }
   ],
   "source": [
    "print(\"Accuracy:\",accuracy_score(y_test, final_pred5A))\n",
    "print(\"Precision:\",precision_score(y_test, final_pred5A))\n",
    "print(\"Recall:\",recall_score(y_test, final_pred5A))"
   ]
  },
  {
   "cell_type": "code",
   "execution_count": 58,
   "id": "e9362dcc",
   "metadata": {},
   "outputs": [
    {
     "name": "stdout",
     "output_type": "stream",
     "text": [
      "Roc auc score 0.8546015312127808\n"
     ]
    }
   ],
   "source": [
    "print('Roc auc score',roc_auc_score(y_test, final_pred5A))"
   ]
  },
  {
   "cell_type": "code",
   "execution_count": null,
   "id": "ff9877a8",
   "metadata": {},
   "outputs": [],
   "source": []
  },
  {
   "cell_type": "code",
   "execution_count": 400,
   "id": "88e020fd",
   "metadata": {},
   "outputs": [
    {
     "name": "stdout",
     "output_type": "stream",
     "text": [
      "Accuracy: 0.7719\n",
      "Precision: 0.7554010896111215\n",
      "Recall: 0.8042\n"
     ]
    }
   ],
   "source": [
    "lr.predict_proba(x_test2)\n",
    "y_test_pred4 = lr.predict_proba(x_test2)[:,1]\n",
    "final_pred3 = pd.DataFrame(y_test_pred4)\n",
    "final_pred3.head()\n",
    "\n",
    "final_pred3A = final_pred3.copy()\n",
    "\n",
    "final_pred3A.loc[final_pred3A[0] >=0.439516 , 0] = 1\n",
    "final_pred3A.loc[final_pred3A[0] <=0.439516 , 0] = 0\n",
    "\n",
    "print(\"Accuracy:\",accuracy_score(y_test2, final_pred3A))\n",
    "print(\"Precision:\",precision_score(y_test2, final_pred3A))\n",
    "print(\"Recall:\",recall_score(y_test2, final_pred3A))"
   ]
  },
  {
   "cell_type": "code",
   "execution_count": 402,
   "id": "6f0c5c4e",
   "metadata": {},
   "outputs": [
    {
     "name": "stdout",
     "output_type": "stream",
     "text": [
      "f1 score: 0.7790371016177468\n",
      "MCC score: 0.544938246007552\n"
     ]
    }
   ],
   "source": [
    "print(\"f1 score:\",f1_score(y_test2, final_pred3A))\n",
    "print(\"MCC score:\",matthews_corrcoef(y_test2, final_pred3A))"
   ]
  },
  {
   "cell_type": "code",
   "execution_count": null,
   "id": "9df9a7e0",
   "metadata": {},
   "outputs": [],
   "source": []
  }
 ],
 "metadata": {
  "kernelspec": {
   "display_name": "Python 3 (ipykernel)",
   "language": "python",
   "name": "python3"
  },
  "language_info": {
   "codemirror_mode": {
    "name": "ipython",
    "version": 3
   },
   "file_extension": ".py",
   "mimetype": "text/x-python",
   "name": "python",
   "nbconvert_exporter": "python",
   "pygments_lexer": "ipython3",
   "version": "3.9.12"
  }
 },
 "nbformat": 4,
 "nbformat_minor": 5
}
